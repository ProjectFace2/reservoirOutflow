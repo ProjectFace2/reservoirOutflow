{
 "cells": [
  {
   "cell_type": "code",
   "execution_count": 228,
   "metadata": {},
   "outputs": [],
   "source": [
    "import numpy as np\n",
    "import pandas as pd\n",
    "import matplotlib.pyplot as pt"
   ]
  },
  {
   "cell_type": "code",
   "execution_count": 229,
   "metadata": {},
   "outputs": [
    {
     "name": "stdout",
     "output_type": "stream",
     "text": [
      "2923\n",
      "2924\n"
     ]
    }
   ],
   "source": [
    "#inp1 = np.array([[1,2,3],[4,5,6],[7,8,9],[4,3,6],[7,8,9],[0,5,6]])\n",
    "#q_point = np.array([[5,7,2],[10,20,30]])\n",
    "#q_point\n",
    "\n",
    "data = pd.read_csv('/home/ganesh/Downloads/Ganesh.csv')\n",
    "print(len(data))\n",
    "data1 = pd.read_csv('/home/ganesh/Downloads/danka naka.csv')\n",
    "print(len(data1))"
   ]
  },
  {
   "cell_type": "code",
   "execution_count": 230,
   "metadata": {},
   "outputs": [
    {
     "data": {
      "text/html": [
       "<div>\n",
       "<style scoped>\n",
       "    .dataframe tbody tr th:only-of-type {\n",
       "        vertical-align: middle;\n",
       "    }\n",
       "\n",
       "    .dataframe tbody tr th {\n",
       "        vertical-align: top;\n",
       "    }\n",
       "\n",
       "    .dataframe thead th {\n",
       "        text-align: right;\n",
       "    }\n",
       "</style>\n",
       "<table border=\"1\" class=\"dataframe\">\n",
       "  <thead>\n",
       "    <tr style=\"text-align: right;\">\n",
       "      <th></th>\n",
       "      <th>Dams</th>\n",
       "      <th>Dates</th>\n",
       "      <th>Present Storage(TMC)</th>\n",
       "      <th>Reservoir Level(TMC)</th>\n",
       "      <th>Inflow</th>\n",
       "      <th>Outflow</th>\n",
       "    </tr>\n",
       "  </thead>\n",
       "  <tbody>\n",
       "    <tr>\n",
       "      <th>0</th>\n",
       "      <td>Harangi</td>\n",
       "      <td>00/00/2011</td>\n",
       "      <td>0.00</td>\n",
       "      <td>0.00</td>\n",
       "      <td>0.0</td>\n",
       "      <td>0.0</td>\n",
       "    </tr>\n",
       "    <tr>\n",
       "      <th>1</th>\n",
       "      <td>Harangi</td>\n",
       "      <td>01/01/2011</td>\n",
       "      <td>3.74</td>\n",
       "      <td>2835.90</td>\n",
       "      <td>142.0</td>\n",
       "      <td>0.0</td>\n",
       "    </tr>\n",
       "    <tr>\n",
       "      <th>2</th>\n",
       "      <td>Harangi</td>\n",
       "      <td>02/01/2011</td>\n",
       "      <td>3.76</td>\n",
       "      <td>2836.09</td>\n",
       "      <td>239.0</td>\n",
       "      <td>0.0</td>\n",
       "    </tr>\n",
       "    <tr>\n",
       "      <th>3</th>\n",
       "      <td>Harangi</td>\n",
       "      <td>03/01/2011</td>\n",
       "      <td>3.77</td>\n",
       "      <td>2836.22</td>\n",
       "      <td>166.0</td>\n",
       "      <td>0.0</td>\n",
       "    </tr>\n",
       "    <tr>\n",
       "      <th>4</th>\n",
       "      <td>Harangi</td>\n",
       "      <td>04/01/2011</td>\n",
       "      <td>3.78</td>\n",
       "      <td>2836.31</td>\n",
       "      <td>118.0</td>\n",
       "      <td>0.0</td>\n",
       "    </tr>\n",
       "    <tr>\n",
       "      <th>...</th>\n",
       "      <td>...</td>\n",
       "      <td>...</td>\n",
       "      <td>...</td>\n",
       "      <td>...</td>\n",
       "      <td>...</td>\n",
       "      <td>...</td>\n",
       "    </tr>\n",
       "    <tr>\n",
       "      <th>2918</th>\n",
       "      <td>Harangi</td>\n",
       "      <td>27/12/2018</td>\n",
       "      <td>1.59</td>\n",
       "      <td>2806.15</td>\n",
       "      <td>103.0</td>\n",
       "      <td>15.0</td>\n",
       "    </tr>\n",
       "    <tr>\n",
       "      <th>2919</th>\n",
       "      <td>Harangi</td>\n",
       "      <td>28/12/2018</td>\n",
       "      <td>1.60</td>\n",
       "      <td>2806.33</td>\n",
       "      <td>98.0</td>\n",
       "      <td>15.0</td>\n",
       "    </tr>\n",
       "    <tr>\n",
       "      <th>2920</th>\n",
       "      <td>Harangi</td>\n",
       "      <td>29/12/2018</td>\n",
       "      <td>1.61</td>\n",
       "      <td>2806.54</td>\n",
       "      <td>102.0</td>\n",
       "      <td>15.0</td>\n",
       "    </tr>\n",
       "    <tr>\n",
       "      <th>2921</th>\n",
       "      <td>Harangi</td>\n",
       "      <td>30/12/2018</td>\n",
       "      <td>1.62</td>\n",
       "      <td>2806.72</td>\n",
       "      <td>99.0</td>\n",
       "      <td>15.0</td>\n",
       "    </tr>\n",
       "    <tr>\n",
       "      <th>2922</th>\n",
       "      <td>Harangi</td>\n",
       "      <td>31/12/2018</td>\n",
       "      <td>NaN</td>\n",
       "      <td>NaN</td>\n",
       "      <td>NaN</td>\n",
       "      <td>NaN</td>\n",
       "    </tr>\n",
       "  </tbody>\n",
       "</table>\n",
       "<p>2923 rows × 6 columns</p>\n",
       "</div>"
      ],
      "text/plain": [
       "         Dams       Dates  Present Storage(TMC)  Reservoir Level(TMC)  Inflow  \\\n",
       "0     Harangi  00/00/2011                  0.00                  0.00     0.0   \n",
       "1     Harangi  01/01/2011                  3.74               2835.90   142.0   \n",
       "2     Harangi  02/01/2011                  3.76               2836.09   239.0   \n",
       "3     Harangi  03/01/2011                  3.77               2836.22   166.0   \n",
       "4     Harangi  04/01/2011                  3.78               2836.31   118.0   \n",
       "...       ...         ...                   ...                   ...     ...   \n",
       "2918  Harangi  27/12/2018                  1.59               2806.15   103.0   \n",
       "2919  Harangi  28/12/2018                  1.60               2806.33    98.0   \n",
       "2920  Harangi  29/12/2018                  1.61               2806.54   102.0   \n",
       "2921  Harangi  30/12/2018                  1.62               2806.72    99.0   \n",
       "2922  Harangi  31/12/2018                   NaN                   NaN     NaN   \n",
       "\n",
       "      Outflow  \n",
       "0         0.0  \n",
       "1         0.0  \n",
       "2         0.0  \n",
       "3         0.0  \n",
       "4         0.0  \n",
       "...       ...  \n",
       "2918     15.0  \n",
       "2919     15.0  \n",
       "2920     15.0  \n",
       "2921     15.0  \n",
       "2922      NaN  \n",
       "\n",
       "[2923 rows x 6 columns]"
      ]
     },
     "execution_count": 230,
     "metadata": {},
     "output_type": "execute_result"
    }
   ],
   "source": [
    "data"
   ]
  },
  {
   "cell_type": "code",
   "execution_count": 231,
   "metadata": {},
   "outputs": [
    {
     "data": {
      "text/html": [
       "<div>\n",
       "<style scoped>\n",
       "    .dataframe tbody tr th:only-of-type {\n",
       "        vertical-align: middle;\n",
       "    }\n",
       "\n",
       "    .dataframe tbody tr th {\n",
       "        vertical-align: top;\n",
       "    }\n",
       "\n",
       "    .dataframe thead th {\n",
       "        text-align: right;\n",
       "    }\n",
       "</style>\n",
       "<table border=\"1\" class=\"dataframe\">\n",
       "  <thead>\n",
       "    <tr style=\"text-align: right;\">\n",
       "      <th></th>\n",
       "      <th>Unnamed: 0</th>\n",
       "      <th>Unnamed: 1</th>\n",
       "      <th>Unnamed: 2</th>\n",
       "      <th>Unnamed: 3</th>\n",
       "      <th>Unnamed: 4</th>\n",
       "      <th>Unnamed: 5</th>\n",
       "      <th>Unnamed: 6</th>\n",
       "      <th>Unnamed: 7</th>\n",
       "      <th>MADIKERI</th>\n",
       "      <th>SOMWARPET</th>\n",
       "      <th>VIRAJPET</th>\n",
       "    </tr>\n",
       "  </thead>\n",
       "  <tbody>\n",
       "    <tr>\n",
       "      <th>0</th>\n",
       "      <td>NaN</td>\n",
       "      <td>NaN</td>\n",
       "      <td>NaN</td>\n",
       "      <td>NaN</td>\n",
       "      <td>NaN</td>\n",
       "      <td>NaN</td>\n",
       "      <td>NaN</td>\n",
       "      <td>NaN</td>\n",
       "      <td>NaN</td>\n",
       "      <td>NaN</td>\n",
       "      <td>NaN</td>\n",
       "    </tr>\n",
       "    <tr>\n",
       "      <th>1</th>\n",
       "      <td>NaN</td>\n",
       "      <td>Dams</td>\n",
       "      <td>Dates</td>\n",
       "      <td>Present Storage(TMC)</td>\n",
       "      <td>Reservoir Level(TMC)</td>\n",
       "      <td>Inflow</td>\n",
       "      <td>Outflow</td>\n",
       "      <td>NaN</td>\n",
       "      <td>MADIKERI</td>\n",
       "      <td>SOMWARPET</td>\n",
       "      <td>VIRAJPET</td>\n",
       "    </tr>\n",
       "    <tr>\n",
       "      <th>2</th>\n",
       "      <td>NaN</td>\n",
       "      <td>Harangi</td>\n",
       "      <td>01/01/2011</td>\n",
       "      <td>3.74</td>\n",
       "      <td>2835.9</td>\n",
       "      <td>142</td>\n",
       "      <td>0</td>\n",
       "      <td>NaN</td>\n",
       "      <td>Nan</td>\n",
       "      <td>Nan</td>\n",
       "      <td>Nan</td>\n",
       "    </tr>\n",
       "    <tr>\n",
       "      <th>3</th>\n",
       "      <td>NaN</td>\n",
       "      <td>Harangi</td>\n",
       "      <td>02/01/2011</td>\n",
       "      <td>3.76</td>\n",
       "      <td>2836.09</td>\n",
       "      <td>239</td>\n",
       "      <td>0</td>\n",
       "      <td>NaN</td>\n",
       "      <td>Nan</td>\n",
       "      <td>Nan</td>\n",
       "      <td>Nan</td>\n",
       "    </tr>\n",
       "    <tr>\n",
       "      <th>4</th>\n",
       "      <td>NaN</td>\n",
       "      <td>Harangi</td>\n",
       "      <td>03/01/2011</td>\n",
       "      <td>3.77</td>\n",
       "      <td>2836.22</td>\n",
       "      <td>166</td>\n",
       "      <td>0</td>\n",
       "      <td>NaN</td>\n",
       "      <td>Nan</td>\n",
       "      <td>Nan</td>\n",
       "      <td>Nan</td>\n",
       "    </tr>\n",
       "    <tr>\n",
       "      <th>...</th>\n",
       "      <td>...</td>\n",
       "      <td>...</td>\n",
       "      <td>...</td>\n",
       "      <td>...</td>\n",
       "      <td>...</td>\n",
       "      <td>...</td>\n",
       "      <td>...</td>\n",
       "      <td>...</td>\n",
       "      <td>...</td>\n",
       "      <td>...</td>\n",
       "      <td>...</td>\n",
       "    </tr>\n",
       "    <tr>\n",
       "      <th>2919</th>\n",
       "      <td>NaN</td>\n",
       "      <td>Harangi</td>\n",
       "      <td>27/12/2018</td>\n",
       "      <td>1.59</td>\n",
       "      <td>2806.15</td>\n",
       "      <td>103</td>\n",
       "      <td>15</td>\n",
       "      <td>NaN</td>\n",
       "      <td>Nan</td>\n",
       "      <td>Nan</td>\n",
       "      <td>Nan</td>\n",
       "    </tr>\n",
       "    <tr>\n",
       "      <th>2920</th>\n",
       "      <td>NaN</td>\n",
       "      <td>Harangi</td>\n",
       "      <td>28/12/2018</td>\n",
       "      <td>1.6</td>\n",
       "      <td>2806.33</td>\n",
       "      <td>98</td>\n",
       "      <td>15</td>\n",
       "      <td>NaN</td>\n",
       "      <td>Nan</td>\n",
       "      <td>Nan</td>\n",
       "      <td>Nan</td>\n",
       "    </tr>\n",
       "    <tr>\n",
       "      <th>2921</th>\n",
       "      <td>NaN</td>\n",
       "      <td>Harangi</td>\n",
       "      <td>29/12/2018</td>\n",
       "      <td>1.61</td>\n",
       "      <td>2806.54</td>\n",
       "      <td>102</td>\n",
       "      <td>15</td>\n",
       "      <td>NaN</td>\n",
       "      <td>Nan</td>\n",
       "      <td>Nan</td>\n",
       "      <td>Nan</td>\n",
       "    </tr>\n",
       "    <tr>\n",
       "      <th>2922</th>\n",
       "      <td>NaN</td>\n",
       "      <td>Harangi</td>\n",
       "      <td>30/12/2018</td>\n",
       "      <td>1.62</td>\n",
       "      <td>2806.72</td>\n",
       "      <td>99</td>\n",
       "      <td>15</td>\n",
       "      <td>NaN</td>\n",
       "      <td>Nan</td>\n",
       "      <td>Nan</td>\n",
       "      <td>Nan</td>\n",
       "    </tr>\n",
       "    <tr>\n",
       "      <th>2923</th>\n",
       "      <td>NaN</td>\n",
       "      <td>Harangi</td>\n",
       "      <td>31/12/2018</td>\n",
       "      <td>NaN</td>\n",
       "      <td>NaN</td>\n",
       "      <td>NaN</td>\n",
       "      <td>NaN</td>\n",
       "      <td>NaN</td>\n",
       "      <td>Nan</td>\n",
       "      <td>Nan</td>\n",
       "      <td>Nan</td>\n",
       "    </tr>\n",
       "  </tbody>\n",
       "</table>\n",
       "<p>2924 rows × 11 columns</p>\n",
       "</div>"
      ],
      "text/plain": [
       "      Unnamed: 0 Unnamed: 1  Unnamed: 2              Unnamed: 3  \\\n",
       "0            NaN        NaN         NaN                     NaN   \n",
       "1            NaN       Dams       Dates   Present Storage(TMC)    \n",
       "2            NaN    Harangi  01/01/2011                    3.74   \n",
       "3            NaN    Harangi  02/01/2011                    3.76   \n",
       "4            NaN    Harangi  03/01/2011                    3.77   \n",
       "...          ...        ...         ...                     ...   \n",
       "2919         NaN    Harangi  27/12/2018                    1.59   \n",
       "2920         NaN    Harangi  28/12/2018                     1.6   \n",
       "2921         NaN    Harangi  29/12/2018                    1.61   \n",
       "2922         NaN    Harangi  30/12/2018                    1.62   \n",
       "2923         NaN    Harangi  31/12/2018                     NaN   \n",
       "\n",
       "                  Unnamed: 4 Unnamed: 5 Unnamed: 6  Unnamed: 7  MADIKERI  \\\n",
       "0                        NaN        NaN        NaN         NaN       NaN   \n",
       "1      Reservoir Level(TMC)     Inflow    Outflow          NaN  MADIKERI   \n",
       "2                     2835.9        142          0         NaN       Nan   \n",
       "3                    2836.09        239          0         NaN       Nan   \n",
       "4                    2836.22        166          0         NaN       Nan   \n",
       "...                      ...        ...        ...         ...       ...   \n",
       "2919                 2806.15        103         15         NaN       Nan   \n",
       "2920                 2806.33         98         15         NaN       Nan   \n",
       "2921                 2806.54        102         15         NaN       Nan   \n",
       "2922                 2806.72         99         15         NaN       Nan   \n",
       "2923                     NaN        NaN        NaN         NaN       Nan   \n",
       "\n",
       "      SOMWARPET  VIRAJPET  \n",
       "0           NaN       NaN  \n",
       "1     SOMWARPET  VIRAJPET  \n",
       "2           Nan       Nan  \n",
       "3           Nan       Nan  \n",
       "4           Nan       Nan  \n",
       "...         ...       ...  \n",
       "2919        Nan       Nan  \n",
       "2920        Nan       Nan  \n",
       "2921        Nan       Nan  \n",
       "2922        Nan       Nan  \n",
       "2923        Nan       Nan  \n",
       "\n",
       "[2924 rows x 11 columns]"
      ]
     },
     "execution_count": 231,
     "metadata": {},
     "output_type": "execute_result"
    }
   ],
   "source": [
    "data1"
   ]
  },
  {
   "cell_type": "code",
   "execution_count": 232,
   "metadata": {},
   "outputs": [],
   "source": [
    "data1 = data1.iloc[2:,8:]\n",
    "data1.replace('Nan',0,inplace = True)"
   ]
  },
  {
   "cell_type": "code",
   "execution_count": 233,
   "metadata": {},
   "outputs": [
    {
     "name": "stdout",
     "output_type": "stream",
     "text": [
      "2922\n"
     ]
    },
    {
     "data": {
      "text/html": [
       "<div>\n",
       "<style scoped>\n",
       "    .dataframe tbody tr th:only-of-type {\n",
       "        vertical-align: middle;\n",
       "    }\n",
       "\n",
       "    .dataframe tbody tr th {\n",
       "        vertical-align: top;\n",
       "    }\n",
       "\n",
       "    .dataframe thead th {\n",
       "        text-align: right;\n",
       "    }\n",
       "</style>\n",
       "<table border=\"1\" class=\"dataframe\">\n",
       "  <thead>\n",
       "    <tr style=\"text-align: right;\">\n",
       "      <th></th>\n",
       "      <th>MADIKERI</th>\n",
       "      <th>SOMWARPET</th>\n",
       "      <th>VIRAJPET</th>\n",
       "    </tr>\n",
       "  </thead>\n",
       "  <tbody>\n",
       "    <tr>\n",
       "      <th>2</th>\n",
       "      <td>0</td>\n",
       "      <td>0</td>\n",
       "      <td>0</td>\n",
       "    </tr>\n",
       "    <tr>\n",
       "      <th>3</th>\n",
       "      <td>0</td>\n",
       "      <td>0</td>\n",
       "      <td>0</td>\n",
       "    </tr>\n",
       "    <tr>\n",
       "      <th>4</th>\n",
       "      <td>0</td>\n",
       "      <td>0</td>\n",
       "      <td>0</td>\n",
       "    </tr>\n",
       "    <tr>\n",
       "      <th>5</th>\n",
       "      <td>0</td>\n",
       "      <td>0</td>\n",
       "      <td>0</td>\n",
       "    </tr>\n",
       "    <tr>\n",
       "      <th>6</th>\n",
       "      <td>0</td>\n",
       "      <td>0</td>\n",
       "      <td>0</td>\n",
       "    </tr>\n",
       "    <tr>\n",
       "      <th>...</th>\n",
       "      <td>...</td>\n",
       "      <td>...</td>\n",
       "      <td>...</td>\n",
       "    </tr>\n",
       "    <tr>\n",
       "      <th>2919</th>\n",
       "      <td>0</td>\n",
       "      <td>0</td>\n",
       "      <td>0</td>\n",
       "    </tr>\n",
       "    <tr>\n",
       "      <th>2920</th>\n",
       "      <td>0</td>\n",
       "      <td>0</td>\n",
       "      <td>0</td>\n",
       "    </tr>\n",
       "    <tr>\n",
       "      <th>2921</th>\n",
       "      <td>0</td>\n",
       "      <td>0</td>\n",
       "      <td>0</td>\n",
       "    </tr>\n",
       "    <tr>\n",
       "      <th>2922</th>\n",
       "      <td>0</td>\n",
       "      <td>0</td>\n",
       "      <td>0</td>\n",
       "    </tr>\n",
       "    <tr>\n",
       "      <th>2923</th>\n",
       "      <td>0</td>\n",
       "      <td>0</td>\n",
       "      <td>0</td>\n",
       "    </tr>\n",
       "  </tbody>\n",
       "</table>\n",
       "<p>2922 rows × 3 columns</p>\n",
       "</div>"
      ],
      "text/plain": [
       "     MADIKERI SOMWARPET VIRAJPET\n",
       "2           0         0        0\n",
       "3           0         0        0\n",
       "4           0         0        0\n",
       "5           0         0        0\n",
       "6           0         0        0\n",
       "...       ...       ...      ...\n",
       "2919        0         0        0\n",
       "2920        0         0        0\n",
       "2921        0         0        0\n",
       "2922        0         0        0\n",
       "2923        0         0        0\n",
       "\n",
       "[2922 rows x 3 columns]"
      ]
     },
     "execution_count": 233,
     "metadata": {},
     "output_type": "execute_result"
    }
   ],
   "source": [
    "offset = 3\n",
    "data.interpolate(method='linear', inplace=True)\n",
    "#data = data.iloc[:1000,:]\n",
    "#data.tail()\n",
    "data\n",
    "offset_length = len(data) - offset\n",
    "#print(offset_length)\n",
    "print(len(data1))\n",
    "data1"
   ]
  },
  {
   "cell_type": "code",
   "execution_count": 234,
   "metadata": {},
   "outputs": [
    {
     "name": "stdout",
     "output_type": "stream",
     "text": [
      "2920\n"
     ]
    },
    {
     "data": {
      "text/html": [
       "<div>\n",
       "<style scoped>\n",
       "    .dataframe tbody tr th:only-of-type {\n",
       "        vertical-align: middle;\n",
       "    }\n",
       "\n",
       "    .dataframe tbody tr th {\n",
       "        vertical-align: top;\n",
       "    }\n",
       "\n",
       "    .dataframe thead th {\n",
       "        text-align: right;\n",
       "    }\n",
       "</style>\n",
       "<table border=\"1\" class=\"dataframe\">\n",
       "  <thead>\n",
       "    <tr style=\"text-align: right;\">\n",
       "      <th></th>\n",
       "      <th>Dams</th>\n",
       "      <th>Dates</th>\n",
       "      <th>Present Storage(TMC)</th>\n",
       "      <th>Reservoir Level(TMC)</th>\n",
       "      <th>Inflow</th>\n",
       "      <th>Outflow</th>\n",
       "    </tr>\n",
       "  </thead>\n",
       "  <tbody>\n",
       "    <tr>\n",
       "      <th>3</th>\n",
       "      <td>Harangi</td>\n",
       "      <td>03/01/2011</td>\n",
       "      <td>3.77</td>\n",
       "      <td>2836.220</td>\n",
       "      <td>166.0</td>\n",
       "      <td>0.0</td>\n",
       "    </tr>\n",
       "    <tr>\n",
       "      <th>4</th>\n",
       "      <td>Harangi</td>\n",
       "      <td>04/01/2011</td>\n",
       "      <td>3.78</td>\n",
       "      <td>2836.310</td>\n",
       "      <td>118.0</td>\n",
       "      <td>0.0</td>\n",
       "    </tr>\n",
       "    <tr>\n",
       "      <th>5</th>\n",
       "      <td>Harangi</td>\n",
       "      <td>05/01/2011</td>\n",
       "      <td>3.79</td>\n",
       "      <td>2836.410</td>\n",
       "      <td>130.0</td>\n",
       "      <td>0.0</td>\n",
       "    </tr>\n",
       "    <tr>\n",
       "      <th>6</th>\n",
       "      <td>Harangi</td>\n",
       "      <td>06/01/2011</td>\n",
       "      <td>3.81</td>\n",
       "      <td>2836.540</td>\n",
       "      <td>167.0</td>\n",
       "      <td>0.0</td>\n",
       "    </tr>\n",
       "    <tr>\n",
       "      <th>7</th>\n",
       "      <td>Harangi</td>\n",
       "      <td>07/01/2011</td>\n",
       "      <td>3.82</td>\n",
       "      <td>2836.635</td>\n",
       "      <td>149.0</td>\n",
       "      <td>0.0</td>\n",
       "    </tr>\n",
       "    <tr>\n",
       "      <th>...</th>\n",
       "      <td>...</td>\n",
       "      <td>...</td>\n",
       "      <td>...</td>\n",
       "      <td>...</td>\n",
       "      <td>...</td>\n",
       "      <td>...</td>\n",
       "    </tr>\n",
       "    <tr>\n",
       "      <th>2918</th>\n",
       "      <td>Harangi</td>\n",
       "      <td>27/12/2018</td>\n",
       "      <td>1.59</td>\n",
       "      <td>2806.150</td>\n",
       "      <td>103.0</td>\n",
       "      <td>15.0</td>\n",
       "    </tr>\n",
       "    <tr>\n",
       "      <th>2919</th>\n",
       "      <td>Harangi</td>\n",
       "      <td>28/12/2018</td>\n",
       "      <td>1.60</td>\n",
       "      <td>2806.330</td>\n",
       "      <td>98.0</td>\n",
       "      <td>15.0</td>\n",
       "    </tr>\n",
       "    <tr>\n",
       "      <th>2920</th>\n",
       "      <td>Harangi</td>\n",
       "      <td>29/12/2018</td>\n",
       "      <td>1.61</td>\n",
       "      <td>2806.540</td>\n",
       "      <td>102.0</td>\n",
       "      <td>15.0</td>\n",
       "    </tr>\n",
       "    <tr>\n",
       "      <th>2921</th>\n",
       "      <td>Harangi</td>\n",
       "      <td>30/12/2018</td>\n",
       "      <td>1.62</td>\n",
       "      <td>2806.720</td>\n",
       "      <td>99.0</td>\n",
       "      <td>15.0</td>\n",
       "    </tr>\n",
       "    <tr>\n",
       "      <th>2922</th>\n",
       "      <td>Harangi</td>\n",
       "      <td>31/12/2018</td>\n",
       "      <td>1.62</td>\n",
       "      <td>2806.720</td>\n",
       "      <td>99.0</td>\n",
       "      <td>15.0</td>\n",
       "    </tr>\n",
       "  </tbody>\n",
       "</table>\n",
       "<p>2920 rows × 6 columns</p>\n",
       "</div>"
      ],
      "text/plain": [
       "         Dams       Dates  Present Storage(TMC)  Reservoir Level(TMC)  Inflow  \\\n",
       "3     Harangi  03/01/2011                  3.77              2836.220   166.0   \n",
       "4     Harangi  04/01/2011                  3.78              2836.310   118.0   \n",
       "5     Harangi  05/01/2011                  3.79              2836.410   130.0   \n",
       "6     Harangi  06/01/2011                  3.81              2836.540   167.0   \n",
       "7     Harangi  07/01/2011                  3.82              2836.635   149.0   \n",
       "...       ...         ...                   ...                   ...     ...   \n",
       "2918  Harangi  27/12/2018                  1.59              2806.150   103.0   \n",
       "2919  Harangi  28/12/2018                  1.60              2806.330    98.0   \n",
       "2920  Harangi  29/12/2018                  1.61              2806.540   102.0   \n",
       "2921  Harangi  30/12/2018                  1.62              2806.720    99.0   \n",
       "2922  Harangi  31/12/2018                  1.62              2806.720    99.0   \n",
       "\n",
       "      Outflow  \n",
       "3         0.0  \n",
       "4         0.0  \n",
       "5         0.0  \n",
       "6         0.0  \n",
       "7         0.0  \n",
       "...       ...  \n",
       "2918     15.0  \n",
       "2919     15.0  \n",
       "2920     15.0  \n",
       "2921     15.0  \n",
       "2922     15.0  \n",
       "\n",
       "[2920 rows x 6 columns]"
      ]
     },
     "execution_count": 234,
     "metadata": {},
     "output_type": "execute_result"
    }
   ],
   "source": [
    "Dam_data = data.iloc[offset:,:]\n",
    "print(len(Dam_data))\n",
    "Dam_data"
   ]
  },
  {
   "cell_type": "code",
   "execution_count": 287,
   "metadata": {},
   "outputs": [
    {
     "name": "stdout",
     "output_type": "stream",
     "text": [
      "2920\n"
     ]
    },
    {
     "data": {
      "text/html": [
       "<div>\n",
       "<style scoped>\n",
       "    .dataframe tbody tr th:only-of-type {\n",
       "        vertical-align: middle;\n",
       "    }\n",
       "\n",
       "    .dataframe tbody tr th {\n",
       "        vertical-align: top;\n",
       "    }\n",
       "\n",
       "    .dataframe thead th {\n",
       "        text-align: right;\n",
       "    }\n",
       "</style>\n",
       "<table border=\"1\" class=\"dataframe\">\n",
       "  <thead>\n",
       "    <tr style=\"text-align: right;\">\n",
       "      <th></th>\n",
       "      <th>MADIKERI</th>\n",
       "      <th>SOMWARPET</th>\n",
       "      <th>VIRAJPET</th>\n",
       "    </tr>\n",
       "  </thead>\n",
       "  <tbody>\n",
       "    <tr>\n",
       "      <th>2</th>\n",
       "      <td>0</td>\n",
       "      <td>0</td>\n",
       "      <td>0</td>\n",
       "    </tr>\n",
       "    <tr>\n",
       "      <th>3</th>\n",
       "      <td>0</td>\n",
       "      <td>0</td>\n",
       "      <td>0</td>\n",
       "    </tr>\n",
       "    <tr>\n",
       "      <th>4</th>\n",
       "      <td>0</td>\n",
       "      <td>0</td>\n",
       "      <td>0</td>\n",
       "    </tr>\n",
       "    <tr>\n",
       "      <th>5</th>\n",
       "      <td>0</td>\n",
       "      <td>0</td>\n",
       "      <td>0</td>\n",
       "    </tr>\n",
       "    <tr>\n",
       "      <th>6</th>\n",
       "      <td>0</td>\n",
       "      <td>0</td>\n",
       "      <td>0</td>\n",
       "    </tr>\n",
       "    <tr>\n",
       "      <th>...</th>\n",
       "      <td>...</td>\n",
       "      <td>...</td>\n",
       "      <td>...</td>\n",
       "    </tr>\n",
       "    <tr>\n",
       "      <th>2917</th>\n",
       "      <td>0</td>\n",
       "      <td>0</td>\n",
       "      <td>0</td>\n",
       "    </tr>\n",
       "    <tr>\n",
       "      <th>2918</th>\n",
       "      <td>0</td>\n",
       "      <td>0</td>\n",
       "      <td>0</td>\n",
       "    </tr>\n",
       "    <tr>\n",
       "      <th>2919</th>\n",
       "      <td>0</td>\n",
       "      <td>0</td>\n",
       "      <td>0</td>\n",
       "    </tr>\n",
       "    <tr>\n",
       "      <th>2920</th>\n",
       "      <td>0</td>\n",
       "      <td>0</td>\n",
       "      <td>0</td>\n",
       "    </tr>\n",
       "    <tr>\n",
       "      <th>2921</th>\n",
       "      <td>0</td>\n",
       "      <td>0</td>\n",
       "      <td>0</td>\n",
       "    </tr>\n",
       "  </tbody>\n",
       "</table>\n",
       "<p>2920 rows × 3 columns</p>\n",
       "</div>"
      ],
      "text/plain": [
       "     MADIKERI SOMWARPET VIRAJPET\n",
       "2           0         0        0\n",
       "3           0         0        0\n",
       "4           0         0        0\n",
       "5           0         0        0\n",
       "6           0         0        0\n",
       "...       ...       ...      ...\n",
       "2917        0         0        0\n",
       "2918        0         0        0\n",
       "2919        0         0        0\n",
       "2920        0         0        0\n",
       "2921        0         0        0\n",
       "\n",
       "[2920 rows x 3 columns]"
      ]
     },
     "execution_count": 287,
     "metadata": {},
     "output_type": "execute_result"
    }
   ],
   "source": [
    "#Dam_data = data.iloc[:,:offset_length]\n",
    "Rain_data = data1\n",
    "Rain_data = Rain_data.iloc[:offset_length,:]#Dam_data = data.iloc[1:offset_length,:]\n",
    "print(len(Rain_data))\n",
    "Rain_data\n",
    "#test_data = Rain_data.iloc[:2074,:]\n",
    "#train_data = Rain_data.iloc[:2920-2074,:]"
   ]
  },
  {
   "cell_type": "code",
   "execution_count": 282,
   "metadata": {},
   "outputs": [],
   "source": [
    "colA = np.array(Rain_data.loc[:,['MADIKERI','SOMWARPET','VIRAJPET']],dtype = float)\n",
    "colB = np.array(Dam_data['Inflow'])"
   ]
  },
  {
   "cell_type": "code",
   "execution_count": 283,
   "metadata": {},
   "outputs": [
    {
     "name": "stdout",
     "output_type": "stream",
     "text": [
      "2920 3\n",
      "(2920, 3)\n",
      "(2920,)\n",
      "[(array([0., 0., 0.]), 166.0), (array([0., 0., 0.]), 118.0), (array([0., 0., 0.]), 130.0), (array([0., 0., 0.]), 167.0), (array([0., 0., 0.]), 149.0), (array([0., 0., 0.]), 131.0), (array([0., 0., 0.]), 112.0), (array([0., 0., 0.]), 160.0), (array([0., 0., 0.]), 172.0), (array([0., 0., 0.]), 100.0), (array([0., 0., 0.]), 100.0), (array([0., 0., 0.]), 100.0), (array([0., 0., 0.]), 100.0), (array([0., 0., 0.]), 112.0), (array([0., 0., 0.]), 100.0), (array([0., 0., 0.]), 124.0), (array([0., 0., 0.]), 100.0), (array([0., 0., 0.]), 112.0), (array([0., 0., 0.]), 88.0), (array([0., 0., 0.]), 64.0), (array([0., 0., 0.]), 100.0), (array([0., 0., 0.]), 100.0), (array([0., 0., 0.]), 76.0), (array([0., 0., 0.]), 74.0), (array([0., 0., 0.]), 74.0), (array([0., 0., 0.]), 87.0), (array([0., 0., 0.]), 100.0), (array([0., 0., 0.]), 76.0), (array([0., 0., 0.]), 64.0), (array([0., 0., 0.]), 64.0), (array([0., 0., 0.]), 64.0), (array([0., 0., 0.]), 64.0), (array([0., 0., 0.]), 64.0), (array([0., 0., 0.]), 64.0), (array([0., 0., 0.]), 52.0), (array([0., 0., 0.]), 52.0), (array([0., 0., 0.]), 64.0), (array([0., 0., 0.]), 64.0), (array([0., 0., 0.]), 52.0), (array([0., 0., 0.]), 52.0), (array([0., 0., 0.]), 52.0), (array([0., 0., 0.]), 39.0), (array([0., 0., 0.]), 41.0), (array([0., 0., 0.]), 40.0), (array([0., 0., 0.]), 52.0), (array([0., 0., 0.]), 64.0), (array([0., 0., 0.]), 58.0), (array([0., 0., 0.]), 52.0), (array([0., 0., 0.]), 52.0), (array([0., 0., 0.]), 40.0), (array([0., 0., 0.]), 52.0), (array([0., 0., 0.]), 40.0), (array([0., 0., 0.]), 40.0), (array([0., 0., 0.]), 148.0), (array([0., 0., 0.]), 256.0), (array([0., 0., 0.]), 40.0), (array([0., 0., 0.]), 28.0), (array([0., 0., 0.]), 52.0), (array([0., 0., 0.]), 40.0), (array([0., 0., 0.]), 22.0), (array([0., 0., 0.]), 28.0), (array([0., 0., 0.]), 34.0), (array([0., 0., 0.]), 34.0), (array([0., 0., 0.]), 22.0), (array([0., 0., 0.]), 22.0), (array([0., 0., 0.]), 23.0), (array([0., 0., 0.]), 29.0), (array([0., 0., 0.]), 29.0), (array([0., 0., 0.]), 29.0), (array([0., 0., 0.]), 29.0), (array([0., 0., 0.]), 29.0), (array([0., 0., 0.]), 31.0), (array([0., 0., 0.]), 34.0), (array([0., 0., 0.]), 36.0), (array([0., 0., 0.]), 28.0), (array([0., 0., 0.]), 20.0), (array([0., 0., 0.]), 20.0), (array([0., 0., 0.]), 14.0), (array([0., 0., 0.]), 27.0), (array([0., 0., 0.]), 32.0), (array([0., 0., 0.]), 32.0), (array([0., 0., 0.]), 32.0), (array([0., 0., 0.]), 32.0), (array([0., 0., 0.]), 32.0), (array([0., 0., 0.]), 38.0), (array([0., 0., 0.]), 38.0), (array([0., 0., 0.]), 23.0), (array([0., 0., 0.]), 50.0), (array([0., 0., 0.]), 53.5), (array([0., 0., 0.]), 57.0), (array([0., 0., 0.]), 48.0), (array([0., 0., 0.]), 24.0), (array([0., 0., 0.]), 24.0), (array([0., 0., 0.]), 28.0), (array([0., 0., 0.]), 38.0), (array([0., 0., 0.]), 32.5), (array([0., 0., 0.]), 27.0), (array([0., 0., 0.]), 17.0), (array([0., 0., 0.]), 10.0), (array([0., 0., 0.]), 27.0), (array([0., 0., 0.]), 24.0), (array([0., 0., 0.]), 88.0), (array([0., 0., 0.]), 66.0), (array([0., 0., 0.]), 44.0), (array([0., 0., 0.]), 68.0), (array([0., 0., 0.]), 38.0), (array([0., 0., 0.]), 44.0), (array([0., 0., 0.]), 51.0), (array([0., 0., 0.]), 75.0), (array([0., 0., 0.]), 93.5), (array([0., 0., 0.]), 112.0), (array([0., 0., 0.]), 93.0), (array([0., 0., 0.]), 160.0), (array([0., 0., 0.]), 75.0), (array([0., 0., 0.]), 39.0), (array([0., 0., 0.]), 27.0), (array([0., 0., 0.]), 23.5), (array([0., 0., 0.]), 20.0), (array([0., 0., 0.]), 117.0), (array([0., 0., 0.]), 63.0), (array([0., 0., 0.]), 39.0), (array([0., 0., 0.]), 27.0), (array([0., 0., 0.]), 27.0), (array([0., 0., 0.]), 27.0), (array([0., 0., 0.]), 27.0), (array([0., 0., 0.]), 20.0), (array([0., 0., 0.]), 27.0), (array([0., 0., 0.]), 27.0), (array([0., 0., 0.]), 27.0), (array([0., 0., 0.]), 27.0), (array([0., 0., 0.]), 121.5), (array([0., 0., 0.]), 216.0), (array([0., 0., 0.]), 72.0), (array([0., 0., 0.]), 50.0), (array([0., 0., 0.]), 34.0), (array([0., 0., 0.]), 105.0), (array([0., 0., 0.]), 100.0), (array([0., 0., 0.]), 68.5), (array([0., 0., 0.]), 37.0), (array([0., 0., 0.]), 37.0), (array([0., 0., 0.]), 27.0), (array([0., 0., 0.]), 20.0), (array([0., 0., 0.]), 33.0), (array([0., 0., 0.]), 75.0), (array([0., 0., 0.]), 45.0), (array([0., 0., 0.]), 15.0), (array([0., 0., 0.]), 87.0), (array([0., 0., 0.]), 27.0), (array([0., 0., 0.]), 21.0), (array([0., 0., 0.]), 15.0), (array([0., 0., 0.]), 27.0), (array([0.625     , 0.08333333, 0.        ]), 63.0), (array([14.25      ,  5.16666667, 17.33333333]), 172.0), (array([44.25      , 10.66666667, 46.91666667]), 100.0), (array([40.25      , 14.5       , 33.66666667]), 220.0), (array([34.25      ,  9.16666667, 34.66666667]), 208.0), (array([30.75,  8.75, 39.5 ]), 196.0), (array([14.25      ,  7.08333333,  6.75      ]), 316.0), (array([37.875,  8.   , 23.   ]), 268.0), (array([16.625     ,  4.75      , 12.08333333]), 220.0), (array([34.5       ,  9.08333333, 31.        ]), 280.0), (array([30.25      , 10.91666667, 23.08333333]), 557.0), (array([6.375     , 5.08333333, 2.5       ]), 593.0), (array([29.375     , 20.16666667, 19.08333333]), 978.0), (array([34.5       , 19.33333333, 18.91666667]), 641.0), (array([44.875     , 24.66666667, 22.5       ]), 1008.0), (array([10.375     ,  6.66666667, 10.91666667]), 1375.0), (array([32.5       , 27.16666667, 34.91666667]), 1507.0), (array([105.375     ,  31.41666667,  52.25      ]), 702.0), (array([20.5       , 10.66666667,  4.41666667]), 377.0), (array([3.25      , 0.91666667, 1.5       ]), 387.0), (array([4.75      , 0.08333333, 0.        ]), 686.0), (array([0.375     , 1.16666667, 0.08333333]), 1355.5), (array([32.75, 13.  ,  8.5 ]), 2025.0), (array([31.125     ,  8.41666667,  2.75      ]), 5117.0), (array([41.75      ,  8.33333333,  5.91666667]), 4004.0), (array([65.125     , 38.        , 41.16666667]), 6761.0), (array([76.125     , 35.91666667, 24.25      ]), 4184.0), (array([76.875     , 17.33333333, 24.        ]), 2432.0), (array([7.875     , 7.91666667, 1.5       ]), 2597.5), (array([6., 2., 1.]), 2763.0), (array([ 5.125     ,  0.58333333, 12.75      ]), 2357.0), (array([34.125, 16.25 , 16.75 ]), 1469.0), (array([6.375     , 2.91666667, 0.08333333]), 1514.0), (array([3.475     , 5.16666667, 4.25      ]), 1906.0), (array([16.375     ,  8.83333333,  8.41666667]), 2649.0), (array([27.35      , 11.16666667, 28.33333333]), 2429.5), (array([28.3       , 12.08333333, 12.66666667]), 2210.0), (array([19.875     ,  5.33333333,  7.58333333]), 1882.0), (array([15.375     ,  2.91666667,  8.        ]), 1652.0), (array([3.        , 1.        , 3.16666667]), 1271.0), (array([14.75      ,  5.91666667,  4.25      ]), 1702.0), (array([6.375     , 5.08333333, 2.5       ]), 1332.0), (array([27.25      ,  9.        ,  9.66666667]), 3697.0), (array([28.        , 12.        , 15.16666667]), 6062.0), (array([53.75      , 51.91666667, 46.        ]), 8032.0), (array([39.125, 24.25 , 23.5  ]), 6135.0), (array([92.75      , 46.16666667, 54.        ]), 9960.0), (array([49.125     , 27.66666667, 31.75      ]), 7937.0), (array([64.875     , 33.66666667, 23.41666667]), 6661.0), (array([27.125     , 16.75      , 21.58333333]), 6336.5), (array([24.75      , 22.83333333, 19.5       ]), 6012.0), (array([11.625     , 11.58333333, 13.        ]), 7340.0), (array([27.9       , 17.66666667, 19.        ]), 8187.0), (array([53.20782937, 29.41666667, 20.62659298]), 4750.0), (array([63.125     , 13.91666667, 11.41666667]), 3517.0), (array([16. ,  2.5,  9. ]), 4214.0), (array([13.625     ,  1.91666667, 13.41666667]), 2757.0), (array([10.05      ,  1.58333333, 15.58333333]), 1300.0), (array([11.625     ,  4.58333333, 15.75      ]), 3478.0), (array([3.        , 6.08333333, 4.58333333]), 2576.0), (array([39.325     , 15.66666667, 17.25      ]), 3519.0), (array([17.2       , 10.16666667,  9.75      ]), 6208.0), (array([29.        , 12.58333333, 10.        ]), 7017.0), (array([60.25      , 42.25      , 32.91666667]), 7948.5), (array([55.125     , 32.66666667, 28.41666667]), 8880.0), (array([40.25, 31.85, 53.  ]), 9031.0), (array([98.15      , 38.48333333, 37.41666667]), 10485.0), (array([44.625, 19.95 ,  8.25 ]), 8153.0), (array([56.375     , 23.85      , 12.06666667]), 5376.0), (array([26.625     , 14.18333333, 10.26666667]), 6130.0), (array([12.25      ,  8.29666667,  8.27333333]), 5449.0), (array([17.125     ,  7.86395322,  5.89935467]), 4768.0), (array([49.03340031,  4.22339949,  3.14889977]), 4358.0), (array([46.72374503, 11.68199408,  6.49651671]), 3166.0), (array([7.56855622, 4.75187965, 5.60812003]), 3240.0), (array([5.57917779, 0.63217499, 0.53412663]), 2747.0), (array([6.95      , 0.03333333, 6.03333333]), 2455.0), (array([8.32262117, 0.830992  , 2.39740715]), 2357.5), (array([3.875     , 3.41666667, 0.3       ]), 2260.0), (array([14.575     ,  7.41666667,  1.25      ]), 2612.0), (array([14.025     ,  5.13333333, 13.01666667]), 3395.0), (array([38.825     , 15.        , 19.08333333]), 2343.0), (array([4.75      , 0.33333333, 6.35      ]), 1405.0), (array([14.95      ,  1.        ,  1.91666667]), 2000.0), (array([13.625     ,  1.16666667,  5.13333333]), 2081.0), (array([21.3 ,  4.55,  4.7 ]), 2162.0), (array([15.925     ,  4.33333333,  3.43333333]), 2529.0), (array([10.06968712, 19.16666667, 10.20828711]), 2594.0), (array([10.06968712, 19.16666667, 10.20828711]), 3337.0), (array([15.25      , 16.98333333, 30.23333333]), 4562.0), (array([28.65      , 34.41666667, 18.7       ]), 4271.0), (array([40.125     , 34.86666667, 22.91666667]), 5906.5), (array([44.75, 24.  , 25.75]), 7542.0), (array([103.375     ,  38.8       ,  59.11666667]), 6364.0), (array([76.625     , 32.43333333, 51.78333333]), 7226.0), (array([55.        , 31.18333333, 27.41666667]), 6039.0), (array([ 7.85      , 12.21666667, 16.53333333]), 3803.0), (array([4.75      , 6.78333333, 7.06666667]), 3250.0), (array([20.075     , 14.1       ,  9.93333333]), 3006.5), (array([6.975     , 9.51666667, 4.86666667]), 2763.0), (array([11.425,  7.4  ,  5.35 ]), 2938.0), (array([12.625     ,  2.13333333, 10.75      ]), 2472.0), (array([18.25      ,  6.58333333,  2.41666667]), 2465.0), (array([16.625     ,  4.5       ,  1.13333333]), 2480.0), (array([10.525     ,  1.7       ,  2.28333333]), 2280.0), (array([10.45      , 15.33333333,  4.93333333]), 2980.5), (array([20.125     ,  5.38333333,  6.16666667]), 3681.0), (array([32.41766637, 11.13288455,  7.66666667]), 2892.0), (array([7.        , 2.86666667, 2.83333333]), 2636.0), (array([2.125     , 0.31817709, 2.25      ]), 2431.0), (array([14.3       ,  2.81666667,  7.66666667]), 1976.0), (array([4.275     , 2.41666667, 0.66666667]), 1784.0), (array([9.25      , 0.75      , 3.66666667]), 1499.0), (array([5.725     , 2.41666667, 4.        ]), 1214.0), (array([0.875     , 0.33333333, 0.83333333]), 926.0), (array([0.125     , 0.75      , 0.83333333]), 730.0), (array([0.        , 0.        , 0.33333333]), 621.0), (array([0.125, 0.   , 0.   ]), 512.0), (array([0.125, 0.   , 0.   ]), 463.0), (array([0., 0., 0.]), 346.0), (array([0., 0., 0.]), 260.0), (array([0., 0., 0.]), 220.0), (array([0.25      , 4.58333333, 2.        ]), 142.0), (array([1.        , 1.16666667, 8.16666667]), 103.0), (array([0.75      , 1.83333333, 0.58333333]), 86.0), (array([0.125     , 0.        , 0.08333333]), 74.0), (array([0., 0., 0.]), 174.5), (array([0., 0., 0.]), 275.0), (array([0.        , 0.08333333, 0.        ]), 575.0), (array([0.        , 0.16666667, 0.16666667]), 472.0), (array([18.925, 14.5  ,  0.   ]), 730.0), (array([17.625     , 28.71666667, 13.33333333]), 583.0), (array([25.625     , 19.1       , 10.33333333]), 1301.0), (array([43.775     , 10.25      ,  3.66666667]), 979.0), (array([ 8.875     , 21.13333333, 12.33333333]), 657.0), (array([4.625     , 0.65      , 0.58333333]), 632.0), (array([ 4.375     , 21.45      ,  5.08333333]), 717.0), (array([ 5.75      , 10.16666667,  4.66666667]), 345.0), (array([7.2       , 4.91666667, 1.83333333]), 300.0), (array([7.        , 1.58333333, 6.75      ]), 101.0), (array([19.5       ,  0.16666667,  0.5       ]), 165.5), (array([2.87915853, 0.        , 0.        ]), 230.0), (array([2.        , 4.66666667, 1.5       ]), 101.0), (array([ 5.625     ,  5.5       , 18.16666667]), 761.0), (array([0.        , 0.        , 0.08333333]), 510.0), (array([42.75      , 27.33333333, 51.75      ]), 837.0), (array([ 8.75      ,  5.5       , 17.66666667]), 362.0), (array([5.75      , 8.66666667, 0.58333333]), 314.5), (array([0.        , 0.        , 0.08333333]), 267.0), (array([18. ,  3. ,  9.5]), 245.0), (array([0., 0., 0.]), 55.0), (array([16.75      ,  5.95      ,  2.58333333]), 55.0), (array([2. , 3.1, 0.5]), 54.0), (array([0., 0., 0.]), 946.0), (array([0., 0., 0.]), 1106.0), (array([0., 0., 0.]), 1266.0), (array([0., 0., 0.]), 723.0), (array([0., 0., 0.]), 1021.0), (array([0., 0., 0.]), 920.0), (array([0., 0., 0.]), 213.0), (array([0., 0., 0.]), 118.0), (array([0., 0., 0.]), 86.0), (array([0., 0., 0.]), 54.0), (array([0., 0., 0.]), 25.0), (array([0., 0., 0.]), 46.0), (array([0., 0., 0.]), 46.0), (array([0., 0., 0.]), 25.0), (array([0., 0., 0.]), 23.0), (array([0., 0., 0.]), 23.0), (array([0., 0., 0.]), 23.0), (array([0., 0., 0.]), 16.0), (array([0., 0., 0.]), 11.0), (array([0., 0., 0.]), 18.0), (array([0., 0., 0.]), 14.0), (array([0., 0., 0.]), 17.0), (array([0., 0., 0.]), 17.0), (array([0., 0., 0.]), 17.0), (array([0., 0., 0.]), 14.0), (array([0., 0., 0.]), 17.0), (array([0., 0., 0.]), 462.0), (array([0., 0., 0.]), 450.0), (array([0., 0., 0.]), 462.0), (array([0., 0., 0.]), 431.0), (array([0., 0., 0.]), 400.0), (array([0., 0., 0.]), 399.0), (array([0., 0., 0.]), 400.0), (array([0., 0., 0.]), 400.0), (array([0., 0., 0.]), 399.0), (array([0., 0., 0.]), 397.0), (array([0., 0., 0.]), 391.0), (array([0., 0., 0.]), 385.0), (array([0., 0., 0.]), 382.0), (array([0., 0., 0.]), 388.0), (array([0., 0., 0.]), 384.0), (array([0., 0., 0.]), 384.0), (array([0., 0., 0.]), 379.0), (array([0., 0., 0.]), 310.0), (array([0., 0., 0.]), 241.0), (array([0., 0., 0.]), 114.0), (array([0., 0., 0.]), 111.0), (array([0., 0., 0.]), 100.0), (array([0., 0., 0.]), 96.0), (array([0., 0., 0.]), 18.0), (array([0., 0., 0.]), 40.5), (array([0., 0., 0.]), 63.0), (array([0., 0., 0.]), 72.0), (array([0., 0., 0.]), 69.0), (array([0., 0., 0.]), 77.0), (array([0., 0., 0.]), 68.0), (array([0., 0., 0.]), 69.0), (array([0., 0., 0.]), 142.0), (array([0., 0., 0.]), 141.15584415584416), (array([0., 0., 0.]), 140.3116883116883), (array([0., 0., 0.]), 139.46753246753246), (array([0., 0., 0.]), 138.62337662337663), (array([0., 0., 0.]), 137.7792207792208), (array([0., 0., 0.]), 136.93506493506493), (array([0., 0., 0.]), 136.0909090909091), (array([0., 0., 0.]), 135.24675324675326), (array([0., 0., 0.]), 134.4025974025974), (array([0., 0., 0.]), 133.55844155844156), (array([0., 0., 0.]), 132.71428571428572), (array([0., 0., 0.]), 131.87012987012986), (array([0., 0., 0.]), 131.02597402597402), (array([0., 0., 0.]), 130.1818181818182), (array([0., 0., 0.]), 129.33766233766235), (array([0., 0., 0.]), 128.4935064935065), (array([0., 0., 0.]), 127.64935064935065), (array([0., 0., 0.]), 126.8051948051948), (array([0., 0., 0.]), 125.96103896103897), (array([0., 0., 0.]), 125.11688311688312), (array([0., 0., 0.]), 124.27272727272728), (array([0., 0., 0.]), 123.42857142857143), (array([0., 0., 0.]), 122.58441558441558), (array([0., 0., 0.]), 121.74025974025975), (array([0., 0., 0.]), 120.8961038961039), (array([0., 0., 0.]), 120.05194805194805), (array([0., 0., 0.]), 119.20779220779221), (array([0., 0., 0.]), 118.36363636363637), (array([0., 0., 0.]), 117.51948051948052), (array([0., 0., 0.]), 116.67532467532467), (array([0., 0., 0.]), 115.83116883116884), (array([0., 0., 0.]), 114.98701298701299), (array([0., 0., 0.]), 114.14285714285714), (array([0., 0., 0.]), 113.2987012987013), (array([0., 0., 0.]), 112.45454545454545), (array([0., 0., 0.]), 111.6103896103896), (array([0., 0., 0.]), 110.76623376623377), (array([0., 0., 0.]), 109.92207792207793), (array([0., 0., 0.]), 109.07792207792208), (array([0., 0., 0.]), 108.23376623376623), (array([0., 0., 0.]), 107.3896103896104), (array([0., 0., 0.]), 106.54545454545455), (array([0., 0., 0.]), 105.7012987012987), (array([0., 0., 0.]), 104.85714285714286), (array([0., 0., 0.]), 104.01298701298703), (array([0., 0., 0.]), 103.16883116883116), (array([0., 0., 0.]), 102.32467532467533), (array([0., 0., 0.]), 101.48051948051949), (array([0., 0., 0.]), 100.63636363636364), (array([0., 0., 0.]), 99.79220779220779), (array([0., 0., 0.]), 98.94805194805195), (array([0., 0., 0.]), 98.1038961038961), (array([0., 0., 0.]), 97.25974025974025), (array([0., 0., 0.]), 96.41558441558442), (array([0., 0., 0.]), 95.57142857142858), (array([0., 0., 0.]), 94.72727272727273), (array([0., 0., 0.]), 93.88311688311688), (array([0., 0., 0.]), 93.03896103896105), (array([0., 0., 0.]), 92.1948051948052), (array([0., 0., 0.]), 91.35064935064935), (array([0., 0., 0.]), 90.50649350649351), (array([0., 0., 0.]), 89.66233766233766), (array([0., 0., 0.]), 88.81818181818181), (array([0., 0., 0.]), 87.97402597402598), (array([0., 0., 0.]), 87.12987012987014), (array([0., 0., 0.]), 86.28571428571429), (array([0., 0., 0.]), 85.44155844155844), (array([0., 0., 0.]), 84.5974025974026), (array([0., 0., 0.]), 83.75324675324676), (array([0., 0., 0.]), 82.9090909090909), (array([0., 0., 0.]), 82.06493506493507), (array([0., 0., 0.]), 81.22077922077922), (array([0., 0., 0.]), 80.37662337662337), (array([0., 0., 0.]), 79.53246753246754), (array([0., 0., 0.]), 78.6883116883117), (array([0., 0., 0.]), 77.84415584415585), (array([0., 0., 0.]), 77.0), (array([0., 0., 0.]), 76.15584415584416), (array([0., 0., 0.]), 75.31168831168831), (array([0., 0., 0.]), 74.46753246753246), (array([0., 0., 0.]), 73.62337662337663), (array([0., 0., 0.]), 72.77922077922078), (array([0., 0., 0.]), 71.93506493506494), (array([0., 0., 0.]), 71.0909090909091), (array([0., 0., 0.]), 70.24675324675326), (array([0., 0., 0.]), 69.40259740259741), (array([0., 0., 0.]), 68.55844155844156), (array([0., 0., 0.]), 67.71428571428572), (array([0., 0., 0.]), 66.87012987012987), (array([0., 0., 0.]), 66.02597402597404), (array([0., 0., 0.]), 65.18181818181819), (array([0., 0., 0.]), 64.33766233766234), (array([0., 0., 0.]), 63.4935064935065), (array([0., 0., 0.]), 62.64935064935065), (array([0., 0., 0.]), 61.805194805194816), (array([0., 0., 0.]), 60.961038961038966), (array([0., 0., 0.]), 60.116883116883116), (array([0., 0., 0.]), 59.27272727272728), (array([0., 0., 0.]), 58.42857142857143), (array([0., 0., 0.]), 57.584415584415595), (array([0., 0., 0.]), 56.740259740259745), (array([0., 0., 0.]), 55.896103896103895), (array([0., 0., 0.]), 55.05194805194806), (array([0., 0., 0.]), 54.20779220779221), (array([0., 0., 0.]), 53.363636363636374), (array([0., 0., 0.]), 52.519480519480524), (array([0., 0., 0.]), 51.675324675324674), (array([0., 0., 0.]), 50.83116883116884), (array([0., 0., 0.]), 49.98701298701299), (array([0., 0., 0.]), 49.14285714285715), (array([0., 0., 0.]), 48.2987012987013), (array([0., 0., 0.]), 47.45454545454547), (array([0., 0., 0.]), 46.61038961038962), (array([0., 0., 0.]), 45.76623376623377), (array([0., 0., 0.]), 44.92207792207793), (array([0., 0., 0.]), 44.07792207792208), (array([0., 0., 0.]), 43.23376623376625), (array([0., 0., 0.]), 42.3896103896104), (array([0., 0., 0.]), 41.54545454545455), (array([0., 0., 0.]), 40.70129870129871), (array([0., 0., 0.]), 39.85714285714286), (array([0., 0., 0.]), 39.012987012987026), (array([0., 0., 0.]), 38.168831168831176), (array([0., 0., 0.]), 37.324675324675326), (array([0., 0., 0.]), 36.48051948051949), (array([0., 0., 0.]), 35.63636363636364), (array([0., 0., 0.]), 34.792207792207805), (array([0., 0., 0.]), 33.948051948051955), (array([0., 0., 0.]), 33.103896103896105), (array([0., 0., 0.]), 32.25974025974027), (array([0., 0., 0.]), 31.41558441558442), (array([0., 0., 0.]), 30.571428571428584), (array([0., 0., 0.]), 29.727272727272734), (array([0., 0., 0.]), 28.883116883116884), (array([0., 0., 0.]), 28.038961038961048), (array([0., 0., 0.]), 27.1948051948052), (array([0., 0., 0.]), 26.350649350649363), (array([0., 0., 0.]), 25.506493506493513), (array([0., 0., 0.]), 24.662337662337663), (array([0., 0., 0.]), 23.818181818181827), (array([0., 0., 0.]), 22.974025974025977), (array([0., 0., 0.]), 22.12987012987014), (array([0., 0., 0.]), 21.285714285714292), (array([0., 0., 0.]), 20.441558441558442), (array([0., 0., 0.]), 19.597402597402606), (array([0., 0., 0.]), 18.753246753246756), (array([0., 0., 0.]), 17.90909090909092), (array([0., 0., 0.]), 17.06493506493507), (array([0., 0., 0.]), 16.220779220779235), (array([0., 0., 0.]), 15.376623376623385), (array([0., 0., 0.]), 14.532467532467535), (array([0., 0., 0.]), 13.6883116883117), (array([0., 0., 0.]), 12.844155844155864), (array([0., 0., 0.]), 12.0), (array([0., 0., 0.]), 14.0), (array([0.1, 0. , 0. ]), 15.0), (array([0., 0., 0.]), 14.0), (array([0.875     , 0.03333333, 0.05      ]), 16.0), (array([1.575     , 0.65      , 0.78333333]), 15.0), (array([13.225     ,  1.78333333,  3.08333333]), 13.0), (array([17.        ,  4.96666667, 21.88333333]), 13.0), (array([18.1       ,  5.95      , 12.18333333]), 18.0), (array([6.1 , 4.8 , 4.75]), 23.0), (array([3.075     , 4.56666667, 1.51666667]), 121.0), (array([5.15      , 7.13333333, 1.75      ]), 81.0), (array([0.85, 3.5 , 0.  ]), 58.0), (array([8.85      , 1.23333333, 5.81666667]), 64.0), (array([8.65      , 4.06666667, 7.05      ]), 70.0), (array([6.125, 0.4  , 7.4  ]), 90.5), (array([23.675     ,  7.46666667,  5.3       ]), 111.0), (array([1.875     , 1.78333333, 4.41666667]), 111.0), (array([37.175     , 13.05      , 16.78333333]), 782.0), (array([72.425     , 30.68333333, 55.55      ]), 1453.0), (array([64.25      , 40.65      , 41.46666667]), 788.0), (array([14.425     , 10.9       ,  4.98333333]), 603.0), (array([16.725     ,  9.45      , 12.78333333]), 604.0), (array([15.9       ,  4.2       ,  4.33333333]), 388.0), (array([8.2       , 1.75      , 2.96666667]), 267.0), (array([2.725     , 0.25      , 2.33333333]), 244.0), (array([3.4       , 3.65      , 1.53333333]), 220.0), (array([6.225     , 1.13333333, 0.26666667]), 290.0), (array([17.95      ,  3.88333333,  5.91666667]), 372.0), (array([3.35      , 2.01666667, 1.73333333]), 549.0), (array([24.275     ,  9.28333333,  6.53333333]), 626.5), (array([15.06755606, 11.27012347, 12.27581028]), 704.0), (array([26.425     ,  9.66666667, 16.35      ]), 2116.0), (array([41.9       , 22.31666667, 23.53333333]), 1331.0), (array([17.5       , 12.13333333, 12.7       ]), 1269.0), (array([3.25      , 1.78333333, 1.58333333]), 914.0), (array([17.5       , 12.13333333, 12.7       ]), 663.0), (array([3.25      , 1.78333333, 1.58333333]), 715.5), (array([13.4       ,  1.25      ,  3.86666667]), 768.0), (array([9.725     , 6.28333333, 2.46666667]), 768.0), (array([13.4,  3.4,  8.8]), 936.0), (array([25.325     ,  2.91666667, 19.78333333]), 754.5), (array([8.175     , 4.6       , 6.76666667]), 573.0), (array([12.725     ,  9.1       ,  7.73333333]), 372.0), (array([2.7       , 0.8       , 3.61666667]), 384.0), (array([5.725     , 2.01666667, 3.11666667]), 538.0), (array([16.975,  6.15 ,  6.45 ]), 409.0), (array([5.275     , 2.31666667, 1.81666667]), 811.0), (array([0.975     , 1.9       , 1.41666667]), 811.0), (array([25.725, 20.35 ,  8.3  ]), 552.0), (array([14.85      ,  9.43333333,  6.96666667]), 575.0), (array([5.7       , 4.7       , 6.61666667]), 1746.0), (array([17.975     , 18.66666667, 12.6       ]), 2917.0), (array([34.275     , 27.11666667, 18.15      ]), 2740.0), (array([20.175     , 14.11666667, 16.45      ]), 2548.0), (array([20.025     , 12.96666667,  6.73333333]), 2356.0), (array([2.65      , 2.08333333, 1.23333333]), 5789.0), (array([37.55, 22.8 ,  7.9 ]), 8747.0), (array([41.525     , 49.05      , 13.66666667]), 5630.0), (array([23.5       , 41.75      , 14.16666667]), 4007.0), (array([16.375     , 10.76666667,  9.75      ]), 2866.0), (array([7.875     , 9.75      , 5.73333333]), 2618.0), (array([6.2       , 6.85      , 7.76666667]), 2433.0), (array([ 7.35      , 14.63333333,  8.88333333]), 2248.0), (array([2.5       , 2.23333333, 2.83333333]), 3563.0), (array([13.        , 10.23333333, 11.05      ]), 3114.0), (array([13.75      , 19.78333333, 12.13333333]), 3628.0), (array([20.85      , 24.        , 42.56666667]), 9074.0), (array([69.875     , 39.21666667, 84.51666667]), 6800.0), (array([123.975     ,  66.51666667,  83.81666667]), 7436.0), (array([46.325, 20.5  , 22.25 ]), 7501.0), (array([55.65      , 10.98333333, 15.88333333]), 5348.0), (array([36.175, 14.5  ,  6.35 ]), 5094.5), (array([49.825     , 17.76666667, 15.9       ]), 4841.0), (array([45.4       , 23.        , 33.46666667]), 3973.0), (array([19.15      ,  7.91666667, 12.16666667]), 2787.0), (array([2.35      , 1.91666667, 1.6       ]), 2712.0), (array([0.8       , 0.86666667, 1.03333333]), 1930.0), (array([ 9.475     ,  2.33333333, 11.16666667]), 2230.0), (array([11.775     ,  4.23333333,  2.8       ]), 2426.5), (array([26.15      ,  5.9       , 19.53333333]), 2623.0), (array([ 8.225     , 10.3       ,  7.51666667]), 1526.0), (array([2.875, 3.05 , 9.5  ]), 1134.0), (array([2.875, 3.05 , 9.5  ]), 861.0), (array([ 9.95      , 12.06666667,  1.95      ]), 518.0), (array([2.325     , 0.16666667, 0.48333333]), 479.0), (array([0.025     , 0.05      , 0.08333333]), 479.0), (array([6.6       , 4.31666667, 7.03333333]), 479.0), (array([50.05, 14.25, 30.7 ]), 2347.0), (array([19.55      , 18.78333333,  2.63333333]), 2904.0), (array([33.575     , 15.23333333, 25.55      ]), 5798.0), (array([40.8       , 26.38333333, 24.41666667]), 5225.0), (array([37.375     , 31.86666667, 19.33333333]), 5225.0), (array([34.225, 30.6  , 23.6  ]), 5693.5), (array([37.875     , 23.2       , 30.53333333]), 6162.0), (array([15.3 , 21.4 , 16.05]), 5867.0), (array([32.575     , 22.15      , 27.28333333]), 5494.0), (array([43.7       , 27.8       , 26.33333333]), 4411.0), (array([20.725     , 16.88333333, 10.4       ]), 3854.0), (array([5.8       , 6.1       , 4.68333333]), 3378.0), (array([16.575     ,  7.98333333,  4.25      ]), 2778.0), (array([13.6       ,  5.36666667,  7.31666667]), 2178.0), (array([6.85      , 4.1       , 6.11666667]), 1870.0), (array([27.725,  3.95 , 24.8  ]), 1581.0), (array([2.1       , 5.83333333, 4.05      ]), 1377.5), (array([11.6 ,  5.35,  6.75]), 1174.0), (array([11.5       ,  5.28333333,  7.05      ]), 1068.0), (array([12.15      ,  0.85      ,  5.18333333]), 1029.0), (array([8.125     , 3.95      , 4.16666667]), 833.0), (array([7.8       , 3.75      , 8.11666667]), 833.0), (array([11.625     ,  2.83333333,  3.68333333]), 833.0), (array([7.3       , 1.75      , 2.63333333]), 245.0), (array([7.45      , 5.06666667, 2.25      ]), 646.0), (array([0.075     , 0.08333333, 0.        ]), 412.0), (array([0.05      , 0.03333333, 0.        ]), 458.0), (array([0., 0., 0.]), 504.0), (array([0.        , 0.03333333, 0.        ]), 609.0), (array([0., 0., 0.]), 589.0), (array([0.        , 0.11666667, 0.        ]), 512.0), (array([0.05, 0.  , 0.  ]), 460.0), (array([0., 0., 0.]), 486.0), (array([0.175     , 0.63333333, 0.        ]), 519.3333333333334), (array([0.425     , 0.03333333, 1.33333333]), 552.6666666666666), (array([13.65      , 12.25      ,  3.81666667]), 586.0), (array([14.175     ,  8.65      ,  2.18333333]), 632.0), (array([16.225     ,  7.71666667, 14.28333333]), 361.0), (array([13.7       ,  3.8       ,  6.46666667]), 361.0), (array([0.475     , 0.06666667, 0.06666667]), 361.0), (array([0.9       , 0.18333333, 0.08333333]), 229.0), (array([0., 0., 0.]), 314.0), (array([0.05, 0.  , 0.  ]), 187.0), (array([0.075     , 0.03333333, 0.        ]), 168.0), (array([8.35      , 0.46666667, 0.65      ]), 188.0), (array([22.4       ,  4.03333333, 18.1       ]), 98.0), (array([0.475     , 0.21666667, 0.06666667]), 205.0), (array([0.075, 0.   , 0.   ]), 175.5), (array([0.05      , 0.1       , 0.26666667]), 146.0), (array([0.85      , 0.41666667, 0.6       ]), 736.0), (array([23.05      ,  1.41666667, 49.96666667]), 316.0), (array([22.35, 19.15, 11.45]), 280.0), (array([5.125     , 0.03333333, 0.61666667]), 219.0), (array([0.225     , 0.06666667, 0.01666667]), 167.0), (array([0.        , 0.        , 0.03333333]), 230.0), (array([6.25      , 3.7       , 6.88333333]), 293.0), (array([8.625     , 4.56666667, 5.4       ]), 257.0), (array([5.2       , 1.08333333, 6.46666667]), 269.0), (array([3.6       , 0.73333333, 0.48333333]), 245.0), (array([0. , 0.1, 0. ]), 233.0), (array([0., 0., 0.]), 233.0), (array([0.075     , 1.83333333, 0.        ]), 227.0), (array([0.  , 0.05, 0.  ]), 221.0), (array([0.075, 0.   , 0.   ]), 424.0), (array([0., 0., 0.]), 627.0), (array([0.6       , 8.8       , 0.03333333]), 620.0), (array([0., 0., 0.]), 1531.0), (array([0., 0., 0.]), 108.0), (array([0., 0., 0.]), 909.0), (array([0., 0., 0.]), 769.0), (array([0., 0., 0.]), 629.0), (array([0., 0., 0.]), 859.0), (array([0., 0., 0.]), 662.0), (array([0., 0., 0.]), 726.0), (array([0., 0., 0.]), 714.0), (array([0., 0., 0.]), 689.0), (array([0., 0., 0.]), 665.0), (array([0., 0., 0.]), 765.5), (array([0., 0., 0.]), 866.0), (array([0., 0., 0.]), 693.0), (array([0., 0., 0.]), 237.0), (array([0., 0., 0.]), 237.0), (array([0., 0., 0.]), 245.0), (array([0., 0., 0.]), 289.0), (array([0., 0., 0.]), 272.0), (array([0., 0., 0.]), 255.0), (array([0., 0., 0.]), 273.0), (array([0., 0., 0.]), 257.0), (array([0., 0., 0.]), 254.0), (array([0., 0., 0.]), 248.0), (array([0., 0., 0.]), 247.0), (array([0., 0., 0.]), 223.0), (array([0., 0., 0.]), 386.0), (array([0., 0., 0.]), 330.0), (array([0., 0., 0.]), 110.0), (array([0., 0., 0.]), 105.0), (array([0., 0., 0.]), 112.5), (array([0., 0., 0.]), 120.0), (array([0., 0., 0.]), 173.5), (array([0., 0., 0.]), 227.0), (array([0., 0., 0.]), 264.0), (array([0., 0., 0.]), 297.0), (array([0., 0., 0.]), 284.0), (array([0., 0., 0.]), 227.0), (array([0., 0., 0.]), 184.0), (array([0., 0., 0.]), 132.0), (array([0., 0., 0.]), 259.0), (array([0., 0., 0.]), 258.0), (array([0., 0., 0.]), 218.0), (array([0., 0., 0.]), 226.0), (array([0., 0., 0.]), 177.5), (array([0., 0., 0.]), 129.0), (array([0., 0., 0.]), 133.0), (array([0., 0., 0.]), 226.0), (array([0., 0., 0.]), 220.0), (array([0., 0., 0.]), 221.0), (array([0., 0., 0.]), 255.0), (array([0., 0., 0.]), 243.5), (array([0., 0., 0.]), 232.0), (array([0., 0., 0.]), 230.0), (array([0., 0., 0.]), 213.0), (array([0., 0., 0.]), 211.0), (array([0., 0., 0.]), 236.0), (array([0., 0., 0.]), 151.0), (array([0., 0., 0.]), 141.0), (array([0., 0., 0.]), 138.82608695652175), (array([0., 0., 0.]), 136.65217391304347), (array([0., 0., 0.]), 134.47826086956522), (array([0., 0., 0.]), 132.30434782608697), (array([0., 0., 0.]), 130.1304347826087), (array([0., 0., 0.]), 127.95652173913044), (array([0., 0., 0.]), 125.78260869565217), (array([0., 0., 0.]), 123.6086956521739), (array([0., 0., 0.]), 121.43478260869566), (array([0., 0., 0.]), 119.26086956521739), (array([0., 0., 0.]), 117.08695652173913), (array([0., 0., 0.]), 114.91304347826087), (array([0., 0., 0.]), 112.73913043478261), (array([0., 0., 0.]), 110.56521739130434), (array([0., 0., 0.]), 108.3913043478261), (array([0., 0., 0.]), 106.21739130434783), (array([0., 0., 0.]), 104.04347826086956), (array([0., 0., 0.]), 101.86956521739131), (array([0., 0., 0.]), 99.69565217391305), (array([0., 0., 0.]), 97.52173913043478), (array([0., 0., 0.]), 95.34782608695653), (array([0., 0., 0.]), 93.17391304347827), (array([0., 0., 0.]), 91.0), (array([0., 0., 0.]), 87.0), (array([0., 0., 0.]), 79.0), (array([0., 0., 0.]), 70.0), (array([0., 0., 0.]), 79.0), (array([0., 0., 0.]), 66.0), (array([0., 0., 0.]), 66.0), (array([0., 0., 0.]), 66.0), (array([0., 0., 0.]), 66.0), (array([0., 0., 0.]), 75.0), (array([0., 0., 0.]), 66.0), (array([0., 0., 0.]), 66.0), (array([0., 0., 0.]), 66.0), (array([0., 0., 0.]), 62.0), (array([0., 0., 0.]), 58.0), (array([0., 0., 0.]), 58.0), (array([0., 0., 0.]), 58.0), (array([0., 0., 0.]), 54.0), (array([0., 0., 0.]), 62.0), (array([0., 0., 0.]), 71.0), (array([0., 0., 0.]), 66.5), (array([0., 0., 0.]), 62.0), (array([0., 0., 0.]), 50.0), (array([0., 0., 0.]), 50.0), (array([0., 0., 0.]), 46.0), (array([0., 0., 0.]), 58.0), (array([0., 0., 0.]), 71.0), (array([0., 0., 0.]), 79.0), (array([0., 0., 0.]), 87.0), (array([0., 0., 0.]), 63.0), (array([0., 0., 0.]), 58.0), (array([0., 0., 0.]), 50.0), (array([0., 0., 0.]), 46.0), (array([0., 0., 0.]), 42.0), (array([0., 0., 0.]), 49.5), (array([0., 0., 0.]), 57.0), (array([0., 0., 0.]), 33.0), (array([0., 0., 0.]), 39.0), (array([0., 0., 0.]), 45.0), (array([0., 0., 0.]), 39.0), (array([0., 0., 0.]), 28.0), (array([0., 0., 0.]), 28.0), (array([0., 0., 0.]), 28.0), (array([0., 0., 0.]), 22.0), (array([0., 0., 0.]), 33.0), (array([0., 0., 0.]), 171.0), (array([0., 0., 0.]), 239.0), (array([0., 0., 0.]), 108.0), (array([0., 0., 0.]), 152.0), (array([0., 0., 0.]), 196.0), (array([0., 0., 0.]), 240.0), (array([0., 0., 0.]), 102.0), (array([0., 0., 0.]), 80.0), (array([0., 0., 0.]), 57.0), (array([0., 0., 0.]), 57.0), (array([0., 0., 0.]), 62.0), (array([0., 0., 0.]), 63.0), (array([0., 0., 0.]), 91.0), (array([0., 0., 0.]), 63.0), (array([0., 0., 0.]), 57.0), (array([0., 0., 0.]), 51.0), (array([0., 0., 0.]), 51.0), (array([0., 0., 0.]), 48.0), (array([0., 0., 0.]), 45.0), (array([0., 0., 0.]), 34.0), (array([0., 0., 0.]), 34.0), (array([0., 0., 0.]), 28.0), (array([0., 0., 0.]), 23.0), (array([0., 0., 0.]), 42.0), (array([0., 0., 0.]), 33.0), (array([0., 0., 0.]), 24.0), (array([0., 0., 0.]), 24.0), (array([0., 0., 0.]), 30.0), (array([0., 0., 0.]), 26.0), (array([0., 0., 0.]), 26.0), (array([0., 0., 0.]), 32.0), (array([0., 0., 0.]), 30.333333333333332), (array([0., 0., 0.]), 28.666666666666668), (array([0., 0., 0.]), 27.0), (array([0., 0., 0.]), 27.0), (array([0., 0., 0.]), 23.0), (array([0., 0., 0.]), 125.0), (array([0., 0., 0.]), 117.0), (array([0., 0., 0.]), 113.0), (array([0., 0., 0.]), 23.0), (array([0., 0., 0.]), 17.0), (array([0., 0., 0.]), 17.0), (array([0., 0., 0.]), 19.0), (array([0., 0., 0.]), 13.0), (array([0., 0., 0.]), 19.0), (array([0., 0., 0.]), 16.0), (array([0., 0., 0.]), 13.0), (array([0., 0., 0.]), 30.0), (array([0., 0., 0.]), 30.0), (array([0., 0., 0.]), 13.0), (array([0., 0., 0.]), 19.0), (array([0., 0., 0.]), 19.0), (array([0., 0., 0.]), 21.5), (array([0., 0., 0.]), 24.0), (array([0., 0., 0.]), 19.0), (array([0., 0., 0.]), 19.0), (array([0., 0., 0.]), 19.0), (array([0., 0., 0.]), 19.0), (array([0., 0., 0.]), 36.0), (array([0., 0., 0.]), 33.0), (array([0., 0., 0.]), 30.0), (array([0., 0., 0.]), 25.0), (array([0., 0., 0.]), 19.0), (array([0., 0., 0.]), 30.0), (array([0., 0., 0.]), 59.0), (array([0., 0., 0.]), 53.0), (array([0., 0., 0.]), 44.5), (array([0., 0., 0.]), 36.0), (array([0., 0., 0.]), 31.0), (array([0., 0., 0.]), 25.0), (array([0., 0., 0.]), 19.0), (array([0., 0., 0.]), 25.0), (array([0., 0., 0.]), 19.0), (array([0., 0., 0.]), 55.5), (array([0., 0., 0.]), 92.0), (array([0., 0., 0.]), 59.0), (array([0., 0., 0.]), 53.0), (array([0., 0., 0.]), 25.0), (array([0., 0., 0.]), 19.0), (array([0., 0., 0.]), 19.0), (array([0., 0., 0.]), 73.5), (array([0., 0., 0.]), 128.0), (array([0., 0., 0.]), 54.0), (array([0., 0., 0.]), 59.0), (array([0., 0., 0.]), 59.0), (array([0., 0., 0.]), 172.0), (array([0., 0., 0.]), 132.0), (array([17.2625    , 19.42166667,  0.        ]), 146.5), (array([6.62      , 0.25166667, 4.35333333]), 161.0), (array([36.86      ,  6.99666667, 30.11666667]), 124.0), (array([5.365     , 1.71333333, 2.90833333]), 90.0), (array([3.115     , 1.26166667, 4.58      ]), 73.0), (array([2.4425    , 2.34166667, 0.32833333]), 102.0), (array([18.01 ,  2.345,  6.765]), 193.0), (array([14.5325    ,  5.91333333,  7.795     ]), 276.5), (array([34.3375    , 12.43666667, 12.11333333]), 360.0), (array([10.33      , 11.14666667, 11.59833333]), 1595.0), (array([36.245     , 31.345     , 23.47333333]), 1137.0), (array([57.6475    , 19.97166667, 31.29      ]), 1354.0), (array([17.0575    , 13.79333333, 11.93166667]), 1836.0), (array([56.82      , 34.09333333, 21.11666667]), 2501.0), (array([50.63      , 44.11166667, 39.55333333]), 3210.5), (array([78.525     , 49.20833333, 49.56833333]), 3920.0), (array([49.51      , 26.31333333, 31.00666667]), 2498.0), (array([70.48 , 26.03 , 33.985]), 1708.5), (array([17.265,  7.51 ,  6.32 ]), 919.0), (array([48.605     , 16.09333333, 35.10833333]), 777.0), (array([4.79 , 1.465, 2.565]), 937.0), (array([24.345     , 15.30666667,  7.13666667]), 1091.0), (array([28.55      , 12.095     , 11.80666667]), 4825.0), (array([43.995     , 25.975     , 16.12666667]), 8670.0), (array([115.345     ,  57.06166667, 105.60833333]), 13831.0), (array([93.18      , 55.50833333, 54.14333333]), 9083.0), (array([66.5525, 26.43  , 30.92  ]), 5193.0), (array([21.28      ,  7.27166667,  8.03833333]), 6507.0), (array([16.85      ,  6.35333333,  4.39833333]), 4440.0), (array([0.6725    , 0.77166667, 0.64      ]), 2373.0), (array([ 4.5525    ,  6.29833333, 11.51333333]), 2195.0), (array([27.51      , 18.89666667,  4.99833333]), 9740.0), (array([84.0275    , 30.09833333, 48.64      ]), 9633.0), (array([151.3025    , 109.175     , 101.89833333]), 11497.0), (array([95.25      , 45.82666667, 19.50333333]), 8050.0), (array([40.995     , 33.20666667, 12.09166667]), 7535.0), (array([79.7675    , 22.23666667,  8.43166667]), 7020.0), (array([29.94      ,  6.77833333,  3.70166667]), 7158.0), (array([16.395     , 13.04666667, 20.33166667]), 6238.0), (array([24.11      , 14.86166667, 13.76833333]), 6937.0), (array([60.3125    , 32.95      , 14.49833333]), 11091.0), (array([49.84      , 36.11833333, 16.50833333]), 5748.0), (array([48.0875    , 44.255     , 19.21166667]), 6162.5), (array([24.2125    , 18.04833333, 10.53666667]), 6577.0), (array([17.955     ,  7.45166667, 13.175     ]), 7533.0), (array([26.7125    , 18.385     , 14.81833333]), 6326.0), (array([42.9525, 31.8   , 25.085 ]), 11981.0), (array([35.975     , 32.77833333, 24.51333333]), 18606.0), (array([94.        , 63.36666667, 57.19166667]), 20425.0), (array([92.385     , 86.00333333, 80.12833333]), 16793.0), (array([77.865     , 60.06333333, 48.285     ]), 13161.0), (array([41.225, 37.615, 20.36 ]), 9825.0), (array([36.295     , 34.045     , 18.73166667]), 13322.0), (array([40.9       , 44.32833333, 35.83166667]), 10345.0), (array([57.7325    , 46.29166667, 62.58833333]), 10032.0), (array([49.63 , 50.755, 41.535]), 10071.0), (array([41.89      , 32.71166667, 32.54333333]), 10051.5), (array([63.0425    , 26.41333333, 30.73833333]), 10032.0), (array([49.38      , 27.56666667, 29.975     ]), 4271.0), (array([6.78      , 8.595     , 1.49666667]), 6341.0), (array([40.97      , 16.04833333, 63.76666667]), 12836.0), (array([68.6025    , 20.98333333, 51.32      ]), 10368.0), (array([119.3225    ,  48.69166667,  89.41666667]), 8967.0), (array([55.0475    , 51.46666667, 39.04333333]), 8080.0), (array([56.1325, 29.875 , 13.65  ]), 7193.0), (array([53.53      , 11.12833333,  7.14833333]), 9113.0), (array([34.2425    , 13.55      ,  7.41333333]), 7389.0), (array([23.9875    , 19.23666667,  3.21833333]), 5477.0), (array([24.3425    ,  5.87166667, 10.075     ]), 4255.0), (array([18.6825    ,  5.06      ,  2.82833333]), 4855.0), (array([9.4875    , 2.14333333, 2.62      ]), 4498.5), (array([11.4275    ,  2.30833333,  8.77333333]), 4142.0), (array([15.585     ,  4.83333333,  5.47      ]), 4128.0), (array([14.445     ,  1.47833333,  0.74666667]), 4117.0), (array([26.815     ,  9.83833333,  9.36666667]), 3649.0), (array([4.555, 2.385, 1.69 ]), 3441.0), (array([18.2625    ,  6.34833333,  5.33666667]), 3073.0), (array([10.8275,  4.84  ,  1.515 ]), 3414.0), (array([16.9525    ,  5.745     ,  6.54166667]), 3755.0), (array([26.14      , 13.99666667,  7.31666667]), 4069.0), (array([ 8.485     , 11.65666667,  5.58666667]), 4320.0), (array([23.125     , 21.68      ,  7.40166667]), 4031.0), (array([16.8625    , 13.395     ,  4.25666667]), 4015.0), (array([16.1775    , 12.42333333,  3.79      ]), 4942.0), (array([13.01      , 11.91833333,  1.15      ]), 3970.5), (array([19.6975    ,  5.52833333,  5.825     ]), 2999.0), (array([4.0725    , 2.28666667, 1.09166667]), 2645.0), (array([5.53      , 2.095     , 9.01166667]), 3020.0), (array([0.475, 1.715, 0.   ]), 2684.0), (array([2.3  , 1.445, 0.   ]), 1927.0), (array([4.7125    , 0.35666667, 2.81      ]), 2075.0), (array([1.36      , 0.275     , 0.00666667]), 2223.0), (array([5.2725    , 0.08666667, 0.11666667]), 1622.0), (array([17.9625,  6.195 ,  0.355 ]), 1857.0), (array([1.2725    , 0.44166667, 0.175     ]), 1807.0), (array([9.2975    , 3.405     , 1.92166667]), 1641.0), (array([3.6225    , 4.21333333, 0.275     ]), 1685.0), (array([13.505     ,  4.18666667,  5.175     ]), 1578.0), (array([15.34      , 11.84166667,  2.29166667]), 1626.0), (array([7.92      , 4.575     , 5.99333333]), 1674.0), (array([13.4125    , 14.96166667,  3.10333333]), 1993.0), (array([1.0125    , 5.325     , 0.08166667]), 1681.0), (array([3.02      , 1.10666667, 2.10833333]), 1457.0), (array([4.46 , 0.605, 1.305]), 1332.0), (array([6.3575    , 8.295     , 8.37166667]), 1579.0), (array([29.5425    ,  8.12      ,  1.65833333]), 1638.0), (array([ 1.8625    , 11.16833333,  1.25      ]), 1697.0), (array([39.955     ,  7.935     , 10.72666667]), 1658.0), (array([11.54      ,  2.89666667,  7.17333333]), 2490.0), (array([34.6725    , 15.76      , 21.80166667]), 3893.0), (array([42.5825    , 30.15833333, 30.25666667]), 7603.0), (array([24.435, 20.035, 32.   ]), 5057.0), (array([38.1425    , 37.895     , 14.18833333]), 3847.5), (array([11.945     , 11.18333333,  6.17333333]), 2638.0), (array([0.055     , 0.68333333, 0.09      ]), 2648.0), (array([3.89      , 3.26      , 1.59833333]), 1578.0), (array([2.5925    , 0.71333333, 2.55833333]), 1253.0), (array([0.915     , 0.69833333, 0.40833333]), 1399.0), (array([0.2125    , 0.01166667, 0.235     ]), 1125.0), (array([0.        , 0.        , 0.04166667]), 1201.0), (array([1.15      , 0.35666667, 0.265     ]), 1277.0), (array([0.8025    , 0.44333333, 0.37      ]), 2592.0), (array([27.295     , 13.775     , 11.21833333]), 1703.0), (array([17.1575,  1.745 ,  0.545 ]), 996.0), (array([2.495     , 2.83666667, 0.30166667]), 1658.0), (array([0.        , 0.00166667, 0.        ]), 1121.0), (array([0.065, 0.175, 0.   ]), 1003.5), (array([11.62      ,  4.87166667,  4.34333333]), 886.0), (array([9.255     , 4.60666667, 2.32333333]), 1003.0), (array([4.2675    , 0.16      , 0.84833333]), 259.0), (array([0.8425    , 0.28833333, 1.14166667]), 515.0), (array([3.7925    , 1.33333333, 3.355     ]), 358.0), (array([0.08      , 0.00333333, 2.14      ]), 240.0), (array([1.875     , 0.81166667, 4.41333333]), 240.5), (array([17.0275    ,  2.58833333, 13.87166667]), 241.0), (array([0.6925    , 1.43      , 3.73166667]), 241.0), (array([1.1125    , 0.01333333, 0.33      ]), 280.0), (array([5.12      , 6.07666667, 6.17      ]), 355.0), (array([26.805     ,  8.58166667, 16.925     ]), 23.0), (array([9.4275    , 7.515     , 1.88833333]), 1237.0), (array([17.635     ,  3.375     ,  8.52166667]), 885.0), (array([46.7075    , 39.99166667, 25.71666667]), 533.0), (array([0.1525    , 0.03166667, 0.095     ]), 600.0), (array([3.17      , 2.795     , 1.81666667]), 831.0), (array([ 3.8825    ,  3.57833333, 12.15333333]), 348.0), (array([5.63      , 9.55666667, 6.16      ]), 502.0), (array([0.525     , 2.71833333, 0.24      ]), 416.0), (array([3.7375    , 0.40666667, 1.88833333]), 330.0), (array([0.0075    , 0.34      , 0.29166667]), 244.0), (array([0.1125    , 0.        , 0.04166667]), 219.0), (array([0.        , 0.        , 0.04333333]), 216.5), (array([3.405, 1.72 , 0.01 ]), 214.0), (array([12.7025,  0.14  ,  0.605 ]), 161.0), (array([0., 0., 0.]), 185.0), (array([0., 0., 0.]), 197.5), (array([0., 0., 0.]), 210.0), (array([0., 0., 0.]), 107.0), (array([0., 0., 0.]), 55.0), (array([0., 0., 0.]), 78.0), (array([0., 0., 0.]), 77.0), (array([0., 0., 0.]), 26.0), (array([0., 0., 0.]), 38.5), (array([0., 0., 0.]), 51.0), (array([0., 0., 0.]), 230.0), (array([0., 0., 0.]), 94.0), (array([0., 0., 0.]), 88.0), (array([0., 0., 0.]), 57.0), (array([0., 0., 0.]), 35.0), (array([0., 0., 0.]), 59.5), (array([0., 0., 0.]), 84.0), (array([0., 0., 0.]), 58.0), (array([0., 0., 0.]), 60.0), (array([0., 0., 0.]), 60.0), (array([0., 0., 0.]), 22.0), (array([0., 0., 0.]), 134.0), (array([0., 0., 0.]), 128.5), (array([0., 0., 0.]), 123.0), (array([0., 0., 0.]), 98.0), (array([0., 0., 0.]), 104.0), (array([0., 0., 0.]), 80.0), (array([0., 0., 0.]), 80.0), (array([0., 0., 0.]), 62.0), (array([0., 0., 0.]), 61.5), (array([0., 0., 0.]), 61.0), (array([0., 0., 0.]), 63.0), (array([0., 0., 0.]), 51.0), (array([0., 0., 0.]), 38.0), (array([0., 0., 0.]), 27.0), (array([0., 0., 0.]), 24.0), (array([0., 0., 0.]), 24.0), (array([0., 0., 0.]), 24.0), (array([0., 0., 0.]), 17.0), (array([0., 0., 0.]), 15.0), (array([0., 0., 0.]), 15.0), (array([0., 0., 0.]), 16.0), (array([0., 0., 0.]), 17.0), (array([0., 0., 0.]), 17.5), (array([0., 0., 0.]), 18.0), (array([0., 0., 0.]), 17.0), (array([0., 0., 0.]), 14.0), (array([0., 0., 0.]), 13.0), (array([0., 0., 0.]), 13.0), (array([0., 0., 0.]), 13.0), (array([0., 0., 0.]), 16.0), (array([0., 0., 0.]), 19.0), (array([0., 0., 0.]), 11.0), (array([0., 0., 0.]), 11.0), (array([0., 0., 0.]), 12.0), (array([0., 0., 0.]), 12.0), (array([0., 0., 0.]), 19.0), (array([0., 0., 0.]), 8.0), (array([0., 0., 0.]), 8.5), (array([0., 0., 0.]), 9.0), (array([0., 0., 0.]), 38.0), (array([0., 0., 0.]), 126.0), (array([0., 0., 0.]), 126.0), (array([0., 0., 0.]), 140.0), (array([0., 0., 0.]), 136.0), (array([0., 0., 0.]), 136.5), (array([0., 0., 0.]), 137.0), (array([0., 0., 0.]), 119.0), (array([0., 0., 0.]), 123.0), (array([0., 0., 0.]), 123.0), (array([0., 0., 0.]), 118.0), (array([0., 0., 0.]), 124.0), (array([0., 0., 0.]), 121.5), (array([0., 0., 0.]), 119.0), (array([0., 0., 0.]), 102.0), (array([0., 0., 0.]), 113.0), (array([0., 0., 0.]), 124.0), (array([0., 0., 0.]), 153.0), (array([0., 0., 0.]), 135.0), (array([0., 0., 0.]), 132.33333333333334), (array([0., 0., 0.]), 129.66666666666666), (array([0., 0., 0.]), 127.0), (array([0., 0., 0.]), 103.0), (array([0., 0., 0.]), 128.0), (array([0., 0., 0.]), 119.0), (array([0., 0., 0.]), 103.0), (array([0., 0., 0.]), 111.0), (array([0., 0., 0.]), 87.0), (array([0., 0., 0.]), 103.0), (array([0., 0., 0.]), 95.0), (array([0., 0., 0.]), 87.0), (array([0., 0., 0.]), 111.0), (array([0., 0., 0.]), 95.0), (array([0., 0., 0.]), 87.0), (array([0., 0., 0.]), 79.0), (array([0., 0., 0.]), 103.0), (array([0., 0., 0.]), 71.0), (array([0., 0., 0.]), 63.0), (array([0., 0., 0.]), 88.0), (array([0., 0., 0.]), 64.0), (array([0., 0., 0.]), 64.0), (array([0., 0., 0.]), 64.0), (array([0., 0., 0.]), 72.0), (array([0., 0., 0.]), 64.0), (array([0., 0., 0.]), 56.0), (array([0., 0., 0.]), 80.0), (array([0., 0., 0.]), 56.0), (array([0., 0., 0.]), 56.0), (array([0., 0., 0.]), 56.0), (array([0., 0., 0.]), 64.0), (array([0., 0., 0.]), 64.0), (array([0., 0., 0.]), 56.0), (array([0., 0., 0.]), 56.0), (array([0., 0., 0.]), 56.0), (array([0., 0., 0.]), 48.5), (array([0., 0., 0.]), 41.0), (array([0., 0., 0.]), 49.0), (array([0., 0., 0.]), 41.0), (array([0., 0., 0.]), 65.0), (array([0., 0., 0.]), 41.0), (array([0., 0., 0.]), 41.0), (array([0., 0., 0.]), 41.0), (array([0., 0., 0.]), 41.0), (array([0., 0., 0.]), 33.0), (array([0., 0., 0.]), 33.0), (array([0., 0., 0.]), 42.0), (array([0., 0., 0.]), 34.0), (array([0., 0., 0.]), 50.0), (array([0., 0., 0.]), 46.0), (array([0., 0., 0.]), 42.0), (array([0., 0., 0.]), 42.0), (array([0., 0., 0.]), 27.0), (array([0., 0., 0.]), 26.0), (array([0., 0., 0.]), 27.0), (array([0., 0., 0.]), 18.0), (array([0., 0., 0.]), 18.0), (array([0., 0., 0.]), 18.0), (array([0., 0., 0.]), 18.0), (array([0., 0., 0.]), 18.0), (array([0., 0., 0.]), 28.0), (array([0., 0., 0.]), 20.0), (array([0., 0., 0.]), 28.0), (array([0., 0., 0.]), 24.0), (array([0., 0., 0.]), 20.0), (array([0., 0., 0.]), 20.0), (array([0., 0., 0.]), 12.0), (array([0., 0., 0.]), 12.0), (array([0., 0., 0.]), 12.0), (array([0., 0., 0.]), 12.0), (array([0., 0., 0.]), 8.0), (array([0., 0., 0.]), 4.0), (array([0., 0., 0.]), 20.0), (array([0., 0., 0.]), 20.0), (array([0., 0., 0.]), 28.0), (array([0., 0., 0.]), 12.0), (array([0., 0., 0.]), 12.0), (array([0., 0., 0.]), 16.5), (array([0., 0., 0.]), 21.0), (array([0., 0., 0.]), 5.0), (array([0., 0., 0.]), 21.0), (array([0., 0., 0.]), 51.0), (array([0., 0., 0.]), 13.0), (array([0., 0., 0.]), 37.0), (array([0., 0., 0.]), 33.0), (array([0., 0., 0.]), 29.0), (array([0., 0., 0.]), 54.0), (array([0., 0., 0.]), 45.0), (array([0., 0., 0.]), 69.0), (array([0., 0., 0.]), 45.0), (array([0., 0., 0.]), 37.0), (array([0., 0., 0.]), 29.0), (array([0., 0., 0.]), 21.0), (array([0., 0., 0.]), 21.0), (array([0., 0., 0.]), 21.0), (array([0., 0., 0.]), 21.0), (array([0., 0., 0.]), 37.0), (array([0., 0., 0.]), 21.0), (array([0., 0., 0.]), 17.0), (array([0., 0., 0.]), 13.0), (array([0., 0., 0.]), 37.0), (array([0., 0., 0.]), 13.0), (array([0., 0., 0.]), 99.0), (array([0., 0., 0.]), 227.0), (array([0., 0., 0.]), 195.0), (array([0., 0., 0.]), 119.0), (array([0., 0., 0.]), 43.0), (array([0., 0., 0.]), 51.0), (array([0., 0., 0.]), 470.0), (array([0., 0., 0.]), 329.0), (array([0., 0., 0.]), 129.0), (array([0., 0., 0.]), 99.0), (array([0., 0., 0.]), 75.0), (array([0., 0., 0.]), 51.0), (array([0., 0., 0.]), 0.0), (array([0., 0., 0.]), 29.0), (array([0., 0., 0.]), 37.0), (array([0., 0., 0.]), 29.0), (array([0., 0., 0.]), 29.0), (array([0., 0., 0.]), 25.0), (array([0., 0., 0.]), 21.0), (array([0., 0., 0.]), 13.0), (array([0., 0., 0.]), 21.0), (array([0., 0., 0.]), 21.0), (array([0., 0., 0.]), 21.0), (array([0., 0., 0.]), 13.0), (array([0., 0., 0.]), 13.0), (array([0., 0., 0.]), 13.0), (array([0., 0., 0.]), 45.0), (array([0., 0., 0.]), 21.0), (array([0., 0., 0.]), 41.0), (array([0., 0., 0.]), 61.0), (array([0., 0., 0.]), 13.0), (array([3.7725    , 5.19833333, 0.        ]), 68.0), (array([0., 0., 0.]), 76.0), (array([32.3825    , 22.63166667, 18.89666667]), 42.0), (array([0.5925    , 0.10833333, 0.10333333]), 33.0), (array([0.        , 0.        , 0.41666667]), 28.0), (array([1.2875, 0.7   , 0.135 ]), 29.0), (array([0.3875    , 0.39666667, 0.665     ]), 33.0), (array([0.3425    , 0.12666667, 0.585     ]), 26.5), (array([6.645     , 0.24333333, 5.57166667]), 20.0), (array([6.02      , 0.74666667, 6.02833333]), 11.0), (array([15.445     ,  1.75833333, 11.23      ]), 27.0), (array([16.395     ,  2.16166667,  5.99166667]), 75.0), (array([14.685     ,  6.09666667,  4.10666667]), 99.0), (array([8.4825    , 4.95333333, 2.755     ]), 83.0), (array([6.14      , 2.80166667, 2.78      ]), 111.0), (array([6.63      , 0.83666667, 1.205     ]), 139.0), (array([28.0625    ,  8.19333333,  8.30166667]), 284.0), (array([ 9.6       ,  8.125     , 13.90333333]), 750.0), (array([48.04      , 28.54666667, 39.65333333]), 1693.0), (array([77.21 , 26.615, 71.9  ]), 2293.0), (array([50.9725    , 25.80166667, 29.735     ]), 1885.0), (array([48.66      , 25.40166667, 24.03333333]), 1373.0), (array([18.4275    ,  6.23333333,  3.43666667]), 861.0), (array([5.905     , 5.625     , 0.22333333]), 673.0), (array([6.79      , 2.61      , 0.14333333]), 505.0), (array([3.68      , 0.79166667, 0.00666667]), 356.0), (array([0., 0., 0.]), 271.0), (array([0.15      , 0.        , 0.06333333]), 512.0), (array([0.89      , 0.31833333, 2.77666667]), 410.5), (array([13.61      ,  8.09      ,  1.27833333]), 309.0), (array([11.9325    ,  2.04666667,  9.19833333]), 414.0), (array([24.165     ,  6.13166667,  9.355     ]), 289.0), (array([2.3425    , 1.38166667, 0.06666667]), 251.0), (array([0.9225    , 1.39166667, 0.01      ]), 233.0), (array([3.67      , 5.15166667, 1.40666667]), 221.0), (array([15.575     ,  0.725     ,  5.42166667]), 282.0), (array([13.645     ,  0.75      ,  0.40166667]), 343.0), (array([10.1575    ,  5.27333333,  2.51333333]), 489.0), (array([6.975     , 2.28833333, 1.87166667]), 771.0), (array([32.2925    , 18.55333333,  8.44833333]), 1043.0), (array([34.8925    , 35.635     , 28.30333333]), 2156.0), (array([25.7025    , 25.36      , 16.49833333]), 8359.0), (array([105.5775    ,  71.67666667,  58.60666667]), 10301.0), (array([84.2275    , 32.26166667, 49.63      ]), 12243.0), (array([64.9475    , 41.40333333, 63.85666667]), 9191.0), (array([45.315     , 38.285     , 35.47666667]), 5689.0), (array([26.3225    , 26.7       , 26.42333333]), 3541.0), (array([15.085, 10.52 , 21.875]), 10064.0), (array([60.3175    , 37.56666667, 57.245     ]), 7344.0), (array([47.7375    , 33.08      , 35.29666667]), 7377.5), (array([32.095     , 30.09166667, 21.62833333]), 7411.0), (array([63.3225    , 47.60666667, 36.40333333]), 17825.0), (array([39.0925    , 43.285     , 32.80833333]), 7175.0), (array([70.74      , 52.415     , 45.90666667]), 4372.0), (array([32.4375    , 23.17166667, 17.225     ]), 8841.0), (array([27.43      , 25.03166667,  7.69166667]), 14939.0), (array([38.645     , 23.01333333,  6.26166667]), 11473.5), (array([28.7175    , 37.91166667,  7.58833333]), 8008.0), (array([13.66      , 25.51666667,  6.75666667]), 6215.0), (array([15.33      ,  9.36833333, 15.50333333]), 9973.0), (array([68.76      , 25.52666667, 50.47833333]), 10896.0), (array([105.13 ,  45.885,  62.15 ]), 9623.0), (array([56.78      , 41.05      , 25.89166667]), 12083.0), (array([52.535     , 26.70333333, 19.49833333]), 12973.0), (array([44.41      , 23.91333333, 13.57      ]), 13863.0), (array([84.3025, 30.78  , 36.05  ]), 12244.0), (array([90.115     , 47.06166667, 41.645     ]), 9580.0), (array([73.1675    , 38.685     , 38.65666667]), 3389.0), (array([20.6525    , 10.415     ,  9.97333333]), 4608.0), (array([32.82      ,  7.50333333, 12.52      ]), 6209.0), (array([18.5675,  5.66  ,  8.065 ]), 5405.5), (array([16.2225    ,  7.29833333,  2.13833333]), 4602.0), (array([34.6825    ,  9.48333333, 31.33      ]), 3098.0), (array([7.94      , 2.40833333, 2.255     ]), 2755.0), (array([10.4425    ,  3.72166667,  6.41666667]), 2373.0), (array([13.79      ,  1.29166667,  1.10333333]), 2738.0), (array([2.805     , 0.20833333, 0.12333333]), 2412.0), (array([1.815     , 0.04166667, 0.        ]), 2255.5), (array([4.15      , 0.13333333, 0.775     ]), 2099.0), (array([10.4       ,  5.36833333, 24.64166667]), 1545.0), (array([12.695     ,  7.90333333,  2.41833333]), 1494.0), (array([11.075     ,  2.99166667,  0.435     ]), 1494.0), (array([17.995     ,  6.17166667,  0.565     ]), 1128.0), (array([30.015     , 11.27666667,  6.525     ]), 939.0), (array([6.05      , 0.52166667, 5.30166667]), 783.5), (array([7.175     , 3.925     , 3.37666667]), 628.0), (array([7.575     , 1.57333333, 2.61833333]), 958.0), (array([0.465     , 1.18333333, 5.66333333]), 2237.0), (array([11.5275, 14.25  ,  6.825 ]), 3295.0), (array([22.15      , 13.00333333,  7.105     ]), 1927.0), (array([28.4775, 20.465 , 22.81  ]), 6841.0), (array([68.625     , 36.46166667, 30.33666667]), 6133.5), (array([48.2075    , 24.91833333, 31.18166667]), 5426.0), (array([50.1275, 21.75  , 45.635 ]), 4562.0), (array([14.1375    ,  2.455     , 12.24166667]), 5229.0), (array([51.86, 22.78, 12.75]), 4603.0), (array([17.53      ,  9.00333333, 16.11166667]), 5136.0), (array([15.125     , 11.62833333,  5.41666667]), 7221.0), (array([49.8725, 32.055 , 20.225 ]), 5506.5), (array([6.42      , 5.76166667, 1.45      ]), 3792.0), (array([18.4225    ,  4.77166667,  7.92      ]), 3083.0), (array([7.795, 7.685, 4.21 ]), 2935.0), (array([12.9625,  3.575 , 11.46  ]), 2597.0), (array([1.7325    , 5.48833333, 1.08333333]), 2604.0), (array([12.165     ,  0.21666667,  0.12833333]), 3006.0), (array([14.005     ,  2.05666667,  3.96833333]), 2722.5), (array([27.615     ,  5.825     ,  8.80166667]), 2439.0), (array([12.055     ,  3.69666667,  0.945     ]), 1951.0), (array([12.39      ,  2.37166667,  5.01666667]), 2164.0), (array([0.285     , 0.22333333, 0.77833333]), 2037.0), (array([8.835     , 1.12166667, 2.39666667]), 1777.0), (array([8.44      , 3.26166667, 3.255     ]), 1550.0), (array([5.4025    , 0.745     , 1.24166667]), 1687.5), (array([1.8175    , 1.18      , 0.05166667]), 1825.0), (array([35.63      , 15.06166667, 62.59      ]), 1895.0), (array([ 7.465     , 14.76833333, 28.09      ]), 1403.0), (array([ 1.2875    , 17.16833333,  2.395     ]), 1502.0), (array([ 5.2625    , 12.24166667,  1.26333333]), 1067.0), (array([9.6925    , 6.365     , 7.40166667]), 1155.0), (array([0.935     , 3.92666667, 0.045     ]), 896.5), (array([ 4.705     , 26.34166667,  9.13333333]), 638.0), (array([14.72      ,  1.94666667,  6.29833333]), 1695.0), (array([3.8175    , 1.20666667, 0.165     ]), 958.0), (array([2.7275    , 0.08333333, 0.25833333]), 353.0), (array([0.79      , 0.29833333, 0.        ]), 353.0), (array([4.5075    , 4.26833333, 3.04833333]), 578.0), (array([2.5125    , 1.92833333, 4.09      ]), 486.0), (array([17.5625,  5.415 , 46.165 ]), 394.0), (array([18.7225    ,  4.49666667,  1.93833333]), 120.0), (array([1.9175    , 3.65333333, 3.76166667]), 169.0), (array([ 0.55      ,  1.22333333, 14.19      ]), 611.0), (array([1.245     , 2.615     , 9.95333333]), 1521.0), (array([11.3075    , 10.12      ,  3.10333333]), 831.0), (array([6.7875    , 4.87333333, 0.61166667]), 501.5), (array([1.675     , 0.61      , 3.92333333]), 172.0), (array([0., 0., 0.]), 11.0), (array([0.0775    , 0.        , 0.00166667]), 124.0), (array([6.265, 1.04 , 3.06 ]), 46.0), (array([0.22 , 0.085, 0.03 ]), 57.0), (array([17.1975    ,  3.39666667,  4.38333333]), 187.0), (array([6.7075    , 2.03833333, 1.075     ]), 265.0), (array([4.2325    , 7.99333333, 1.64      ]), 343.0), (array([6.45      , 5.355     , 0.81666667]), 271.0), (array([0.4875    , 0.73666667, 0.46833333]), 323.0), (array([0.        , 0.13166667, 0.        ]), 409.0), (array([ 3.5525    , 10.70166667,  1.97833333]), 621.0), (array([15.4975    ,  1.725     ,  4.73166667]), 325.0), (array([ 7.6175    , 14.29      , 13.63166667]), 363.0), (array([0.41 , 0.15 , 0.705]), 401.0), (array([6.255     , 4.67333333, 9.77666667]), 143.0), (array([4.8425    , 1.91666667, 5.475     ]), 40.0), (array([0.075     , 0.03333333, 0.01666667]), 37.0), (array([0.        , 0.04333333, 0.08666667]), 37.0), (array([0., 0., 0.]), 67.0), (array([0., 0., 0.]), 107.5), (array([0., 0., 0.]), 148.0), (array([0., 0., 0.]), 85.0), (array([0., 0., 0.]), 63.0), (array([0., 0., 0.]), 133.0), (array([0., 0., 0.]), 71.0), (array([0., 0., 0.]), 575.0), (array([0., 0., 0.]), 528.5), (array([0., 0., 0.]), 482.0), (array([0., 0., 0.]), 655.0), (array([0., 0., 0.]), 578.0), (array([0., 0., 0.]), 758.0), (array([0., 0., 0.]), 405.0), (array([0., 0., 0.]), 571.0), (array([0., 0., 0.]), 540.5), (array([0., 0., 0.]), 510.0), (array([0., 0., 0.]), 507.0), (array([0., 0., 0.]), 511.0), (array([0., 0., 0.]), 485.0), (array([0., 0., 0.]), 631.0), (array([0., 0., 0.]), 1065.0), (array([0., 0., 0.]), 1041.0), (array([0., 0., 0.]), 1017.0), (array([0., 0., 0.]), 987.0), (array([0., 0., 0.]), 987.0), (array([0., 0., 0.]), 987.0), (array([0., 0., 0.]), 963.0), (array([0., 0., 0.]), 956.0), (array([0., 0., 0.]), 767.5), (array([0., 0., 0.]), 579.0), (array([0., 0., 0.]), 361.0), (array([0., 0., 0.]), 340.0), (array([0., 0., 0.]), 310.0), (array([0., 0., 0.]), 268.0), (array([0., 0., 0.]), 237.0), (array([0., 0., 0.]), 221.0), (array([0., 0., 0.]), 205.0), (array([0., 0., 0.]), 71.0), (array([0., 0., 0.]), 330.0), (array([0., 0., 0.]), 372.0), (array([0., 0., 0.]), 415.0), (array([0., 0., 0.]), 367.0), (array([0., 0., 0.]), 241.0), (array([0., 0., 0.]), 115.0), (array([0., 0., 0.]), 14.0), (array([0., 0., 0.]), 230.0), (array([0., 0., 0.]), 386.0), (array([0., 0., 0.]), 197.0), (array([0., 0., 0.]), 133.0), (array([0., 0., 0.]), 154.0), (array([0., 0., 0.]), 175.0), (array([0., 0., 0.]), 226.0), (array([0., 0., 0.]), 205.0), (array([0., 0., 0.]), 221.0), (array([0., 0., 0.]), 200.0), (array([0., 0., 0.]), 50.0), (array([0., 0., 0.]), 72.0), (array([0., 0., 0.]), 514.0), (array([0., 0., 0.]), 956.0), (array([0., 0., 0.]), 168.0), (array([0., 0., 0.]), 160.0), (array([0., 0., 0.]), 148.0), (array([0., 0., 0.]), 152.0), (array([0., 0., 0.]), 136.0), (array([0., 0., 0.]), 113.5), (array([0., 0., 0.]), 91.0), (array([0., 0., 0.]), 120.0), (array([0., 0., 0.]), 124.0), (array([0., 0., 0.]), 116.0), (array([0., 0., 0.]), 103.0), (array([0., 0., 0.]), 100.0), (array([0., 0., 0.]), 95.5), (array([0., 0., 0.]), 91.0), (array([0., 0., 0.]), 96.0), (array([0., 0., 0.]), 96.0), (array([0., 0., 0.]), 96.0), (array([0., 0., 0.]), 84.0), (array([0., 0., 0.]), 92.0), (array([0., 0., 0.]), 94.0), (array([0., 0., 0.]), 96.0), (array([0., 0., 0.]), 101.0), (array([0., 0., 0.]), 88.0), (array([0., 0., 0.]), 72.0), (array([0., 0., 0.]), 76.0), (array([0., 0., 0.]), 72.0), (array([0., 0., 0.]), 82.0), (array([0., 0., 0.]), 92.0), (array([0., 0., 0.]), 86.0), (array([0., 0., 0.]), 92.0), (array([0., 0., 0.]), 75.0), (array([0., 0., 0.]), 86.0), (array([0., 0., 0.]), 75.0), (array([0., 0., 0.]), 66.5), (array([0., 0., 0.]), 58.0), (array([0., 0., 0.]), 64.0), (array([0., 0., 0.]), 64.0), (array([0., 0., 0.]), 58.0), (array([0., 0., 0.]), 75.0), (array([0., 0., 0.]), 58.0), (array([0., 0., 0.]), 52.5), (array([0., 0., 0.]), 47.0), (array([0., 0., 0.]), 53.0), (array([0., 0., 0.]), 43.0), (array([0., 0., 0.]), 60.0), (array([0., 0., 0.]), 48.0), (array([0., 0., 0.]), 37.0), (array([0., 0., 0.]), 40.0), (array([0., 0., 0.]), 43.0), (array([0., 0., 0.]), 54.0), (array([0., 0., 0.]), 43.0), (array([0., 0., 0.]), 37.0), (array([0., 0., 0.]), 26.0), (array([0., 0., 0.]), 26.0), (array([0., 0., 0.]), 26.0), (array([0., 0., 0.]), 26.0), (array([0., 0., 0.]), 32.0), (array([0., 0., 0.]), 26.0), (array([0., 0., 0.]), 26.0), (array([0., 0., 0.]), 31.0), (array([0., 0., 0.]), 45.0), (array([0., 0., 0.]), 33.0), (array([0., 0., 0.]), 21.0), (array([0., 0., 0.]), 21.0), (array([0., 0., 0.]), 21.0), (array([0., 0., 0.]), 38.0), (array([0., 0., 0.]), 96.0), (array([0., 0., 0.]), 78.0), (array([0., 0., 0.]), 55.5), (array([0., 0., 0.]), 33.0), (array([0., 0., 0.]), 27.0), (array([0., 0., 0.]), 27.0), (array([0., 0., 0.]), 38.0), (array([0., 0., 0.]), 38.0), (array([0., 0., 0.]), 39.0), (array([0., 0., 0.]), 30.5), (array([0., 0., 0.]), 22.0), (array([0., 0., 0.]), 28.0), (array([0., 0., 0.]), 28.0), (array([0., 0., 0.]), 17.0), (array([0., 0., 0.]), 11.0), (array([0., 0., 0.]), 11.0), (array([0., 0., 0.]), 13.5), (array([0., 0., 0.]), 16.0), (array([0., 0., 0.]), 22.0), (array([0., 0., 0.]), 28.0), (array([0., 0., 0.]), 11.0), (array([0., 0., 0.]), 11.0), (array([0., 0., 0.]), 11.0), (array([0., 0., 0.]), 28.0), (array([0., 0., 0.]), 45.0), (array([0., 0., 0.]), 52.0), (array([0., 0., 0.]), 40.0), (array([0., 0., 0.]), 52.0), (array([0., 0., 0.]), 41.0), (array([0., 0., 0.]), 58.0), (array([0., 0., 0.]), 54.0), (array([0., 0., 0.]), 50.0), (array([0., 0., 0.]), 56.0), (array([0., 0., 0.]), 85.0), (array([0., 0., 0.]), 74.0), (array([0., 0., 0.]), 74.0), (array([0., 0., 0.]), 91.0), (array([0., 0., 0.]), 74.0), (array([0., 0., 0.]), 57.0), (array([0., 0., 0.]), 35.0), (array([0., 0., 0.]), 41.0), (array([0., 0., 0.]), 24.0), (array([0., 0., 0.]), 30.0), (array([0., 0., 0.]), 35.0), (array([0., 0., 0.]), 38.5), (array([0., 0., 0.]), 42.0), (array([0., 0., 0.]), 80.0), (array([0., 0., 0.]), 76.0), (array([0., 0., 0.]), 76.0), (array([0., 0., 0.]), 98.0), (array([0., 0., 0.]), 82.0), (array([0., 0., 0.]), 65.0), (array([0., 0., 0.]), 48.0), (array([0., 0., 0.]), 60.0), (array([0., 0., 0.]), 71.0), (array([0., 0., 0.]), 83.0), (array([0., 0., 0.]), 40.0), (array([0., 0., 0.]), 48.0), (array([0., 0., 0.]), 48.0), (array([0., 0., 0.]), 48.0), (array([0., 0., 0.]), 66.0), (array([0., 0., 0.]), 77.0), (array([0., 0., 0.]), 60.0), (array([0., 0., 0.]), 83.0), (array([0., 0., 0.]), 83.0), (array([0., 0., 0.]), 99.0), (array([0., 0., 0.]), 115.0), (array([0., 0., 0.]), 164.0), (array([0., 0., 0.]), 176.0), (array([0., 0., 0.]), 185.0), (array([0., 0., 0.]), 820.0), (array([0., 0., 0.]), 154.0), (array([0., 0., 0.]), 118.5), (array([0., 0., 0.]), 83.0), (array([0., 0., 0.]), 66.0), (array([0., 0., 0.]), 51.0), (array([0., 0., 0.]), 51.0), (array([0., 0., 0.]), 43.0), (array([0., 0., 0.]), 36.0), (array([0., 0., 0.]), 40.333333333333336), (array([0., 0., 0.]), 44.666666666666664), (array([0., 0., 0.]), 49.0), (array([0., 0., 0.]), 105.0), (array([0., 0., 0.]), 243.0), (array([0., 0., 0.]), 100.0), (array([0., 0., 0.]), 59.0), (array([ 6.335     , 21.65166667,  0.        ]), 77.0), (array([0.98      , 0.26333333, 0.16166667]), 101.0), (array([14.565     ,  3.36333333, 31.87666667]), 115.0), (array([12.19      ,  4.52333333,  6.345     ]), 188.0), (array([35.7575    , 18.62833333, 16.17666667]), 124.0), (array([ 2.5775, 10.91  ,  1.35  ]), 84.0), (array([0.        , 1.63666667, 0.01166667]), 70.0), (array([3.88      , 1.13166667, 7.50166667]), 94.0), (array([4.7025    , 0.575     , 2.49833333]), 118.0), (array([12.925     ,  6.82833333,  5.40166667]), 110.0), (array([0.0925, 0.    , 0.    ]), 119.0), (array([9.6675    , 0.79833333, 0.92833333]), 151.0), (array([12.05      ,  4.07333333,  2.98      ]), 236.0), (array([17.685     , 10.62666667, 11.52      ]), 285.0), (array([6.3675    , 1.16166667, 6.76666667]), 332.0), (array([14.2325    , 12.965     ,  5.85666667]), 379.0), (array([15.7975    ,  8.19      ,  8.48166667]), 464.0), (array([14.09      ,  9.92666667, 12.87      ]), 2362.0), (array([32.34      , 24.99833333, 17.65333333]), 2399.0), (array([97.285     , 82.92      , 70.41333333]), 2654.0), (array([95.9175    , 71.12666667, 74.21833333]), 2556.0), (array([100.4325    ,  61.06666667, 105.13833333]), 2446.5), (array([ 75.6375    ,  41.89333333, 108.35166667]), 2337.0), (array([92.3675    , 35.24333333, 83.28166667]), 1811.0), (array([78.2925    , 31.24166667, 62.46      ]), 3905.0), (array([122.035     ,  97.98666667,  84.455     ]), 1809.0), (array([79.835     , 21.81166667, 61.29833333]), 1292.0), (array([14.3725,  2.8   ,  2.64  ]), 1184.0), (array([7.16      , 4.02833333, 0.35833333]), 951.0), (array([14.705     ,  3.59166667,  5.33833333]), 718.0), (array([1.61      , 1.315     , 0.10166667]), 670.0), (array([6.15      , 1.78833333, 0.27333333]), 694.0), (array([6.1375    , 3.29833333, 4.935     ]), 682.0), (array([11.4475    ,  1.74333333,  2.93      ]), 658.0), (array([13.4925    ,  1.09666667,  0.85333333]), 610.0), (array([5.8575    , 1.26833333, 0.33      ]), 888.0), (array([1.4175    , 1.585     , 0.15166667]), 1166.0), (array([ 9.9225    , 29.235     ,  0.79833333]), 1805.0), (array([42.9925    , 14.47833333,  9.05166667]), 5262.0), (array([20.9625    , 10.56833333,  3.44833333]), 5133.0), (array([42.3575    , 15.73666667,  3.785     ]), 4000.0), (array([24.58      , 14.61333333,  2.76333333]), 2867.0), (array([10.0325    ,  1.44333333,  3.485     ]), 2648.0), (array([6.6825    , 1.375     , 0.29333333]), 2429.0), (array([23.9375    ,  4.69166667,  6.24333333]), 2661.0), (array([9.37      , 4.85666667, 3.49333333]), 7082.0), (array([27.76      , 17.97      ,  3.69833333]), 10253.0), (array([67.6725    , 30.25333333, 28.48666667]), 9253.0), (array([41.7075    , 27.99333333, 14.76      ]), 5281.0), (array([62.28      , 34.8       , 24.06833333]), 4790.5), (array([35.5625    , 15.28      ,  4.54833333]), 4300.0), (array([14.4675    ,  8.88333333,  3.355     ]), 2684.0), (array([26.185     ,  6.50333333, 14.95166667]), 1167.0), (array([16.1375    ,  6.40333333, 12.10833333]), 2486.0), (array([9.4825    , 2.22333333, 4.40833333]), 2234.0), (array([14.84      , 11.69833333,  8.90833333]), 2338.0), (array([19.4475    ,  8.00166667,  5.01      ]), 1750.0), (array([19.38      , 10.92      ,  5.15333333]), 1162.0), (array([1.4225    , 1.32666667, 0.16333333]), 998.0), (array([0.0325    , 0.00666667, 0.00666667]), 1618.0), (array([5.8525    , 2.06166667, 0.48166667]), 1652.0), (array([4.555     , 1.98666667, 3.20833333]), 1276.0), (array([10.1425    ,  8.45833333,  1.23      ]), 1942.0), (array([7.655     , 0.77      , 0.05333333]), 2192.5), (array([30.25      ,  9.605     ,  5.09166667]), 2443.0), (array([24.9375,  7.76  ,  6.465 ]), 4369.0), (array([41.455     , 20.97166667, 11.50333333]), 5813.0), (array([33.925     , 29.45333333,  7.97      ]), 3392.0), (array([27.615     , 22.01166667,  6.12833333]), 2497.0), (array([22.415     ,  6.97166667,  3.13333333]), 2745.0), (array([25.9       , 11.76833333, 11.905     ]), 4043.5), (array([25.645     , 10.34833333,  6.03333333]), 5342.0), (array([21.585     , 14.21166667,  7.62833333]), 3448.0), (array([34.29, 18.45,  8.05]), 5663.0), (array([15.65      , 15.015     ,  2.22833333]), 4586.0), (array([11.8625    ,  2.405     ,  1.29166667]), 3229.0), (array([20.825,  1.905,  9.23 ]), 2542.0), (array([5.        , 1.10833333, 1.29833333]), 2547.5), (array([ 4.2475    , 13.64333333, 13.63833333]), 2553.0), (array([13.34      , 19.94833333,  4.91333333]), 2075.0), (array([0.465     , 3.16666667, 0.11166667]), 1287.0), (array([1.8225    , 2.325     , 0.19333333]), 1200.0), (array([ 9.295     , 15.59      , 10.83666667]), 1382.0), (array([16.0425    , 16.54666667,  9.61333333]), 750.0), (array([13.175     ,  1.58333333,  7.43      ]), 776.0), (array([7.99      , 1.42      , 2.48666667]), 802.0), (array([4.535, 0.81 , 1.325]), 2100.0), (array([12.2775    ,  4.60333333,  0.66      ]), 612.0), (array([9.4475    , 3.96833333, 3.24166667]), 2250.0), (array([0.195     , 0.17166667, 0.01333333]), 2125.0), (array([3.0425    , 1.57166667, 1.97666667]), 2476.0), (array([1.7225    , 1.54333333, 1.47333333]), 2216.0), (array([1.88      , 0.16166667, 0.62166667]), 1956.0), (array([0.335     , 0.26833333, 0.97833333]), 951.0), (array([0.4475    , 0.        , 7.14166667]), 1197.0), (array([5.1275    , 0.60333333, 0.06166667]), 1455.0), (array([2.895     , 2.22333333, 0.04666667]), 2639.0), (array([22.895     , 12.09      , 21.78666667]), 2217.0), (array([ 8.5925    , 10.01166667,  8.885     ]), 2719.5), (array([74.21      , 27.37333333, 26.685     ]), 3222.0), (array([2.5975    , 1.83666667, 5.81833333]), 1194.0), (array([4.585     , 2.91833333, 5.21      ]), 1066.0), (array([7.24      , 8.27833333, 9.65333333]), 916.0), (array([1.3625, 0.45  , 1.895 ]), 1052.0), (array([0.8175    , 0.06166667, 1.68166667]), 802.0), (array([2.525     , 0.785     , 0.82166667]), 920.5), (array([1.055, 1.82 , 1.21 ]), 1039.0), (array([23.97      ,  9.555     ,  7.59166667]), 1039.0), (array([10.4       ,  2.71      ,  3.34333333]), 885.0), (array([0.115     , 0.125     , 0.11333333]), 2494.0), (array([13.0725    ,  5.11      ,  4.10666667]), 686.0), (array([ 5.9225,  1.215 , 10.93  ]), 384.0), (array([3.6675    , 2.96666667, 3.30166667]), 570.0), (array([0.3675, 0.47  , 0.305 ]), 756.0), (array([0.015     , 0.09833333, 0.04666667]), 537.0), (array([4.3825    , 1.66333333, 2.09833333]), 3505.0), (array([13.2025    , 11.82166667, 26.51166667]), 1400.0), (array([2.2875    , 1.72833333, 0.08166667]), 1500.0), (array([2.1575    , 0.365     , 0.13166667]), 1114.0), (array([28.8175    , 26.04166667, 19.89666667]), 925.5), (array([17.5275    ,  2.61166667, 18.12166667]), 737.0), (array([23.7725    , 23.88833333, 12.905     ]), 1080.0), (array([21.15      ,  2.16166667,  4.585     ]), 1538.0), (array([5.655     , 8.19      , 6.87833333]), 1676.0), (array([1.56      , 1.80333333, 5.39166667]), 1887.0), (array([ 9.3       ,  3.54166667, 10.84833333]), 1995.0), (array([21.6975    , 14.90833333,  3.23166667]), 1881.0), (array([15.745,  6.4  , 30.355]), 1767.0), (array([9.065     , 2.585     , 7.20333333]), 1312.0), (array([ 8.4675    ,  1.38666667, 11.56666667]), 1574.0), (array([20.305     ,  5.655     , 11.32833333]), 1663.0), (array([5.495     , 1.96666667, 4.37166667]), 1710.0), (array([4.065     , 2.43666667, 2.16166667]), 1773.0), (array([6.435     , 8.61666667, 2.19      ]), 1646.5), (array([4.685     , 0.26      , 0.64333333]), 1520.0), (array([2.72      , 0.47333333, 0.01166667]), 1514.0), (array([0.0975, 0.    , 0.03  ]), 1371.0), (array([0.  , 0.  , 0.03]), 1466.0), (array([0.0975    , 0.07833333, 2.62      ]), 1434.0), (array([0.105     , 0.53666667, 0.00166667]), 1231.0), (array([0.005     , 0.05333333, 0.        ]), 1241.0), (array([0.0975    , 0.00833333, 0.        ]), 1251.0), (array([4.8325, 0.39  , 0.    ]), 1233.0), (array([0.81, 1.03, 0.  ]), 1245.0), (array([0.105     , 0.        , 0.05666667]), 923.0), (array([0.0325    , 0.02166667, 0.04      ]), 707.0), (array([0.04      , 0.01666667, 0.        ]), 492.0), (array([0.0975, 0.    , 0.    ]), 450.0), (array([0., 0., 0.]), 408.0), (array([ 9.8925    ,  0.09833333, 10.715     ]), 606.0), (array([19.9225    , 24.83166667,  3.73333333]), 494.0), (array([12.7025    ,  2.80666667,  0.815     ]), 531.0), (array([11.4925,  0.695 , 12.9   ]), 692.0), (array([0., 0., 0.]), 218.0), (array([0., 0., 0.]), 138.5), (array([0., 0., 0.]), 59.0), (array([0., 0., 0.]), 151.0), (array([0., 0., 0.]), 88.0), (array([0., 0., 0.]), 493.0), (array([0., 0., 0.]), 357.0), (array([0., 0., 0.]), 557.0), (array([0., 0., 0.]), 507.0), (array([0., 0., 0.]), 457.0), (array([0., 0., 0.]), 80.0), (array([0., 0., 0.]), 140.0), (array([0., 0., 0.]), 232.0), (array([0., 0., 0.]), 266.0), (array([0., 0., 0.]), 145.0), (array([0., 0., 0.]), 102.0), (array([0., 0., 0.]), 59.0), (array([0., 0., 0.]), 195.0), (array([0., 0., 0.]), 241.0), (array([0., 0., 0.]), 452.0), (array([0., 0., 0.]), 214.0), (array([0., 0., 0.]), 254.0), (array([0., 0., 0.]), 228.5), (array([0., 0., 0.]), 203.0), (array([0., 0., 0.]), 306.0), (array([0., 0., 0.]), 144.0), (array([0., 0., 0.]), 174.0), (array([0., 0., 0.]), 224.0), (array([0., 0., 0.]), 273.0), (array([0., 0., 0.]), 260.0), (array([0., 0., 0.]), 247.0), (array([0., 0., 0.]), 268.0), (array([0., 0., 0.]), 284.0), (array([0., 0., 0.]), 296.0), (array([0., 0., 0.]), 298.0), (array([0., 0., 0.]), 310.0), (array([0., 0., 0.]), 202.0), (array([0., 0., 0.]), 94.0), (array([0., 0., 0.]), 94.0), (array([0., 0., 0.]), 269.0), (array([0., 0., 0.]), 272.0), (array([0., 0., 0.]), 284.0), (array([0., 0., 0.]), 281.0), (array([0., 0., 0.]), 285.0), (array([0., 0., 0.]), 289.0), (array([0., 0., 0.]), 280.0), (array([0., 0., 0.]), 277.0), (array([0., 0., 0.]), 280.0), (array([0., 0., 0.]), 283.0), (array([0., 0., 0.]), 101.0), (array([0., 0., 0.]), 125.0), (array([0., 0., 0.]), 149.0), (array([0., 0., 0.]), 163.0), (array([0., 0., 0.]), 155.0), (array([0., 0., 0.]), 155.0), (array([0., 0., 0.]), 163.0), (array([0., 0., 0.]), 122.0), (array([0., 0., 0.]), 130.0), (array([0., 0., 0.]), 108.5), (array([0., 0., 0.]), 87.0), (array([0., 0., 0.]), 125.0), (array([0., 0., 0.]), 104.0), (array([0., 0., 0.]), 100.0), (array([0., 0., 0.]), 92.0), (array([0., 0., 0.]), 92.0), (array([0., 0., 0.]), 92.0), (array([0., 0., 0.]), 92.0), (array([0., 0., 0.]), 96.0), (array([0., 0., 0.]), 92.0), (array([0., 0., 0.]), 80.0), (array([0., 0., 0.]), 76.0), (array([0., 0., 0.]), 80.0), (array([0., 0., 0.]), 78.5), (array([0., 0., 0.]), 77.0), (array([0., 0., 0.]), 72.0), (array([0., 0., 0.]), 62.0), (array([0., 0., 0.]), 70.0), (array([0., 0., 0.]), 71.0), (array([0., 0., 0.]), 63.0), (array([0., 0., 0.]), 77.5), (array([0., 0., 0.]), 92.0), (array([0., 0., 0.]), 92.0), (array([0., 0., 0.]), 84.0), (array([0., 0., 0.]), 88.0), (array([0., 0., 0.]), 84.0), (array([0., 0., 0.]), 80.0), (array([0., 0., 0.]), 73.5), (array([0., 0., 0.]), 67.0), (array([0., 0., 0.]), 80.0), (array([0., 0., 0.]), 64.0), (array([0., 0., 0.]), 68.0), (array([0., 0., 0.]), 52.0), (array([0., 0., 0.]), 57.0), (array([0., 0., 0.]), 65.5), (array([0., 0., 0.]), 74.0), (array([0., 0., 0.]), 41.0), (array([0., 0., 0.]), 62.0), (array([0., 0., 0.]), 54.0), (array([0., 0., 0.]), 58.0), (array([0., 0., 0.]), 58.0), (array([0., 0., 0.]), 56.0), (array([0., 0., 0.]), 54.0), (array([0., 0., 0.]), 50.0), (array([0., 0., 0.]), 67.0), (array([0., 0., 0.]), 60.0), (array([0., 0., 0.]), 66.0), (array([0., 0., 0.]), 49.0), (array([0., 0., 0.]), 49.0), (array([0., 0., 0.]), 49.0), (array([0., 0., 0.]), 49.0), (array([0., 0., 0.]), 43.0), (array([0., 0., 0.]), 49.0), (array([0., 0., 0.]), 37.0), (array([0., 0., 0.]), 50.0), (array([0., 0., 0.]), 52.5), (array([0., 0., 0.]), 55.0), (array([0., 0., 0.]), 27.0), (array([0., 0., 0.]), 32.0), (array([0., 0., 0.]), 41.0), (array([0., 0., 0.]), 50.0), (array([0., 0., 0.]), 50.0), (array([0., 0., 0.]), 16.0), (array([0., 0., 0.]), 15.0), (array([0., 0., 0.]), 15.0), (array([0., 0., 0.]), 15.0), (array([0., 0., 0.]), 15.0), (array([0., 0., 0.]), 15.0), (array([0., 0., 0.]), 17.0), (array([0., 0., 0.]), 17.0), (array([0., 0., 0.]), 17.0), (array([0., 0., 0.]), 17.0), (array([0., 0., 0.]), 17.0), (array([0., 0., 0.]), 17.0), (array([0., 0., 0.]), 11.0), (array([0., 0., 0.]), 11.0), (array([0., 0., 0.]), 11.0), (array([0., 0., 0.]), 14.0), (array([0., 0., 0.]), 17.0), (array([0., 0., 0.]), 12.0), (array([0., 0., 0.]), 12.0), (array([0., 0., 0.]), 18.0), (array([0., 0., 0.]), 12.0), (array([0., 0., 0.]), 12.0), (array([0., 0., 0.]), 12.0), (array([0., 0., 0.]), 12.0), (array([0., 0., 0.]), 12.0), (array([0., 0., 0.]), 12.0), (array([0., 0., 0.]), 18.0), (array([0., 0., 0.]), 12.0), (array([0., 0., 0.]), 12.0), (array([0., 0., 0.]), 12.0), (array([0., 0., 0.]), 12.0), (array([0., 0., 0.]), 13.0), (array([0., 0., 0.]), 13.0), (array([0., 0., 0.]), 13.0), (array([0., 0., 0.]), 13.0), (array([0., 0., 0.]), 13.0), (array([0., 0., 0.]), 13.0), (array([0., 0., 0.]), 13.0), (array([0., 0., 0.]), 13.0), (array([0., 0., 0.]), 13.0), (array([0., 0., 0.]), 13.0), (array([0., 0., 0.]), 13.0), (array([0., 0., 0.]), 13.0), (array([0., 0., 0.]), 16.0), (array([0., 0., 0.]), 19.0), (array([0., 0., 0.]), 13.0), (array([0., 0., 0.]), 13.0), (array([0., 0., 0.]), 13.0), (array([0., 0., 0.]), 13.0), (array([0., 0., 0.]), 13.0), (array([0., 0., 0.]), 13.0), (array([0., 0., 0.]), 13.0), (array([0., 0., 0.]), 13.0), (array([0., 0., 0.]), 13.0), (array([0., 0., 0.]), 19.0), (array([0., 0., 0.]), 13.0), (array([0., 0., 0.]), 13.0), (array([0., 0., 0.]), 10.5), (array([0., 0., 0.]), 8.0), (array([0., 0., 0.]), 8.0), (array([0., 0., 0.]), 3.0), (array([0., 0., 0.]), 3.0), (array([0., 0., 0.]), 20.0), (array([0., 0., 0.]), 20.0), (array([0., 0., 0.]), 17.0), (array([0., 0., 0.]), 14.0), (array([0., 0., 0.]), 14.0), (array([0., 0., 0.]), 25.0), (array([0., 0., 0.]), 8.0), (array([0., 0., 0.]), 31.0), (array([0., 0., 0.]), 25.0), (array([0., 0., 0.]), 31.0), (array([0., 0., 0.]), 37.0), (array([0., 0., 0.]), 25.0), (array([0., 0., 0.]), 53.0), (array([0., 0., 0.]), 26.0), (array([0., 0., 0.]), 31.0), (array([0., 0., 0.]), 26.0), (array([0., 0., 0.]), 23.0), (array([0., 0., 0.]), 20.0), (array([0., 0., 0.]), 26.0), (array([0., 0., 0.]), 20.0), (array([0., 0., 0.]), 14.0), (array([0., 0., 0.]), 14.0), (array([0., 0., 0.]), 20.0), (array([0., 0., 0.]), 17.0), (array([0., 0., 0.]), 14.0), (array([0., 0., 0.]), 20.0), (array([0., 0., 0.]), 176.0), (array([0., 0., 0.]), 73.0), (array([0., 0., 0.]), 98.0), (array([0., 0., 0.]), 179.0), (array([3.39      , 2.02333333, 0.        ]), 116.0), (array([2.3225    , 1.56666667, 8.845     ]), 53.0), (array([5.8675    , 9.64833333, 7.37833333]), 20.0), (array([1.35      , 1.84      , 0.40166667]), 31.0), (array([2.8025    , 1.52833333, 1.81833333]), 106.0), (array([8.2525    , 8.12666667, 6.27666667]), 163.0), (array([2.02      , 0.51833333, 5.59666667]), 125.0), (array([4.6975    , 5.14833333, 4.41666667]), 199.5), (array([45.495     , 28.48333333, 34.08333333]), 274.0), (array([36.8875    , 11.23833333, 20.70333333]), 441.0), (array([24.08      , 14.17      , 20.68333333]), 258.0), (array([6.655     , 6.05833333, 3.37333333]), 390.0), (array([21.9775,  6.77  , 12.015 ]), 334.0), (array([14.3775    ,  8.77166667, 10.66333333]), 193.0), (array([5.075     , 0.95833333, 2.87166667]), 459.5), (array([3.7575    , 2.72833333, 2.525     ]), 726.0), (array([21.55      ,  3.54166667,  6.01      ]), 723.0), (array([11.71      ,  1.9       ,  0.39833333]), 800.0), (array([32.765     ,  5.99      ,  9.10333333]), 586.0), (array([13.15      ,  2.09      ,  2.96833333]), 739.0), (array([11.8175    ,  4.08333333,  6.00666667]), 867.0), (array([12.555     ,  6.05666667,  3.545     ]), 1103.0), (array([43.1875    , 11.05166667, 17.92666667]), 1339.0), (array([20.2875    , 11.76166667,  4.76833333]), 1291.0), (array([21.34      ,  5.45333333, 10.625     ]), 1503.0), (array([13.345,  8.665,  4.725]), 3742.0), (array([52.5925    , 36.69166667, 35.93166667]), 6018.0), (array([56.4875    , 36.14833333, 30.865     ]), 4177.0), (array([167.38      , 109.12166667, 108.945     ]), 4423.0), (array([79.1675    , 75.22833333, 38.55666667]), 4669.0), (array([50.9425    , 50.06166667, 27.50833333]), 2206.0), (array([27.25      , 28.91666667, 25.18166667]), 2399.0), (array([26.66      , 23.89      , 16.02166667]), 6860.0), (array([39.6625    , 27.02      , 13.98833333]), 4851.0), (array([55.8575    , 19.18833333, 39.68666667]), 4568.0), (array([19.0275    , 14.04166667, 11.02166667]), 4761.5), (array([34.2625    , 21.96833333, 17.76666667]), 4955.0), (array([ 8.3975    , 11.96833333,  6.83666667]), 4693.0), (array([15.6375    , 13.65166667,  7.86666667]), 15223.0), (array([61.77      , 40.35833333, 31.28666667]), 5070.0), (array([62.205     , 56.83166667, 26.58833333]), 5851.0), (array([23.4825    , 23.405     , 11.01166667]), 843.0), (array([26.1325    , 20.81333333, 20.52166667]), 2230.5), (array([ 8.8925    , 10.39333333, 11.55166667]), 3618.0), (array([25.14      ,  5.485     ,  9.45166667]), 3142.0), (array([14.83 ,  4.545,  9.545]), 3513.0), (array([13.6825    ,  3.51666667,  9.68166667]), 2577.0), (array([7.7875    , 1.05333333, 6.95      ]), 2556.0), (array([16.1375    ,  1.495     ,  7.78333333]), 3542.0), (array([7.5925    , 2.13333333, 1.985     ]), 4255.0), (array([25.315     , 11.26166667,  6.84166667]), 4968.0), (array([29.4225    , 19.22166667, 20.39166667]), 5656.0), (array([18.54      ,  7.77166667,  7.56666667]), 4873.0), (array([22.9925    ,  3.92166667,  4.10833333]), 3980.0), (array([ 5.095     ,  2.58833333, 11.615     ]), 3176.0), (array([0.3025    , 0.00333333, 2.44      ]), 2558.0), (array([ 5.82 ,  0.065, 11.82 ]), 2289.0), (array([11.4025    ,  7.32      ,  8.31833333]), 2020.0), (array([15.825     , 30.52333333,  3.31      ]), 2312.0), (array([6.8075    , 3.21      , 1.93166667]), 2234.0), (array([27.2       , 12.875     , 10.98833333]), 2430.0), (array([ 7.1025    , 10.64666667,  6.86166667]), 2429.0), (array([ 9.15 , 20.385,  9.15 ]), 3070.0), (array([27.0725    , 20.61666667, 18.945     ]), 3590.5), (array([17.5175    , 18.585     , 13.31666667]), 4111.0), (array([36.47      , 27.74      , 14.42166667]), 2904.0), (array([19.565     , 20.295     , 11.08333333]), 4606.0), (array([26.65      , 20.24      , 10.18166667]), 3885.0), (array([17.5525, 15.885 ,  4.4   ]), 2975.0), (array([16.365     , 10.49166667,  4.45      ]), 5597.0), (array([24.9975    , 18.28333333,  7.00333333]), 5479.5), (array([7.01      , 5.025     , 1.64666667]), 5362.0), (array([18.315     ,  6.05333333,  2.16166667]), 4690.0), (array([14.7425    , 14.84666667,  3.11666667]), 5152.0), (array([11.5       ,  8.02166667,  3.69      ]), 7643.0), (array([19.39      ,  8.49166667,  6.30833333]), 7275.0), (array([35.0575    , 21.49333333,  6.63      ]), 7003.0), (array([22.2825    , 18.66666667,  3.82      ]), 6314.5), (array([52.9725    , 14.53      ,  8.64333333]), 5626.0), (array([30.8125    ,  6.605     ,  3.57666667]), 4760.0), (array([5.7725    , 1.19      , 3.51166667]), 3429.0), (array([0.6325    , 0.84333333, 0.77666667]), 1772.0), (array([14.0725    ,  4.175     ,  3.46666667]), 3037.0), (array([10.095     ,  2.645     ,  3.82166667]), 3039.0), (array([24.5625    ,  9.19333333,  5.3       ]), 2351.5), (array([7.08      , 3.43166667, 1.825     ]), 1664.0), (array([11.265     ,  1.28833333,  2.78166667]), 1441.0), (array([9.5525    , 7.30333333, 3.24833333]), 1542.0), (array([13.605     ,  5.30833333,  9.81333333]), 1097.0), (array([10.3925    ,  2.56666667,  2.05666667]), 1611.0), (array([9.665     , 2.17166667, 6.56333333]), 1571.0), (array([10.1625    ,  1.33      ,  2.41333333]), 1120.5), (array([7.02      , 1.56666667, 5.87666667]), 670.0), (array([3.4575    , 0.54666667, 9.58833333]), 797.0), (array([4.28      , 2.68666667, 2.76666667]), 921.0), (array([2.4225    , 2.44833333, 2.815     ]), 1681.0), (array([0.4975    , 1.57166667, 0.53666667]), 2069.0), (array([0.5025    , 3.32833333, 0.74      ]), 1286.0), (array([10.5025    ,  4.21      ,  2.86833333]), 1273.0), (array([1.92      , 2.27666667, 2.295     ]), 1260.0), (array([2.135     , 0.025     , 0.71166667]), 1157.0), (array([1.52      , 0.25333333, 0.64333333]), 951.0), (array([0.7575    , 0.025     , 0.55166667]), 513.0), (array([1.63 , 0.61 , 0.245]), 694.0), (array([2.2975    , 0.94833333, 0.32666667]), 822.0), (array([15.475     ,  3.185     ,  3.84333333]), 2029.0), (array([10.8       , 12.23      ,  2.12333333]), 3236.0), (array([13.64      , 10.47333333, 11.98666667]), 1784.0), (array([8.24      , 8.47666667, 5.555     ]), 1480.0), (array([1.355     , 2.86166667, 0.22      ]), 1570.0), (array([6.37, 5.04, 0.7 ]), 1330.0), (array([5.2725    , 1.00833333, 1.68666667]), 1185.0), (array([7.6275    , 2.07333333, 1.02833333]), 1440.0), (array([8.6625    , 3.19333333, 1.52333333]), 1695.0), (array([16.6125    ,  2.66333333,  1.72      ]), 6317.0), (array([32.6275    , 17.44333333, 10.345     ]), 4902.0), (array([16.165     ,  9.83666667,  4.00833333]), 4593.0), (array([13.61      ,  8.70166667,  1.835     ]), 3434.0), (array([13.3       ,  2.03      ,  1.59833333]), 2765.0), (array([2.85      , 0.48333333, 0.03333333]), 2836.5), (array([4.47      , 1.12333333, 0.46333333]), 2908.0), (array([3.1275    , 3.33333333, 0.035     ]), 2438.0), (array([1.82      , 0.21166667, 2.79166667]), 2203.0), (array([0.11      , 0.01      , 0.12666667]), 345.0), (array([0.0275    , 0.00333333, 0.13666667]), 930.0), (array([0.5       , 0.23333333, 0.045     ]), 1155.0), (array([0.17, 0.  , 0.16]), 701.5), (array([0.09 , 0.   , 0.655]), 248.0), (array([0.115, 0.04 , 0.04 ]), 134.0), (array([1.15      , 0.18833333, 0.06333333]), 125.0), (array([3.0825    , 0.71833333, 1.865     ]), 261.0), (array([1.0875    , 0.64166667, 0.32166667]), 350.0), (array([0.8275    , 0.2       , 0.13333333]), 369.0), (array([2.135     , 0.32333333, 0.52333333]), 375.5), (array([4.7575    , 3.45333333, 1.45333333]), 382.0), (array([8.72      , 2.68666667, 6.94666667]), 470.0), (array([27.73      ,  4.41166667,  1.305     ]), 361.0), (array([0.1125    , 0.01333333, 0.04166667]), 337.0), (array([0.        , 0.02166667, 0.02166667]), 301.0), (array([0.03, 0.01, 0.  ]), 301.0), (array([0.19 , 0.005, 0.   ]), 210.5), (array([0.0375    , 0.00333333, 0.        ]), 120.0), (array([0.1125    , 0.12      , 0.01333333]), 100.0), (array([0.31      , 0.04333333, 0.04166667]), 471.89), (array([0., 0., 0.]), 175.0), (array([0.3925    , 0.        , 0.00333333]), 650.0), (array([0.1825    , 0.05333333, 0.00333333]), 640.0), (array([0.005, 0.02 , 0.04 ]), 545.0), (array([0.0975    , 0.02166667, 0.02      ]), 450.0), (array([0., 0., 0.]), 450.0), (array([0.025     , 0.1       , 0.03333333]), 350.0), (array([0.16      , 0.74666667, 1.34666667]), 362.0), (array([0.  , 0.  , 0.04]), 363.0), (array([0., 0., 0.]), 443.0), (array([0., 0., 0.]), 286.5), (array([0., 0., 0.]), 130.0), (array([0., 0., 0.]), 118.0), (array([0., 0., 0.]), 106.0), (array([0., 0., 0.]), 100.0), (array([0., 0., 0.]), 94.0), (array([0., 0., 0.]), 106.0), (array([0., 0., 0.]), 96.0), (array([0., 0., 0.]), 86.0), (array([0., 0., 0.]), 90.0), (array([0., 0., 0.]), 88.0), (array([0., 0., 0.]), 82.0), (array([0., 0., 0.]), 92.0), (array([0., 0., 0.]), 176.0), (array([0., 0., 0.]), 172.0), (array([0., 0., 0.]), 168.0), (array([0., 0., 0.]), 168.0), (array([0., 0., 0.]), 152.0), (array([0., 0., 0.]), 144.0), (array([0., 0., 0.]), 165.0), (array([0., 0., 0.]), 188.0), (array([0., 0., 0.]), 141.5), (array([0., 0., 0.]), 95.0), (array([0., 0., 0.]), 146.0), (array([0., 0., 0.]), 177.0), (array([0., 0., 0.]), 230.0), (array([0., 0., 0.]), 146.0), (array([0., 0., 0.]), 135.0), (array([0., 0., 0.]), 140.5), (array([0., 0., 0.]), 146.0), (array([0., 0., 0.]), 198.0), (array([0., 0., 0.]), 188.0), (array([0., 0., 0.]), 156.0), (array([0., 0., 0.]), 156.0), (array([0., 0., 0.]), 125.0), (array([0., 0., 0.]), 130.0), (array([0., 0., 0.]), 135.0), (array([0., 0., 0.]), 125.0), (array([0., 0., 0.]), 104.0), (array([0., 0., 0.]), 104.0), (array([0., 0., 0.]), 188.0), (array([0., 0., 0.]), 313.0), (array([0., 0., 0.]), 224.0), (array([0., 0., 0.]), 135.0), (array([0., 0., 0.]), 125.0), (array([0., 0., 0.]), 125.0), (array([0., 0., 0.]), 104.0), (array([0., 0., 0.]), 115.0), (array([0., 0., 0.]), 73.0), (array([0., 0., 0.]), 73.0), (array([0., 0., 0.]), 73.0), (array([0., 0., 0.]), 83.0), (array([0., 0., 0.]), 63.0), (array([0., 0., 0.]), 73.0), (array([0., 0., 0.]), 73.0), (array([0., 0., 0.]), 52.0), (array([0., 0., 0.]), 52.0), (array([0., 0., 0.]), 57.0), (array([0., 0., 0.]), 62.0), (array([0., 0., 0.]), 52.0), (array([0., 0., 0.]), 52.0), (array([0., 0., 0.]), 52.0), (array([0., 0., 0.]), 52.0), (array([0., 0., 0.]), 42.0), (array([0., 0., 0.]), 47.0), (array([0., 0., 0.]), 52.0), (array([0., 0., 0.]), 32.0), (array([0., 0., 0.]), 41.0), (array([0., 0., 0.]), 31.0), (array([0., 0., 0.]), 41.0), (array([0., 0., 0.]), 31.0), (array([0., 0., 0.]), 36.0), (array([0., 0., 0.]), 41.0), (array([0., 0., 0.]), 41.0), (array([0., 0., 0.]), 31.0), (array([0., 0., 0.]), 21.0), (array([0., 0., 0.]), 22.0), (array([0., 0., 0.]), 18.0), (array([0., 0., 0.]), 19.0), (array([0., 0., 0.]), 20.0), (array([0., 0., 0.]), 20.0), (array([0., 0., 0.]), 20.0), (array([0., 0., 0.]), 18.0), (array([0., 0., 0.]), 18.0), (array([0., 0., 0.]), 18.0), (array([0., 0., 0.]), 108.0), (array([0., 0., 0.]), 198.0), (array([0., 0., 0.]), 73.0), (array([0., 0., 0.]), 31.0), (array([0., 0., 0.]), 31.0), (array([0., 0., 0.]), 31.0), (array([0., 0., 0.]), 15.0), (array([0., 0., 0.]), 17.5), (array([0., 0., 0.]), 20.0), (array([0., 0., 0.]), 20.0), (array([0., 0., 0.]), 15.0), (array([0., 0., 0.]), 15.0), (array([0., 0., 0.]), 15.0), (array([0., 0., 0.]), 15.0), (array([0., 0., 0.]), 12.5), (array([0., 0., 0.]), 10.0), (array([0., 0., 0.]), 10.0), (array([0., 0., 0.]), 8.0), (array([0., 0., 0.]), 8.0), (array([0., 0., 0.]), 9.0), (array([0., 0., 0.]), 8.0), (array([0., 0., 0.]), 8.0), (array([0., 0., 0.]), 8.0), (array([0., 0., 0.]), 7.0), (array([0., 0., 0.]), 7.0), (array([0., 0., 0.]), 8.0), (array([0., 0., 0.]), 7.0), (array([0., 0., 0.]), 5.0), (array([0., 0., 0.]), 5.0), (array([0., 0., 0.]), 5.0), (array([0., 0., 0.]), 5.0), (array([0., 0., 0.]), 5.0), (array([0., 0., 0.]), 5.0), (array([0., 0., 0.]), 5.0), (array([0., 0., 0.]), 5.0), (array([0., 0., 0.]), 5.0), (array([0., 0., 0.]), 5.0), (array([0., 0., 0.]), 5.0), (array([0., 0., 0.]), 5.0), (array([0., 0., 0.]), 5.0), (array([0., 0., 0.]), 5.0), (array([0., 0., 0.]), 5.0), (array([0., 0., 0.]), 5.0), (array([0., 0., 0.]), 5.0), (array([0., 0., 0.]), 5.0), (array([0., 0., 0.]), 5.0), (array([0., 0., 0.]), 5.0), (array([0., 0., 0.]), 5.0), (array([0., 0., 0.]), 5.0), (array([0., 0., 0.]), 5.0), (array([0., 0., 0.]), 5.0), (array([0., 0., 0.]), 5.0), (array([0., 0., 0.]), 5.0), (array([0., 0., 0.]), 8.0), (array([0., 0., 0.]), 5.0), (array([0., 0., 0.]), 5.0), (array([0., 0., 0.]), 5.0), (array([0., 0., 0.]), 5.0), (array([0., 0., 0.]), 5.0), (array([0., 0., 0.]), 4.0), (array([0., 0., 0.]), 4.0), (array([0., 0., 0.]), 4.0), (array([0., 0., 0.]), 4.0), (array([0., 0., 0.]), 4.0), (array([0., 0., 0.]), 4.0), (array([0., 0., 0.]), 4.0), (array([0., 0., 0.]), 4.0), (array([0., 0., 0.]), 10.0), (array([0., 0., 0.]), 10.0), (array([0., 0., 0.]), 30.0), (array([0., 0., 0.]), 19.0), (array([0., 0., 0.]), 8.0), (array([0., 0., 0.]), 8.0), (array([0., 0., 0.]), 8.0), (array([0., 0., 0.]), 10.0), (array([0., 0., 0.]), 10.0), (array([0., 0., 0.]), 8.0), (array([0., 0., 0.]), 6.5), (array([0., 0., 0.]), 5.0), (array([0., 0., 0.]), 5.0), (array([0., 0., 0.]), 5.0), (array([0., 0., 0.]), 5.0), (array([0., 0., 0.]), 5.0), (array([0., 0., 0.]), 5.0), (array([0., 0., 0.]), 5.0), (array([0., 0., 0.]), 5.0), (array([0., 0., 0.]), 5.0), (array([0., 0., 0.]), 5.0), (array([0., 0., 0.]), 5.0), (array([0., 0., 0.]), 5.0), (array([0., 0., 0.]), 5.0), (array([0., 0., 0.]), 5.0), (array([0., 0., 0.]), 5.0), (array([0., 0., 0.]), 5.0), (array([0., 0., 0.]), 104.0), (array([0., 0., 0.]), 24.0), (array([0., 0., 0.]), 40.0), (array([0., 0., 0.]), 16.0), (array([0., 0., 0.]), 18.0), (array([0., 0., 0.]), 20.0), (array([0., 0., 0.]), 20.0), (array([0., 0., 0.]), 30.0), (array([0., 0., 0.]), 30.0), (array([0., 0., 0.]), 25.0), (array([0., 0., 0.]), 25.0), (array([0., 0., 0.]), 22.5), (array([0., 0., 0.]), 20.0), (array([0., 0., 0.]), 25.0), (array([0., 0., 0.]), 20.0), (array([0., 0., 0.]), 20.0), (array([0., 0., 0.]), 20.0), (array([0., 0., 0.]), 152.0), (array([0., 0., 0.]), 128.5), (array([0., 0., 0.]), 105.0), (array([0., 0., 0.]), 40.0), (array([0., 0., 0.]), 30.0), (array([0., 0., 0.]), 30.0), (array([0., 0., 0.]), 25.0), (array([0., 0., 0.]), 20.0), (array([0., 0., 0.]), 20.0), (array([0., 0., 0.]), 20.0), (array([0., 0., 0.]), 20.0), (array([0., 0., 0.]), 20.0), (array([0., 0., 0.]), 40.0), (array([0., 0., 0.]), 115.0), (array([0., 0., 0.]), 65.0), (array([3.98      , 1.06666667, 0.        ]), 45.0), (array([9.2275    , 0.51333333, 3.1       ]), 50.0), (array([12.3575    ,  1.745     ,  8.60666667]), 40.0), (array([12.4675    ,  3.945     ,  6.77166667]), 40.0), (array([20.3075,  0.72  , 13.675 ]), 40.0), (array([3.205     , 1.59833333, 1.78      ]), 140.0), (array([17.835     , 12.19      , 10.53833333]), 80.0), (array([2.8875    , 0.91833333, 1.2       ]), 212.5), (array([6.37      , 2.26833333, 0.97833333]), 345.0), (array([12.97      ,  7.99      ,  2.15333333]), 1352.0), (array([39.04      , 25.21166667, 23.20666667]), 808.0), (array([52.0975    , 23.495     , 35.87333333]), 680.0), (array([14.91      ,  9.64833333, 28.44833333]), 744.0), (array([27.2675    , 21.54666667, 20.96166667]), 1112.0), (array([3.775     , 0.57333333, 4.685     ]), 646.5), (array([10.2675    ,  4.98333333,  2.81333333]), 181.0), (array([15.05      ,  3.89      ,  8.96333333]), 150.0), (array([6.7825    , 5.03666667, 0.975     ]), 105.0), (array([10.665     ,  2.08666667, 12.465     ]), 146.0), (array([2.1225    , 0.75166667, 2.635     ]), 365.0), (array([15.125, 11.935,  9.235]), 365.0), (array([8.6325    , 3.585     , 1.90666667]), 522.5), (array([3.51      , 6.005     , 4.24833333]), 680.0), (array([11.8225    ,  5.40166667,  5.605     ]), 980.0), (array([33.3       , 18.115     , 19.63833333]), 2123.0), (array([66.64      , 35.11333333, 39.98      ]), 1401.0), (array([60.545     , 37.03666667, 47.78833333]), 941.0), (array([35.715     ,  9.435     , 50.16833333]), 742.0), (array([23.3625    ,  8.78666667, 27.40333333]), 846.5), (array([22.9325    , 14.14666667, 15.72      ]), 951.0), (array([26.68      , 15.05333333,  8.67333333]), 467.0), (array([24.535     ,  3.48333333, 11.80166667]), 248.0), (array([27.195     ,  7.42166667, 16.09833333]), 447.0), (array([21.4575    ,  5.29      ,  6.06166667]), 680.0), (array([11.415     , 16.665     ,  4.35833333]), 1122.0), (array([23.5225    , 12.75      ,  7.46833333]), 839.0), (array([20.3325    , 17.13833333, 10.58      ]), 556.0), (array([10.58      ,  3.76833333,  3.87333333]), 384.0), (array([5.5575    , 0.43666667, 1.83      ]), 325.0), (array([6.66      , 0.255     , 6.15666667]), 313.0), (array([8.9575    , 2.61833333, 5.59      ]), 756.0), (array([ 6.275     , 11.80833333,  2.83833333]), 1276.0), (array([8.1625    , 6.19333333, 1.04166667]), 1354.0), (array([31.6025, 13.01  , 16.405 ]), 1432.0), (array([15.6275    ,  8.80333333,  8.16833333]), 1348.0), (array([21.9325    , 14.05666667,  6.47166667]), 1274.0), (array([17.57      , 20.02      , 15.75666667]), 5081.0), (array([34.225     , 29.65333333, 24.55166667]), 13596.0), (array([95.79      , 62.67666667, 58.365     ]), 8137.0), (array([139.7075,  80.53  , 107.14  ]), 7769.5), (array([20.        , 16.68333333, 14.81666667]), 7402.0), (array([28.0725    , 27.58833333, 11.55      ]), 2898.0), (array([8.265     , 8.54333333, 3.615     ]), 1997.0), (array([11.22      ,  9.18333333,  4.20666667]), 4020.0), (array([11.1025    , 13.22      ,  2.77666667]), 3525.0), (array([5.465     , 3.65333333, 1.19      ]), 3772.0), (array([ 8.12      , 10.76666667,  4.51      ]), 3881.0), (array([28.0625    , 19.20166667,  7.16666667]), 3990.0), (array([11.1625    ,  5.68333333,  3.67333333]), 2610.0), (array([6.915, 1.405, 1.43 ]), 1836.0), (array([5.09      , 0.21      , 1.02333333]), 1460.0), (array([14.5275    ,  2.37666667,  0.23333333]), 1650.0), (array([0.9825    , 0.90666667, 3.06666667]), 4018.0), (array([4.075     , 1.87333333, 1.755     ]), 5477.5), (array([53.1625    , 31.50166667, 16.76833333]), 6937.0), (array([53.5275    , 23.22333333, 14.82333333]), 6862.0), (array([29.0525    , 18.11166667, 13.13833333]), 5395.0), (array([17.835     ,  3.48      ,  7.34666667]), 3907.0), (array([11.8775,  1.41  ,  2.915 ]), 3360.0), (array([4.5675    , 0.38666667, 0.42666667]), 1529.0), (array([2.8775    , 5.62333333, 3.20166667]), 1587.0), (array([0.0025    , 0.04833333, 0.12      ]), 1645.0), (array([36.5575    , 19.535     , 17.20833333]), 940.0), (array([0.0475    , 0.43666667, 0.08333333]), 350.0), (array([0.2975    , 0.09666667, 2.39      ]), 850.0), (array([1.1975, 0.    , 0.61  ]), 370.0), (array([12.4875    ,  4.14333333,  5.33      ]), 1480.0), (array([13.6575    ,  0.72166667,  6.95      ]), 2590.0), (array([17.7075    , 17.63833333,  7.965     ]), 7525.0), (array([47.61      , 34.37666667, 26.10166667]), 9600.0), (array([38.5825    , 26.80833333, 13.33333333]), 5460.0), (array([52.415     , 45.34      , 28.57666667]), 3615.0), (array([29.9675    , 23.38166667, 39.42166667]), 2891.0), (array([6.99      , 8.85666667, 4.99833333]), 3958.0), (array([ 9.22      , 10.09833333, 13.04166667]), 5101.5), (array([33.705     , 29.21333333, 16.735     ]), 6245.0), (array([7.8875    , 8.85666667, 8.44833333]), 7845.0), (array([49.61      , 29.63833333, 21.47333333]), 9760.0), (array([54.235     , 25.1       , 34.50333333]), 8071.0), (array([84.3625    , 57.99333333, 67.28166667]), 7746.0), (array([36.955     , 26.3       , 29.35833333]), 5053.0), (array([3.41      , 3.43833333, 6.43666667]), 3915.5), (array([5.9775    , 0.595     , 0.90333333]), 2778.0), (array([1.2875    , 1.88      , 0.69833333]), 2450.0), (array([1.3       , 0.58      , 0.72833333]), 2234.0), (array([0.395, 0.22 , 2.095]), 2387.0), (array([ 7.1275,  2.62  , 16.87  ]), 1221.0), (array([13.52      , 15.17      , 22.56833333]), 2038.0), (array([2.8125    , 2.32166667, 0.17833333]), 1995.0), (array([23.7925    , 23.12833333,  7.38666667]), 1952.0), (array([14.4375    , 11.875     , 10.86666667]), 1430.0), (array([ 9.93, 18.12,  5.93]), 1500.0), (array([7.62      , 1.39333333, 7.30166667]), 891.0), (array([1.21      , 0.64166667, 1.41333333]), 1009.0), (array([2.0275    , 0.02      , 0.06333333]), 735.0), (array([10.915     ,  3.13      ,  4.63333333]), 1130.0), (array([ 8.465,  7.75 , 10.645]), 1525.0), (array([13.42      ,  1.96      ,  7.28166667]), 3595.0), (array([46.0125, 25.96  , 44.27  ]), 3201.0), (array([50.8975    , 20.23166667, 62.335     ]), 5915.0), (array([74.6275    , 44.37333333, 46.70166667]), 3134.0), (array([33.0275    , 20.31333333, 25.17666667]), 2349.0), (array([6.44      , 4.10833333, 7.42      ]), 1928.0), (array([3.6375    , 2.75166667, 3.39666667]), 1507.0), (array([0.1675    , 0.15166667, 0.84833333]), 1905.0), (array([0.0975, 0.    , 0.    ]), 1511.0), (array([ 5.215     , 19.49333333,  8.17      ]), 1447.0), (array([12.075     ,  2.66      ,  3.96166667]), 1117.0), (array([27.23      ,  7.36833333,  9.05      ]), 339.0), (array([12.5775    , 12.27333333,  2.95666667]), 935.0), (array([12.91      ,  4.265     ,  8.19666667]), 1531.0), (array([3.1075    , 0.49      , 2.42666667]), 2260.0), (array([ 5.175     ,  0.68166667, 10.83166667]), 751.0), (array([17.47      , 23.90833333,  9.82166667]), 2040.0), (array([2.215     , 2.215     , 0.67833333]), 175.0), (array([4.0525    , 0.87      , 3.06166667]), 813.0), (array([1.045     , 0.98666667, 1.        ]), 624.5), (array([3.2625    , 1.35      , 5.62333333]), 436.0), (array([7.01      , 7.615     , 3.64666667]), 320.0), (array([0.76      , 0.14666667, 0.115     ]), 467.0), (array([2.67, 0.22, 1.84]), 957.0), (array([0.12      , 0.22833333, 0.10333333]), 818.0), (array([5.        , 2.18333333, 9.82666667]), 1162.0), (array([2.2925    , 1.59166667, 0.31833333]), 789.0), (array([2.4       , 9.02      , 1.63333333]), 416.0), (array([16.4525    ,  8.81666667,  4.885     ]), 474.0), (array([16.4525    ,  9.24666667,  3.565     ]), 374.0), (array([2.195     , 0.82833333, 0.155     ]), 374.0), (array([0.725     , 0.535     , 0.31166667]), 624.0), (array([2.6775, 0.22  , 6.    ]), 540.0), (array([0.54      , 1.825     , 0.22166667]), 410.0), (array([1.2725, 0.13  , 0.11  ]), 280.0), (array([0.3375    , 0.01833333, 0.02333333]), 380.0), (array([0.11, 0.1 , 0.37]), 377.0), (array([0.0975    , 0.05      , 0.10166667]), 218.0), (array([0.0875    , 0.18166667, 0.        ]), 228.0), (array([0.1075, 0.58  , 0.    ]), 459.0), (array([6.41      , 4.76      , 1.42833333]), 783.0), (array([5.09      , 2.05166667, 2.38333333]), 1107.0), (array([11.0775    ,  1.23166667,  3.33666667]), 163.0), (array([0.02      , 0.02833333, 0.18833333]), 140.0), (array([0.        , 0.        , 0.02666667]), 75.0), (array([0., 0., 0.]), 110.0), (array([0., 0., 0.]), 96.0), (array([0., 0., 0.]), 99.0), (array([0., 0., 0.]), 102.0), (array([0., 0., 0.]), 125.0), (array([0., 0., 0.]), 126.0), (array([0., 0., 0.]), 131.0), (array([0., 0., 0.]), 97.0), (array([0., 0., 0.]), 95.0), (array([0., 0., 0.]), 91.5), (array([0., 0., 0.]), 88.0), (array([0., 0., 0.]), 94.0), (array([0., 0., 0.]), 89.0), (array([0., 0., 0.]), 75.0), (array([0., 0., 0.]), 85.0), (array([0., 0., 0.]), 76.0), (array([0., 0., 0.]), 69.0), (array([0., 0., 0.]), 62.0), (array([0., 0., 0.]), 65.0), (array([0., 0., 0.]), 79.0), (array([0., 0., 0.]), 100.0), (array([0., 0., 0.]), 76.0), (array([0., 0., 0.]), 65.0), (array([0., 0., 0.]), 70.0), (array([0., 0., 0.]), 75.0), (array([0., 0., 0.]), 59.0), (array([0., 0., 0.]), 65.0), (array([0., 0., 0.]), 75.0), (array([0., 0., 0.]), 75.0), (array([0., 0., 0.]), 75.0), (array([0., 0., 0.]), 74.5), (array([0., 0., 0.]), 74.0), (array([0., 0., 0.]), 65.0), (array([0., 0., 0.]), 64.0), (array([0., 0., 0.]), 65.0), (array([0., 0., 0.]), 65.0), (array([0., 0., 0.]), 65.0), (array([0., 0., 0.]), 65.0), (array([0., 0., 0.]), 65.0), (array([0., 0., 0.]), 62.0), (array([0., 0., 0.]), 60.0), (array([0., 0., 0.]), 59.0), (array([0., 0., 0.]), 58.0), (array([0., 0., 0.]), 70.0), (array([0., 0., 0.]), 72.5), (array([0., 0., 0.]), 75.0), (array([0., 0., 0.]), 75.0), (array([0., 0., 0.]), 80.0), (array([0., 0., 0.]), 80.0), (array([0., 0., 0.]), 105.0), (array([0., 0., 0.]), 165.0), (array([0., 0., 0.]), 162.5), (array([0., 0., 0.]), 160.0), (array([0., 0., 0.]), 174.0), (array([0., 0., 0.]), 175.0), (array([0., 0., 0.]), 163.0), (array([0., 0., 0.]), 153.0), (array([0., 0., 0.]), 153.0), (array([0., 0., 0.]), 163.0), (array([0., 0., 0.]), 163.0), (array([0., 0., 0.]), 163.0), (array([0., 0., 0.]), 155.0), (array([0., 0., 0.]), 155.0), (array([0., 0., 0.]), 156.0), (array([0., 0., 0.]), 156.0), (array([0., 0., 0.]), 156.0), (array([0., 0., 0.]), 155.0), (array([0., 0., 0.]), 154.0), (array([0., 0., 0.]), 124.0), (array([0., 0., 0.]), 135.0), (array([0., 0., 0.]), 125.0), (array([0., 0., 0.]), 125.0), (array([0., 0., 0.]), 125.0), (array([0., 0., 0.]), 120.0), (array([0., 0., 0.]), 115.0), (array([0., 0., 0.]), 115.0), (array([0., 0., 0.]), 115.0), (array([0., 0., 0.]), 115.0), (array([0., 0., 0.]), 123.0), (array([0., 0., 0.]), 105.0), (array([0., 0., 0.]), 107.5), (array([0., 0., 0.]), 110.0), (array([0., 0., 0.]), 112.0), (array([0., 0., 0.]), 112.0), (array([0., 0., 0.]), 120.0), (array([0., 0., 0.]), 115.0), (array([0., 0., 0.]), 115.0), (array([0., 0., 0.]), 115.0), (array([0., 0., 0.]), 115.0), (array([0., 0., 0.]), 104.0), (array([0., 0., 0.]), 104.0), (array([0., 0., 0.]), 95.0), (array([0., 0., 0.]), 95.0), (array([0., 0., 0.]), 95.0), (array([0., 0., 0.]), 95.0), (array([0., 0., 0.]), 95.0), (array([0., 0., 0.]), 95.0), (array([0., 0., 0.]), 95.0), (array([0., 0., 0.]), 98.0), (array([0., 0., 0.]), 110.0), (array([0., 0., 0.]), 105.0), (array([0., 0., 0.]), 102.5), (array([0., 0., 0.]), 100.0), (array([0., 0., 0.]), 90.0), (array([0., 0., 0.]), 110.0), (array([0., 0., 0.]), 100.0), (array([0., 0., 0.]), 96.0), (array([0., 0., 0.]), 96.0), (array([0., 0., 0.]), 93.0), (array([0., 0., 0.]), 90.0), (array([0., 0., 0.]), 84.0), (array([0., 0., 0.]), 82.0), (array([0., 0., 0.]), 82.0), (array([0., 0., 0.]), 82.0), (array([0., 0., 0.]), 82.0), (array([0., 0., 0.]), 81.0), (array([0., 0., 0.]), 80.0), (array([0., 0., 0.]), 60.0), (array([0., 0., 0.]), 50.0), (array([0., 0., 0.]), 48.0), (array([0., 0., 0.]), 48.0), (array([0., 0., 0.]), 36.0), (array([0., 0., 0.]), 35.5), (array([0., 0., 0.]), 35.0), (array([0., 0., 0.]), 30.0), (array([0., 0., 0.]), 30.0), (array([0., 0., 0.]), 30.0), (array([0., 0., 0.]), 30.0), (array([0., 0., 0.]), 28.0), (array([0., 0., 0.]), 28.0), (array([0., 0., 0.]), 28.0), (array([0., 0., 0.]), 28.0), (array([0., 0., 0.]), 35.0), (array([0., 0., 0.]), 248.0), (array([0., 0., 0.]), 112.0), (array([0., 0., 0.]), 101.0), (array([0., 0., 0.]), 97.5), (array([0., 0., 0.]), 94.0), (array([0., 0., 0.]), 118.0), (array([0., 0., 0.]), 163.0), (array([0., 0., 0.]), 125.0), (array([0., 0., 0.]), 145.0), (array([0., 0., 0.]), 235.0), (array([0., 0., 0.]), 216.0), (array([0., 0., 0.]), 197.0), (array([0., 0., 0.]), 188.0), (array([0., 0., 0.]), 186.0), (array([0., 0., 0.]), 175.0), (array([0., 0., 0.]), 175.0), (array([0., 0., 0.]), 160.0), (array([0., 0., 0.]), 132.0), (array([0., 0., 0.]), 104.0), (array([0., 0., 0.]), 110.0), (array([0., 0., 0.]), 98.0), (array([0., 0., 0.]), 102.0), (array([0., 0., 0.]), 92.0), (array([0., 0., 0.]), 92.0), (array([0., 0., 0.]), 92.0), (array([0., 0., 0.]), 92.0), (array([0., 0., 0.]), 92.0), (array([0., 0., 0.]), 92.0), (array([0., 0., 0.]), 92.0), (array([0., 0., 0.]), 132.0), (array([0., 0., 0.]), 198.0), (array([0., 0., 0.]), 150.0), (array([0., 0., 0.]), 102.0), (array([0., 0., 0.]), 92.0), (array([0., 0., 0.]), 94.0), (array([0., 0., 0.]), 106.0), (array([0., 0., 0.]), 116.0), (array([0., 0., 0.]), 106.0), (array([0., 0., 0.]), 104.0), (array([0., 0., 0.]), 102.0), (array([0., 0., 0.]), 102.0), (array([0., 0., 0.]), 118.0), (array([0., 0., 0.]), 106.0), (array([0., 0., 0.]), 102.0), (array([0., 0., 0.]), 96.0), (array([0., 0., 0.]), 82.0), (array([0., 0., 0.]), 68.0), (array([0., 0., 0.]), 78.0), (array([0., 0., 0.]), 124.0), (array([0., 0., 0.]), 92.0), (array([0., 0., 0.]), 96.0), (array([0., 0., 0.]), 60.0), (array([0., 0., 0.]), 62.5), (array([0., 0., 0.]), 65.0), (array([0., 0., 0.]), 106.0), (array([0., 0., 0.]), 182.0), (array([0., 0., 0.]), 250.0), (array([0., 0., 0.]), 290.0), (array([0., 0., 0.]), 330.0), (array([0., 0., 0.]), 194.0), (array([0., 0., 0.]), 162.0), (array([0., 0., 0.]), 152.0), (array([0., 0., 0.]), 145.0), (array([0., 0., 0.]), 140.0), (array([0., 0., 0.]), 140.0), (array([0., 0., 0.]), 121.0), (array([0., 0., 0.]), 121.0), (array([0., 0., 0.]), 121.0), (array([0., 0., 0.]), 101.0), (array([0., 0., 0.]), 90.0), (array([0., 0., 0.]), 90.0), (array([0., 0., 0.]), 86.0), (array([0., 0., 0.]), 95.0), (array([0., 0., 0.]), 185.5), (array([0., 0., 0.]), 276.0), (array([0., 0., 0.]), 515.0), (array([0., 0., 0.]), 980.0), (array([0., 0., 0.]), 1250.0), (array([0., 0., 0.]), 419.0), (array([0., 0., 0.]), 250.0), (array([0.1375    , 3.16833333, 0.        ]), 260.5), (array([0.0175    , 6.23666667, 0.36833333]), 271.0), (array([5.3925    , 5.56      , 0.68666667]), 392.0), (array([6.095     , 8.35833333, 1.24      ]), 244.0), (array([10.8975    ,  3.48833333, 15.105     ]), 245.0), (array([4.355, 3.21 , 2.475]), 295.0), (array([ 8.1325    ,  2.83666667, 10.835     ]), 1647.0), (array([91.6925, 37.58  , 57.49  ]), 3968.0), (array([56.8725    , 48.71333333, 44.27833333]), 5614.0), (array([112.9275    ,  56.69833333,  71.96333333]), 7260.0), (array([113.0025,  73.39  ,  86.585 ]), 5063.0), (array([79.7875    , 83.36      , 93.62333333]), 3663.0), (array([118.605     ,  26.86166667, 140.685     ]), 2145.0), (array([135.6075    ,  39.87833333,  73.36166667]), 914.0), (array([1.4675    , 2.145     , 5.27333333]), 932.0), (array([34.6275    ,  5.68333333, 30.265     ]), 950.0), (array([8.3025    , 2.53333333, 7.95833333]), 968.0), (array([15.8375    , 10.63833333, 22.95333333]), 637.0), (array([15.745     ,  5.78166667, 14.32333333]), 581.0), (array([39.4225    , 11.96333333, 29.995     ]), 578.0), (array([25.325     ,  6.93833333, 15.07      ]), 1161.0), (array([ 7.735     ,  3.81166667, 13.145     ]), 1279.0), (array([12.01      ,  3.97333333,  7.455     ]), 1196.0), (array([10.705     ,  6.31833333,  1.69166667]), 1245.0), (array([16.1275, 10.755 ,  8.78  ]), 1824.0), (array([16.045     , 14.40166667,  8.19833333]), 3292.0), (array([66.1575    , 22.47666667, 31.18666667]), 5485.0), (array([93.4925    , 42.45166667, 49.83      ]), 3964.0), (array([22.165     ,  8.57166667, 14.725     ]), 3019.5), (array([4.725, 1.05 , 1.195]), 2075.0), (array([8.955     , 2.67333333, 9.44166667]), 1973.0), (array([3.43      , 1.11666667, 2.18833333]), 1818.0), (array([9.34      , 2.25333333, 1.71833333]), 1742.0), (array([9.3625, 5.02  , 6.16  ]), 1509.0), (array([2.845     , 3.13166667, 1.29333333]), 2591.0), (array([3.7225    , 3.66833333, 2.32833333]), 7133.0), (array([121.8475    ,  67.805     ,  96.68666667]), 11675.0), (array([104.99      ,  29.23      ,  62.93333333]), 12168.0), (array([87.47      , 43.86833333, 43.90333333]), 14973.0), (array([93.795     , 63.17666667, 54.26333333]), 15162.0), (array([92.0275    , 69.34666667, 57.00166667]), 15285.0), (array([79.53      , 70.17666667, 52.56166667]), 13324.0), (array([84.7       , 55.035     , 47.48166667]), 13176.5), (array([84.09      , 59.59666667, 51.195     ]), 13029.0), (array([75.5525    , 51.64833333, 48.90166667]), 19543.0), (array([76.6775    , 56.88166667, 44.65333333]), 16275.0), (array([91.4325    , 44.20166667, 61.92833333]), 14465.0), (array([38.51      , 32.50666667, 22.47166667]), 7305.0), (array([46.575     , 19.475     , 18.69833333]), 10969.0), (array([59.6625    , 34.19166667, 24.77      ]), 10228.0), (array([46.4825    , 31.36666667, 33.04166667]), 9487.0), (array([56.4925    , 36.48666667, 24.38833333]), 12086.0), (array([42.015     , 31.90333333, 18.89166667]), 17387.0), (array([57.1975    , 26.91      , 23.57333333]), 11242.0), (array([53.5425    , 28.39      , 30.88833333]), 10775.0), (array([33.87      , 17.86166667, 16.95833333]), 7330.0), (array([ 9.165     ,  7.85166667, 14.515     ]), 6334.0), (array([10.27      ,  6.72333333, 12.53166667]), 5338.0), (array([8.4225    , 4.71666667, 6.585     ]), 4706.0), (array([12.4925    ,  1.73666667,  1.33833333]), 4980.0), (array([17.5       ,  6.175     , 10.19833333]), 3465.0), (array([ 6.305     ,  8.39166667, 10.79333333]), 2785.0), (array([14.145     ,  9.17      , 12.57333333]), 5683.0), (array([16.715     ,  8.175     ,  3.69833333]), 5338.5), (array([17.765     ,  6.11666667,  3.91      ]), 4994.0), (array([11.235     ,  4.16666667,  3.27833333]), 5083.0), (array([5.3925    , 6.52333333, 6.185     ]), 6868.0), (array([20.175, 20.685, 16.19 ]), 15247.0), (array([96.64      , 32.73333333, 76.44      ]), 10373.0), (array([90.065     , 68.65      , 52.22333333]), 13815.0), (array([27.74      , 15.90333333,  9.75      ]), 18971.0), (array([51.6375    , 17.12666667,  7.725     ]), 24127.0), (array([53.85      , 36.46666667, 17.34666667]), 22967.0), (array([104.69      ,  84.71333333,  53.02333333]), 36179.0), (array([147.84      ,  87.48166667, 116.46166667]), 33901.0), (array([137.695     ,  57.25      ,  80.23333333]), 77900.0), (array([123.0475,  76.86  ,  78.515 ]), 42603.0), (array([149.405     ,  87.89833333, 117.64833333]), 32435.5), (array([62.9925    , 33.20666667, 29.51      ]), 22268.0), (array([57.655, 36.71 , 32.345]), 14904.0), (array([32.6825    , 17.95      ,  7.26666667]), 15622.0), (array([25.54      , 20.93666667, 14.39166667]), 8855.0), (array([20.1575    , 13.125     ,  7.47666667]), 10104.0), (array([15.4875,  7.75  ,  8.675 ]), 1313.0), (array([10.9875    ,  6.05333333,  2.72333333]), 3692.0), (array([3.98      , 1.91833333, 0.81666667]), 6071.0), (array([4.0475    , 1.4       , 0.67166667]), 6391.0), (array([11.5325    ,  9.97666667,  5.53333333]), 7199.0), (array([30.8       , 13.37666667, 11.40666667]), 6683.0), (array([41.0275, 20.045 , 16.78  ]), 4330.0), (array([15.1725    ,  7.94833333,  1.63      ]), 4956.0), (array([26.25      ,  8.80333333, 12.28333333]), 4770.0), (array([4.365     , 4.61666667, 4.46833333]), 4584.0), (array([0.4525    , 0.01833333, 3.605     ]), 3609.0), (array([3.4975    , 0.90333333, 5.97166667]), 2378.0), (array([0.1       , 0.04833333, 0.69166667]), 2719.0), (array([0.125     , 0.        , 1.19833333]), 2765.0), (array([0.0425    , 0.635     , 0.46666667]), 2530.0), (array([2.105     , 3.3       , 0.92833333]), 2209.0), (array([3.02      , 6.015     , 3.67333333]), 1888.0), (array([1.815     , 1.00833333, 1.5       ]), 2178.0), (array([0.155, 0.095, 0.875]), 1618.0), (array([0.   , 0.   , 0.795]), 1097.0), (array([5.12      , 3.38833333, 2.22833333]), 850.0), (array([0.64      , 0.51      , 0.73666667]), 750.0), (array([0.        , 0.115     , 0.68833333]), 855.0), (array([0.        , 0.        , 0.66666667]), 960.0), (array([0.5075, 0.    , 1.98  ]), 941.0), (array([1.9025, 0.135 , 4.315 ]), 925.0), (array([2.8825    , 1.66833333, 6.96166667]), 729.0), (array([0.045     , 0.        , 1.65333333]), 575.0), (array([0.        , 0.00333333, 0.62166667]), 579.0), (array([1.6825    , 1.2       , 0.25166667]), 527.0), (array([0.        , 0.035     , 0.34666667]), 475.0), (array([0.505     , 0.        , 0.34833333]), 866.0), (array([ 5.        ,  5.63166667, 23.12833333]), 1227.0), (array([1.17      , 2.59      , 2.20833333]), 1425.0), (array([21.79      , 46.75666667, 25.54333333]), 1258.0), (array([15.2175    , 10.46833333,  9.00666667]), 1590.0), (array([5.105     , 7.93666667, 3.615     ]), 1245.0), (array([19.4125    , 11.58333333,  7.065     ]), 900.0), (array([2.475     , 4.36333333, 2.81666667]), 675.0), (array([10.55      ,  3.62333333,  3.56833333]), 460.0), (array([ 6.8075    ,  2.42333333, 12.26333333]), 340.0), (array([2.6775    , 0.69833333, 0.07166667]), 519.0), (array([10.965     ,  2.91166667,  3.44166667]), 771.0), (array([5.9       , 7.02166667, 5.47166667]), 583.5), (array([12.6025,  5.605 , 10.46  ]), 396.0), (array([3.01      , 0.27166667, 4.08166667]), 695.0), (array([0.12 , 0.02 , 0.145]), 880.0), (array([26.1425    , 13.455     , 19.14833333]), 625.0), (array([20.315     , 16.79333333,  5.635     ]), 421.0), (array([0.2225    , 0.295     , 0.29333333]), 432.0), (array([0.965     , 0.23333333, 0.075     ]), 423.5), (array([0.865     , 0.17      , 0.04166667]), 415.0), (array([3.385     , 0.73166667, 0.09333333]), 457.0), (array([20.29      ,  7.79333333,  4.385     ]), 648.0), (array([1.7625    , 5.78833333, 8.20166667]), 875.0), (array([18.275     , 24.69333333, 18.28333333]), 705.0), (array([0.9475, 1.415 , 0.585 ]), 635.0), (array([6.785     , 2.78      , 4.06333333]), 472.5), (array([12.8475    , 10.73333333,  8.40833333]), 310.0), (array([4.61      , 0.6       , 5.93833333]), 247.0), (array([0.        , 0.03333333, 0.11833333]), 275.0), (array([0.115     , 0.03166667, 0.07333333]), 147.0), (array([0.        , 0.        , 0.04166667]), 147.0), (array([0., 0., 0.]), 140.0), (array([0., 0., 0.]), 136.0), (array([0.        , 0.03666667, 0.05666667]), 132.0), (array([0., 0., 0.]), 131.0), (array([0.        , 0.        , 0.01666667]), 130.0), (array([0.0375    , 0.01666667, 0.06333333]), 122.0), (array([0., 0., 0.]), 115.0), (array([0., 0., 0.]), 115.0), (array([0., 0., 0.]), 115.0), (array([0., 0., 0.]), 98.0), (array([0., 0., 0.]), 96.0), (array([0., 0., 0.]), 85.0), (array([0., 0., 0.]), 95.0), (array([0., 0., 0.]), 105.0), (array([0., 0., 0.]), 105.0), (array([0., 0., 0.]), 105.0), (array([0., 0., 0.]), 105.0), (array([0., 0., 0.]), 104.0), (array([0., 0., 0.]), 94.0), (array([0., 0., 0.]), 95.0), (array([0., 0., 0.]), 95.0), (array([0., 0., 0.]), 140.0), (array([0., 0., 0.]), 126.0), (array([0., 0., 0.]), 112.0), (array([0., 0., 0.]), 98.0), (array([0., 0., 0.]), 94.0), (array([0., 0., 0.]), 88.0), (array([0., 0., 0.]), 96.0), (array([0., 0., 0.]), 86.0), (array([0., 0., 0.]), 85.0), (array([0., 0., 0.]), 84.0), (array([0., 0., 0.]), 84.0), (array([0., 0., 0.]), 85.0), (array([0., 0., 0.]), 82.0), (array([0., 0., 0.]), 84.0), (array([0., 0., 0.]), 85.0), (array([0., 0., 0.]), 82.0), (array([0., 0., 0.]), 79.0), (array([0., 0., 0.]), 46.0), (array([0., 0., 0.]), 74.0), (array([0., 0., 0.]), 86.0), (array([0., 0., 0.]), 84.0), (array([0., 0., 0.]), 79.0), (array([0., 0., 0.]), 76.0), (array([0., 0., 0.]), 73.0), (array([0., 0., 0.]), 76.0), (array([0., 0., 0.]), 82.0), (array([0., 0., 0.]), 67.0), (array([0., 0., 0.]), 78.0), (array([0., 0., 0.]), 78.0), (array([0., 0., 0.]), 75.5), (array([0., 0., 0.]), 73.0), (array([0., 0., 0.]), 78.0), (array([0., 0., 0.]), 78.0), (array([0., 0., 0.]), 78.0), (array([0., 0., 0.]), 95.0), (array([0., 0., 0.]), 96.0), (array([0., 0., 0.]), 97.0), (array([0., 0., 0.]), 98.0), (array([0., 0., 0.]), 112.0), (array([0., 0., 0.]), 98.0), (array([0., 0., 0.]), 103.0), (array([0., 0., 0.]), 98.0), (array([0., 0., 0.]), 102.0), (array([0., 0., 0.]), 99.0), (array([0., 0., 0.]), 99.0)]\n"
     ]
    },
    {
     "data": {
      "text/plain": [
       "(2920, 2)"
      ]
     },
     "execution_count": 283,
     "metadata": {},
     "output_type": "execute_result"
    }
   ],
   "source": [
    "l,b = np.shape(colA)\n",
    "l,b\n",
    "print(l,b)\n",
    "print(np.shape(colA))\n",
    "print(np.shape(colB))\n",
    "colA\n",
    "colB = colB.T\n",
    "t_vals = []\n",
    "for i in range(l):\n",
    "    a = colA[i]\n",
    "    b = colB[i]\n",
    "    t_vals.append((a,b))\n",
    "#t_vals = np.array(t_vals)\n",
    "print(t_vals)\n",
    "np.shape(t_vals)"
   ]
  },
  {
   "cell_type": "code",
   "execution_count": null,
   "metadata": {},
   "outputs": [],
   "source": []
  },
  {
   "cell_type": "code",
   "execution_count": 240,
   "metadata": {},
   "outputs": [],
   "source": [
    "# colA = np.array(data.loc[:,['MADIKERI','SOMWARPET','VIRAJPET']])\n",
    "# colB = np.array(data['Inflow'])\n",
    "\n",
    "# l,b = np.shape(colA)\n",
    "# l,b\n",
    "# print(np.shape(colA))\n",
    "# print(np.shape(colB))\n",
    "# colA\n",
    "# colB = colB.T\n",
    "# t_vals = []\n",
    "# for i in range(l):\n",
    "#     a = colA[i]\n",
    "#     b = colB[i]\n",
    "#     t_vals.append((a,b))\n",
    "# #t_vals = np.array(t_vals)\n",
    "# print(t_vals)\n",
    "# np.shape(t_vals)\n"
   ]
  },
  {
   "cell_type": "code",
   "execution_count": 302,
   "metadata": {},
   "outputs": [
    {
     "name": "stdout",
     "output_type": "stream",
     "text": [
      "[[2.12500000e-01 1.16666667e-02 2.35000000e-01]\n",
      " [0.00000000e+00 0.00000000e+00 4.16666667e-02]\n",
      " [1.15000000e+00 3.56666667e-01 2.65000000e-01]\n",
      " ...\n",
      " [1.31500000e+01 2.09000000e+00 2.96833333e+00]\n",
      " [1.18175000e+01 4.08333333e+00 6.00666667e+00]\n",
      " [1.25550000e+01 6.05666667e+00 3.54500000e+00]]\n",
      "1000\n"
     ]
    }
   ],
   "source": [
    "def create_qry_point(start,end):\n",
    "    query_data = np.array(Rain_data.iloc[start:end,:],dtype = float)\n",
    "    return query_data\n",
    "        \n",
    "q_point = create_qry_point(1000,2000)\n",
    "#q_point = np.array([2.3,2.4,0.5],[])\n",
    "print(q_point)\n",
    "print(len(q_point))"
   ]
  },
  {
   "cell_type": "code",
   "execution_count": 303,
   "metadata": {},
   "outputs": [],
   "source": [
    "inp1 = colA"
   ]
  },
  {
   "cell_type": "code",
   "execution_count": 304,
   "metadata": {},
   "outputs": [],
   "source": [
    "def cal_eucledian_distance(q_point,inp1):\n",
    "    #print(q_point,inp1)\n",
    "    return float(np.linalg.norm(q_point - inp1))"
   ]
  },
  {
   "cell_type": "code",
   "execution_count": 305,
   "metadata": {},
   "outputs": [],
   "source": [
    "def knn(inp1,k,q_point):\n",
    "    tup_val = []\n",
    "    distance_list = [cal_eucledian_distance(q_point,inp1[i]) for i in range(len(inp1))]\n",
    "    #print(distance_list)\n",
    "    for i in range(len(inp1)):\n",
    "        tup_val.append((distance_list[i],inp1[i]))\n",
    "    #print(\"---------------------------\")\n",
    "    #print(tup_val)\n",
    "    index=0\n",
    "    sorted_values = sort(tup_val)\n",
    "    neighbours = sorted_values[:k]\n",
    "    return neighbours"
   ]
  },
  {
   "cell_type": "code",
   "execution_count": 306,
   "metadata": {},
   "outputs": [],
   "source": [
    "def last(n):\n",
    "    m =0\n",
    "    return n[m]"
   ]
  },
  {
   "cell_type": "code",
   "execution_count": 307,
   "metadata": {},
   "outputs": [],
   "source": [
    "def sort(tuples):\n",
    "    return sorted(tuples,key=last)"
   ]
  },
  {
   "cell_type": "code",
   "execution_count": 308,
   "metadata": {},
   "outputs": [
    {
     "name": "stdout",
     "output_type": "stream",
     "text": [
      "[(663.522229243301, array([6.14      , 2.80166667, 2.78      ])), (663.6007124267819, array([6.785     , 2.78      , 4.06333333])), (663.7404906788996, array([5.725     , 2.41666667, 4.        ])), (663.900119056574, array([7.175     , 3.925     , 3.37666667])), (664.0178084919438, array([7.        , 2.86666667, 2.83333333]))]\n"
     ]
    },
    {
     "data": {
      "text/plain": [
       "5"
      ]
     },
     "execution_count": 308,
     "metadata": {},
     "output_type": "execute_result"
    }
   ],
   "source": [
    "vals = knn(inp1,5,q_point)\n",
    "print(vals)\n",
    "len(vals)"
   ]
  },
  {
   "cell_type": "code",
   "execution_count": 309,
   "metadata": {},
   "outputs": [
    {
     "name": "stdout",
     "output_type": "stream",
     "text": [
      "(663.522229243301, array([6.14      , 2.80166667, 2.78      ]))\n"
     ]
    }
   ],
   "source": [
    "print(vals[0])"
   ]
  },
  {
   "cell_type": "code",
   "execution_count": 310,
   "metadata": {},
   "outputs": [],
   "source": [
    "near_vals = []\n",
    "for i in range(len(vals)):\n",
    "    near_vals.append(vals[i][1])"
   ]
  },
  {
   "cell_type": "code",
   "execution_count": 311,
   "metadata": {},
   "outputs": [
    {
     "data": {
      "text/plain": [
       "array([[6.14      , 2.80166667, 2.78      ],\n",
       "       [6.785     , 2.78      , 4.06333333],\n",
       "       [5.725     , 2.41666667, 4.        ],\n",
       "       [7.175     , 3.925     , 3.37666667],\n",
       "       [7.        , 2.86666667, 2.83333333]])"
      ]
     },
     "execution_count": 311,
     "metadata": {},
     "output_type": "execute_result"
    }
   ],
   "source": [
    "near_vals = np.array(near_vals)\n",
    "near_vals"
   ]
  },
  {
   "cell_type": "code",
   "execution_count": 312,
   "metadata": {},
   "outputs": [
    {
     "data": {
      "text/plain": [
       "(5, 3)"
      ]
     },
     "execution_count": 312,
     "metadata": {},
     "output_type": "execute_result"
    }
   ],
   "source": [
    "np.shape(near_vals)"
   ]
  },
  {
   "cell_type": "code",
   "execution_count": 313,
   "metadata": {},
   "outputs": [
    {
     "data": {
      "text/plain": [
       "5"
      ]
     },
     "execution_count": 313,
     "metadata": {},
     "output_type": "execute_result"
    }
   ],
   "source": [
    "len(near_vals) "
   ]
  },
  {
   "cell_type": "code",
   "execution_count": 314,
   "metadata": {},
   "outputs": [],
   "source": [
    "def normalize(mcolB, max_val, min_val):\n",
    "    #print(mcolB)\n",
    "    n_val = []\n",
    "    for i in range(len(mcolB)):\n",
    "        n_val.append(float(((mcolB[i] - min_val) / (max_val - min_val))))\n",
    "    return n_val\n",
    "    #return ( (point - m) / () )"
   ]
  },
  {
   "cell_type": "code",
   "execution_count": 315,
   "metadata": {},
   "outputs": [
    {
     "name": "stdout",
     "output_type": "stream",
     "text": [
      "(9, 1)\n",
      "(9, 3)\n",
      "[[2636. ]\n",
      " [1784. ]\n",
      " [1214. ]\n",
      " [ 101. ]\n",
      " [ 538. ]\n",
      " [3563. ]\n",
      " [ 111. ]\n",
      " [ 628. ]\n",
      " [ 472.5]]\n"
     ]
    }
   ],
   "source": [
    "reg_val = []\n",
    "mcolB = []\n",
    "mcolA = []\n",
    "for i in range(len(t_vals)):\n",
    "    if t_vals[i][0] in near_vals:\n",
    "        reg_val.append((t_vals[i][0],t_vals[i][1]))\n",
    "        mcolA.append(t_vals[i][0])\n",
    "        mcolB.append(t_vals[i][1])\n",
    "        #print(\"True\")\n",
    "#print(q_point)\n",
    "#print(reg_val)\n",
    "size_b = len(mcolB)\n",
    "mcolB = np.array(mcolB)\n",
    "mcolA = np.array(mcolA)\n",
    "mcolB = mcolB.reshape((size_b,1))\n",
    "max_val = np.max(mcolB)\n",
    "min_val = np.min(mcolB)\n",
    "print(np.shape(mcolB))\n",
    "print(np.shape(mcolA))\n",
    "#print(mcolA1[0])\n",
    "print(mcolB)"
   ]
  },
  {
   "cell_type": "code",
   "execution_count": 316,
   "metadata": {},
   "outputs": [
    {
     "name": "stdout",
     "output_type": "stream",
     "text": [
      "[0.7322357019064125, 0.4861351819757366, 0.3214904679376083, 0.0, 0.12622761409589833, 1.0, 0.0028885037550548816, 0.15222414789139227, 0.10730791450028886]\n",
      "1.0\n",
      "(9, 1)\n"
     ]
    }
   ],
   "source": [
    "normalized_tar_val = normalize(mcolB,max_val,min_val)\n",
    "print(normalized_tar_val)\n",
    "print(np.max(normalized_tar_val))\n",
    "normalized_tar_val = np.array(normalized_tar_val)\n",
    "normalized_tar_val = normalized_tar_val.reshape(size_b,1)\n",
    "print(np.shape(normalized_tar_val))"
   ]
  },
  {
   "cell_type": "code",
   "execution_count": 317,
   "metadata": {},
   "outputs": [],
   "source": [
    "inp_matrix = mcolA"
   ]
  },
  {
   "cell_type": "code",
   "execution_count": 318,
   "metadata": {},
   "outputs": [],
   "source": [
    "import numpy as np"
   ]
  },
  {
   "cell_type": "code",
   "execution_count": null,
   "metadata": {},
   "outputs": [],
   "source": []
  },
  {
   "cell_type": "code",
   "execution_count": 319,
   "metadata": {},
   "outputs": [],
   "source": [
    "def lwr(inp, out, k):\n",
    "    m,n = np.shape(inp)\n",
    "    ypred = np.zeros(m)\n",
    "    \n",
    "    for i in range(m):\n",
    "        ypred[i] = inp[i] * beta(inp[i], inp, out, k)\n",
    "    #print(\"The final prediction is :\",ypred)\n",
    "    return ypred\n",
    "    "
   ]
  },
  {
   "cell_type": "code",
   "execution_count": 320,
   "metadata": {},
   "outputs": [],
   "source": [
    "def beta(point, inp, out, k):\n",
    "    wt = kernal(point, inp, k)\n",
    "    #print(\"The weight of betas is\",wt)\n",
    "    beta_val = (inp.T * (wt*inp)).I * (inp.T * wt * out)\n",
    "    #print(\"The weight is beta value is\",beta_val)\n",
    "    \n",
    "    return beta_val"
   ]
  },
  {
   "cell_type": "code",
   "execution_count": 321,
   "metadata": {},
   "outputs": [],
   "source": [
    "def kernal(point, inp, k):\n",
    "    l,b = np.shape(inp)\n",
    "    weights = np.mat(np.eye((l)))\n",
    "    #print(weights)\n",
    "    \n",
    "    for i in range(l):\n",
    "        diff = point - inp[i]\n",
    "        #diff = np.array(diff)\n",
    "        #print(len(diff))\n",
    "        diff = diff.reshape(len(diff),1)\n",
    "        #print(np.shape(diff))\n",
    "        #diff1 = diff.T\n",
    "        #print(np.shape(diff.T))\n",
    "        a = np.dot(diff.T,diff)\n",
    "        \n",
    "        #print(a)\n",
    "        #print(np.shape(a))\n",
    "        weights[i,i] = np.exp(np.dot(diff.T,diff) / (-2.0 * (k**2)))\n",
    "        #print(weights[i,i])\n",
    "    #print(\"The weights of\",i,'is',weights[i,i])\n",
    "    \n",
    "    return weights"
   ]
  },
  {
   "cell_type": "code",
   "execution_count": 336,
   "metadata": {},
   "outputs": [
    {
     "name": "stdout",
     "output_type": "stream",
     "text": [
      "[[2636. ]\n",
      " [1784. ]\n",
      " [1214. ]\n",
      " [ 101. ]\n",
      " [ 538. ]\n",
      " [3563. ]\n",
      " [ 111. ]\n",
      " [ 628. ]\n",
      " [ 472.5]]\n",
      "[2604.79097614 1784.06236521 1210.29189933  -48.          538.94565182\n",
      " 3571.2         144.20662889  627.91260681  498.86133725]\n",
      "(9, 1)\n",
      "(9, 3)\n"
     ]
    },
    {
     "ename": "ValueError",
     "evalue": "x and y must be the same size",
     "output_type": "error",
     "traceback": [
      "\u001b[0;31m---------------------------------------------------------------------------\u001b[0m",
      "\u001b[0;31mValueError\u001b[0m                                Traceback (most recent call last)",
      "\u001b[0;32m<ipython-input-336-b84b417690f8>\u001b[0m in \u001b[0;36m<module>\u001b[0;34m\u001b[0m\n\u001b[1;32m     13\u001b[0m \u001b[0mpt\u001b[0m\u001b[0;34m.\u001b[0m\u001b[0mplot\u001b[0m\u001b[0;34m(\u001b[0m\u001b[0mxsort\u001b[0m\u001b[0;34m[\u001b[0m\u001b[0;34m:\u001b[0m\u001b[0;34m,\u001b[0m\u001b[0;36m1\u001b[0m\u001b[0;34m]\u001b[0m\u001b[0;34m,\u001b[0m\u001b[0mypred\u001b[0m\u001b[0;34m[\u001b[0m\u001b[0mmcolA\u001b[0m\u001b[0;34m[\u001b[0m\u001b[0;34m:\u001b[0m\u001b[0;34m,\u001b[0m\u001b[0;36m1\u001b[0m\u001b[0;34m]\u001b[0m\u001b[0;34m.\u001b[0m\u001b[0margsort\u001b[0m\u001b[0;34m(\u001b[0m\u001b[0;36m0\u001b[0m\u001b[0;34m)\u001b[0m\u001b[0;34m]\u001b[0m\u001b[0;34m,\u001b[0m\u001b[0mcolor\u001b[0m \u001b[0;34m=\u001b[0m \u001b[0;34m'yellow'\u001b[0m\u001b[0;34m,\u001b[0m\u001b[0mlinewidth\u001b[0m \u001b[0;34m=\u001b[0m \u001b[0;36m5\u001b[0m\u001b[0;34m)\u001b[0m\u001b[0;31m#ypred[X[:, 1].argsort(0)]\u001b[0m\u001b[0;34m\u001b[0m\u001b[0;34m\u001b[0m\u001b[0m\n\u001b[1;32m     14\u001b[0m \u001b[0max1\u001b[0m\u001b[0;34m.\u001b[0m\u001b[0mset_title\u001b[0m\u001b[0;34m(\u001b[0m\u001b[0;34m'Sharing Y axis'\u001b[0m\u001b[0;34m)\u001b[0m\u001b[0;34m\u001b[0m\u001b[0;34m\u001b[0m\u001b[0m\n\u001b[0;32m---> 15\u001b[0;31m \u001b[0max2\u001b[0m\u001b[0;34m.\u001b[0m\u001b[0mscatter\u001b[0m\u001b[0;34m(\u001b[0m\u001b[0mmcolA\u001b[0m\u001b[0;34m,\u001b[0m \u001b[0mmcolB\u001b[0m\u001b[0;34m)\u001b[0m\u001b[0;34m\u001b[0m\u001b[0;34m\u001b[0m\u001b[0m\n\u001b[0m\u001b[1;32m     16\u001b[0m \u001b[0;34m\u001b[0m\u001b[0m\n\u001b[1;32m     17\u001b[0m \u001b[0mpt\u001b[0m\u001b[0;34m.\u001b[0m\u001b[0mscatter\u001b[0m\u001b[0;34m(\u001b[0m\u001b[0mmcolA\u001b[0m\u001b[0;34m,\u001b[0m\u001b[0mmcolB\u001b[0m\u001b[0;34m,\u001b[0m\u001b[0mcolor\u001b[0m \u001b[0;34m=\u001b[0m \u001b[0;34m'blue'\u001b[0m\u001b[0;34m)\u001b[0m\u001b[0;34m\u001b[0m\u001b[0;34m\u001b[0m\u001b[0m\n",
      "\u001b[0;32m~/PycharmProjects/untitled1/venv/lib/python3.7/site-packages/matplotlib/__init__.py\u001b[0m in \u001b[0;36minner\u001b[0;34m(ax, data, *args, **kwargs)\u001b[0m\n\u001b[1;32m   1597\u001b[0m     \u001b[0;32mdef\u001b[0m \u001b[0minner\u001b[0m\u001b[0;34m(\u001b[0m\u001b[0max\u001b[0m\u001b[0;34m,\u001b[0m \u001b[0;34m*\u001b[0m\u001b[0margs\u001b[0m\u001b[0;34m,\u001b[0m \u001b[0mdata\u001b[0m\u001b[0;34m=\u001b[0m\u001b[0;32mNone\u001b[0m\u001b[0;34m,\u001b[0m \u001b[0;34m**\u001b[0m\u001b[0mkwargs\u001b[0m\u001b[0;34m)\u001b[0m\u001b[0;34m:\u001b[0m\u001b[0;34m\u001b[0m\u001b[0;34m\u001b[0m\u001b[0m\n\u001b[1;32m   1598\u001b[0m         \u001b[0;32mif\u001b[0m \u001b[0mdata\u001b[0m \u001b[0;32mis\u001b[0m \u001b[0;32mNone\u001b[0m\u001b[0;34m:\u001b[0m\u001b[0;34m\u001b[0m\u001b[0;34m\u001b[0m\u001b[0m\n\u001b[0;32m-> 1599\u001b[0;31m             \u001b[0;32mreturn\u001b[0m \u001b[0mfunc\u001b[0m\u001b[0;34m(\u001b[0m\u001b[0max\u001b[0m\u001b[0;34m,\u001b[0m \u001b[0;34m*\u001b[0m\u001b[0mmap\u001b[0m\u001b[0;34m(\u001b[0m\u001b[0msanitize_sequence\u001b[0m\u001b[0;34m,\u001b[0m \u001b[0margs\u001b[0m\u001b[0;34m)\u001b[0m\u001b[0;34m,\u001b[0m \u001b[0;34m**\u001b[0m\u001b[0mkwargs\u001b[0m\u001b[0;34m)\u001b[0m\u001b[0;34m\u001b[0m\u001b[0;34m\u001b[0m\u001b[0m\n\u001b[0m\u001b[1;32m   1600\u001b[0m \u001b[0;34m\u001b[0m\u001b[0m\n\u001b[1;32m   1601\u001b[0m         \u001b[0mbound\u001b[0m \u001b[0;34m=\u001b[0m \u001b[0mnew_sig\u001b[0m\u001b[0;34m.\u001b[0m\u001b[0mbind\u001b[0m\u001b[0;34m(\u001b[0m\u001b[0max\u001b[0m\u001b[0;34m,\u001b[0m \u001b[0;34m*\u001b[0m\u001b[0margs\u001b[0m\u001b[0;34m,\u001b[0m \u001b[0;34m**\u001b[0m\u001b[0mkwargs\u001b[0m\u001b[0;34m)\u001b[0m\u001b[0;34m\u001b[0m\u001b[0;34m\u001b[0m\u001b[0m\n",
      "\u001b[0;32m~/PycharmProjects/untitled1/venv/lib/python3.7/site-packages/matplotlib/axes/_axes.py\u001b[0m in \u001b[0;36mscatter\u001b[0;34m(self, x, y, s, c, marker, cmap, norm, vmin, vmax, alpha, linewidths, verts, edgecolors, plotnonfinite, **kwargs)\u001b[0m\n\u001b[1;32m   4441\u001b[0m         \u001b[0my\u001b[0m \u001b[0;34m=\u001b[0m \u001b[0mnp\u001b[0m\u001b[0;34m.\u001b[0m\u001b[0mma\u001b[0m\u001b[0;34m.\u001b[0m\u001b[0mravel\u001b[0m\u001b[0;34m(\u001b[0m\u001b[0my\u001b[0m\u001b[0;34m)\u001b[0m\u001b[0;34m\u001b[0m\u001b[0;34m\u001b[0m\u001b[0m\n\u001b[1;32m   4442\u001b[0m         \u001b[0;32mif\u001b[0m \u001b[0mx\u001b[0m\u001b[0;34m.\u001b[0m\u001b[0msize\u001b[0m \u001b[0;34m!=\u001b[0m \u001b[0my\u001b[0m\u001b[0;34m.\u001b[0m\u001b[0msize\u001b[0m\u001b[0;34m:\u001b[0m\u001b[0;34m\u001b[0m\u001b[0;34m\u001b[0m\u001b[0m\n\u001b[0;32m-> 4443\u001b[0;31m             \u001b[0;32mraise\u001b[0m \u001b[0mValueError\u001b[0m\u001b[0;34m(\u001b[0m\u001b[0;34m\"x and y must be the same size\"\u001b[0m\u001b[0;34m)\u001b[0m\u001b[0;34m\u001b[0m\u001b[0;34m\u001b[0m\u001b[0m\n\u001b[0m\u001b[1;32m   4444\u001b[0m \u001b[0;34m\u001b[0m\u001b[0m\n\u001b[1;32m   4445\u001b[0m         \u001b[0;32mif\u001b[0m \u001b[0ms\u001b[0m \u001b[0;32mis\u001b[0m \u001b[0;32mNone\u001b[0m\u001b[0;34m:\u001b[0m\u001b[0;34m\u001b[0m\u001b[0;34m\u001b[0m\u001b[0m\n",
      "\u001b[0;31mValueError\u001b[0m: x and y must be the same size"
     ]
    },
    {
     "data": {
      "image/png": "[encoded data removed]",
      "text/plain": [
       "<Figure size 432x288 with 2 Axes>"
      ]
     },
     "metadata": {
      "needs_background": "light"
     },
     "output_type": "display_data"
    }
   ],
   "source": [
    "#mcolB = normalized_tar_val\n",
    "ypred = lwr(inp_matrix, mcolB, 0.4)\n",
    "print(mcolB)\n",
    "#print(normalized_tar_val)\n",
    "print(ypred)\n",
    "print(np.shape(mcolB))\n",
    "\n",
    "xsort = inp_matrix.copy()\n",
    "xsort.sort(axis = 0)\n",
    "print(np.shape(mcolA))\n",
    "\n",
    "f, (ax1, ax2) = pt.subplots(1, 2, sharey=True)\n",
    "pt.plot(xsort[:,1],ypred[mcolA[:,1].argsort(0)],color = 'yellow',linewidth = 5)#ypred[X[:, 1].argsort(0)]\n",
    "ax1.set_title('Sharing Y axis')\n",
    "ax2.scatter(mcolA, mcolB)\n",
    "\n",
    "pt.scatter(mcolA,mcolB,color = 'blue')\n",
    "pt.plot(xsort[:,1],ypred[mcolA[:,1].argsort(0)],color = 'yellow',linewidth = 5)#ypred[X[:, 1].argsort(0)]\n",
    "#pt.plot(xsort[:, 1], ypred[X[:, 1].argsort(0)], color='yellow', linewidth=5)\n",
    "pt.xlabel('MADIKERI')\n",
    "pt.ylabel('Inflow')"
   ]
  },
  {
   "cell_type": "code",
   "execution_count": 323,
   "metadata": {},
   "outputs": [],
   "source": [
    "from sklearn import metrics"
   ]
  },
  {
   "cell_type": "code",
   "execution_count": 324,
   "metadata": {},
   "outputs": [
    {
     "ename": "ValueError",
     "evalue": "continuous is not supported",
     "output_type": "error",
     "traceback": [
      "\u001b[0;31m---------------------------------------------------------------------------\u001b[0m",
      "\u001b[0;31mValueError\u001b[0m                                Traceback (most recent call last)",
      "\u001b[0;32m<ipython-input-324-564def4917db>\u001b[0m in \u001b[0;36m<module>\u001b[0;34m\u001b[0m\n\u001b[0;32m----> 1\u001b[0;31m \u001b[0mmetrics\u001b[0m\u001b[0;34m.\u001b[0m\u001b[0maccuracy_score\u001b[0m\u001b[0;34m(\u001b[0m\u001b[0mmcolB\u001b[0m\u001b[0;34m,\u001b[0m \u001b[0mypred\u001b[0m\u001b[0;34m)\u001b[0m\u001b[0;34m\u001b[0m\u001b[0;34m\u001b[0m\u001b[0m\n\u001b[0m",
      "\u001b[0;32m~/PycharmProjects/untitled1/venv/lib/python3.7/site-packages/sklearn/metrics/_classification.py\u001b[0m in \u001b[0;36maccuracy_score\u001b[0;34m(y_true, y_pred, normalize, sample_weight)\u001b[0m\n\u001b[1;32m    183\u001b[0m \u001b[0;34m\u001b[0m\u001b[0m\n\u001b[1;32m    184\u001b[0m     \u001b[0;31m# Compute accuracy for each possible representation\u001b[0m\u001b[0;34m\u001b[0m\u001b[0;34m\u001b[0m\u001b[0;34m\u001b[0m\u001b[0m\n\u001b[0;32m--> 185\u001b[0;31m     \u001b[0my_type\u001b[0m\u001b[0;34m,\u001b[0m \u001b[0my_true\u001b[0m\u001b[0;34m,\u001b[0m \u001b[0my_pred\u001b[0m \u001b[0;34m=\u001b[0m \u001b[0m_check_targets\u001b[0m\u001b[0;34m(\u001b[0m\u001b[0my_true\u001b[0m\u001b[0;34m,\u001b[0m \u001b[0my_pred\u001b[0m\u001b[0;34m)\u001b[0m\u001b[0;34m\u001b[0m\u001b[0;34m\u001b[0m\u001b[0m\n\u001b[0m\u001b[1;32m    186\u001b[0m     \u001b[0mcheck_consistent_length\u001b[0m\u001b[0;34m(\u001b[0m\u001b[0my_true\u001b[0m\u001b[0;34m,\u001b[0m \u001b[0my_pred\u001b[0m\u001b[0;34m,\u001b[0m \u001b[0msample_weight\u001b[0m\u001b[0;34m)\u001b[0m\u001b[0;34m\u001b[0m\u001b[0;34m\u001b[0m\u001b[0m\n\u001b[1;32m    187\u001b[0m     \u001b[0;32mif\u001b[0m \u001b[0my_type\u001b[0m\u001b[0;34m.\u001b[0m\u001b[0mstartswith\u001b[0m\u001b[0;34m(\u001b[0m\u001b[0;34m'multilabel'\u001b[0m\u001b[0;34m)\u001b[0m\u001b[0;34m:\u001b[0m\u001b[0;34m\u001b[0m\u001b[0;34m\u001b[0m\u001b[0m\n",
      "\u001b[0;32m~/PycharmProjects/untitled1/venv/lib/python3.7/site-packages/sklearn/metrics/_classification.py\u001b[0m in \u001b[0;36m_check_targets\u001b[0;34m(y_true, y_pred)\u001b[0m\n\u001b[1;32m     95\u001b[0m     \u001b[0;31m# No metrics support \"multiclass-multioutput\" format\u001b[0m\u001b[0;34m\u001b[0m\u001b[0;34m\u001b[0m\u001b[0;34m\u001b[0m\u001b[0m\n\u001b[1;32m     96\u001b[0m     \u001b[0;32mif\u001b[0m \u001b[0;34m(\u001b[0m\u001b[0my_type\u001b[0m \u001b[0;32mnot\u001b[0m \u001b[0;32min\u001b[0m \u001b[0;34m[\u001b[0m\u001b[0;34m\"binary\"\u001b[0m\u001b[0;34m,\u001b[0m \u001b[0;34m\"multiclass\"\u001b[0m\u001b[0;34m,\u001b[0m \u001b[0;34m\"multilabel-indicator\"\u001b[0m\u001b[0;34m]\u001b[0m\u001b[0;34m)\u001b[0m\u001b[0;34m:\u001b[0m\u001b[0;34m\u001b[0m\u001b[0;34m\u001b[0m\u001b[0m\n\u001b[0;32m---> 97\u001b[0;31m         \u001b[0;32mraise\u001b[0m \u001b[0mValueError\u001b[0m\u001b[0;34m(\u001b[0m\u001b[0;34m\"{0} is not supported\"\u001b[0m\u001b[0;34m.\u001b[0m\u001b[0mformat\u001b[0m\u001b[0;34m(\u001b[0m\u001b[0my_type\u001b[0m\u001b[0;34m)\u001b[0m\u001b[0;34m)\u001b[0m\u001b[0;34m\u001b[0m\u001b[0;34m\u001b[0m\u001b[0m\n\u001b[0m\u001b[1;32m     98\u001b[0m \u001b[0;34m\u001b[0m\u001b[0m\n\u001b[1;32m     99\u001b[0m     \u001b[0;32mif\u001b[0m \u001b[0my_type\u001b[0m \u001b[0;32min\u001b[0m \u001b[0;34m[\u001b[0m\u001b[0;34m\"binary\"\u001b[0m\u001b[0;34m,\u001b[0m \u001b[0;34m\"multiclass\"\u001b[0m\u001b[0;34m]\u001b[0m\u001b[0;34m:\u001b[0m\u001b[0;34m\u001b[0m\u001b[0;34m\u001b[0m\u001b[0m\n",
      "\u001b[0;31mValueError\u001b[0m: continuous is not supported"
     ]
    }
   ],
   "source": [
    "metrics.accuracy_score(mcolB, ypred)"
   ]
  },
  {
   "cell_type": "code",
   "execution_count": 337,
   "metadata": {},
   "outputs": [
    {
     "data": {
      "text/plain": [
       "52.7620436691333"
      ]
     },
     "execution_count": 337,
     "metadata": {},
     "output_type": "execute_result"
    }
   ],
   "source": [
    "import math\n",
    "math.sqrt(metrics.mean_squared_error(mcolB,ypred))"
   ]
  },
  {
   "cell_type": "code",
   "execution_count": null,
   "metadata": {},
   "outputs": [],
   "source": []
  }
 ],
 "metadata": {
  "kernelspec": {
   "display_name": "Python 3",
   "language": "python",
   "name": "python3"
  },
  "language_info": {
   "codemirror_mode": {
    "name": "ipython",
    "version": 3
   },
   "file_extension": ".py",
   "mimetype": "text/x-python",
   "name": "python",
   "nbconvert_exporter": "python",
   "pygments_lexer": "ipython3",
   "version": "3.7.5rc1"
  }
 },
 "nbformat": 4,
 "nbformat_minor": 2
}
