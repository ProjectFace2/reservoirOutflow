{
 "cells": [
  {
   "cell_type": "code",
   "execution_count": 517,
   "metadata": {},
   "outputs": [],
   "source": [
    "import numpy as np\n",
    "import pandas as pd\n",
    "import matplotlib.pyplot as pt"
   ]
  },
  {
   "cell_type": "code",
   "execution_count": 518,
   "metadata": {},
   "outputs": [],
   "source": [
    "#inp1 = np.array([[1,2,3],[4,5,6],[7,8,9],[4,3,6],[7,8,9],[0,5,6]])\n",
    "#q_point = np.array([[5,7,2],[10,20,30]])\n",
    "#q_point\n",
    "\n",
    "data = pd.read_csv('/home/ganesh/Downloads/kodaguAllYearRainDam.csv')"
   ]
  },
  {
   "cell_type": "code",
   "execution_count": 519,
   "metadata": {},
   "outputs": [
    {
     "data": {
      "text/html": [
       "<div>\n",
       "<style scoped>\n",
       "    .dataframe tbody tr th:only-of-type {\n",
       "        vertical-align: middle;\n",
       "    }\n",
       "\n",
       "    .dataframe tbody tr th {\n",
       "        vertical-align: top;\n",
       "    }\n",
       "\n",
       "    .dataframe thead th {\n",
       "        text-align: right;\n",
       "    }\n",
       "</style>\n",
       "<table border=\"1\" class=\"dataframe\">\n",
       "  <thead>\n",
       "    <tr style=\"text-align: right;\">\n",
       "      <th></th>\n",
       "      <th>RCDATE</th>\n",
       "      <th>Present Storage(TMC)</th>\n",
       "      <th>Reservoir Level(TMC)</th>\n",
       "      <th>Inflow</th>\n",
       "      <th>Outflow</th>\n",
       "      <th>MADIKERI</th>\n",
       "      <th>SOMWARPET</th>\n",
       "      <th>VIRAJPET</th>\n",
       "    </tr>\n",
       "  </thead>\n",
       "  <tbody>\n",
       "    <tr>\n",
       "      <th>0</th>\n",
       "      <td>2011-06-01</td>\n",
       "      <td>3.800</td>\n",
       "      <td>2836.460</td>\n",
       "      <td>15.0</td>\n",
       "      <td>0.0</td>\n",
       "      <td>0.6250</td>\n",
       "      <td>0.083333</td>\n",
       "      <td>0.000000</td>\n",
       "    </tr>\n",
       "    <tr>\n",
       "      <th>1</th>\n",
       "      <td>2011-06-02</td>\n",
       "      <td>3.790</td>\n",
       "      <td>2836.410</td>\n",
       "      <td>27.0</td>\n",
       "      <td>0.0</td>\n",
       "      <td>14.2500</td>\n",
       "      <td>5.166667</td>\n",
       "      <td>17.333333</td>\n",
       "    </tr>\n",
       "    <tr>\n",
       "      <th>2</th>\n",
       "      <td>2011-06-03</td>\n",
       "      <td>3.800</td>\n",
       "      <td>2836.450</td>\n",
       "      <td>63.0</td>\n",
       "      <td>0.0</td>\n",
       "      <td>44.2500</td>\n",
       "      <td>10.666667</td>\n",
       "      <td>46.916667</td>\n",
       "    </tr>\n",
       "    <tr>\n",
       "      <th>3</th>\n",
       "      <td>2011-06-04</td>\n",
       "      <td>3.810</td>\n",
       "      <td>2836.580</td>\n",
       "      <td>172.0</td>\n",
       "      <td>0.0</td>\n",
       "      <td>40.2500</td>\n",
       "      <td>14.500000</td>\n",
       "      <td>33.666667</td>\n",
       "    </tr>\n",
       "    <tr>\n",
       "      <th>4</th>\n",
       "      <td>2011-06-05</td>\n",
       "      <td>3.820</td>\n",
       "      <td>2836.650</td>\n",
       "      <td>100.0</td>\n",
       "      <td>0.0</td>\n",
       "      <td>34.2500</td>\n",
       "      <td>9.166667</td>\n",
       "      <td>34.666667</td>\n",
       "    </tr>\n",
       "    <tr>\n",
       "      <th>...</th>\n",
       "      <td>...</td>\n",
       "      <td>...</td>\n",
       "      <td>...</td>\n",
       "      <td>...</td>\n",
       "      <td>...</td>\n",
       "      <td>...</td>\n",
       "      <td>...</td>\n",
       "      <td>...</td>\n",
       "    </tr>\n",
       "    <tr>\n",
       "      <th>1219</th>\n",
       "      <td>2018-10-27</td>\n",
       "      <td>5.500</td>\n",
       "      <td>2848.140</td>\n",
       "      <td>140.0</td>\n",
       "      <td>1250.0</td>\n",
       "      <td>0.0000</td>\n",
       "      <td>0.036667</td>\n",
       "      <td>0.056667</td>\n",
       "    </tr>\n",
       "    <tr>\n",
       "      <th>1220</th>\n",
       "      <td>2018-10-28</td>\n",
       "      <td>5.390</td>\n",
       "      <td>2847.640</td>\n",
       "      <td>136.0</td>\n",
       "      <td>1287.5</td>\n",
       "      <td>0.0000</td>\n",
       "      <td>0.000000</td>\n",
       "      <td>0.000000</td>\n",
       "    </tr>\n",
       "    <tr>\n",
       "      <th>1221</th>\n",
       "      <td>2018-10-29</td>\n",
       "      <td>5.280</td>\n",
       "      <td>2847.140</td>\n",
       "      <td>132.0</td>\n",
       "      <td>1325.0</td>\n",
       "      <td>0.0000</td>\n",
       "      <td>0.000000</td>\n",
       "      <td>0.016667</td>\n",
       "    </tr>\n",
       "    <tr>\n",
       "      <th>1222</th>\n",
       "      <td>2018-10-30</td>\n",
       "      <td>5.145</td>\n",
       "      <td>2846.525</td>\n",
       "      <td>131.0</td>\n",
       "      <td>1425.0</td>\n",
       "      <td>0.0375</td>\n",
       "      <td>0.016667</td>\n",
       "      <td>0.063333</td>\n",
       "    </tr>\n",
       "    <tr>\n",
       "      <th>1223</th>\n",
       "      <td>2018-10-31</td>\n",
       "      <td>5.010</td>\n",
       "      <td>2845.910</td>\n",
       "      <td>130.0</td>\n",
       "      <td>1525.0</td>\n",
       "      <td>0.0000</td>\n",
       "      <td>0.000000</td>\n",
       "      <td>0.000000</td>\n",
       "    </tr>\n",
       "  </tbody>\n",
       "</table>\n",
       "<p>1224 rows × 8 columns</p>\n",
       "</div>"
      ],
      "text/plain": [
       "          RCDATE  Present Storage(TMC)  Reservoir Level(TMC)  Inflow  Outflow  \\\n",
       "0     2011-06-01                 3.800              2836.460    15.0      0.0   \n",
       "1     2011-06-02                 3.790              2836.410    27.0      0.0   \n",
       "2     2011-06-03                 3.800              2836.450    63.0      0.0   \n",
       "3     2011-06-04                 3.810              2836.580   172.0      0.0   \n",
       "4     2011-06-05                 3.820              2836.650   100.0      0.0   \n",
       "...          ...                   ...                   ...     ...      ...   \n",
       "1219  2018-10-27                 5.500              2848.140   140.0   1250.0   \n",
       "1220  2018-10-28                 5.390              2847.640   136.0   1287.5   \n",
       "1221  2018-10-29                 5.280              2847.140   132.0   1325.0   \n",
       "1222  2018-10-30                 5.145              2846.525   131.0   1425.0   \n",
       "1223  2018-10-31                 5.010              2845.910   130.0   1525.0   \n",
       "\n",
       "      MADIKERI  SOMWARPET   VIRAJPET  \n",
       "0       0.6250   0.083333   0.000000  \n",
       "1      14.2500   5.166667  17.333333  \n",
       "2      44.2500  10.666667  46.916667  \n",
       "3      40.2500  14.500000  33.666667  \n",
       "4      34.2500   9.166667  34.666667  \n",
       "...        ...        ...        ...  \n",
       "1219    0.0000   0.036667   0.056667  \n",
       "1220    0.0000   0.000000   0.000000  \n",
       "1221    0.0000   0.000000   0.016667  \n",
       "1222    0.0375   0.016667   0.063333  \n",
       "1223    0.0000   0.000000   0.000000  \n",
       "\n",
       "[1224 rows x 8 columns]"
      ]
     },
     "execution_count": 519,
     "metadata": {},
     "output_type": "execute_result"
    }
   ],
   "source": [
    "data"
   ]
  },
  {
   "cell_type": "code",
   "execution_count": 524,
   "metadata": {},
   "outputs": [
    {
     "name": "stdout",
     "output_type": "stream",
     "text": [
      "(1224, 3)\n",
      "(1224,)\n",
      "[14.25        5.16666667 17.33333333]\n"
     ]
    },
    {
     "data": {
      "text/plain": [
       "(1224, 2)"
      ]
     },
     "execution_count": 524,
     "metadata": {},
     "output_type": "execute_result"
    }
   ],
   "source": [
    "colA = np.array(data.loc[:,['MADIKERI','SOMWARPET','VIRAJPET']])\n",
    "colB = np.array(data['Inflow'])\n",
    "\n",
    "l,b = np.shape(colA)\n",
    "l,b\n",
    "print(np.shape(colA))\n",
    "print(np.shape(colB))\n",
    "colA\n",
    "colB = colB.T\n",
    "t_vals = []\n",
    "for i in range(l):\n",
    "    a = colA[i]\n",
    "    b = colB[i]\n",
    "    t_vals.append((a,b))\n",
    "#t_vals = np.array(t_vals)\n",
    "print(t_vals[1][0])\n",
    "np.shape(t_vals)\n"
   ]
  },
  {
   "cell_type": "code",
   "execution_count": 521,
   "metadata": {},
   "outputs": [
    {
     "data": {
      "text/plain": [
       "3"
      ]
     },
     "execution_count": 521,
     "metadata": {},
     "output_type": "execute_result"
    }
   ],
   "source": [
    "len(colA[0])"
   ]
  },
  {
   "cell_type": "code",
   "execution_count": 522,
   "metadata": {},
   "outputs": [],
   "source": [
    "q_point = np.array([29.932934,4.1892731,27.1823912])"
   ]
  },
  {
   "cell_type": "code",
   "execution_count": 523,
   "metadata": {},
   "outputs": [],
   "source": [
    "inp1 = colA"
   ]
  },
  {
   "cell_type": "code",
   "execution_count": null,
   "metadata": {},
   "outputs": [],
   "source": []
  },
  {
   "cell_type": "code",
   "execution_count": null,
   "metadata": {},
   "outputs": [],
   "source": []
  },
  {
   "cell_type": "code",
   "execution_count": null,
   "metadata": {},
   "outputs": [],
   "source": []
  },
  {
   "cell_type": "code",
   "execution_count": null,
   "metadata": {},
   "outputs": [],
   "source": []
  },
  {
   "cell_type": "code",
   "execution_count": null,
   "metadata": {},
   "outputs": [],
   "source": []
  },
  {
   "cell_type": "code",
   "execution_count": null,
   "metadata": {},
   "outputs": [],
   "source": []
  },
  {
   "cell_type": "code",
   "execution_count": 433,
   "metadata": {},
   "outputs": [],
   "source": [
    "def cal_eucledian_distance(q_point,inp1):\n",
    "    #print(q_point,inp1)\n",
    "    return np.linalg.norm(q_point - inp1)"
   ]
  },
  {
   "cell_type": "code",
   "execution_count": 434,
   "metadata": {},
   "outputs": [],
   "source": [
    "def knn(inp1,k,q_point):\n",
    "    tup_val = []\n",
    "    distance_list = [cal_eucledian_distance(q_point,inp1[i]) for i in range(len(inp1))]\n",
    "    #print(distance_list)\n",
    "    for i in range(len(inp1)):\n",
    "        tup_val.append((distance_list[i],inp1[i]))\n",
    "    #print(\"---------------------------\")\n",
    "    #print(tup_val)\n",
    "    index=0\n",
    "    sorted_values = sort(tup_val)\n",
    "    neighbours = sorted_values[:k]\n",
    "    return neighbours"
   ]
  },
  {
   "cell_type": "code",
   "execution_count": 435,
   "metadata": {},
   "outputs": [],
   "source": [
    "def last(n):\n",
    "    return n[m]"
   ]
  },
  {
   "cell_type": "code",
   "execution_count": 436,
   "metadata": {},
   "outputs": [],
   "source": [
    "def sort(tuples):\n",
    "    return sorted(tuples,key=last)"
   ]
  },
  {
   "cell_type": "code",
   "execution_count": 444,
   "metadata": {},
   "outputs": [
    {
     "name": "stdout",
     "output_type": "stream",
     "text": [
      "[(3.25699431908885, array([27.725,  3.95 , 24.8  ])), (5.811509521890287, array([34.6275    ,  5.68333333, 30.265     ])), (7.528627818321159, array([27.35      , 11.16666667, 28.33333333])), (7.706105006142089, array([34.5       ,  9.08333333, 31.        ])), (7.884201319313577, array([30.25      , 10.91666667, 23.08333333]))]\n"
     ]
    },
    {
     "data": {
      "text/plain": [
       "5"
      ]
     },
     "execution_count": 444,
     "metadata": {},
     "output_type": "execute_result"
    }
   ],
   "source": [
    "vals = knn(inp1,5,q_point)\n",
    "print(vals)\n",
    "len(vals)"
   ]
  },
  {
   "cell_type": "code",
   "execution_count": 438,
   "metadata": {},
   "outputs": [
    {
     "name": "stdout",
     "output_type": "stream",
     "text": [
      "(3.25699431908885, array([27.725,  3.95 , 24.8  ]))\n"
     ]
    }
   ],
   "source": [
    "print(vals[0])"
   ]
  },
  {
   "cell_type": "code",
   "execution_count": 439,
   "metadata": {},
   "outputs": [],
   "source": [
    "near_vals = []\n",
    "for i in range(len(vals)):\n",
    "    near_vals.append(vals[i][1])"
   ]
  },
  {
   "cell_type": "code",
   "execution_count": 440,
   "metadata": {},
   "outputs": [
    {
     "data": {
      "text/plain": [
       "array([27.725,  3.95 , 24.8  ])"
      ]
     },
     "execution_count": 440,
     "metadata": {},
     "output_type": "execute_result"
    }
   ],
   "source": [
    "near_vals = np.array(near_vals)\n",
    "near_vals[0]"
   ]
  },
  {
   "cell_type": "code",
   "execution_count": 441,
   "metadata": {},
   "outputs": [
    {
     "data": {
      "text/plain": [
       "(5, 3)"
      ]
     },
     "execution_count": 441,
     "metadata": {},
     "output_type": "execute_result"
    }
   ],
   "source": [
    "np.shape(near_vals)"
   ]
  },
  {
   "cell_type": "code",
   "execution_count": 447,
   "metadata": {},
   "outputs": [
    {
     "data": {
      "text/plain": [
       "5"
      ]
     },
     "execution_count": 447,
     "metadata": {},
     "output_type": "execute_result"
    }
   ],
   "source": [
    "len(near_vals) "
   ]
  },
  {
   "cell_type": "code",
   "execution_count": 595,
   "metadata": {},
   "outputs": [
    {
     "name": "stdout",
     "output_type": "stream",
     "text": [
      "(7, 1)\n",
      "(7, 3)\n",
      "[34.5         9.08333333 31.        ]\n",
      "[ 268.  220.  593. 1906. 2178. 1942.  914.]\n"
     ]
    }
   ],
   "source": [
    "reg_val = []\n",
    "mcolB = []\n",
    "mcolA = []\n",
    "for i in range(len(t_vals)):\n",
    "    if t_vals[i][0] in near_vals:\n",
    "        reg_val.append((t_vals[i][0],t_vals[i][1]))\n",
    "        mcolA.append(t_vals[i][0])\n",
    "        mcolB.append(t_vals[i][1])\n",
    "        #print(\"True\")\n",
    "#print(q_point)\n",
    "#print(reg_val)\n",
    "size_b = len(mcolB)\n",
    "mcolB = np.array(mcolB)\n",
    "mcolA = np.array(mcolA)\n",
    "mcolB = mcolB.reshape((size_b,1))\n",
    "max_val = np.max(mcolB)\n",
    "min_val = np.min(mcolB)\n",
    "print(np.shape(mcolB))\n",
    "print(np.shape(mcolA))\n",
    "print(mcolA1[0])\n",
    "print(mcolB1)"
   ]
  },
  {
   "cell_type": "code",
   "execution_count": 543,
   "metadata": {},
   "outputs": [
    {
     "name": "stdout",
     "output_type": "stream",
     "text": [
      "[0.024514811031664963, 0.0, 0.19050051072522983, 0.8610827374872319, 1.0, 0.8794688457609806, 0.35444330949948927]\n",
      "1.0\n",
      "(7, 1)\n"
     ]
    }
   ],
   "source": [
    "normalized_tar_val = normalize(mcolB,max_val,min_val)\n",
    "print(normalized_tar_val)\n",
    "print(np.max(normalized_tar_val))\n",
    "normalized_tar_val = np.array(normalized_tar_val)\n",
    "normalized_tar_val = normalized_tar_val.reshape(size_b,1)\n",
    "print(np.shape(normalized_tar_val))"
   ]
  },
  {
   "cell_type": "code",
   "execution_count": 469,
   "metadata": {},
   "outputs": [],
   "source": [
    "inp_matrix = mcolA"
   ]
  },
  {
   "cell_type": "code",
   "execution_count": 510,
   "metadata": {},
   "outputs": [],
   "source": [
    "import numpy as np"
   ]
  },
  {
   "cell_type": "code",
   "execution_count": null,
   "metadata": {},
   "outputs": [],
   "source": []
  },
  {
   "cell_type": "code",
   "execution_count": 607,
   "metadata": {},
   "outputs": [],
   "source": [
    "def normalize(mcolB, max_val, min_val):\n",
    "    #print(mcolB)\n",
    "    n_val = []\n",
    "    for i in range(len(mcolB)):\n",
    "        n_val.append(float(((mcolB[i] - min_val) / (max_val - min_val))))\n",
    "    return n_val\n",
    "    #return ( (point - m) / () )"
   ]
  },
  {
   "cell_type": "code",
   "execution_count": 608,
   "metadata": {},
   "outputs": [],
   "source": [
    "def lwr(inp, out, k):\n",
    "    m,n = np.shape(inp)\n",
    "    ypred = np.zeros(m)\n",
    "    \n",
    "    for i in range(m):\n",
    "        ypred[i] = inp[i] * beta(inp[i], inp, out, k)\n",
    "    #print(\"The final prediction is :\",ypred)\n",
    "    return ypred\n",
    "    "
   ]
  },
  {
   "cell_type": "code",
   "execution_count": 609,
   "metadata": {},
   "outputs": [],
   "source": [
    "def beta(point, inp, out, k):\n",
    "    wt = kernal(point, inp, k)\n",
    "    #print(\"The weight of betas is\",wt)\n",
    "    beta_val = (inp.T * (wt*inp)).I * (inp.T * wt * out)\n",
    "    #print(\"The weight is beta value is\",beta_val)\n",
    "    \n",
    "    return beta_val"
   ]
  },
  {
   "cell_type": "code",
   "execution_count": 610,
   "metadata": {},
   "outputs": [],
   "source": [
    "def kernal(point, inp, k):\n",
    "    l,b = np.shape(inp)\n",
    "    weights = np.mat(np.eye((l)))\n",
    "    #print(weights)\n",
    "    \n",
    "    for i in range(l):\n",
    "        diff = point - inp[i]\n",
    "        #diff = np.array(diff)\n",
    "        #print(len(diff))\n",
    "        diff = diff.reshape(len(diff),1)\n",
    "        #print(np.shape(diff))\n",
    "        #diff1 = diff.T\n",
    "        #print(np.shape(diff.T))\n",
    "        a = np.dot(diff.T,diff)\n",
    "        \n",
    "        #print(a)\n",
    "        #print(np.shape(a))\n",
    "        weights[i,i] = np.exp(np.dot(diff.T,diff) / (-2.0 * (k**2)))\n",
    "        #print(weights[i,i])\n",
    "    #print(\"The weights of\",i,'is',weights[i,i])\n",
    "    \n",
    "    return weights"
   ]
  },
  {
   "cell_type": "code",
   "execution_count": 625,
   "metadata": {},
   "outputs": [
    {
     "name": "stdout",
     "output_type": "stream",
     "text": [
      "[ 268.  220.  593. 1906. 2178. 1942.  914.]\n",
      "[1106.75871948  895.64445685  649.51079874 1285.80015914 1251.20417202\n",
      " 1905.67154253 1095.46727671]\n",
      "(7, 1)\n",
      "(7, 3)\n"
     ]
    },
    {
     "ename": "ValueError",
     "evalue": "x and y must be the same size",
     "output_type": "error",
     "traceback": [
      "\u001b[0;31m---------------------------------------------------------------------------\u001b[0m",
      "\u001b[0;31mValueError\u001b[0m                                Traceback (most recent call last)",
      "\u001b[0;32m<ipython-input-625-53f4506783ec>\u001b[0m in \u001b[0;36m<module>\u001b[0;34m\u001b[0m\n\u001b[1;32m     11\u001b[0m \u001b[0mpt\u001b[0m\u001b[0;34m.\u001b[0m\u001b[0mplot\u001b[0m\u001b[0;34m(\u001b[0m\u001b[0mxsort\u001b[0m\u001b[0;34m[\u001b[0m\u001b[0;34m:\u001b[0m\u001b[0;34m,\u001b[0m\u001b[0;36m1\u001b[0m\u001b[0;34m]\u001b[0m\u001b[0;34m,\u001b[0m\u001b[0mypred\u001b[0m\u001b[0;34m[\u001b[0m\u001b[0mmcolA\u001b[0m\u001b[0;34m[\u001b[0m\u001b[0;34m:\u001b[0m\u001b[0;34m,\u001b[0m\u001b[0;36m1\u001b[0m\u001b[0;34m]\u001b[0m\u001b[0;34m.\u001b[0m\u001b[0margsort\u001b[0m\u001b[0;34m(\u001b[0m\u001b[0;36m0\u001b[0m\u001b[0;34m)\u001b[0m\u001b[0;34m]\u001b[0m\u001b[0;34m,\u001b[0m\u001b[0mcolor\u001b[0m \u001b[0;34m=\u001b[0m \u001b[0;34m'yellow'\u001b[0m\u001b[0;34m,\u001b[0m\u001b[0mlinewidth\u001b[0m \u001b[0;34m=\u001b[0m \u001b[0;36m5\u001b[0m\u001b[0;34m)\u001b[0m\u001b[0;31m#ypred[X[:, 1].argsort(0)]\u001b[0m\u001b[0;34m\u001b[0m\u001b[0;34m\u001b[0m\u001b[0m\n\u001b[1;32m     12\u001b[0m \u001b[0max1\u001b[0m\u001b[0;34m.\u001b[0m\u001b[0mset_title\u001b[0m\u001b[0;34m(\u001b[0m\u001b[0;34m'Sharing Y axis'\u001b[0m\u001b[0;34m)\u001b[0m\u001b[0;34m\u001b[0m\u001b[0;34m\u001b[0m\u001b[0m\n\u001b[0;32m---> 13\u001b[0;31m \u001b[0max2\u001b[0m\u001b[0;34m.\u001b[0m\u001b[0mscatter\u001b[0m\u001b[0;34m(\u001b[0m\u001b[0mmcolA\u001b[0m\u001b[0;34m,\u001b[0m \u001b[0mmcolB\u001b[0m\u001b[0;34m)\u001b[0m\u001b[0;34m\u001b[0m\u001b[0;34m\u001b[0m\u001b[0m\n\u001b[0m\u001b[1;32m     14\u001b[0m \u001b[0;34m\u001b[0m\u001b[0m\n\u001b[1;32m     15\u001b[0m \u001b[0mpt\u001b[0m\u001b[0;34m.\u001b[0m\u001b[0mscatter\u001b[0m\u001b[0;34m(\u001b[0m\u001b[0mmcolA\u001b[0m\u001b[0;34m,\u001b[0m\u001b[0mmcolB\u001b[0m\u001b[0;34m,\u001b[0m\u001b[0mcolor\u001b[0m \u001b[0;34m=\u001b[0m \u001b[0;34m'blue'\u001b[0m\u001b[0;34m)\u001b[0m\u001b[0;34m\u001b[0m\u001b[0;34m\u001b[0m\u001b[0m\n",
      "\u001b[0;32m~/PycharmProjects/untitled1/venv/lib/python3.7/site-packages/matplotlib/__init__.py\u001b[0m in \u001b[0;36minner\u001b[0;34m(ax, data, *args, **kwargs)\u001b[0m\n\u001b[1;32m   1597\u001b[0m     \u001b[0;32mdef\u001b[0m \u001b[0minner\u001b[0m\u001b[0;34m(\u001b[0m\u001b[0max\u001b[0m\u001b[0;34m,\u001b[0m \u001b[0;34m*\u001b[0m\u001b[0margs\u001b[0m\u001b[0;34m,\u001b[0m \u001b[0mdata\u001b[0m\u001b[0;34m=\u001b[0m\u001b[0;32mNone\u001b[0m\u001b[0;34m,\u001b[0m \u001b[0;34m**\u001b[0m\u001b[0mkwargs\u001b[0m\u001b[0;34m)\u001b[0m\u001b[0;34m:\u001b[0m\u001b[0;34m\u001b[0m\u001b[0;34m\u001b[0m\u001b[0m\n\u001b[1;32m   1598\u001b[0m         \u001b[0;32mif\u001b[0m \u001b[0mdata\u001b[0m \u001b[0;32mis\u001b[0m \u001b[0;32mNone\u001b[0m\u001b[0;34m:\u001b[0m\u001b[0;34m\u001b[0m\u001b[0;34m\u001b[0m\u001b[0m\n\u001b[0;32m-> 1599\u001b[0;31m             \u001b[0;32mreturn\u001b[0m \u001b[0mfunc\u001b[0m\u001b[0;34m(\u001b[0m\u001b[0max\u001b[0m\u001b[0;34m,\u001b[0m \u001b[0;34m*\u001b[0m\u001b[0mmap\u001b[0m\u001b[0;34m(\u001b[0m\u001b[0msanitize_sequence\u001b[0m\u001b[0;34m,\u001b[0m \u001b[0margs\u001b[0m\u001b[0;34m)\u001b[0m\u001b[0;34m,\u001b[0m \u001b[0;34m**\u001b[0m\u001b[0mkwargs\u001b[0m\u001b[0;34m)\u001b[0m\u001b[0;34m\u001b[0m\u001b[0;34m\u001b[0m\u001b[0m\n\u001b[0m\u001b[1;32m   1600\u001b[0m \u001b[0;34m\u001b[0m\u001b[0m\n\u001b[1;32m   1601\u001b[0m         \u001b[0mbound\u001b[0m \u001b[0;34m=\u001b[0m \u001b[0mnew_sig\u001b[0m\u001b[0;34m.\u001b[0m\u001b[0mbind\u001b[0m\u001b[0;34m(\u001b[0m\u001b[0max\u001b[0m\u001b[0;34m,\u001b[0m \u001b[0;34m*\u001b[0m\u001b[0margs\u001b[0m\u001b[0;34m,\u001b[0m \u001b[0;34m**\u001b[0m\u001b[0mkwargs\u001b[0m\u001b[0;34m)\u001b[0m\u001b[0;34m\u001b[0m\u001b[0;34m\u001b[0m\u001b[0m\n",
      "\u001b[0;32m~/PycharmProjects/untitled1/venv/lib/python3.7/site-packages/matplotlib/axes/_axes.py\u001b[0m in \u001b[0;36mscatter\u001b[0;34m(self, x, y, s, c, marker, cmap, norm, vmin, vmax, alpha, linewidths, verts, edgecolors, plotnonfinite, **kwargs)\u001b[0m\n\u001b[1;32m   4441\u001b[0m         \u001b[0my\u001b[0m \u001b[0;34m=\u001b[0m \u001b[0mnp\u001b[0m\u001b[0;34m.\u001b[0m\u001b[0mma\u001b[0m\u001b[0;34m.\u001b[0m\u001b[0mravel\u001b[0m\u001b[0;34m(\u001b[0m\u001b[0my\u001b[0m\u001b[0;34m)\u001b[0m\u001b[0;34m\u001b[0m\u001b[0;34m\u001b[0m\u001b[0m\n\u001b[1;32m   4442\u001b[0m         \u001b[0;32mif\u001b[0m \u001b[0mx\u001b[0m\u001b[0;34m.\u001b[0m\u001b[0msize\u001b[0m \u001b[0;34m!=\u001b[0m \u001b[0my\u001b[0m\u001b[0;34m.\u001b[0m\u001b[0msize\u001b[0m\u001b[0;34m:\u001b[0m\u001b[0;34m\u001b[0m\u001b[0;34m\u001b[0m\u001b[0m\n\u001b[0;32m-> 4443\u001b[0;31m             \u001b[0;32mraise\u001b[0m \u001b[0mValueError\u001b[0m\u001b[0;34m(\u001b[0m\u001b[0;34m\"x and y must be the same size\"\u001b[0m\u001b[0;34m)\u001b[0m\u001b[0;34m\u001b[0m\u001b[0;34m\u001b[0m\u001b[0m\n\u001b[0m\u001b[1;32m   4444\u001b[0m \u001b[0;34m\u001b[0m\u001b[0m\n\u001b[1;32m   4445\u001b[0m         \u001b[0;32mif\u001b[0m \u001b[0ms\u001b[0m \u001b[0;32mis\u001b[0m \u001b[0;32mNone\u001b[0m\u001b[0;34m:\u001b[0m\u001b[0;34m\u001b[0m\u001b[0;34m\u001b[0m\u001b[0m\n",
      "\u001b[0;31mValueError\u001b[0m: x and y must be the same size"
     ]
    },
    {
     "data": {
      "image/png": "[encoded data removed]",
      "text/plain": [
       "<Figure size 432x288 with 2 Axes>"
      ]
     },
     "metadata": {
      "needs_background": "light"
     },
     "output_type": "display_data"
    }
   ],
   "source": [
    "ypred = lwr(inp_matrix, mcolB, 10)\n",
    "print(mcolB1)\n",
    "print(ypred)\n",
    "print(np.shape(mcolB))\n",
    "\n",
    "xsort = inp_matrix.copy()\n",
    "xsort.sort(axis = 0)\n",
    "print(np.shape(mcolA))\n",
    "\n",
    "f, (ax1, ax2) = pt.subplots(1, 2, sharey=True)\n",
    "pt.plot(xsort[:,1],ypred[mcolA[:,1].argsort(0)],color = 'yellow',linewidth = 5)#ypred[X[:, 1].argsort(0)]\n",
    "ax1.set_title('Sharing Y axis')\n",
    "ax2.scatter(mcolA, mcolB)\n",
    "\n",
    "pt.scatter(mcolA,mcolB,color = 'blue')\n",
    "pt.plot(xsort[:,1],ypred[mcolA[:,1].argsort(0)],color = 'yellow',linewidth = 5)#ypred[X[:, 1].argsort(0)]\n",
    "#pt.plot(xsort[:, 1], ypred[X[:, 1].argsort(0)], color='yellow', linewidth=5)\n",
    "pt.xlabel('MADIKERI')\n",
    "pt.ylabel('Inflow')"
   ]
  },
  {
   "cell_type": "code",
   "execution_count": null,
   "metadata": {},
   "outputs": [],
   "source": []
  },
  {
   "cell_type": "code",
   "execution_count": null,
   "metadata": {},
   "outputs": [],
   "source": []
  }
 ],
 "metadata": {
  "kernelspec": {
   "display_name": "Python 3",
   "language": "python",
   "name": "python3"
  },
  "language_info": {
   "codemirror_mode": {
    "name": "ipython",
    "version": 3
   },
   "file_extension": ".py",
   "mimetype": "text/x-python",
   "name": "python",
   "nbconvert_exporter": "python",
   "pygments_lexer": "ipython3",
   "version": "3.7.5rc1"
  }
 },
 "nbformat": 4,
 "nbformat_minor": 2
}
