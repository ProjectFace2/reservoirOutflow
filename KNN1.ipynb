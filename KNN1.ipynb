{
 "cells": [
  {
   "cell_type": "code",
   "execution_count": 339,
   "metadata": {},
   "outputs": [],
   "source": [
    "import numpy as np\n",
    "import pandas as pd\n",
    "import matplotlib.pyplot as pt"
   ]
  },
  {
   "cell_type": "code",
   "execution_count": 340,
   "metadata": {},
   "outputs": [
    {
     "name": "stdout",
     "output_type": "stream",
     "text": [
      "2923\n",
      "2924\n"
     ]
    }
   ],
   "source": [
    "#inp1 = np.array([[1,2,3],[4,5,6],[7,8,9],[4,3,6],[7,8,9],[0,5,6]])\n",
    "#q_point = np.array([[5,7,2],[10,20,30]])\n",
    "#q_point\n",
    "\n",
    "data = pd.read_csv('/home/ganesh/Downloads/Ganesh.csv')\n",
    "print(len(data))\n",
    "data1 = pd.read_csv('/home/ganesh/Downloads/danka naka.csv')\n",
    "print(len(data1))"
   ]
  },
  {
   "cell_type": "code",
   "execution_count": 341,
   "metadata": {},
   "outputs": [
    {
     "data": {
      "text/html": [
       "<div>\n",
       "<style scoped>\n",
       "    .dataframe tbody tr th:only-of-type {\n",
       "        vertical-align: middle;\n",
       "    }\n",
       "\n",
       "    .dataframe tbody tr th {\n",
       "        vertical-align: top;\n",
       "    }\n",
       "\n",
       "    .dataframe thead th {\n",
       "        text-align: right;\n",
       "    }\n",
       "</style>\n",
       "<table border=\"1\" class=\"dataframe\">\n",
       "  <thead>\n",
       "    <tr style=\"text-align: right;\">\n",
       "      <th></th>\n",
       "      <th>Dams</th>\n",
       "      <th>Dates</th>\n",
       "      <th>Present Storage(TMC)</th>\n",
       "      <th>Reservoir Level(TMC)</th>\n",
       "      <th>Inflow</th>\n",
       "      <th>Outflow</th>\n",
       "    </tr>\n",
       "  </thead>\n",
       "  <tbody>\n",
       "    <tr>\n",
       "      <th>0</th>\n",
       "      <td>Harangi</td>\n",
       "      <td>00/00/2011</td>\n",
       "      <td>0.00</td>\n",
       "      <td>0.00</td>\n",
       "      <td>0.0</td>\n",
       "      <td>0.0</td>\n",
       "    </tr>\n",
       "    <tr>\n",
       "      <th>1</th>\n",
       "      <td>Harangi</td>\n",
       "      <td>01/01/2011</td>\n",
       "      <td>3.74</td>\n",
       "      <td>2835.90</td>\n",
       "      <td>142.0</td>\n",
       "      <td>0.0</td>\n",
       "    </tr>\n",
       "    <tr>\n",
       "      <th>2</th>\n",
       "      <td>Harangi</td>\n",
       "      <td>02/01/2011</td>\n",
       "      <td>3.76</td>\n",
       "      <td>2836.09</td>\n",
       "      <td>239.0</td>\n",
       "      <td>0.0</td>\n",
       "    </tr>\n",
       "    <tr>\n",
       "      <th>3</th>\n",
       "      <td>Harangi</td>\n",
       "      <td>03/01/2011</td>\n",
       "      <td>3.77</td>\n",
       "      <td>2836.22</td>\n",
       "      <td>166.0</td>\n",
       "      <td>0.0</td>\n",
       "    </tr>\n",
       "    <tr>\n",
       "      <th>4</th>\n",
       "      <td>Harangi</td>\n",
       "      <td>04/01/2011</td>\n",
       "      <td>3.78</td>\n",
       "      <td>2836.31</td>\n",
       "      <td>118.0</td>\n",
       "      <td>0.0</td>\n",
       "    </tr>\n",
       "    <tr>\n",
       "      <th>...</th>\n",
       "      <td>...</td>\n",
       "      <td>...</td>\n",
       "      <td>...</td>\n",
       "      <td>...</td>\n",
       "      <td>...</td>\n",
       "      <td>...</td>\n",
       "    </tr>\n",
       "    <tr>\n",
       "      <th>2918</th>\n",
       "      <td>Harangi</td>\n",
       "      <td>27/12/2018</td>\n",
       "      <td>1.59</td>\n",
       "      <td>2806.15</td>\n",
       "      <td>103.0</td>\n",
       "      <td>15.0</td>\n",
       "    </tr>\n",
       "    <tr>\n",
       "      <th>2919</th>\n",
       "      <td>Harangi</td>\n",
       "      <td>28/12/2018</td>\n",
       "      <td>1.60</td>\n",
       "      <td>2806.33</td>\n",
       "      <td>98.0</td>\n",
       "      <td>15.0</td>\n",
       "    </tr>\n",
       "    <tr>\n",
       "      <th>2920</th>\n",
       "      <td>Harangi</td>\n",
       "      <td>29/12/2018</td>\n",
       "      <td>1.61</td>\n",
       "      <td>2806.54</td>\n",
       "      <td>102.0</td>\n",
       "      <td>15.0</td>\n",
       "    </tr>\n",
       "    <tr>\n",
       "      <th>2921</th>\n",
       "      <td>Harangi</td>\n",
       "      <td>30/12/2018</td>\n",
       "      <td>1.62</td>\n",
       "      <td>2806.72</td>\n",
       "      <td>99.0</td>\n",
       "      <td>15.0</td>\n",
       "    </tr>\n",
       "    <tr>\n",
       "      <th>2922</th>\n",
       "      <td>Harangi</td>\n",
       "      <td>31/12/2018</td>\n",
       "      <td>NaN</td>\n",
       "      <td>NaN</td>\n",
       "      <td>NaN</td>\n",
       "      <td>NaN</td>\n",
       "    </tr>\n",
       "  </tbody>\n",
       "</table>\n",
       "<p>2923 rows × 6 columns</p>\n",
       "</div>"
      ],
      "text/plain": [
       "         Dams       Dates  Present Storage(TMC)  Reservoir Level(TMC)  Inflow  \\\n",
       "0     Harangi  00/00/2011                  0.00                  0.00     0.0   \n",
       "1     Harangi  01/01/2011                  3.74               2835.90   142.0   \n",
       "2     Harangi  02/01/2011                  3.76               2836.09   239.0   \n",
       "3     Harangi  03/01/2011                  3.77               2836.22   166.0   \n",
       "4     Harangi  04/01/2011                  3.78               2836.31   118.0   \n",
       "...       ...         ...                   ...                   ...     ...   \n",
       "2918  Harangi  27/12/2018                  1.59               2806.15   103.0   \n",
       "2919  Harangi  28/12/2018                  1.60               2806.33    98.0   \n",
       "2920  Harangi  29/12/2018                  1.61               2806.54   102.0   \n",
       "2921  Harangi  30/12/2018                  1.62               2806.72    99.0   \n",
       "2922  Harangi  31/12/2018                   NaN                   NaN     NaN   \n",
       "\n",
       "      Outflow  \n",
       "0         0.0  \n",
       "1         0.0  \n",
       "2         0.0  \n",
       "3         0.0  \n",
       "4         0.0  \n",
       "...       ...  \n",
       "2918     15.0  \n",
       "2919     15.0  \n",
       "2920     15.0  \n",
       "2921     15.0  \n",
       "2922      NaN  \n",
       "\n",
       "[2923 rows x 6 columns]"
      ]
     },
     "execution_count": 341,
     "metadata": {},
     "output_type": "execute_result"
    }
   ],
   "source": [
    "data"
   ]
  },
  {
   "cell_type": "code",
   "execution_count": 342,
   "metadata": {},
   "outputs": [
    {
     "data": {
      "text/html": [
       "<div>\n",
       "<style scoped>\n",
       "    .dataframe tbody tr th:only-of-type {\n",
       "        vertical-align: middle;\n",
       "    }\n",
       "\n",
       "    .dataframe tbody tr th {\n",
       "        vertical-align: top;\n",
       "    }\n",
       "\n",
       "    .dataframe thead th {\n",
       "        text-align: right;\n",
       "    }\n",
       "</style>\n",
       "<table border=\"1\" class=\"dataframe\">\n",
       "  <thead>\n",
       "    <tr style=\"text-align: right;\">\n",
       "      <th></th>\n",
       "      <th>Unnamed: 0</th>\n",
       "      <th>Unnamed: 1</th>\n",
       "      <th>Unnamed: 2</th>\n",
       "      <th>Unnamed: 3</th>\n",
       "      <th>Unnamed: 4</th>\n",
       "      <th>Unnamed: 5</th>\n",
       "      <th>Unnamed: 6</th>\n",
       "      <th>Unnamed: 7</th>\n",
       "      <th>MADIKERI</th>\n",
       "      <th>SOMWARPET</th>\n",
       "      <th>VIRAJPET</th>\n",
       "    </tr>\n",
       "  </thead>\n",
       "  <tbody>\n",
       "    <tr>\n",
       "      <th>0</th>\n",
       "      <td>NaN</td>\n",
       "      <td>NaN</td>\n",
       "      <td>NaN</td>\n",
       "      <td>NaN</td>\n",
       "      <td>NaN</td>\n",
       "      <td>NaN</td>\n",
       "      <td>NaN</td>\n",
       "      <td>NaN</td>\n",
       "      <td>NaN</td>\n",
       "      <td>NaN</td>\n",
       "      <td>NaN</td>\n",
       "    </tr>\n",
       "    <tr>\n",
       "      <th>1</th>\n",
       "      <td>NaN</td>\n",
       "      <td>Dams</td>\n",
       "      <td>Dates</td>\n",
       "      <td>Present Storage(TMC)</td>\n",
       "      <td>Reservoir Level(TMC)</td>\n",
       "      <td>Inflow</td>\n",
       "      <td>Outflow</td>\n",
       "      <td>NaN</td>\n",
       "      <td>MADIKERI</td>\n",
       "      <td>SOMWARPET</td>\n",
       "      <td>VIRAJPET</td>\n",
       "    </tr>\n",
       "    <tr>\n",
       "      <th>2</th>\n",
       "      <td>NaN</td>\n",
       "      <td>Harangi</td>\n",
       "      <td>01/01/2011</td>\n",
       "      <td>3.74</td>\n",
       "      <td>2835.9</td>\n",
       "      <td>142</td>\n",
       "      <td>0</td>\n",
       "      <td>NaN</td>\n",
       "      <td>Nan</td>\n",
       "      <td>Nan</td>\n",
       "      <td>Nan</td>\n",
       "    </tr>\n",
       "    <tr>\n",
       "      <th>3</th>\n",
       "      <td>NaN</td>\n",
       "      <td>Harangi</td>\n",
       "      <td>02/01/2011</td>\n",
       "      <td>3.76</td>\n",
       "      <td>2836.09</td>\n",
       "      <td>239</td>\n",
       "      <td>0</td>\n",
       "      <td>NaN</td>\n",
       "      <td>Nan</td>\n",
       "      <td>Nan</td>\n",
       "      <td>Nan</td>\n",
       "    </tr>\n",
       "    <tr>\n",
       "      <th>4</th>\n",
       "      <td>NaN</td>\n",
       "      <td>Harangi</td>\n",
       "      <td>03/01/2011</td>\n",
       "      <td>3.77</td>\n",
       "      <td>2836.22</td>\n",
       "      <td>166</td>\n",
       "      <td>0</td>\n",
       "      <td>NaN</td>\n",
       "      <td>Nan</td>\n",
       "      <td>Nan</td>\n",
       "      <td>Nan</td>\n",
       "    </tr>\n",
       "    <tr>\n",
       "      <th>...</th>\n",
       "      <td>...</td>\n",
       "      <td>...</td>\n",
       "      <td>...</td>\n",
       "      <td>...</td>\n",
       "      <td>...</td>\n",
       "      <td>...</td>\n",
       "      <td>...</td>\n",
       "      <td>...</td>\n",
       "      <td>...</td>\n",
       "      <td>...</td>\n",
       "      <td>...</td>\n",
       "    </tr>\n",
       "    <tr>\n",
       "      <th>2919</th>\n",
       "      <td>NaN</td>\n",
       "      <td>Harangi</td>\n",
       "      <td>27/12/2018</td>\n",
       "      <td>1.59</td>\n",
       "      <td>2806.15</td>\n",
       "      <td>103</td>\n",
       "      <td>15</td>\n",
       "      <td>NaN</td>\n",
       "      <td>Nan</td>\n",
       "      <td>Nan</td>\n",
       "      <td>Nan</td>\n",
       "    </tr>\n",
       "    <tr>\n",
       "      <th>2920</th>\n",
       "      <td>NaN</td>\n",
       "      <td>Harangi</td>\n",
       "      <td>28/12/2018</td>\n",
       "      <td>1.6</td>\n",
       "      <td>2806.33</td>\n",
       "      <td>98</td>\n",
       "      <td>15</td>\n",
       "      <td>NaN</td>\n",
       "      <td>Nan</td>\n",
       "      <td>Nan</td>\n",
       "      <td>Nan</td>\n",
       "    </tr>\n",
       "    <tr>\n",
       "      <th>2921</th>\n",
       "      <td>NaN</td>\n",
       "      <td>Harangi</td>\n",
       "      <td>29/12/2018</td>\n",
       "      <td>1.61</td>\n",
       "      <td>2806.54</td>\n",
       "      <td>102</td>\n",
       "      <td>15</td>\n",
       "      <td>NaN</td>\n",
       "      <td>Nan</td>\n",
       "      <td>Nan</td>\n",
       "      <td>Nan</td>\n",
       "    </tr>\n",
       "    <tr>\n",
       "      <th>2922</th>\n",
       "      <td>NaN</td>\n",
       "      <td>Harangi</td>\n",
       "      <td>30/12/2018</td>\n",
       "      <td>1.62</td>\n",
       "      <td>2806.72</td>\n",
       "      <td>99</td>\n",
       "      <td>15</td>\n",
       "      <td>NaN</td>\n",
       "      <td>Nan</td>\n",
       "      <td>Nan</td>\n",
       "      <td>Nan</td>\n",
       "    </tr>\n",
       "    <tr>\n",
       "      <th>2923</th>\n",
       "      <td>NaN</td>\n",
       "      <td>Harangi</td>\n",
       "      <td>31/12/2018</td>\n",
       "      <td>NaN</td>\n",
       "      <td>NaN</td>\n",
       "      <td>NaN</td>\n",
       "      <td>NaN</td>\n",
       "      <td>NaN</td>\n",
       "      <td>Nan</td>\n",
       "      <td>Nan</td>\n",
       "      <td>Nan</td>\n",
       "    </tr>\n",
       "  </tbody>\n",
       "</table>\n",
       "<p>2924 rows × 11 columns</p>\n",
       "</div>"
      ],
      "text/plain": [
       "      Unnamed: 0 Unnamed: 1  Unnamed: 2              Unnamed: 3  \\\n",
       "0            NaN        NaN         NaN                     NaN   \n",
       "1            NaN       Dams       Dates   Present Storage(TMC)    \n",
       "2            NaN    Harangi  01/01/2011                    3.74   \n",
       "3            NaN    Harangi  02/01/2011                    3.76   \n",
       "4            NaN    Harangi  03/01/2011                    3.77   \n",
       "...          ...        ...         ...                     ...   \n",
       "2919         NaN    Harangi  27/12/2018                    1.59   \n",
       "2920         NaN    Harangi  28/12/2018                     1.6   \n",
       "2921         NaN    Harangi  29/12/2018                    1.61   \n",
       "2922         NaN    Harangi  30/12/2018                    1.62   \n",
       "2923         NaN    Harangi  31/12/2018                     NaN   \n",
       "\n",
       "                  Unnamed: 4 Unnamed: 5 Unnamed: 6  Unnamed: 7  MADIKERI  \\\n",
       "0                        NaN        NaN        NaN         NaN       NaN   \n",
       "1      Reservoir Level(TMC)     Inflow    Outflow          NaN  MADIKERI   \n",
       "2                     2835.9        142          0         NaN       Nan   \n",
       "3                    2836.09        239          0         NaN       Nan   \n",
       "4                    2836.22        166          0         NaN       Nan   \n",
       "...                      ...        ...        ...         ...       ...   \n",
       "2919                 2806.15        103         15         NaN       Nan   \n",
       "2920                 2806.33         98         15         NaN       Nan   \n",
       "2921                 2806.54        102         15         NaN       Nan   \n",
       "2922                 2806.72         99         15         NaN       Nan   \n",
       "2923                     NaN        NaN        NaN         NaN       Nan   \n",
       "\n",
       "      SOMWARPET  VIRAJPET  \n",
       "0           NaN       NaN  \n",
       "1     SOMWARPET  VIRAJPET  \n",
       "2           Nan       Nan  \n",
       "3           Nan       Nan  \n",
       "4           Nan       Nan  \n",
       "...         ...       ...  \n",
       "2919        Nan       Nan  \n",
       "2920        Nan       Nan  \n",
       "2921        Nan       Nan  \n",
       "2922        Nan       Nan  \n",
       "2923        Nan       Nan  \n",
       "\n",
       "[2924 rows x 11 columns]"
      ]
     },
     "execution_count": 342,
     "metadata": {},
     "output_type": "execute_result"
    }
   ],
   "source": [
    "data1"
   ]
  },
  {
   "cell_type": "code",
   "execution_count": 343,
   "metadata": {},
   "outputs": [],
   "source": [
    "data1 = data1.iloc[2:,8:]\n",
    "data1.replace('Nan',0,inplace = True)"
   ]
  },
  {
   "cell_type": "code",
   "execution_count": 653,
   "metadata": {},
   "outputs": [
    {
     "name": "stdout",
     "output_type": "stream",
     "text": [
      "2922\n"
     ]
    },
    {
     "data": {
      "text/html": [
       "<div>\n",
       "<style scoped>\n",
       "    .dataframe tbody tr th:only-of-type {\n",
       "        vertical-align: middle;\n",
       "    }\n",
       "\n",
       "    .dataframe tbody tr th {\n",
       "        vertical-align: top;\n",
       "    }\n",
       "\n",
       "    .dataframe thead th {\n",
       "        text-align: right;\n",
       "    }\n",
       "</style>\n",
       "<table border=\"1\" class=\"dataframe\">\n",
       "  <thead>\n",
       "    <tr style=\"text-align: right;\">\n",
       "      <th></th>\n",
       "      <th>MADIKERI</th>\n",
       "      <th>SOMWARPET</th>\n",
       "      <th>VIRAJPET</th>\n",
       "    </tr>\n",
       "  </thead>\n",
       "  <tbody>\n",
       "    <tr>\n",
       "      <th>2</th>\n",
       "      <td>0</td>\n",
       "      <td>0</td>\n",
       "      <td>0</td>\n",
       "    </tr>\n",
       "    <tr>\n",
       "      <th>3</th>\n",
       "      <td>0</td>\n",
       "      <td>0</td>\n",
       "      <td>0</td>\n",
       "    </tr>\n",
       "    <tr>\n",
       "      <th>4</th>\n",
       "      <td>0</td>\n",
       "      <td>0</td>\n",
       "      <td>0</td>\n",
       "    </tr>\n",
       "    <tr>\n",
       "      <th>5</th>\n",
       "      <td>0</td>\n",
       "      <td>0</td>\n",
       "      <td>0</td>\n",
       "    </tr>\n",
       "    <tr>\n",
       "      <th>6</th>\n",
       "      <td>0</td>\n",
       "      <td>0</td>\n",
       "      <td>0</td>\n",
       "    </tr>\n",
       "    <tr>\n",
       "      <th>...</th>\n",
       "      <td>...</td>\n",
       "      <td>...</td>\n",
       "      <td>...</td>\n",
       "    </tr>\n",
       "    <tr>\n",
       "      <th>2919</th>\n",
       "      <td>0</td>\n",
       "      <td>0</td>\n",
       "      <td>0</td>\n",
       "    </tr>\n",
       "    <tr>\n",
       "      <th>2920</th>\n",
       "      <td>0</td>\n",
       "      <td>0</td>\n",
       "      <td>0</td>\n",
       "    </tr>\n",
       "    <tr>\n",
       "      <th>2921</th>\n",
       "      <td>0</td>\n",
       "      <td>0</td>\n",
       "      <td>0</td>\n",
       "    </tr>\n",
       "    <tr>\n",
       "      <th>2922</th>\n",
       "      <td>0</td>\n",
       "      <td>0</td>\n",
       "      <td>0</td>\n",
       "    </tr>\n",
       "    <tr>\n",
       "      <th>2923</th>\n",
       "      <td>0</td>\n",
       "      <td>0</td>\n",
       "      <td>0</td>\n",
       "    </tr>\n",
       "  </tbody>\n",
       "</table>\n",
       "<p>2922 rows × 3 columns</p>\n",
       "</div>"
      ],
      "text/plain": [
       "     MADIKERI SOMWARPET VIRAJPET\n",
       "2           0         0        0\n",
       "3           0         0        0\n",
       "4           0         0        0\n",
       "5           0         0        0\n",
       "6           0         0        0\n",
       "...       ...       ...      ...\n",
       "2919        0         0        0\n",
       "2920        0         0        0\n",
       "2921        0         0        0\n",
       "2922        0         0        0\n",
       "2923        0         0        0\n",
       "\n",
       "[2922 rows x 3 columns]"
      ]
     },
     "execution_count": 653,
     "metadata": {},
     "output_type": "execute_result"
    }
   ],
   "source": [
    "offset = 5\n",
    "data.interpolate(method='linear', inplace=True)\n",
    "#data = data.iloc[:1000,:]\n",
    "#data.tail()\n",
    "data\n",
    "offset_length = len(data) - offset\n",
    "#print(offset_length)\n",
    "print(len(data1))\n",
    "data1"
   ]
  },
  {
   "cell_type": "code",
   "execution_count": 654,
   "metadata": {},
   "outputs": [
    {
     "name": "stdout",
     "output_type": "stream",
     "text": [
      "2918\n"
     ]
    },
    {
     "data": {
      "text/html": [
       "<div>\n",
       "<style scoped>\n",
       "    .dataframe tbody tr th:only-of-type {\n",
       "        vertical-align: middle;\n",
       "    }\n",
       "\n",
       "    .dataframe tbody tr th {\n",
       "        vertical-align: top;\n",
       "    }\n",
       "\n",
       "    .dataframe thead th {\n",
       "        text-align: right;\n",
       "    }\n",
       "</style>\n",
       "<table border=\"1\" class=\"dataframe\">\n",
       "  <thead>\n",
       "    <tr style=\"text-align: right;\">\n",
       "      <th></th>\n",
       "      <th>Dams</th>\n",
       "      <th>Dates</th>\n",
       "      <th>Present Storage(TMC)</th>\n",
       "      <th>Reservoir Level(TMC)</th>\n",
       "      <th>Inflow</th>\n",
       "      <th>Outflow</th>\n",
       "    </tr>\n",
       "  </thead>\n",
       "  <tbody>\n",
       "    <tr>\n",
       "      <th>5</th>\n",
       "      <td>Harangi</td>\n",
       "      <td>05/01/2011</td>\n",
       "      <td>3.79</td>\n",
       "      <td>2836.410</td>\n",
       "      <td>130.0</td>\n",
       "      <td>0.0</td>\n",
       "    </tr>\n",
       "    <tr>\n",
       "      <th>6</th>\n",
       "      <td>Harangi</td>\n",
       "      <td>06/01/2011</td>\n",
       "      <td>3.81</td>\n",
       "      <td>2836.540</td>\n",
       "      <td>167.0</td>\n",
       "      <td>0.0</td>\n",
       "    </tr>\n",
       "    <tr>\n",
       "      <th>7</th>\n",
       "      <td>Harangi</td>\n",
       "      <td>07/01/2011</td>\n",
       "      <td>3.82</td>\n",
       "      <td>2836.635</td>\n",
       "      <td>149.0</td>\n",
       "      <td>0.0</td>\n",
       "    </tr>\n",
       "    <tr>\n",
       "      <th>8</th>\n",
       "      <td>Harangi</td>\n",
       "      <td>08/01/2011</td>\n",
       "      <td>3.83</td>\n",
       "      <td>2836.730</td>\n",
       "      <td>131.0</td>\n",
       "      <td>0.0</td>\n",
       "    </tr>\n",
       "    <tr>\n",
       "      <th>9</th>\n",
       "      <td>Harangi</td>\n",
       "      <td>09/01/2011</td>\n",
       "      <td>3.84</td>\n",
       "      <td>2836.810</td>\n",
       "      <td>112.0</td>\n",
       "      <td>0.0</td>\n",
       "    </tr>\n",
       "    <tr>\n",
       "      <th>...</th>\n",
       "      <td>...</td>\n",
       "      <td>...</td>\n",
       "      <td>...</td>\n",
       "      <td>...</td>\n",
       "      <td>...</td>\n",
       "      <td>...</td>\n",
       "    </tr>\n",
       "    <tr>\n",
       "      <th>2918</th>\n",
       "      <td>Harangi</td>\n",
       "      <td>27/12/2018</td>\n",
       "      <td>1.59</td>\n",
       "      <td>2806.150</td>\n",
       "      <td>103.0</td>\n",
       "      <td>15.0</td>\n",
       "    </tr>\n",
       "    <tr>\n",
       "      <th>2919</th>\n",
       "      <td>Harangi</td>\n",
       "      <td>28/12/2018</td>\n",
       "      <td>1.60</td>\n",
       "      <td>2806.330</td>\n",
       "      <td>98.0</td>\n",
       "      <td>15.0</td>\n",
       "    </tr>\n",
       "    <tr>\n",
       "      <th>2920</th>\n",
       "      <td>Harangi</td>\n",
       "      <td>29/12/2018</td>\n",
       "      <td>1.61</td>\n",
       "      <td>2806.540</td>\n",
       "      <td>102.0</td>\n",
       "      <td>15.0</td>\n",
       "    </tr>\n",
       "    <tr>\n",
       "      <th>2921</th>\n",
       "      <td>Harangi</td>\n",
       "      <td>30/12/2018</td>\n",
       "      <td>1.62</td>\n",
       "      <td>2806.720</td>\n",
       "      <td>99.0</td>\n",
       "      <td>15.0</td>\n",
       "    </tr>\n",
       "    <tr>\n",
       "      <th>2922</th>\n",
       "      <td>Harangi</td>\n",
       "      <td>31/12/2018</td>\n",
       "      <td>1.62</td>\n",
       "      <td>2806.720</td>\n",
       "      <td>99.0</td>\n",
       "      <td>15.0</td>\n",
       "    </tr>\n",
       "  </tbody>\n",
       "</table>\n",
       "<p>2918 rows × 6 columns</p>\n",
       "</div>"
      ],
      "text/plain": [
       "         Dams       Dates  Present Storage(TMC)  Reservoir Level(TMC)  Inflow  \\\n",
       "5     Harangi  05/01/2011                  3.79              2836.410   130.0   \n",
       "6     Harangi  06/01/2011                  3.81              2836.540   167.0   \n",
       "7     Harangi  07/01/2011                  3.82              2836.635   149.0   \n",
       "8     Harangi  08/01/2011                  3.83              2836.730   131.0   \n",
       "9     Harangi  09/01/2011                  3.84              2836.810   112.0   \n",
       "...       ...         ...                   ...                   ...     ...   \n",
       "2918  Harangi  27/12/2018                  1.59              2806.150   103.0   \n",
       "2919  Harangi  28/12/2018                  1.60              2806.330    98.0   \n",
       "2920  Harangi  29/12/2018                  1.61              2806.540   102.0   \n",
       "2921  Harangi  30/12/2018                  1.62              2806.720    99.0   \n",
       "2922  Harangi  31/12/2018                  1.62              2806.720    99.0   \n",
       "\n",
       "      Outflow  \n",
       "5         0.0  \n",
       "6         0.0  \n",
       "7         0.0  \n",
       "8         0.0  \n",
       "9         0.0  \n",
       "...       ...  \n",
       "2918     15.0  \n",
       "2919     15.0  \n",
       "2920     15.0  \n",
       "2921     15.0  \n",
       "2922     15.0  \n",
       "\n",
       "[2918 rows x 6 columns]"
      ]
     },
     "execution_count": 654,
     "metadata": {},
     "output_type": "execute_result"
    }
   ],
   "source": [
    "Dam_data = data.iloc[offset:,:]\n",
    "print(len(Dam_data))\n",
    "Dam_data"
   ]
  },
  {
   "cell_type": "code",
   "execution_count": 655,
   "metadata": {},
   "outputs": [
    {
     "name": "stdout",
     "output_type": "stream",
     "text": [
      "2407\n"
     ]
    }
   ],
   "source": [
    "#Dam_data = data.iloc[:,:offset_length]\n",
    "Rain_data = data1\n",
    "Rain_data = Rain_data.iloc[:offset_length,:]#Dam_data = data.iloc[1:offset_length,:]\n",
    "\n",
    "Rain_data\n",
    "Rain_data = Rain_data.iloc[:2407,:]\n",
    "print(len(Rain_data))"
   ]
  },
  {
   "cell_type": "code",
   "execution_count": 656,
   "metadata": {},
   "outputs": [],
   "source": [
    "colA = np.array(Rain_data.loc[:,['MADIKERI','SOMWARPET','VIRAJPET']],dtype = float)\n",
    "colB = np.array(Dam_data['Inflow'])"
   ]
  },
  {
   "cell_type": "code",
   "execution_count": 657,
   "metadata": {},
   "outputs": [
    {
     "name": "stdout",
     "output_type": "stream",
     "text": [
      "2407 3\n",
      "(2407, 3)\n",
      "(2918,)\n",
      "<class 'list'>\n",
      "[[  0.   0.   0. 130.]]\n"
     ]
    },
    {
     "data": {
      "text/plain": [
       "(2407, 1, 4)"
      ]
     },
     "execution_count": 657,
     "metadata": {},
     "output_type": "execute_result"
    }
   ],
   "source": [
    "l,b = np.shape(colA)\n",
    "l,b\n",
    "print(l,b)\n",
    "print(np.shape(colA))\n",
    "print(np.shape(colB))\n",
    "colA\n",
    "colB = colB.T\n",
    "t_vals = []\n",
    "a = []\n",
    "for i in range(l):\n",
    "    a=[]\n",
    "    b=[]\n",
    "    b=[colB[i]]\n",
    "    #print(b)\n",
    "    c = list(colA[i])\n",
    "    c.extend(b)\n",
    "    a.append(c)\n",
    "    #print(a)\n",
    "    t_vals.append(a)\n",
    "t_vals = np.array(t_vals)\n",
    "\n",
    "print(type(b))\n",
    "np.mat(t_vals)\n",
    "print(t_vals[0])\n",
    "np.shape(t_vals)"
   ]
  },
  {
   "cell_type": "code",
   "execution_count": null,
   "metadata": {},
   "outputs": [],
   "source": []
  },
  {
   "cell_type": "code",
   "execution_count": 658,
   "metadata": {},
   "outputs": [],
   "source": [
    "# colA = np.array(data.loc[:,['MADIKERI','SOMWARPET','VIRAJPET']])\n",
    "# colB = np.array(data['Inflow'])\n",
    "\n",
    "# l,b = np.shape(colA)\n",
    "# l,b\n",
    "# print(np.shape(colA))\n",
    "# print(np.shape(colB))\n",
    "# colA\n",
    "# colB = colB.T\n",
    "# t_vals = []\n",
    "# for i in range(l):\n",
    "#     a = colA[i]\n",
    "#     b = colB[i]\n",
    "#     t_vals.append((a,b))\n",
    "# #t_vals = np.array(t_vals)\n",
    "# print(t_vals)\n",
    "# np.shape(t_vals)\n"
   ]
  },
  {
   "cell_type": "code",
   "execution_count": 952,
   "metadata": {},
   "outputs": [
    {
     "name": "stdout",
     "output_type": "stream",
     "text": [
      "[[  137.695         57.25          80.23333333 36179.        ]\n",
      " [  123.0475        76.86          78.515      33901.        ]]\n",
      "2\n"
     ]
    },
    {
     "data": {
      "text/plain": [
       "(2, 4)"
      ]
     },
     "execution_count": 952,
     "metadata": {},
     "output_type": "execute_result"
    }
   ],
   "source": [
    "# def create_qry_point(start,end):\n",
    "#     query_data = np.array(Rain_data.iloc[start:end,:],dtype = float)\n",
    "#     return query_data\n",
    "        #40\n",
    "# q_point = create_qry_point(1000,2000)\n",
    "q_point = np.mat([[137.695,57.25,80.2333333333333,36179],[123.0475,76.86,78.515,33901]])\n",
    "print(q_point)\n",
    "print(len(q_point))\n",
    "q_point.shape"
   ]
  },
  {
   "cell_type": "code",
   "execution_count": 953,
   "metadata": {},
   "outputs": [
    {
     "data": {
      "text/plain": [
       "(2407, 1, 4)"
      ]
     },
     "execution_count": 953,
     "metadata": {},
     "output_type": "execute_result"
    }
   ],
   "source": [
    "np.shape(t_vals)"
   ]
  },
  {
   "cell_type": "code",
   "execution_count": 954,
   "metadata": {},
   "outputs": [],
   "source": [
    "def cal_eucledian_distance(q_point,inp1):\n",
    "    #print(q_point,inp1)\n",
    "    return float(np.linalg.norm(q_point - inp1))"
   ]
  },
  {
   "cell_type": "code",
   "execution_count": 955,
   "metadata": {},
   "outputs": [],
   "source": [
    "def knn(inp1,k,q_point):\n",
    "    tup_val = []\n",
    "    distance_list = [cal_eucledian_distance(q_point,inp1[i]) for i in range(len(inp1))]\n",
    "    #print(distance_list)\n",
    "    for i in range(len(inp1)):\n",
    "        tup_val.append((distance_list[i],inp1[i]))\n",
    "    #print(\"---------------------------\")\n",
    "    #print(tup_val)\n",
    "    index=0\n",
    "    sorted_values = sort(tup_val)\n",
    "    neighbours = sorted_values[:k]\n",
    "    return neighbours"
   ]
  },
  {
   "cell_type": "code",
   "execution_count": 956,
   "metadata": {},
   "outputs": [],
   "source": [
    "def last(n):\n",
    "    m =0\n",
    "    return n[m]"
   ]
  },
  {
   "cell_type": "code",
   "execution_count": 628,
   "metadata": {},
   "outputs": [],
   "source": [
    "def sort(tuples):\n",
    "    return sorted(tuples,key=last)"
   ]
  },
  {
   "cell_type": "code",
   "execution_count": 664,
   "metadata": {},
   "outputs": [
    {
     "name": "stdout",
     "output_type": "stream",
     "text": [
      "[(13476.41927136155, array([[   42.9525,    31.8   ,    25.085 , 20425.    ]])), (15295.547784345432, array([[2.67125000e+01, 1.83850000e+01, 1.48183333e+01, 1.86060000e+04]])), (16076.294103705497, array([[   47.7375    ,    33.08      ,    35.29666667, 17825.        ]])), (17108.36359777273, array([[   35.975     ,    32.77833333,    24.51333333, 16793.        ]])), (18678.390461474384, array([[   34.2625    ,    21.96833333,    17.76666667, 15223.        ]])), (18962.11594036868, array([[   70.74      ,    52.415     ,    45.90666667, 14939.        ]])), (20038.21067243449, array([[   56.78      ,    41.05      ,    25.89166667, 13863.        ]])), (20070.4378199497, array([[2.85500000e+01, 1.20950000e+01, 1.18066667e+01, 1.38310000e+04]])), (20305.476693340162, array([[2.19325000e+01, 1.40566667e+01, 6.47166667e+00, 1.35960000e+04]])), (20579.078658657618, array([[   77.865     ,    60.06333333,    48.285     , 13322.        ]]))]\n"
     ]
    },
    {
     "data": {
      "text/plain": [
       "10"
      ]
     },
     "execution_count": 664,
     "metadata": {},
     "output_type": "execute_result"
    }
   ],
   "source": [
    "inp1 = t_vals\n",
    "vals = knn(inp1,10,q_point)\n",
    "print(vals)\n",
    "len(vals)"
   ]
  },
  {
   "cell_type": "code",
   "execution_count": 665,
   "metadata": {},
   "outputs": [
    {
     "name": "stdout",
     "output_type": "stream",
     "text": [
      "(13476.41927136155, array([[   42.9525,    31.8   ,    25.085 , 20425.    ]]))\n"
     ]
    }
   ],
   "source": [
    "print(vals[0])"
   ]
  },
  {
   "cell_type": "code",
   "execution_count": 922,
   "metadata": {},
   "outputs": [],
   "source": [
    "near_vals = []\n",
    "for i in range(len(vals)):\n",
    "    near_vals.append(vals[i][1])"
   ]
  },
  {
   "cell_type": "code",
   "execution_count": 923,
   "metadata": {},
   "outputs": [
    {
     "data": {
      "text/plain": [
       "(10, 1, 4)"
      ]
     },
     "execution_count": 923,
     "metadata": {},
     "output_type": "execute_result"
    }
   ],
   "source": [
    "near_vals = np.array(near_vals)\n",
    "near_vals.shape"
   ]
  },
  {
   "cell_type": "code",
   "execution_count": 924,
   "metadata": {},
   "outputs": [
    {
     "data": {
      "text/plain": [
       "(10, 1, 4)"
      ]
     },
     "execution_count": 924,
     "metadata": {},
     "output_type": "execute_result"
    }
   ],
   "source": [
    "np.shape(near_vals)"
   ]
  },
  {
   "cell_type": "code",
   "execution_count": 925,
   "metadata": {},
   "outputs": [
    {
     "data": {
      "text/plain": [
       "10"
      ]
     },
     "execution_count": 925,
     "metadata": {},
     "output_type": "execute_result"
    }
   ],
   "source": [
    "len(near_vals) "
   ]
  },
  {
   "cell_type": "code",
   "execution_count": 926,
   "metadata": {},
   "outputs": [],
   "source": [
    "def normalize(mcolB, max_val, min_val):\n",
    "    #print(mcolB)\n",
    "    n_val = []\n",
    "    for i in range(len(mcolB)):\n",
    "        n_val.append(float(((mcolB[i] - min_val) / (max_val - min_val))))\n",
    "    return n_val\n",
    "    #return ( (point - m) / () )"
   ]
  },
  {
   "cell_type": "code",
   "execution_count": 931,
   "metadata": {},
   "outputs": [
    {
     "data": {
      "text/plain": [
       "array([[[4.29525000e+01, 3.18000000e+01, 2.50850000e+01, 2.04250000e+04]],\n",
       "\n",
       "       [[2.67125000e+01, 1.83850000e+01, 1.48183333e+01, 1.86060000e+04]],\n",
       "\n",
       "       [[4.77375000e+01, 3.30800000e+01, 3.52966667e+01, 1.78250000e+04]],\n",
       "\n",
       "       [[3.59750000e+01, 3.27783333e+01, 2.45133333e+01, 1.67930000e+04]],\n",
       "\n",
       "       [[3.42625000e+01, 2.19683333e+01, 1.77666667e+01, 1.52230000e+04]],\n",
       "\n",
       "       [[7.07400000e+01, 5.24150000e+01, 4.59066667e+01, 1.49390000e+04]],\n",
       "\n",
       "       [[5.67800000e+01, 4.10500000e+01, 2.58916667e+01, 1.38630000e+04]],\n",
       "\n",
       "       [[2.85500000e+01, 1.20950000e+01, 1.18066667e+01, 1.38310000e+04]],\n",
       "\n",
       "       [[2.19325000e+01, 1.40566667e+01, 6.47166667e+00, 1.35960000e+04]],\n",
       "\n",
       "       [[7.78650000e+01, 6.00633333e+01, 4.82850000e+01, 1.33220000e+04]],\n",
       "\n",
       "       [[1.37695000e+02, 5.72500000e+01, 8.02333333e+01, 3.61790000e+04]],\n",
       "\n",
       "       [[1.23047500e+02, 7.68600000e+01, 7.85150000e+01, 3.39010000e+04]]])"
      ]
     },
     "execution_count": 931,
     "metadata": {},
     "output_type": "execute_result"
    }
   ],
   "source": [
    "near_vals = np.append(near_vals,[[[123.0475,76.86,78.515,33901]]],axis = 0)\n",
    "near_vals[:,0:3]\n"
   ]
  },
  {
   "cell_type": "code",
   "execution_count": 934,
   "metadata": {},
   "outputs": [
    {
     "data": {
      "text/plain": [
       "12"
      ]
     },
     "execution_count": 934,
     "metadata": {},
     "output_type": "execute_result"
    }
   ],
   "source": [
    "near_len = len(near_vals)\n",
    "near_len"
   ]
  },
  {
   "cell_type": "code",
   "execution_count": 935,
   "metadata": {},
   "outputs": [],
   "source": [
    "x = near_vals.reshape(near_len,4)"
   ]
  },
  {
   "cell_type": "code",
   "execution_count": 936,
   "metadata": {},
   "outputs": [
    {
     "name": "stdout",
     "output_type": "stream",
     "text": [
      "2918\n"
     ]
    }
   ],
   "source": [
    "print(len(Dam_data))"
   ]
  },
  {
   "cell_type": "code",
   "execution_count": 937,
   "metadata": {},
   "outputs": [],
   "source": [
    "mcolA = x[:,0:3]\n",
    "mcolB = x[:,-1]"
   ]
  },
  {
   "cell_type": "code",
   "execution_count": 938,
   "metadata": {},
   "outputs": [
    {
     "data": {
      "text/plain": [
       "array([[ 42.9525    ,  31.8       ,  25.085     ],\n",
       "       [ 26.7125    ,  18.385     ,  14.81833333],\n",
       "       [ 47.7375    ,  33.08      ,  35.29666667],\n",
       "       [ 35.975     ,  32.77833333,  24.51333333],\n",
       "       [ 34.2625    ,  21.96833333,  17.76666667],\n",
       "       [ 70.74      ,  52.415     ,  45.90666667],\n",
       "       [ 56.78      ,  41.05      ,  25.89166667],\n",
       "       [ 28.55      ,  12.095     ,  11.80666667],\n",
       "       [ 21.9325    ,  14.05666667,   6.47166667],\n",
       "       [ 77.865     ,  60.06333333,  48.285     ],\n",
       "       [137.695     ,  57.25      ,  80.23333333],\n",
       "       [123.0475    ,  76.86      ,  78.515     ]])"
      ]
     },
     "execution_count": 938,
     "metadata": {},
     "output_type": "execute_result"
    }
   ],
   "source": [
    "mcolA "
   ]
  },
  {
   "cell_type": "code",
   "execution_count": 939,
   "metadata": {},
   "outputs": [
    {
     "data": {
      "text/plain": [
       "array([20425., 18606., 17825., 16793., 15223., 14939., 13863., 13831.,\n",
       "       13596., 13322., 36179., 33901.])"
      ]
     },
     "execution_count": 939,
     "metadata": {},
     "output_type": "execute_result"
    }
   ],
   "source": [
    "mcolB"
   ]
  },
  {
   "cell_type": "code",
   "execution_count": 940,
   "metadata": {},
   "outputs": [],
   "source": [
    "# a = list(mcolA)\n",
    "# b = list(mcolB)\n",
    "# b\n",
    "# a\n",
    "inp_matrix = mcolA"
   ]
  },
  {
   "cell_type": "code",
   "execution_count": 941,
   "metadata": {},
   "outputs": [],
   "source": [
    "# reg_val = []\n",
    "# mcolB = []\n",
    "# mcolA = []\n",
    "# for i in range(len(t_vals)):\n",
    "#     if t_vals[i][0] in near_vals:\n",
    "#         reg_val.append((t_vals[i][0],t_vals[i][1]))\n",
    "#         mcolA.append(t_vals[i][0])\n",
    "#         mcolB.append(t_vals[i][1])\n",
    "#         #print(\"True\")\n",
    "# #print(q_point)\n",
    "# #print(reg_val)\n",
    "# print(reg_val)\n",
    "# size_b = len(mcolB)\n",
    "# mcolB = np.array(mcolB)\n",
    "# mcolA = np.array(mcolA)\n",
    "# mcolB = mcolB.reshape((size_b,1))\n",
    "# max_val = np.max(mcolB)\n",
    "# min_val = np.min(mcolB)\n",
    "# print(np.shape(mcolB))\n",
    "# print(np.shape(mcolA))\n",
    "# #print(mcolA1[0])\n",
    "# print(mcolB)\n",
    "\n"
   ]
  },
  {
   "cell_type": "code",
   "execution_count": 942,
   "metadata": {},
   "outputs": [
    {
     "data": {
      "text/plain": [
       "(12, 1)"
      ]
     },
     "execution_count": 942,
     "metadata": {},
     "output_type": "execute_result"
    }
   ],
   "source": [
    "size_b = len(mcolB)\n",
    "#print(size_b)\n",
    "max_val = np.max(mcolB)\n",
    "min_val = np.min(mcolB)\n",
    "mcolB = mcolB.reshape(size_b,1)\n",
    "mcolB.shape"
   ]
  },
  {
   "cell_type": "code",
   "execution_count": 943,
   "metadata": {},
   "outputs": [
    {
     "data": {
      "text/plain": [
       "(12, 3)"
      ]
     },
     "execution_count": 943,
     "metadata": {},
     "output_type": "execute_result"
    }
   ],
   "source": [
    "mcolA.shape"
   ]
  },
  {
   "cell_type": "code",
   "execution_count": 944,
   "metadata": {},
   "outputs": [
    {
     "name": "stdout",
     "output_type": "stream",
     "text": [
      "[0.3107581922387015, 0.23117644485278033, 0.1970074812967581, 0.15185719910749443, 0.0831692698079363, 0.07074419215120094, 0.023668897930612068, 0.022268889180557378, 0.011987574922343265, 0.0, 1.0, 0.9003368771054819]\n",
      "1.0\n",
      "(12, 1)\n"
     ]
    }
   ],
   "source": [
    "normalized_tar_val = normalize(mcolB,max_val,min_val)\n",
    "print(normalized_tar_val)\n",
    "print(np.max(normalized_tar_val))\n",
    "normalized_tar_val = np.array(normalized_tar_val)\n",
    "normalized_tar_val = normalized_tar_val.reshape(size_b,1)\n",
    "print(np.shape(normalized_tar_val))"
   ]
  },
  {
   "cell_type": "code",
   "execution_count": 957,
   "metadata": {},
   "outputs": [
    {
     "name": "stdout",
     "output_type": "stream",
     "text": [
      "[[137.695       57.25        80.23333333]\n",
      " [123.0475      76.86        78.515     ]]\n"
     ]
    },
    {
     "data": {
      "text/plain": [
       "(1, 3)"
      ]
     },
     "execution_count": 957,
     "metadata": {},
     "output_type": "execute_result"
    }
   ],
   "source": [
    "q_point = q_point[:,0:3]\n",
    "q_point.shape\n",
    "print(q_point)\n",
    "q_point[0].shape"
   ]
  },
  {
   "cell_type": "code",
   "execution_count": 958,
   "metadata": {},
   "outputs": [
    {
     "data": {
      "text/plain": [
       "matrix([[137.695     ,  57.25      ,  80.23333333],\n",
       "        [123.0475    ,  76.86      ,  78.515     ]])"
      ]
     },
     "execution_count": 958,
     "metadata": {},
     "output_type": "execute_result"
    }
   ],
   "source": [
    "q_point[:,0:4]"
   ]
  },
  {
   "cell_type": "code",
   "execution_count": 959,
   "metadata": {},
   "outputs": [],
   "source": [
    "def lwr(inp, out, k):\n",
    "    m,n = np.shape(inp)\n",
    "    ypred = np.zeros(m)\n",
    "    \n",
    "    for i in range(m):\n",
    "        ypred[i] = inp[i] * beta(inp[i], inp, out, k)\n",
    "    #print(\"The final prediction is :\",ypred)\n",
    "    return ypred\n",
    "    "
   ]
  },
  {
   "cell_type": "code",
   "execution_count": 960,
   "metadata": {},
   "outputs": [],
   "source": [
    "def lwr1(x0, inp, out, k):\n",
    "    m,n = np.shape(inp)\n",
    "    ypred = np.zeros(m)\n",
    "    \n",
    "    ypred = x0 * beta(x0, inp, out, k)\n",
    "    #print(\"The final prediction is :\",ypred)\n",
    "    return ypred\n"
   ]
  },
  {
   "cell_type": "code",
   "execution_count": 961,
   "metadata": {},
   "outputs": [],
   "source": [
    "def beta(point, inp, out, k):\n",
    "    wt = kernal(point, inp, k)\n",
    "    #print(\"The weight of betas is\",wt)\n",
    "    beta_val = (inp.T * (wt*inp)).I * (inp.T * wt * out)\n",
    "    #print(\"The weight is beta value is\",beta_val)\n",
    "    \n",
    "    return beta_val"
   ]
  },
  {
   "cell_type": "code",
   "execution_count": 962,
   "metadata": {},
   "outputs": [],
   "source": [
    "def kernal(point, inp, k):\n",
    "    l,b = np.shape(inp)\n",
    "    weights = np.mat(np.eye((l)))\n",
    "    #print(weights)\n",
    "    \n",
    "    for i in range(l):\n",
    "        diff = point - inp[i]\n",
    "        #diff = np.array(diff)\n",
    "        #print(\"Hi\",len(diff))\n",
    "        #print(diff.shape)\n",
    "        #diff = diff.reshape(len(diff),1)\n",
    "        #print(np.shape(diff))\n",
    "        #diff1 = diff.T\n",
    "        #print(np.shape(diff.T))\n",
    "        #a = np.dot(diff,diff.T)\n",
    "        #print(a)\n",
    "        \n",
    "        #print(a)\n",
    "        #print(np.shape(a))\n",
    "        weights[i,i] = np.exp(np.dot(diff,diff.T) / (-2.0 * (k**2)))\n",
    "        #print(weights[i,i])\n",
    "    #print(\"The weights of\",i,'is',weights[i,i])\n",
    "    \n",
    "    return weights"
   ]
  },
  {
   "cell_type": "code",
   "execution_count": 973,
   "metadata": {},
   "outputs": [
    {
     "name": "stdout",
     "output_type": "stream",
     "text": [
      "(12, 3)\n",
      "(12, 1)\n",
      "[[137.695       57.25        80.23333333]\n",
      " [123.0475      76.86        78.515     ]]\n",
      "----------------------\n",
      "[[ 42.9525      31.8         25.085     ]\n",
      " [ 26.7125      18.385       14.81833333]\n",
      " [ 47.7375      33.08        35.29666667]\n",
      " [ 35.975       32.77833333  24.51333333]\n",
      " [ 34.2625      21.96833333  17.76666667]\n",
      " [ 70.74        52.415       45.90666667]\n",
      " [ 56.78        41.05        25.89166667]\n",
      " [ 28.55        12.095       11.80666667]\n",
      " [ 21.9325      14.05666667   6.47166667]\n",
      " [ 77.865       60.06333333  48.285     ]\n",
      " [137.695       57.25        80.23333333]\n",
      " [123.0475      76.86        78.515     ]]\n",
      "-----------------------------------------------\n",
      "[[20425.]\n",
      " [18606.]\n",
      " [17825.]\n",
      " [16793.]\n",
      " [15223.]\n",
      " [14939.]\n",
      " [13863.]\n",
      " [13831.]\n",
      " [13596.]\n",
      " [13322.]\n",
      " [36179.]\n",
      " [33901.]]\n",
      "=======================================================\n",
      "[[75115.52]]\n",
      "(12, 1)\n",
      "(12, 3)\n"
     ]
    },
    {
     "ename": "ValueError",
     "evalue": "x and y must be the same size",
     "output_type": "error",
     "traceback": [
      "\u001b[0;31m---------------------------------------------------------------------------\u001b[0m",
      "\u001b[0;31mValueError\u001b[0m                                Traceback (most recent call last)",
      "\u001b[0;32m<ipython-input-973-1bb09de27fdb>\u001b[0m in \u001b[0;36m<module>\u001b[0;34m\u001b[0m\n\u001b[1;32m     25\u001b[0m \u001b[0mpt\u001b[0m\u001b[0;34m.\u001b[0m\u001b[0mplot\u001b[0m\u001b[0;34m(\u001b[0m\u001b[0mxsort\u001b[0m\u001b[0;34m[\u001b[0m\u001b[0;34m:\u001b[0m\u001b[0;34m,\u001b[0m\u001b[0;36m1\u001b[0m\u001b[0;34m]\u001b[0m\u001b[0;34m,\u001b[0m\u001b[0mypred\u001b[0m\u001b[0;34m[\u001b[0m\u001b[0mmcolA\u001b[0m\u001b[0;34m[\u001b[0m\u001b[0;34m:\u001b[0m\u001b[0;34m,\u001b[0m\u001b[0;36m1\u001b[0m\u001b[0;34m]\u001b[0m\u001b[0;34m.\u001b[0m\u001b[0margsort\u001b[0m\u001b[0;34m(\u001b[0m\u001b[0;36m0\u001b[0m\u001b[0;34m)\u001b[0m\u001b[0;34m]\u001b[0m\u001b[0;34m,\u001b[0m\u001b[0mcolor\u001b[0m \u001b[0;34m=\u001b[0m \u001b[0;34m'yellow'\u001b[0m\u001b[0;34m,\u001b[0m\u001b[0mlinewidth\u001b[0m \u001b[0;34m=\u001b[0m \u001b[0;36m5\u001b[0m\u001b[0;34m)\u001b[0m\u001b[0;31m#ypred[X[:, 1].argsort(0)]\u001b[0m\u001b[0;34m\u001b[0m\u001b[0;34m\u001b[0m\u001b[0m\n\u001b[1;32m     26\u001b[0m \u001b[0max1\u001b[0m\u001b[0;34m.\u001b[0m\u001b[0mset_title\u001b[0m\u001b[0;34m(\u001b[0m\u001b[0;34m'Sharing Y axis'\u001b[0m\u001b[0;34m)\u001b[0m\u001b[0;34m\u001b[0m\u001b[0;34m\u001b[0m\u001b[0m\n\u001b[0;32m---> 27\u001b[0;31m \u001b[0max2\u001b[0m\u001b[0;34m.\u001b[0m\u001b[0mscatter\u001b[0m\u001b[0;34m(\u001b[0m\u001b[0mmcolA\u001b[0m\u001b[0;34m,\u001b[0m \u001b[0mmcolB\u001b[0m\u001b[0;34m)\u001b[0m\u001b[0;34m\u001b[0m\u001b[0;34m\u001b[0m\u001b[0m\n\u001b[0m\u001b[1;32m     28\u001b[0m \u001b[0;34m\u001b[0m\u001b[0m\n\u001b[1;32m     29\u001b[0m \u001b[0mpt\u001b[0m\u001b[0;34m.\u001b[0m\u001b[0mscatter\u001b[0m\u001b[0;34m(\u001b[0m\u001b[0mmcolA\u001b[0m\u001b[0;34m,\u001b[0m\u001b[0mmcolB\u001b[0m\u001b[0;34m,\u001b[0m\u001b[0mcolor\u001b[0m \u001b[0;34m=\u001b[0m \u001b[0;34m'blue'\u001b[0m\u001b[0;34m)\u001b[0m\u001b[0;34m\u001b[0m\u001b[0;34m\u001b[0m\u001b[0m\n",
      "\u001b[0;32m~/PycharmProjects/untitled1/venv/lib/python3.7/site-packages/matplotlib/__init__.py\u001b[0m in \u001b[0;36minner\u001b[0;34m(ax, data, *args, **kwargs)\u001b[0m\n\u001b[1;32m   1597\u001b[0m     \u001b[0;32mdef\u001b[0m \u001b[0minner\u001b[0m\u001b[0;34m(\u001b[0m\u001b[0max\u001b[0m\u001b[0;34m,\u001b[0m \u001b[0;34m*\u001b[0m\u001b[0margs\u001b[0m\u001b[0;34m,\u001b[0m \u001b[0mdata\u001b[0m\u001b[0;34m=\u001b[0m\u001b[0;32mNone\u001b[0m\u001b[0;34m,\u001b[0m \u001b[0;34m**\u001b[0m\u001b[0mkwargs\u001b[0m\u001b[0;34m)\u001b[0m\u001b[0;34m:\u001b[0m\u001b[0;34m\u001b[0m\u001b[0;34m\u001b[0m\u001b[0m\n\u001b[1;32m   1598\u001b[0m         \u001b[0;32mif\u001b[0m \u001b[0mdata\u001b[0m \u001b[0;32mis\u001b[0m \u001b[0;32mNone\u001b[0m\u001b[0;34m:\u001b[0m\u001b[0;34m\u001b[0m\u001b[0;34m\u001b[0m\u001b[0m\n\u001b[0;32m-> 1599\u001b[0;31m             \u001b[0;32mreturn\u001b[0m \u001b[0mfunc\u001b[0m\u001b[0;34m(\u001b[0m\u001b[0max\u001b[0m\u001b[0;34m,\u001b[0m \u001b[0;34m*\u001b[0m\u001b[0mmap\u001b[0m\u001b[0;34m(\u001b[0m\u001b[0msanitize_sequence\u001b[0m\u001b[0;34m,\u001b[0m \u001b[0margs\u001b[0m\u001b[0;34m)\u001b[0m\u001b[0;34m,\u001b[0m \u001b[0;34m**\u001b[0m\u001b[0mkwargs\u001b[0m\u001b[0;34m)\u001b[0m\u001b[0;34m\u001b[0m\u001b[0;34m\u001b[0m\u001b[0m\n\u001b[0m\u001b[1;32m   1600\u001b[0m \u001b[0;34m\u001b[0m\u001b[0m\n\u001b[1;32m   1601\u001b[0m         \u001b[0mbound\u001b[0m \u001b[0;34m=\u001b[0m \u001b[0mnew_sig\u001b[0m\u001b[0;34m.\u001b[0m\u001b[0mbind\u001b[0m\u001b[0;34m(\u001b[0m\u001b[0max\u001b[0m\u001b[0;34m,\u001b[0m \u001b[0;34m*\u001b[0m\u001b[0margs\u001b[0m\u001b[0;34m,\u001b[0m \u001b[0;34m**\u001b[0m\u001b[0mkwargs\u001b[0m\u001b[0;34m)\u001b[0m\u001b[0;34m\u001b[0m\u001b[0;34m\u001b[0m\u001b[0m\n",
      "\u001b[0;32m~/PycharmProjects/untitled1/venv/lib/python3.7/site-packages/matplotlib/axes/_axes.py\u001b[0m in \u001b[0;36mscatter\u001b[0;34m(self, x, y, s, c, marker, cmap, norm, vmin, vmax, alpha, linewidths, verts, edgecolors, plotnonfinite, **kwargs)\u001b[0m\n\u001b[1;32m   4441\u001b[0m         \u001b[0my\u001b[0m \u001b[0;34m=\u001b[0m \u001b[0mnp\u001b[0m\u001b[0;34m.\u001b[0m\u001b[0mma\u001b[0m\u001b[0;34m.\u001b[0m\u001b[0mravel\u001b[0m\u001b[0;34m(\u001b[0m\u001b[0my\u001b[0m\u001b[0;34m)\u001b[0m\u001b[0;34m\u001b[0m\u001b[0;34m\u001b[0m\u001b[0m\n\u001b[1;32m   4442\u001b[0m         \u001b[0;32mif\u001b[0m \u001b[0mx\u001b[0m\u001b[0;34m.\u001b[0m\u001b[0msize\u001b[0m \u001b[0;34m!=\u001b[0m \u001b[0my\u001b[0m\u001b[0;34m.\u001b[0m\u001b[0msize\u001b[0m\u001b[0;34m:\u001b[0m\u001b[0;34m\u001b[0m\u001b[0;34m\u001b[0m\u001b[0m\n\u001b[0;32m-> 4443\u001b[0;31m             \u001b[0;32mraise\u001b[0m \u001b[0mValueError\u001b[0m\u001b[0;34m(\u001b[0m\u001b[0;34m\"x and y must be the same size\"\u001b[0m\u001b[0;34m)\u001b[0m\u001b[0;34m\u001b[0m\u001b[0;34m\u001b[0m\u001b[0m\n\u001b[0m\u001b[1;32m   4444\u001b[0m \u001b[0;34m\u001b[0m\u001b[0m\n\u001b[1;32m   4445\u001b[0m         \u001b[0;32mif\u001b[0m \u001b[0ms\u001b[0m \u001b[0;32mis\u001b[0m \u001b[0;32mNone\u001b[0m\u001b[0;34m:\u001b[0m\u001b[0;34m\u001b[0m\u001b[0;34m\u001b[0m\u001b[0m\n",
      "\u001b[0;31mValueError\u001b[0m: x and y must be the same size"
     ]
    },
    {
     "data": {
      "image/png": "[encoded data removed]",
      "text/plain": [
       "<Figure size 432x288 with 2 Axes>"
      ]
     },
     "metadata": {
      "needs_background": "light"
     },
     "output_type": "display_data"
    }
   ],
   "source": [
    "#mcolB = normalized_tar_val\n",
    "print(inp_matrix.shape)\n",
    "print(mcolB.shape)\n",
    "print(q_point)\n",
    "print(\"----------------------\")\n",
    "print(inp_matrix)\n",
    "print(\"-----------------------------------------------\")\n",
    "#ypred = lwr(inp_matrix, mcolB, 6)\n",
    "for i in range(len(q_point)):\n",
    "    \n",
    "    ypred1 = lwr1(q_point[i], inp_matrix, mcolB, 7.19)\n",
    "ypred = np.array(ypred)\n",
    "print(mcolB)\n",
    "#print(normalized_tar_val)\n",
    "#print(ypred)\n",
    "print(\"=======================================================\")\n",
    "print(ypred1)\n",
    "print(np.shape(mcolB))\n",
    "\n",
    "xsort = inp_matrix.copy()\n",
    "xsort.sort(axis = 0)\n",
    "print(np.shape(mcolA))\n",
    "\n",
    "f, (ax1, ax2) = pt.subplots(1, 2, sharey=True)\n",
    "pt.plot(xsort[:,1],ypred[mcolA[:,1].argsort(0)],color = 'yellow',linewidth = 5)#ypred[X[:, 1].argsort(0)]\n",
    "ax1.set_title('Sharing Y axis')\n",
    "ax2.scatter(mcolA, mcolB)\n",
    "\n",
    "pt.scatter(mcolA,mcolB,color = 'blue')\n",
    "pt.plot(xsort[:,1],ypred[mcolA[:,1].argsort(0)],color = 'yellow',linewidth = 5)#ypred[X[:, 1].argsort(0)]\n",
    "#pt.plot(xsort[:, 1], ypred[X[:, 1].argsort(0)], color='yellow', linewidth=5)\n",
    "pt.xlabel('MADIKERI')\n",
    "pt.ylabel('Inflow')"
   ]
  },
  {
   "cell_type": "code",
   "execution_count": null,
   "metadata": {},
   "outputs": [],
   "source": [
    "\n",
    "    "
   ]
  },
  {
   "cell_type": "code",
   "execution_count": 578,
   "metadata": {},
   "outputs": [],
   "source": [
    "from sklearn import metrics"
   ]
  },
  {
   "cell_type": "code",
   "execution_count": 324,
   "metadata": {},
   "outputs": [
    {
     "ename": "ValueError",
     "evalue": "continuous is not supported",
     "output_type": "error",
     "traceback": [
      "\u001b[0;31m---------------------------------------------------------------------------\u001b[0m",
      "\u001b[0;31mValueError\u001b[0m                                Traceback (most recent call last)",
      "\u001b[0;32m<ipython-input-324-564def4917db>\u001b[0m in \u001b[0;36m<module>\u001b[0;34m\u001b[0m\n\u001b[0;32m----> 1\u001b[0;31m \u001b[0mmetrics\u001b[0m\u001b[0;34m.\u001b[0m\u001b[0maccuracy_score\u001b[0m\u001b[0;34m(\u001b[0m\u001b[0mmcolB\u001b[0m\u001b[0;34m,\u001b[0m \u001b[0mypred\u001b[0m\u001b[0;34m)\u001b[0m\u001b[0;34m\u001b[0m\u001b[0;34m\u001b[0m\u001b[0m\n\u001b[0m",
      "\u001b[0;32m~/PycharmProjects/untitled1/venv/lib/python3.7/site-packages/sklearn/metrics/_classification.py\u001b[0m in \u001b[0;36maccuracy_score\u001b[0;34m(y_true, y_pred, normalize, sample_weight)\u001b[0m\n\u001b[1;32m    183\u001b[0m \u001b[0;34m\u001b[0m\u001b[0m\n\u001b[1;32m    184\u001b[0m     \u001b[0;31m# Compute accuracy for each possible representation\u001b[0m\u001b[0;34m\u001b[0m\u001b[0;34m\u001b[0m\u001b[0;34m\u001b[0m\u001b[0m\n\u001b[0;32m--> 185\u001b[0;31m     \u001b[0my_type\u001b[0m\u001b[0;34m,\u001b[0m \u001b[0my_true\u001b[0m\u001b[0;34m,\u001b[0m \u001b[0my_pred\u001b[0m \u001b[0;34m=\u001b[0m \u001b[0m_check_targets\u001b[0m\u001b[0;34m(\u001b[0m\u001b[0my_true\u001b[0m\u001b[0;34m,\u001b[0m \u001b[0my_pred\u001b[0m\u001b[0;34m)\u001b[0m\u001b[0;34m\u001b[0m\u001b[0;34m\u001b[0m\u001b[0m\n\u001b[0m\u001b[1;32m    186\u001b[0m     \u001b[0mcheck_consistent_length\u001b[0m\u001b[0;34m(\u001b[0m\u001b[0my_true\u001b[0m\u001b[0;34m,\u001b[0m \u001b[0my_pred\u001b[0m\u001b[0;34m,\u001b[0m \u001b[0msample_weight\u001b[0m\u001b[0;34m)\u001b[0m\u001b[0;34m\u001b[0m\u001b[0;34m\u001b[0m\u001b[0m\n\u001b[1;32m    187\u001b[0m     \u001b[0;32mif\u001b[0m \u001b[0my_type\u001b[0m\u001b[0;34m.\u001b[0m\u001b[0mstartswith\u001b[0m\u001b[0;34m(\u001b[0m\u001b[0;34m'multilabel'\u001b[0m\u001b[0;34m)\u001b[0m\u001b[0;34m:\u001b[0m\u001b[0;34m\u001b[0m\u001b[0;34m\u001b[0m\u001b[0m\n",
      "\u001b[0;32m~/PycharmProjects/untitled1/venv/lib/python3.7/site-packages/sklearn/metrics/_classification.py\u001b[0m in \u001b[0;36m_check_targets\u001b[0;34m(y_true, y_pred)\u001b[0m\n\u001b[1;32m     95\u001b[0m     \u001b[0;31m# No metrics support \"multiclass-multioutput\" format\u001b[0m\u001b[0;34m\u001b[0m\u001b[0;34m\u001b[0m\u001b[0;34m\u001b[0m\u001b[0m\n\u001b[1;32m     96\u001b[0m     \u001b[0;32mif\u001b[0m \u001b[0;34m(\u001b[0m\u001b[0my_type\u001b[0m \u001b[0;32mnot\u001b[0m \u001b[0;32min\u001b[0m \u001b[0;34m[\u001b[0m\u001b[0;34m\"binary\"\u001b[0m\u001b[0;34m,\u001b[0m \u001b[0;34m\"multiclass\"\u001b[0m\u001b[0;34m,\u001b[0m \u001b[0;34m\"multilabel-indicator\"\u001b[0m\u001b[0;34m]\u001b[0m\u001b[0;34m)\u001b[0m\u001b[0;34m:\u001b[0m\u001b[0;34m\u001b[0m\u001b[0;34m\u001b[0m\u001b[0m\n\u001b[0;32m---> 97\u001b[0;31m         \u001b[0;32mraise\u001b[0m \u001b[0mValueError\u001b[0m\u001b[0;34m(\u001b[0m\u001b[0;34m\"{0} is not supported\"\u001b[0m\u001b[0;34m.\u001b[0m\u001b[0mformat\u001b[0m\u001b[0;34m(\u001b[0m\u001b[0my_type\u001b[0m\u001b[0;34m)\u001b[0m\u001b[0;34m)\u001b[0m\u001b[0;34m\u001b[0m\u001b[0;34m\u001b[0m\u001b[0m\n\u001b[0m\u001b[1;32m     98\u001b[0m \u001b[0;34m\u001b[0m\u001b[0m\n\u001b[1;32m     99\u001b[0m     \u001b[0;32mif\u001b[0m \u001b[0my_type\u001b[0m \u001b[0;32min\u001b[0m \u001b[0;34m[\u001b[0m\u001b[0;34m\"binary\"\u001b[0m\u001b[0;34m,\u001b[0m \u001b[0;34m\"multiclass\"\u001b[0m\u001b[0;34m]\u001b[0m\u001b[0;34m:\u001b[0m\u001b[0;34m\u001b[0m\u001b[0;34m\u001b[0m\u001b[0m\n",
      "\u001b[0;31mValueError\u001b[0m: continuous is not supported"
     ]
    }
   ],
   "source": [
    "metrics.accuracy_score(mcolB, ypred)"
   ]
  },
  {
   "cell_type": "code",
   "execution_count": 337,
   "metadata": {},
   "outputs": [
    {
     "data": {
      "text/plain": [
       "52.7620436691333"
      ]
     },
     "execution_count": 337,
     "metadata": {},
     "output_type": "execute_result"
    }
   ],
   "source": [
    "import math\n",
    "math.sqrt(metrics.mean_squared_error(mcolB,ypred))"
   ]
  },
  {
   "cell_type": "code",
   "execution_count": null,
   "metadata": {},
   "outputs": [],
   "source": []
  }
 ],
 "metadata": {
  "kernelspec": {
   "display_name": "Python 3",
   "language": "python",
   "name": "python3"
  },
  "language_info": {
   "codemirror_mode": {
    "name": "ipython",
    "version": 3
   },
   "file_extension": ".py",
   "mimetype": "text/x-python",
   "name": "python",
   "nbconvert_exporter": "python",
   "pygments_lexer": "ipython3",
   "version": "3.7.5rc1"
  }
 },
 "nbformat": 4,
 "nbformat_minor": 2
}
