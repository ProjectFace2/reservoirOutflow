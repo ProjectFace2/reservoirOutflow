{
 "cells": [
  {
   "cell_type": "code",
   "execution_count": 8,
   "metadata": {},
   "outputs": [],
   "source": [
    "import matplotlib.pyplot as pt\n",
    "import pandas as pd\n",
    "import numpy as np\n",
    "from sklearn import metrics\n",
    "from sklearn.preprocessing import MinMaxScaler\n",
    "from math import sqrt\n",
    "import matplotlib as mpl\n"
   ]
  },
  {
   "cell_type": "code",
   "execution_count": 9,
   "metadata": {},
   "outputs": [],
   "source": [
    "mpl.rcParams['figure.figsize'] = (18, 6)\n",
    "mpl.rcParams['axes.grid'] = True"
   ]
  },
  {
   "cell_type": "code",
   "execution_count": 10,
   "metadata": {},
   "outputs": [],
   "source": [
    "#dataset preparation with lag\n",
    "def series_to_supervised(data, n_in=1, n_out=1, dropnan=True):\n",
    "\tn_vars = 1 if type(data) is list else data.shape[1]\n",
    "\tdf = pd.DataFrame(data)\n",
    "\tcols, names = list(), list()\n",
    "\t# input sequence (t-n, ... t-1)\n",
    "\tfor i in range(n_in, 0, -1):\n",
    "\t\tcols.append(df.shift(i))\n",
    "\t\tnames += [('var%d(t-%d)' % (j+1, i)) for j in range(n_vars)]\n",
    "\t# forecast sequence (t, t+1, ... t+n)\n",
    "\tfor i in range(0, n_out):\n",
    "\t\tcols.append(df.shift(-i))\n",
    "\t\tif i == 0:\n",
    "\t\t\tnames += [('var%d(t)' % (j+1)) for j in range(n_vars)]\n",
    "\t\telse:\n",
    "\t\t\tnames += [('var%d(t+%d)' % (j+1, i)) for j in range(n_vars)]\n",
    "\t# put it all together\n",
    "\tagg = pd.concat(cols, axis=1)\n",
    "\tagg.columns = names\n",
    "\t# drop rows with NaN values\n",
    "\tif dropnan:\n",
    "\t\tagg.dropna(inplace=True)\n",
    "\treturn agg"
   ]
  },
  {
   "cell_type": "code",
   "execution_count": 11,
   "metadata": {},
   "outputs": [],
   "source": [
    "#locally weighted regression\n",
    "def lwr(inp, out, k):\n",
    "    m,n = np.shape(inp)\n",
    "    ypred = np.zeros(m)    \n",
    "    for i in range(m):\n",
    "        ypred[i] = inp[i] * beta(inp[i], inp, out, k)\n",
    "    #print(\"The final prediction is :\",ypred)\n",
    "    return ypred\n",
    "\n",
    "def lwr1(x0, inp, out, k):\n",
    "    m,n = np.shape(inp)\n",
    "    ypred = np.zeros(m)    \n",
    "    ypred = x0 * beta(x0, inp, out, k)\n",
    "    #print(\"The final prediction is :\",ypred)\n",
    "    return ypred\n",
    "\n",
    "def beta(point, inp, out, k):\n",
    "    wt = kernal(point, inp, k)\n",
    "    #print(\"The weight of betas is\",wt)\n",
    "    beta_val = (inp.T * (wt*inp)).I * inp.T * wt * out\n",
    "    #print(\"The weight is beta value is\",beta_val)\n",
    "    return beta_val\n",
    "\n",
    "def kernal(point, inp, k):\n",
    "    l,b = np.shape(inp)\n",
    "    weights = np.mat(np.eye((l)))\n",
    "    #print(weights)    \n",
    "    for i in range(l):\n",
    "        #print(point.shape,inp[i].shape)\n",
    "        diff = point - inp[i]\n",
    "        weights[i,i] = np.exp(np.dot(diff,diff.T) / (-2.0 * (k**2)))\n",
    "    return weights"
   ]
  },
  {
   "cell_type": "code",
   "execution_count": 12,
   "metadata": {},
   "outputs": [
    {
     "name": "stdout",
     "output_type": "stream",
     "text": [
      "(2922, 4)\n"
     ]
    },
    {
     "data": {
      "text/html": [
       "<div>\n",
       "<style scoped>\n",
       "    .dataframe tbody tr th:only-of-type {\n",
       "        vertical-align: middle;\n",
       "    }\n",
       "\n",
       "    .dataframe tbody tr th {\n",
       "        vertical-align: top;\n",
       "    }\n",
       "\n",
       "    .dataframe thead th {\n",
       "        text-align: right;\n",
       "    }\n",
       "</style>\n",
       "<table border=\"1\" class=\"dataframe\">\n",
       "  <thead>\n",
       "    <tr style=\"text-align: right;\">\n",
       "      <th></th>\n",
       "      <th>Inflow</th>\n",
       "      <th>MADIKERI</th>\n",
       "      <th>SOMWARPET</th>\n",
       "      <th>VIRAJPET</th>\n",
       "      <th>Dates</th>\n",
       "    </tr>\n",
       "  </thead>\n",
       "  <tbody>\n",
       "    <tr>\n",
       "      <th>0</th>\n",
       "      <td>0.001823</td>\n",
       "      <td>0.0</td>\n",
       "      <td>0.0</td>\n",
       "      <td>0.0</td>\n",
       "      <td>2011-01-01</td>\n",
       "    </tr>\n",
       "    <tr>\n",
       "      <th>1</th>\n",
       "      <td>0.003068</td>\n",
       "      <td>0.0</td>\n",
       "      <td>0.0</td>\n",
       "      <td>0.0</td>\n",
       "      <td>2011-01-02</td>\n",
       "    </tr>\n",
       "    <tr>\n",
       "      <th>2</th>\n",
       "      <td>0.002131</td>\n",
       "      <td>0.0</td>\n",
       "      <td>0.0</td>\n",
       "      <td>0.0</td>\n",
       "      <td>2011-01-03</td>\n",
       "    </tr>\n",
       "    <tr>\n",
       "      <th>3</th>\n",
       "      <td>0.001515</td>\n",
       "      <td>0.0</td>\n",
       "      <td>0.0</td>\n",
       "      <td>0.0</td>\n",
       "      <td>2011-01-04</td>\n",
       "    </tr>\n",
       "    <tr>\n",
       "      <th>4</th>\n",
       "      <td>0.001669</td>\n",
       "      <td>0.0</td>\n",
       "      <td>0.0</td>\n",
       "      <td>0.0</td>\n",
       "      <td>2011-01-05</td>\n",
       "    </tr>\n",
       "  </tbody>\n",
       "</table>\n",
       "</div>"
      ],
      "text/plain": [
       "     Inflow  MADIKERI  SOMWARPET  VIRAJPET      Dates\n",
       "0  0.001823       0.0        0.0       0.0 2011-01-01\n",
       "1  0.003068       0.0        0.0       0.0 2011-01-02\n",
       "2  0.002131       0.0        0.0       0.0 2011-01-03\n",
       "3  0.001515       0.0        0.0       0.0 2011-01-04\n",
       "4  0.001669       0.0        0.0       0.0 2011-01-05"
      ]
     },
     "execution_count": 12,
     "metadata": {},
     "output_type": "execute_result"
    }
   ],
   "source": [
    "df = pd.read_csv('/home/ganesh/Documents/Datasets/allYearHarangi.csv',header=0,parse_dates=True,index_col=0)\n",
    "df.drop([\"Present Storage(TMC)\",'Reservoir Level(TMC)','Outflow'],axis = 1,inplace = True)\n",
    "scaler = MinMaxScaler(feature_range=(0, 1))\n",
    "scaled = scaler.fit_transform(df.values)\n",
    "reshaped=pd.DataFrame({'Inflow':scaled[:,0],'MADIKERI':scaled[:,1],'SOMWARPET':scaled[:,2],'VIRAJPET':scaled[:,3]})\n",
    "print(reshaped.shape)\n",
    "idx = pd.date_range('2011-01-01', '2018-12-31') \n",
    "reshaped['Dates']=idx#reshaped.set_index(idx)\n",
    "# reshaped.index.name='Dates'\n",
    "reshaped.head()"
   ]
  },
  {
   "cell_type": "code",
   "execution_count": 130,
   "metadata": {},
   "outputs": [],
   "source": [
    "def doityourself():\n",
    "    #df = pd.read_csv('kodaguAllYearRainDam.csv')\n",
    "    # df = pd.read_csv('/home/kishora/Documents/Datasets/allYearHarangi.csv')\n",
    "    #print(type(reshaped))\n",
    "    df=reshaped\n",
    "    #print(df.head())\n",
    "    a = \"RCDATE\"\n",
    "    b = \"Dates\"\n",
    "    df['month'] = pd.DatetimeIndex(df[b]).month\n",
    "    df['year'] = pd.DatetimeIndex(df[b]).year\n",
    "    mask = (df['month'] <= 12)\n",
    "    mask1 = (df['year'] == 2013)\n",
    "    df = df.loc[mask]\n",
    "    #print(\"mask \",df)\n",
    "    df = df.loc[mask1]\n",
    "    #print(\"mask1 \",df)\n",
    "    df.set_index(b,inplace = True)\n",
    "    df.drop(['month','year'],axis = 1,inplace = True)\n",
    "    #df.drop(['Inflow'],axis = 1,inplace = True)\n",
    "    df\n",
    "    lag_val = 4\n",
    "    values = df.values\n",
    "    values = values.astype('float32')\n",
    "# normalize features\n",
    "# scaler = MinMaxScaler(feature_range=(0, 1))\n",
    "# scaled = scaler.fit_transform(values)\n",
    "# data=pd.DataFrame({'Inflow':scaled[:,0],'MADIKERI':scaled[:,1],'SOMWARPET':scaled[:,2],'VIRAJPET':scaled[:,3]})\n",
    "# print(data.shape)\n",
    "# idx = pd.date_range('2011-01-01', '2011-12-31') \n",
    "# data.set_index(idx)\n",
    "# frame as supervised learning\n",
    "    reframed = series_to_supervised(values, lag_val, 1)#lag of 4 days\n",
    "# drop columns we don't want to predict\n",
    "    reframed.drop(reframed.columns[[-1,-2,-3]], axis=1, inplace=True)\n",
    "    reframed.head()\n",
    "    values = reframed.values\n",
    "    train_x = values[:,:-1]\n",
    "    #print(train_x)\n",
    "    Inflow = values[:,-1]\n",
    "    Inflow = Inflow.reshape((train_x.shape[0],1))\n",
    "\n",
    "    Inflow.shape\n",
    "    train_x.shape\n",
    "    #df1 = pd.read_csv('kodaguAllYearRainDam.csv')\n",
    "    df1 = reshaped\n",
    "    df1['month'] = pd.DatetimeIndex(df1[b]).month\n",
    "    df1['year'] = pd.DatetimeIndex(df1[b]).year\n",
    "    df1\n",
    "    mask = (df1['month'] <= 12)\n",
    "    mask1 = (df1['year'] > 2013)#&(df1['year'] <= 2018))\n",
    "    df1 = df1.loc[mask]\n",
    "    df1 = df1.loc[mask1]\n",
    "    df1.set_index(b,inplace = True)\n",
    "    df1.drop(['month','year'],axis = 1,inplace = True)\n",
    "#df1.drop(['Inflow'],axis = 1,inplace = True)\n",
    "    df1\n",
    "    values1 = df1.values\n",
    "    values1 = values1.astype('float32')\n",
    "# normalize features\n",
    "# scaler = MinMaxScaler(feature_range=(0, 1))\n",
    "# scaled = scaler.fit_transform(values1)\n",
    "# data1=pd.DataFrame({'Inflow':scaled[:,0],'MADIKERI':scaled[:,1],'SOMWARPET':scaled[:,2],'VIRAJPET':scaled[:,3]})\n",
    "# print(data1.shape)\n",
    "# idx = pd.date_range('2012-01-01', '2018-12-31') \n",
    "# data1.set_index(idx)\n",
    "# frame as supervised learning\n",
    "    reframed1 = series_to_supervised(values1, lag_val, 1)#lag of 4 days\n",
    "# drop columns we don't want to predict1\n",
    "    #print(reframed1.head())\n",
    "    reframed1.drop(reframed1.columns[[-1,-2,-3]], axis=1, inplace=True)\n",
    "    reframed1.head()\n",
    "    values1 = reframed1.values\n",
    "    Actuall_inflow = values1[:,-1]\n",
    "    test_x = values1[:,:-1]\n",
    "\n",
    "    #print(train_x.shape,Inflow.shape)\n",
    "    #print(test_x.shape)\n",
    "    Actuall_inflow.shape\n",
    "    ypred = []\n",
    "    train_X = train_x\n",
    "    train_y = Inflow\n",
    "    for i in test_x:\n",
    "        ypred.append(lwr1(i, train_X, train_y, 7.15))\n",
    "    ypred = np.array(ypred).reshape(Actuall_inflow.shape[0],1)\n",
    "    ypred\n",
    "    Actuall_inflow=Actuall_inflow.reshape(Actuall_inflow.shape[0],1)\n",
    "    inv_yhat = np.concatenate((ypred, test_x[:, -3:]), axis=1)\n",
    "    out=scaler.inverse_transform(inv_yhat) \n",
    "    out=out[:,0]\n",
    "    tar_y = np.concatenate((Actuall_inflow, test_x[:, -3:]), axis=1)\n",
    "    tar=scaler.inverse_transform(tar_y)\n",
    "    tar=tar[:,0]\n",
    "    #print(\"Hi\")\n",
    "    #print(len(tar))\n",
    "    #print(tar[:-1].shape)\n",
    "    print(\"MSE = \",metrics.mean_squared_error(tar,out))\n",
    "    print(\"RMSE = \",sqrt(metrics.mean_squared_error(tar,out)))\n",
    "    print(\"RMSE = \",sqrt(metrics.mean_squared_error(tar[:-1],out[1:])))\n",
    "    #print(tar)\n",
    "    outform = pd.DataFrame()\n",
    "    outform['Actuall']=tar[:-1]\n",
    "    outform['predicted']=out[1:]\n",
    "    index = pd.date_range('2014-01-05', '2018-12-30')\n",
    "    #print(len(index))\n",
    "    outform = outform.set_index(index)\n",
    "    return outform"
   ]
  },
  {
   "cell_type": "code",
   "execution_count": 131,
   "metadata": {},
   "outputs": [
    {
     "name": "stdout",
     "output_type": "stream",
     "text": [
      "MSE =  3035485.0568394363\n",
      "RMSE =  1742.2643475774382\n",
      "RMSE =  901.7335837138181\n"
     ]
    },
    {
     "data": {
      "text/html": [
       "<div>\n",
       "<style scoped>\n",
       "    .dataframe tbody tr th:only-of-type {\n",
       "        vertical-align: middle;\n",
       "    }\n",
       "\n",
       "    .dataframe tbody tr th {\n",
       "        vertical-align: top;\n",
       "    }\n",
       "\n",
       "    .dataframe thead th {\n",
       "        text-align: right;\n",
       "    }\n",
       "</style>\n",
       "<table border=\"1\" class=\"dataframe\">\n",
       "  <thead>\n",
       "    <tr style=\"text-align: right;\">\n",
       "      <th></th>\n",
       "      <th>Actuall</th>\n",
       "      <th>predicted</th>\n",
       "    </tr>\n",
       "  </thead>\n",
       "  <tbody>\n",
       "    <tr>\n",
       "      <th>2014-01-05</th>\n",
       "      <td>140.0</td>\n",
       "      <td>229.631038</td>\n",
       "    </tr>\n",
       "    <tr>\n",
       "      <th>2014-01-06</th>\n",
       "      <td>136.0</td>\n",
       "      <td>223.414547</td>\n",
       "    </tr>\n",
       "    <tr>\n",
       "      <th>2014-01-07</th>\n",
       "      <td>136.5</td>\n",
       "      <td>228.257168</td>\n",
       "    </tr>\n",
       "    <tr>\n",
       "      <th>2014-01-08</th>\n",
       "      <td>137.0</td>\n",
       "      <td>225.924393</td>\n",
       "    </tr>\n",
       "    <tr>\n",
       "      <th>2014-01-09</th>\n",
       "      <td>119.0</td>\n",
       "      <td>215.555283</td>\n",
       "    </tr>\n",
       "  </tbody>\n",
       "</table>\n",
       "</div>"
      ],
      "text/plain": [
       "            Actuall   predicted\n",
       "2014-01-05    140.0  229.631038\n",
       "2014-01-06    136.0  223.414547\n",
       "2014-01-07    136.5  228.257168\n",
       "2014-01-08    137.0  225.924393\n",
       "2014-01-09    119.0  215.555283"
      ]
     },
     "execution_count": 131,
     "metadata": {},
     "output_type": "execute_result"
    }
   ],
   "source": [
    "new_frame = doityourself()\n",
    "new_frame.head()"
   ]
  },
  {
   "cell_type": "code",
   "execution_count": 134,
   "metadata": {},
   "outputs": [
    {
     "name": "stdout",
     "output_type": "stream",
     "text": [
      "2014-06-03    1132.648078\n",
      "2014-06-04     907.075116\n",
      "2014-06-05    -972.163707\n",
      "2014-06-06    -459.406890\n",
      "2014-06-11     660.415386\n",
      "                 ...     \n",
      "2018-10-17    1133.800149\n",
      "2018-10-18     956.395756\n",
      "2018-10-20     895.816980\n",
      "2018-10-21     969.771166\n",
      "2018-10-23    -133.890887\n",
      "Name: predicted, Length: 691, dtype: float64\n",
      "691\n"
     ]
    }
   ],
   "source": [
    "\n",
    "tar = new_frame.Actuall\n",
    "out = new_frame.predicted\n",
    "new_frame['error'] = tar - out\n",
    "error = new_frame['error']\n",
    "med = np.median(out)\n",
    "abs_mead = np.median(abs(out-med))\n",
    "a = out[((abs(out - np.median(out)) / abs_mead) > 2)]\n",
    "print(a)\n",
    "print(len(a))"
   ]
  },
  {
   "cell_type": "code",
   "execution_count": 16,
   "metadata": {},
   "outputs": [
    {
     "name": "stderr",
     "output_type": "stream",
     "text": [
      "/home/ganesh/PycharmProjects/untitled1/venv/lib/python3.7/site-packages/pandas/plotting/_matplotlib/converter.py:103: FutureWarning: Using an implicitly registered datetime converter for a matplotlib plotting method. The converter was registered by pandas on import. Future versions of pandas will require you to explicitly register matplotlib converters.\n",
      "\n",
      "To register the converters:\n",
      "\t>>> from pandas.plotting import register_matplotlib_converters\n",
      "\t>>> register_matplotlib_converters()\n",
      "  warnings.warn(msg, FutureWarning)\n"
     ]
    },
    {
     "data": {
      "text/plain": [
       "[<matplotlib.lines.Line2D at 0x7f56cc3d1cd0>]"
      ]
     },
     "execution_count": 16,
     "metadata": {},
     "output_type": "execute_result"
    },
    {
     "data": {
      "image/png": "[encoded data removed]",
      "text/plain": [
       "<Figure size 1296x432 with 1 Axes>"
      ]
     },
     "metadata": {
      "needs_background": "light"
     },
     "output_type": "display_data"
    }
   ],
   "source": [
    "pt.plot(error,c= 'blue')"
   ]
  },
  {
   "cell_type": "code",
   "execution_count": 17,
   "metadata": {},
   "outputs": [
    {
     "data": {
      "text/plain": [
       "[<matplotlib.lines.Line2D at 0x7f5692ef1fd0>]"
      ]
     },
     "execution_count": 17,
     "metadata": {},
     "output_type": "execute_result"
    },
    {
     "data": {
      "image/png": "[encoded data removed]",
      "text/plain": [
       "<Figure size 1296x432 with 1 Axes>"
      ]
     },
     "metadata": {
      "needs_background": "light"
     },
     "output_type": "display_data"
    }
   ],
   "source": [
    "pt.plot(a,c='red')"
   ]
  },
  {
   "cell_type": "code",
   "execution_count": 18,
   "metadata": {},
   "outputs": [
    {
     "data": {
      "text/plain": [
       "[<matplotlib.lines.Line2D at 0x7f56930edb90>]"
      ]
     },
     "execution_count": 18,
     "metadata": {},
     "output_type": "execute_result"
    },
    {
     "data": {
      "image/png": "[encoded data removed]",
      "text/plain": [
       "<Figure size 1296x432 with 1 Axes>"
      ]
     },
     "metadata": {
      "needs_background": "light"
     },
     "output_type": "display_data"
    }
   ],
   "source": [
    "pt.plot(out[1500:],c='blue')\n",
    "pt.plot(tar[1500:],c='red')\n",
    "pt.plot(error[1500:],c='black')"
   ]
  },
  {
   "cell_type": "code",
   "execution_count": 136,
   "metadata": {},
   "outputs": [],
   "source": [
    "def mean_sq_error(actuall_lst,predicted_lst):\n",
    "    m = len(actuall_lst)\n",
    "    error = 0\n",
    "    for actuall_value,predicted_value in zip(actuall_lst,predicted_lst):\n",
    "        error += (predicted_value-actuall_value)**2\n",
    "    error = ((1/m) * error)   \n",
    "    return error"
   ]
  },
  {
   "cell_type": "code",
   "execution_count": 137,
   "metadata": {},
   "outputs": [],
   "source": [
    "def cost_calculation(predicted_value,weights,bias):\n",
    "    cost = (weights*predicted_value) + bias\n",
    "    return cost"
   ]
  },
  {
   "cell_type": "code",
   "execution_count": 145,
   "metadata": {},
   "outputs": [],
   "source": [
    "def gradient_descent(actuall_lst,predicted_lst,weights,bias,learning_rate = 0.0005):\n",
    "    epoch = 10\n",
    "    gradnt_weight = 0\n",
    "    gradnt_bias = 0\n",
    "    m = len(actuall_lst)\n",
    "    x0 = predicted_lst[0]\n",
    "    for i in range(epoch):\n",
    "        for actuall_value,predicted_value in zip(actuall_lst,predicted_lst):\n",
    "            gradnt_weight += ((cost_calculation(predicted_value,weights,bias) - actuall_value) * x0)\n",
    "            gradnt_bias += (cost_calculation(predicted_value,weights,bias) - actuall_value)\n",
    "        gradnt_weight = ((1/m) * gradnt_weight)\n",
    "        gradnt_bias = ((1/m) * gradnt_bias)\n",
    "        \n",
    "        weights = weights - (learning_rate * gradnt_weight)\n",
    "        bias = bias - (learning_rate * gradnt_bias)\n",
    "    value = []\n",
    "    for predicted_value in predicted_lst:\n",
    "        #print(\"Hi\",weights)\n",
    "        cost = cost_calculation(predicted_value,weights,bias)\n",
    "        #print(cost)\n",
    "        value.append(cost)\n",
    "    return value"
   ]
  },
  {
   "cell_type": "code",
   "execution_count": 146,
   "metadata": {},
   "outputs": [
    {
     "name": "stdout",
     "output_type": "stream",
     "text": [
      "Before RMSE =  901.7335837138181\n",
      "901.7335837138178\n",
      "1821\n",
      "1821\n",
      "After RMSE =  2.2527711427470806e+24\n"
     ]
    }
   ],
   "source": [
    "# import math\n",
    "# print(\"Before RMSE = \",sqrt(metrics.mean_squared_error(tar,out)))\n",
    "# print(math.sqrt(error_before))\n",
    "# prediction = gradient_descent(tar,out,weights,bias)\n",
    "# #print(prediction)\n",
    "# print(len(prediction))\n",
    "# print(len(tar))\n",
    "# print(\"After RMSE = \",sqrt(metrics.mean_squared_error(tar,prediction)))\n",
    "# #print(error_after)"
   ]
  },
  {
   "cell_type": "code",
   "execution_count": 157,
   "metadata": {},
   "outputs": [
    {
     "data": {
      "text/plain": [
       "(1000,)"
      ]
     },
     "execution_count": 157,
     "metadata": {},
     "output_type": "execute_result"
    }
   ],
   "source": [
    "out_nodes = np.array(out[:1000])\n",
    "input_nodes = np.array(tar[:1000])"
   ]
  },
  {
   "cell_type": "code",
   "execution_count": 148,
   "metadata": {},
   "outputs": [
    {
     "data": {
      "text/plain": [
       "array([0.17561495, 0.22451664, 0.59062491, ..., 0.13298318, 0.27202929,\n",
       "       0.98220777])"
      ]
     },
     "execution_count": 148,
     "metadata": {},
     "output_type": "execute_result"
    }
   ],
   "source": [
    "n = len(tar)\n",
    "weights = np.random.uniform(1,0,n)\n",
    "bias = np.random.uniform(1,0,1)\n",
    "weights\n",
    "#bias"
   ]
  },
  {
   "cell_type": "code",
   "execution_count": 143,
   "metadata": {},
   "outputs": [
    {
     "name": "stdout",
     "output_type": "stream",
     "text": [
      "[140.0, 136.0, 136.5, 137.0, 119.0, 123.0, 123.0, 118.0, 124.0, 121.50000762939453, 119.0, 102.0, 113.0, 124.0, 153.0, 135.0, 132.3333282470703, 129.6666717529297, 127.00000762939453, 103.0, 128.0, 119.0, 103.0, 111.0, 87.0, 103.0, 95.0, 87.0, 111.0, 95.0, 87.0, 79.0, 103.0, 71.0, 63.0, 88.0, 64.0, 64.0, 64.0, 72.0, 64.0, 56.000003814697266, 80.0, 56.000003814697266, 56.000003814697266, 56.000003814697266, 64.0, 64.0, 56.000003814697266, 56.000003814697266, 56.000003814697266, 48.499996185302734, 41.0, 49.0, 41.0, 65.0, 41.0, 41.0, 41.0, 41.0, 33.0, 33.0, 42.0, 34.0, 50.0, 46.0, 42.0, 42.0, 27.000001907348633, 26.0, 27.000001907348633, 18.0, 18.0, 18.0, 18.0, 18.0, 28.000001907348633, 20.0, 28.000001907348633, 24.0, 20.0, 20.0, 12.0, 12.0, 12.0, 12.0, 8.0, 4.0, 20.0, 20.0, 28.000001907348633, 12.0, 12.0, 16.5, 21.0, 5.0, 21.0, 51.0, 13.0, 37.0, 33.0, 28.999998092651367, 54.000003814697266, 45.0, 69.0, 45.0, 37.0, 28.999998092651367, 21.0, 21.0, 21.0, 21.0, 37.0, 21.0, 17.0, 13.0, 37.0, 13.0, 99.0, 227.0, 195.0, 119.0, 43.0, 51.0, 470.0000305175781, 329.0, 129.0, 99.0, 75.0, 51.0, 0.0, 28.999998092651367, 37.0, 28.999998092651367, 28.999998092651367, 25.0, 21.0, 13.0, 21.0, 21.0, 21.0, 13.0, 13.0, 13.0, 45.0, 21.0, 41.0, 61.0, 13.0, 68.0, 76.0, 42.0, 33.0, 28.000001907348633, 28.999998092651367, 33.0, 26.5, 20.0, 11.0, 27.000001907348633, 75.0, 99.0, 83.0, 111.0, 139.0, 284.0, 750.0, 1693.0, 2293.0, 1885.0001220703125, 1373.0, 861.0, 672.9999389648438, 505.0, 356.0000305175781, 271.0, 512.0, 410.5, 309.0, 414.0, 289.0, 250.99998474121094, 233.0, 221.0, 282.0, 343.0, 489.0, 771.0000610351562, 1043.0, 2156.0, 8359.0, 10301.0, 12243.0, 9191.0, 5689.0, 3541.0, 10063.9990234375, 7344.00048828125, 7377.5, 7411.0, 17825.0, 7175.0, 4372.0, 8841.0, 14939.0, 11473.5, 8008.0, 6215.0, 9973.0, 10896.0, 9623.0, 12082.9990234375, 12973.0, 13863.0, 12244.0, 9580.0, 3389.0, 4608.0, 6209.0, 5405.5, 4602.0, 3098.0, 2755.0, 2373.0, 2738.0, 2412.0, 2255.5, 2099.0, 1545.0, 1494.0, 1494.0, 1128.0, 939.0, 783.5, 628.0, 958.0, 2237.0, 3295.0, 1927.0, 6841.0, 6133.5, 5426.0, 4562.0, 5229.0, 4603.0, 5136.0, 7221.0, 5506.5, 3792.0, 3083.0, 2935.0, 2597.0, 2603.999755859375, 3005.999755859375, 2722.5, 2439.0, 1951.0, 2164.0, 2037.0001220703125, 1777.0001220703125, 1550.0, 1687.5, 1825.0, 1895.0001220703125, 1403.0, 1502.0, 1067.0, 1155.0, 896.5, 638.0, 1695.0, 958.0, 353.0, 353.0, 578.0, 486.0000305175781, 394.0000305175781, 120.0, 169.0, 611.0, 1521.0, 831.0, 501.5, 172.0, 11.0, 124.0, 46.0, 57.0, 187.0, 265.0, 343.0, 271.0, 322.9999694824219, 409.0, 621.0, 325.0, 363.0, 401.0, 143.0, 40.0, 37.0, 37.0, 67.0, 107.5, 148.0, 85.0, 63.0, 133.0, 71.0, 575.0, 528.5, 482.0, 655.0, 578.0, 758.0, 405.0, 571.0, 540.5, 510.0, 507.0, 511.0, 485.0, 631.0, 1065.0, 1041.0, 1017.0, 987.0, 987.0, 987.0, 963.0, 956.0, 767.5, 579.0, 360.9999694824219, 340.0, 310.0, 268.0, 237.0, 221.0, 205.00001525878906, 71.0, 330.0, 372.0000305175781, 414.9999694824219, 367.0, 241.0, 115.0, 14.000000953674316, 230.0, 386.0, 197.00001525878906, 133.0, 154.0, 174.99998474121094, 226.0, 205.00001525878906, 221.0, 200.0, 50.0, 72.0, 514.0, 956.0, 168.0, 160.0, 148.0, 152.0, 136.0, 113.5, 91.0, 120.0, 124.0, 115.99999237060547, 103.0, 100.0, 95.5, 91.0, 96.0, 96.0, 96.0, 84.0, 92.0, 94.0, 96.0, 101.0, 88.0, 72.0, 76.0, 72.0, 82.0, 92.0, 86.0, 92.0, 75.0, 86.0, 75.0, 66.5, 57.999996185302734, 64.0, 64.0, 57.999996185302734, 75.0, 57.999996185302734, 52.5, 47.0, 53.0, 43.0, 60.0, 48.0, 37.0, 40.0, 43.0, 54.000003814697266, 43.0, 37.0, 26.0, 26.0, 26.0, 26.0, 32.0, 26.0, 26.0, 31.0, 45.0, 33.0, 21.0, 21.0, 21.0, 38.0, 96.0, 77.99999237060547, 55.5, 33.0, 27.000001907348633, 27.000001907348633, 38.0, 38.0, 38.999996185302734, 30.5, 22.0, 28.000001907348633, 28.000001907348633, 17.0, 11.0, 11.0, 13.500000953674316, 16.0, 22.0, 28.000001907348633, 11.0, 11.0, 11.0, 28.000001907348633, 45.0, 52.0, 40.0, 52.0, 41.0, 57.999996185302734, 54.000003814697266, 50.0, 56.000003814697266, 85.0, 74.0, 74.0, 91.0, 74.0, 57.0, 35.0, 41.0, 24.0, 30.0, 35.0, 38.5, 42.0, 80.0, 76.0, 76.0, 98.0, 82.0, 65.0, 48.0, 60.0, 71.0, 83.0, 40.0, 48.0, 48.0, 48.0, 66.0, 77.0, 60.0, 83.0, 83.0, 99.0, 115.0, 164.0, 176.0, 185.0, 820.0000610351562, 154.0, 118.5, 83.0, 66.0, 51.0, 51.0, 43.0, 36.0, 40.33333206176758, 44.66666793823242, 49.0, 105.0, 243.00001525878906, 100.0, 59.0, 77.0, 101.0, 115.0, 188.0, 124.0, 84.0, 70.0, 94.0, 118.0, 110.0, 119.0, 151.0, 236.0, 285.0, 332.0, 379.0, 463.9999694824219, 2362.0, 2399.0, 2654.0, 2556.0, 2446.500244140625, 2337.0, 1811.0, 3905.0, 1809.0, 1291.9998779296875, 1184.0, 951.0, 718.0, 670.0, 694.0, 682.0, 658.0, 610.0, 888.0, 1166.0, 1805.0, 5262.0, 5133.0, 4000.0, 2867.0, 2648.0, 2429.0, 2661.0, 7082.0, 10253.0, 9253.0, 5281.0, 4790.5, 4300.0, 2684.0, 1167.0, 2485.999755859375, 2234.0, 2338.0, 1750.0, 1162.0, 998.0, 1618.0, 1652.0, 1276.0, 1942.0, 2192.5, 2443.0, 4369.0, 5813.0, 3392.0, 2497.0, 2745.0, 4043.5, 5342.0, 3448.0, 5663.0, 4586.0, 3229.0, 2542.0, 2547.5, 2553.0, 2075.0, 1287.0001220703125, 1200.0, 1382.0, 750.0, 775.9999389648438, 802.0, 2100.0, 612.0, 2250.0, 2125.0, 2476.000244140625, 2216.0, 1956.0, 951.0, 1197.0, 1455.0, 2639.0, 2217.0, 2719.5, 3221.999755859375, 1194.0, 1066.0, 916.0, 1052.0, 802.0, 920.5000610351562, 1039.0, 1039.0, 885.0, 2494.0, 686.0, 384.0, 570.0, 756.0, 537.0, 3505.000244140625, 1399.9998779296875, 1500.0, 1114.0, 925.4999389648438, 737.0, 1080.0, 1538.0, 1676.0, 1887.0, 1995.0, 1881.0, 1767.0, 1312.0, 1574.0, 1663.0, 1710.0, 1773.0, 1646.5, 1520.0, 1514.0, 1371.0, 1466.0, 1434.0001220703125, 1231.0, 1241.0, 1251.0, 1233.0001220703125, 1245.0, 923.0000610351562, 707.0, 492.0, 450.0, 408.0, 606.0, 494.0, 531.0, 692.0, 218.0, 138.5, 59.0, 151.0, 88.0, 493.0, 357.0, 557.0, 507.0, 457.0, 80.0, 140.0, 231.99998474121094, 266.0, 145.0, 102.0, 59.0, 195.0, 241.0, 452.0, 214.0, 254.00001525878906, 228.5, 203.0, 306.0, 144.0, 174.0, 224.00001525878906, 273.0, 260.0, 247.0, 268.0, 284.0, 296.0, 298.0, 310.0, 202.0, 94.0, 94.0, 269.0, 272.0, 284.0, 281.0, 285.0, 289.0, 280.0, 277.0, 280.0, 283.0, 101.0, 125.0, 149.0, 163.0, 155.0, 155.0, 163.0, 122.0, 130.0, 108.5, 87.0, 125.0, 104.0, 100.0, 92.0, 92.0, 92.0, 92.0, 96.0, 92.0, 80.0, 76.0, 80.0, 78.5, 77.0, 72.0, 62.0, 70.0, 71.0, 63.0, 77.5, 92.0, 92.0, 84.0, 88.0, 84.0, 80.0, 73.5, 67.0, 80.0, 64.0, 68.0, 52.0, 57.0, 65.5, 74.0, 41.0, 62.0, 54.000003814697266, 57.999996185302734, 57.999996185302734, 56.000003814697266, 54.000003814697266, 50.0, 67.0, 60.0, 66.0, 49.0, 49.0, 49.0, 49.0, 43.0, 49.0, 37.0, 50.0, 52.5, 55.0, 27.000001907348633, 32.0, 41.0, 50.0, 50.0, 16.0, 15.0, 15.0, 15.0, 15.0, 15.0, 17.0, 17.0, 17.0, 17.0, 17.0, 17.0, 11.0, 11.0, 11.0, 14.000000953674316, 17.0, 12.0, 12.0, 18.0, 12.0, 12.0, 12.0, 12.0, 12.0, 12.0, 18.0, 12.0, 12.0, 12.0, 12.0, 13.0, 13.0, 13.0, 13.0, 13.0, 13.0, 13.0, 13.0, 13.0, 13.0, 13.0, 13.0, 16.0, 19.0, 13.0, 13.0, 13.0, 13.0, 13.0, 13.0, 13.0, 13.0, 13.0, 19.0, 13.0, 13.0, 10.5, 8.0, 8.0, 3.0, 3.0, 20.0, 20.0, 17.0, 14.000000953674316, 14.000000953674316, 25.0, 8.0, 31.0, 25.0, 31.0, 37.0, 25.0, 53.0, 26.0, 31.0, 26.0, 23.0, 20.0, 26.0, 20.0, 14.000000953674316, 14.000000953674316, 20.0, 17.0, 14.000000953674316, 20.0, 176.0, 73.0, 98.0, 179.0, 115.99999237060547, 53.0, 20.0, 31.0, 106.0, 163.0, 125.0, 199.49998474121094, 274.0, 441.0, 258.0, 390.0, 334.0000305175781, 193.0, 459.5, 726.0, 723.0, 800.0, 586.0, 739.0000610351562, 867.0, 1103.0, 1339.0, 1291.0, 1502.9998779296875, 3742.0, 6018.0, 4177.0, 4423.0, 4669.0, 2206.0, 2399.0, 6860.0, 4851.0, 4568.0, 4761.5, 4955.0, 4693.0, 15223.0, 5069.99951171875, 5851.0, 843.0, 2230.5, 3618.0, 3142.0, 3513.0, 2577.0, 2556.0, 3542.0, 4255.0, 4968.0, 5656.0, 4873.00048828125, 3980.0, 3176.0, 2558.0, 2289.0, 2020.0, 2312.0, 2234.0, 2430.0, 2429.0, 3070.0, 3590.5, 4111.0, 2904.0, 4606.0, 3885.0, 2975.0, 5597.0, 5479.5, 5362.0, 4690.0, 5152.0, 7643.0, 7275.0, 7003.0, 6314.50048828125, 5626.0, 4760.0, 3429.0, 1772.0, 3037.0, 3039.0, 2351.5, 1664.0, 1441.0, 1542.0001220703125, 1097.0, 1610.9998779296875, 1571.0, 1120.5, 670.0, 797.0, 921.0, 1681.0, 2069.0, 1286.0, 1273.0, 1260.0, 1157.0, 951.0, 513.0, 694.0, 822.0, 2029.0, 3236.0, 1784.0, 1480.0, 1570.0, 1330.0, 1185.0, 1440.0, 1695.0, 6317.0, 4902.0, 4593.0, 3434.0, 2765.0, 2836.5, 2907.999755859375, 2438.0, 2203.0, 345.0000305175781, 930.0, 1155.0, 701.5, 248.0, 134.0, 125.0, 261.0, 349.9999694824219, 369.0, 375.5, 382.0, 470.0000305175781, 360.9999694824219, 337.0, 301.0, 301.0, 210.50001525878906, 120.0, 100.0, 471.8900146484375, 174.99998474121094, 650.0, 640.0, 545.0, 450.0, 450.0, 349.9999694824219, 362.0, 363.0, 443.0, 286.5, 130.0, 118.0, 106.0, 100.0, 94.0, 106.0, 96.0, 86.0, 90.0, 88.0, 82.0, 92.0, 176.0, 172.0, 168.0, 168.0, 152.0, 144.0, 165.0, 188.0, 141.5, 95.0, 146.0, 177.0, 230.0, 146.0, 135.0, 140.5, 146.0, 198.0, 188.0, 155.99998474121094, 155.99998474121094, 125.0, 130.0, 135.0, 125.0, 104.0, 104.0, 188.0, 313.0, 224.00001525878906, 135.0, 125.0, 125.0, 104.0, 115.0, 73.0, 73.0, 73.0, 83.0, 63.0, 73.0, 73.0, 52.0, 52.0, 57.0, 62.0, 52.0, 52.0, 52.0, 52.0, 42.0, 47.0, 52.0, 32.0, 41.0, 31.0, 41.0, 31.0, 36.0, 41.0, 41.0, 31.0, 21.0, 22.0, 18.0, 19.0, 20.0, 20.0, 20.0, 18.0, 18.0, 18.0, 108.00000762939453, 198.0, 73.0, 31.0, 31.0, 31.0, 15.0, 17.5, 20.0, 20.0, 15.0, 15.0, 15.0, 15.0, 12.5, 10.0, 10.0, 8.0, 8.0, 9.0, 8.0, 8.0, 8.0, 7.000000476837158, 7.000000476837158, 8.0, 7.000000476837158, 5.0, 5.0, 5.0, 5.0, 5.0, 5.0, 5.0, 5.0, 5.0, 5.0, 5.0, 5.0, 5.0, 5.0, 5.0, 5.0, 5.0, 5.0, 5.0, 5.0, 5.0, 5.0, 5.0, 5.0, 5.0, 5.0, 8.0, 5.0, 5.0, 5.0, 5.0, 5.0, 4.0, 4.0, 4.0, 4.0, 4.0, 4.0, 4.0, 4.0, 10.0, 10.0, 30.0, 19.0, 8.0, 8.0, 8.0, 10.0, 10.0, 8.0, 6.5, 5.0, 5.0, 5.0, 5.0, 5.0, 5.0, 5.0, 5.0, 5.0, 5.0, 5.0, 5.0, 5.0, 5.0, 5.0, 5.0, 104.0, 24.0, 40.0, 16.0, 18.0, 20.0, 20.0, 30.0, 30.0, 25.0, 25.0, 22.5, 20.0, 25.0, 20.0, 20.0, 20.0, 152.0, 128.5, 105.0, 40.0, 30.0, 30.0, 25.0, 20.0, 20.0, 20.0, 20.0, 20.0, 40.0, 115.0, 65.0, 45.0, 50.0, 40.0, 40.0, 40.0, 140.0, 80.0, 212.5, 345.0000305175781, 1352.0, 808.0, 680.0, 744.0000610351562, 1112.0, 646.5, 181.0, 150.0, 105.0, 146.0, 365.0, 365.0, 522.5, 680.0, 980.0, 2123.0, 1401.0, 941.0, 742.0, 846.5, 951.0, 467.0, 248.0, 447.0, 680.0, 1122.0, 839.0, 556.0, 384.0, 325.0, 313.0, 756.0, 1276.0, 1354.0, 1432.0, 1348.0, 1274.0, 5081.0, 13596.0, 8137.0, 7769.5, 7402.0, 2897.999755859375, 1997.0, 4020.0, 3525.000244140625, 3772.0, 3881.0, 3990.0, 2610.0, 1836.0001220703125, 1460.0, 1649.9998779296875, 4018.0, 5477.5, 6937.0, 6862.0, 5395.0, 3907.000244140625, 3360.0, 1529.0, 1587.0, 1644.9998779296875, 940.0000610351562, 349.9999694824219, 850.0, 370.0, 1480.0, 2590.0, 7525.0, 9600.0, 5460.0, 3615.0, 2891.0, 3958.0, 5101.5, 6245.00048828125, 7845.0, 9760.0, 8070.99951171875, 7746.0, 5053.0, 3915.5, 2778.0, 2450.0, 2234.0, 2387.0, 1221.0, 2038.0, 1995.0, 1952.0, 1430.0, 1500.0, 891.0000610351562, 1008.9999389648438, 735.0, 1130.0, 1525.0, 3595.0, 3201.000244140625, 5915.0, 3134.0, 2349.0, 1928.0, 1507.0, 1904.9998779296875, 1511.0, 1447.0, 1117.0, 338.9999694824219, 935.0, 1531.0, 2260.0, 751.0, 2040.0, 174.99998474121094, 813.0, 624.5, 436.0, 320.0, 467.0, 957.0, 818.0, 1162.0, 789.0, 416.0, 474.0, 374.0, 374.0, 623.9999389648438, 540.0, 410.0000305175781, 280.0, 380.0, 376.9999694824219, 218.0, 228.0, 459.0000305175781, 783.0, 1107.0, 163.0, 140.0, 75.0, 110.0, 96.0, 99.0, 102.0, 125.0, 126.0, 131.0, 96.99999237060547, 95.0, 91.5, 88.0, 94.0, 89.00000762939453, 75.0, 85.0, 76.0, 69.0, 62.0, 65.0, 79.0, 100.0, 76.0, 65.0, 70.0, 75.0, 59.0, 65.0, 75.0, 75.0, 75.0, 74.5, 74.0, 65.0, 64.0, 65.0, 65.0, 65.0, 65.0, 65.0, 62.0, 60.0, 59.0, 57.999996185302734, 70.0, 72.5, 75.0, 75.0, 80.0, 80.0, 105.0, 165.0, 162.5, 160.0, 174.0, 174.99998474121094, 163.0, 153.0, 153.0, 163.0, 163.0, 163.0, 155.0, 155.0, 155.99998474121094, 155.99998474121094, 155.99998474121094, 155.0, 154.0, 124.0, 135.0, 125.0, 125.0, 125.0, 120.0, 115.0, 115.0, 115.0, 115.0, 123.0, 105.0, 107.5, 110.0, 112.00000762939453, 112.00000762939453, 120.0, 115.0, 115.0, 115.0, 115.0, 104.0, 104.0, 95.0, 95.0, 95.0, 95.0, 95.0, 95.0, 95.0, 98.0, 110.0, 105.0, 102.50000762939453, 100.0, 90.0, 110.0, 100.0, 96.0, 96.0, 93.00000762939453, 90.0, 84.0, 82.0, 82.0, 82.0, 82.0, 81.0, 80.0, 60.0, 50.0, 48.0, 48.0, 36.0, 35.5, 35.0, 30.0, 30.0, 30.0, 30.0, 28.000001907348633, 28.000001907348633, 28.000001907348633, 28.000001907348633, 35.0, 248.0, 112.00000762939453, 101.0, 97.5, 94.0, 118.0, 163.0, 125.0, 145.0, 235.00001525878906, 216.00001525878906, 197.00001525878906, 188.0, 186.00001525878906, 174.99998474121094, 174.99998474121094, 160.0, 132.0, 104.0, 110.0, 98.0, 102.0, 92.0, 92.0, 92.0, 92.0, 92.0, 92.0, 92.0, 132.0, 198.0, 150.0, 102.0, 92.0, 94.0, 106.0, 115.99999237060547, 106.0, 104.0, 102.0, 102.0, 118.0, 106.0, 102.0, 96.0, 82.0, 68.0, 77.99999237060547, 124.0, 92.0, 96.0, 60.0, 62.5, 65.0, 106.0, 182.0, 250.0, 290.0, 330.0, 193.99998474121094, 162.0, 152.0, 145.0, 140.0, 140.0, 121.0, 121.0, 121.0, 101.0, 90.0, 90.0, 86.0, 95.0, 185.5, 276.0, 515.0, 980.0, 1250.0, 419.0, 250.0, 260.5, 271.0, 392.0, 244.0, 245.0, 295.0, 1647.0, 3968.0, 5614.0, 7260.0, 5063.0, 3662.999755859375, 2145.0, 914.0, 932.0, 949.9999389648438, 968.0, 637.0, 581.0, 578.0, 1161.0, 1279.0, 1196.0, 1245.0, 1824.0, 3292.0, 5485.0, 3964.0, 3019.5, 2075.0, 1973.0, 1818.0, 1742.0, 1509.0, 2591.0, 7133.0, 11675.0, 12168.0, 14973.0, 15161.9990234375, 15285.0, 13324.0, 13176.5, 13029.0, 19543.0, 16275.0, 14465.0, 7305.00048828125, 10969.0, 10228.0, 9487.0, 12086.0, 17387.0, 11242.0, 10775.0, 7330.0, 6334.0, 5338.0, 4706.0, 4980.0, 3465.0, 2785.0, 5683.0, 5338.5, 4994.0, 5083.0, 6868.0, 15247.0, 10373.0, 13815.0, 18971.0, 24127.0, 22966.998046875, 36179.0, 33901.0, 77900.0, 42603.0, 32435.5, 22268.0, 14904.0, 15622.0, 8855.0, 10104.0, 1313.0, 3692.000244140625, 6070.99951171875, 6391.0, 7199.0, 6683.0, 4330.0, 4956.0, 4770.0, 4584.0, 3609.0, 2378.0, 2719.0, 2765.0, 2530.0, 2209.0, 1888.0, 2178.0, 1618.0, 1097.0, 850.0, 750.0, 855.0, 960.0, 941.0, 925.0, 729.0, 575.0, 579.0, 527.0, 474.9999694824219, 866.0, 1227.0, 1425.0, 1257.9998779296875, 1590.0, 1245.0, 900.0, 675.0, 460.0, 340.0, 519.0, 771.0000610351562, 583.5, 396.0, 695.0000610351562, 880.0, 625.0, 421.0000305175781, 432.0000305175781, 423.5000305175781, 414.9999694824219, 457.0, 648.0, 875.0, 704.9999389648438, 635.0, 472.5000305175781, 310.0, 247.0, 275.0, 147.0, 147.0, 140.0, 136.0, 132.0, 131.0, 130.0, 122.0, 115.0, 115.0, 115.0, 98.0, 96.0, 85.0, 95.0, 105.0, 105.0, 105.0, 105.0, 104.0, 94.0, 95.0, 95.0, 140.0, 126.0, 112.00000762939453, 98.0, 94.0, 88.0, 96.0, 86.0, 85.0, 84.0, 84.0, 85.0, 82.0, 84.0, 85.0, 82.0, 79.0, 46.0, 74.0, 86.0, 84.0, 79.0, 76.0, 73.0, 76.0, 82.0, 67.0, 77.99999237060547, 77.99999237060547, 75.5, 73.0, 77.99999237060547, 77.99999237060547, 77.99999237060547, 95.0, 96.0, 96.99999237060547, 98.0, 112.00000762939453, 98.0, 103.0, 98.0, 102.0, 99.0]\n",
      "[229.6310376964514, 223.41454743582457, 228.25716841883238, 225.92439288364716, 215.55528254918454, 217.53992604328812, 210.2297611331129, 208.926947493151, 211.5657727018502, 207.63036810093863, 208.01900153983058, 196.7796975017804, 201.67168238393262, 200.9042924382268, 221.01477643427413, 213.6254180886171, 221.97744621684163, 212.2235181286134, 209.80635329517006, 194.908373702566, 207.65392165193236, 192.97448878370318, 193.56365874918774, 193.3823609142516, 173.6875981792373, 185.8048193131841, 171.4044718367879, 173.1462726704004, 182.50824116241728, 170.00089759588175, 174.19794688729462, 162.44160323165107, 172.96196396002935, 151.51035976114633, 155.89603131015247, 156.70706247409973, 140.58462265015407, 149.7155688841757, 139.36076302119858, 144.07220264456774, 138.8762305306696, 136.8090197723757, 146.46058773603463, 129.48118525432005, 138.24451768179205, 127.92596826502337, 132.63738160331815, 131.91358069402526, 129.75201418849088, 128.9272239180281, 125.35763419294332, 120.82507201211037, 116.09134364078542, 117.26606652405545, 109.58528435372752, 125.67805361513287, 108.11955577360222, 116.882694583241, 106.56425879254886, 106.80348598339899, 101.70182651477609, 101.16659402791255, 102.62818661284844, 97.7100284982159, 109.42661093900239, 103.10662643578442, 106.45781690384393, 103.82624690362753, 93.4862311319221, 92.6192395093813, 87.04796663376108, 81.55094597317503, 81.43116285730987, 77.45791218056821, 77.15414610842853, 76.52460701574697, 81.48522940669265, 76.26571654432858, 83.87757886020866, 77.6157344480592, 78.0268166736459, 75.68482020732421, 69.25792559840669, 68.86741836808028, 65.2978800667771, 64.95789370054443, 62.09227092124436, 59.273761401816984, 66.16563244995132, 64.02238413905155, 73.88967089839782, 63.64245259493653, 66.14132493381567, 61.8578522433045, 64.26998380015054, 56.29685947393819, 66.2908742608138, 76.20055284387698, 60.433987098894654, 84.11407581359808, 65.91516917853103, 73.29186417178796, 84.34616560505592, 77.06578589779015, 99.29066553527235, 80.74972635959557, 85.07618819135256, 70.38024612741188, 63.30148805703275, 60.11575542235734, 56.835810701683506, 56.49577273978614, 64.81044261851099, 55.04815909338376, 58.250715859633, 48.97325148355671, 60.91630094788721, 45.26253309066128, 101.955389623854, 162.17896003331836, 174.6260692227341, 175.8133860753647, 117.20105170749854, 95.16773608046131, 303.4937382650202, 224.8002895479495, 267.71330599923067, 185.68748110815773, 103.60152170163241, 86.05233480310356, 49.4616865769247, 57.69296830086303, 43.32115923780449, 50.62803261305288, 51.98283314561224, 45.88774486920246, 43.3586830652603, 36.83409491363473, 39.445607127777144, 35.92674720281838, 38.52648323218865, 33.135187487524256, 32.59971032980037, 29.030244276025176, 46.57864485542183, 32.15599558534993, 54.7483865419062, 55.086089975047614, -31.06483212946648, 1132.648078458424, 907.075115500161, -972.1637066978099, -459.406890363171, 62.97199341428429, 48.101263163086145, 327.7092763957931, 448.87936417360197, 660.4153857000988, 610.839596235061, 212.24499334283306, 98.80720517887683, -26.156912079537886, -14.02527432902297, 803.2029610310668, 992.0904375386443, 2166.1358960752636, 4934.807529843502, 3154.4892536269067, 1050.753448196105, 905.8954408267073, -148.48729357164237, 326.17316218593817, 609.2064245850473, 358.90565860009673, 261.2759672555601, 360.8322962656725, 784.1907735523026, 1081.3933336190828, 1194.4343683664954, 225.9049070282669, -361.38718252658435, 67.06951643965638, 865.919544081143, 615.4750094541281, 266.17802611585955, 362.70653040043044, 1074.9934658901682, 2486.1421989195956, 2242.2625680411925, 4449.413320201597, 9872.390097719106, 7832.209814287448, 9641.060195600332, 7516.376403564722, 6552.842897497704, 6475.710463065709, 10063.57227767589, 5200.557472138698, 8585.959676167467, 8074.2673884835385, 14142.105388347689, 6902.5687429742975, 7182.945717924842, 6582.060617046326, 9911.49394801638, 9485.202334209649, 9485.165639322084, 9417.959576311618, 12941.077978343867, 9990.518664455207, 8064.158947573192, 9773.024453207016, 12036.288681106911, 14829.979175841345, 13158.163371571267, 8786.339562921632, 3949.6768049700713, 5184.0819642350725, 4065.931962504918, 5709.51791768239, 5169.557341190963, 2517.3139066273684, 3065.7691469549454, 2069.2834493948985, 2151.550732618249, 2024.5255594351627, 3097.0977560688953, 2685.458680302014, 1334.811151091344, 1751.9404956440237, 2110.8498203288573, 1524.9862801331196, 519.0274179471762, 585.1438902672787, 680.0017312054055, 1019.8172056824934, 2363.422900948969, 3524.125616077414, 4405.834404828213, 7157.216251831111, 5395.106422290507, 4901.224965928373, 3810.6326512490245, 5419.714009388762, 3738.4125904638777, 5232.7247710655165, 6291.7479647755235, 3955.849191162319, 4148.325656087329, 3791.6543692781624, 2651.1519342883485, 2265.1884330722382, 2715.2948601173794, 3432.2528065947135, 2688.928556273986, 2231.5165948734916, 1641.6943285183777, 1837.5676279756, 1980.7032054925098, 1869.0628389162296, 1317.8463579202069, 3986.5411169067047, 3658.2395269771155, 189.1157546102737, 616.081987086414, 1826.2434924538766, 941.6925291585953, 928.8646785124702, 1873.1195316925975, 472.04344347221024, 755.7128685704654, 533.5972143344653, 885.9175308984998, 771.7934035098461, 2110.730698953799, 1467.6844521187893, -601.5063345986651, 391.89974278599027, 315.1064068351179, 466.8246167800283, 1151.7289503861423, 677.735973731508, 522.0517626406044, 96.61669004813275, 394.8637734082422, 225.03248669498896, 429.03733241479716, 447.2765609636003, 1.8503761639773482, 201.9909237084543, 185.65952644797994, -2.1001444789707087, 234.05763687940333, 1104.9392992519477, 976.4925102028361, 419.6672992950989, 104.01883581624946, 652.8136162263612, -17.386187944165428, -129.60059178925218, 5.616399460041733, 32.89846798188852, 54.52654223970129, 76.75883621989368, 109.78494664365863, 87.7355408382982, 89.44150867708954, 104.04757849785604, 62.60220667107617, 371.4008930401314, 313.99728521324965, 475.86753251806795, 537.6339367786425, 476.99072669728747, 643.6103571808235, 409.4666463567915, 575.1859949301391, 419.7803211189681, 476.70722184882794, 458.01574815778224, 450.0210364838968, 435.2817776157584, 518.6141484337895, 749.6242392216284, 785.5368851985584, 926.4593944418862, 885.2918755804811, 877.5330105399531, 867.2160575529326, 854.726005524189, 850.9354081671396, 736.6718726587527, 631.6597153414233, 442.8420256831731, 371.0553211228961, 281.0787734769961, 257.9640025057157, 230.70429578310944, 207.61554480065183, 188.82686187538334, 109.1924107378045, 250.08467186611983, 221.68988356582398, 345.098696871066, 323.66341915262626, 267.9165209155671, 179.60999212205232, 79.9072674127801, 159.9341867687777, 211.88005722458632, 187.26294945711848, 203.0594296879971, 140.2922840799024, 134.9442951696739, 173.07838758683377, 167.53527388765835, 194.54627966145858, 172.8952772646233, 95.76902467265883, 101.37424513073817, 293.6782507718193, 548.91766731796, 264.6747847309077, 415.72982833360606, 103.39735074499986, 131.19382554147032, 117.92103876479283, 107.27381755451124, 88.77472023410093, 97.4008400729784, 91.68106225433615, 98.47075974343777, 91.55593123156233, 86.78562025626731, 79.65625196949686, 76.40000438093539, 77.54141912722747, 75.83024493916488, 77.66856593684066, 70.61722641806078, 75.06875533202106, 71.5216097282111, 75.82820480796053, 78.88322550279011, 72.05733772767394, 64.86809995283355, 62.172607943981895, 54.318985627387384, 61.84339364720628, 65.53975978694825, 65.72487443644748, 72.29980038625119, 59.99641253725819, 68.605387514091, 55.70067089565209, 55.57276107629761, 46.3182525287388, 46.885324968157384, 43.83710841716998, 42.83254810091941, 52.02752991956633, 39.95655120464461, 43.382205484668724, 33.34767173778327, 35.19895103925257, 27.553433877422847, 39.41625611416382, 28.453526288382683, 28.88997665564172, 25.509143135042006, 23.381437654712084, 30.833955473259426, 25.38553833653146, 25.93014596865125, 15.247878039075259, 13.408104218345802, 9.421026767326218, 9.656433926298, 12.84799201066747, 9.259908294730261, 11.371680275341156, 11.582398344341586, 19.405320849182566, 14.205480583158844, 12.436322191650023, 7.4982063877232505, 3.3609178412566743, 13.13715472103541, 45.20277861744076, 40.540097935587106, 48.70055340734318, 27.507270953007502, 16.63913332826415, 9.095051328708811, 13.69267840718681, 13.617378511862343, 18.054129324463954, 12.727773753001461, 8.278733018668015, 8.410689421268552, 5.361854362779859, 1.5599033149711017, -2.0468967952793995, -6.181367309177573, -6.752993821480981, -5.330917548117933, -1.2508582235552987, 2.697536861481781, -4.928558973372064, -2.9062411440251648, -9.532779196603734, 0.4246657773776563, 9.56663591209345, 19.3623007660068, 18.035421187088584, 26.6773961610404, 15.559871508781232, 29.873448420403662, 22.797466345079478, 27.087138497414674, 28.239268624354064, 42.89579575761008, 38.58960614178489, 48.98993431766084, 53.23957501565357, 43.76860839906319, 40.542568980014984, 21.414838649384066, 19.2346422648512, 2.0284041252047142, 8.41962014422034, 4.518325869583362, 9.072342818010359, 12.442990240993103, 34.59050581315049, 32.9023108915436, 46.616263954107396, 55.90686306324895, 46.68213077389695, 45.28001305807788, 29.13359471571891, 30.213648283063264, 30.43081463111735, 41.871335350091535, 21.125956867598205, 29.94769741851197, 13.459053477358996, 17.791272298491833, 27.401758765365088, 33.17686601176569, 29.98804270173417, 46.27171161708889, 39.19379056503914, 57.0403508689971, 64.80104151790422, 97.72644909289558, 108.9942484225821, 131.1392289937276, 488.6004289103802, 111.42712423894129, 332.12633331303795, 44.87616551269051, 46.72878288404521, 26.622069157715256, 21.67531338497948, 12.142794617971987, 8.700211875148634, 8.101485969925074, 8.027351612192135, 12.079619029324713, 44.614474937774034, 122.40121963956368, 61.059587998692365, 79.40713792592973, 807.0356505785138, 810.3818040580483, 656.1652732955737, 610.8707548406154, -777.5356677946572, -256.13514364488105, 264.9155534016941, 356.951982763118, 246.95623090518967, -24.607570358668667, 383.95598067500305, 928.0779836541226, 653.4730056134433, 73.97491861691523, 804.9217936615238, 889.8189243325271, 1309.027917111403, 5699.011030245486, 7763.519497558321, 6529.591783994542, 5072.014965120788, 3740.9177192467014, 2915.169255002687, 4497.272368814816, 6823.008819963643, -1590.6447566416348, -2216.912797996604, 653.4584444296717, 898.6547410664092, 528.4141104171085, 821.1459861367135, 1035.0192576163674, 812.8212257418606, 581.9672567393903, 344.71192442237594, 607.1868099566963, 2721.3039923908873, 2173.3105029984245, 3635.3708596249394, 3725.816573751446, 3874.1196444329257, 2452.194930793702, 2962.1684750355057, 2692.856632526553, 2717.209263028636, 7231.789382850569, 8661.320260734523, 8530.483003814703, 6726.370477843473, 4385.143455183626, 3734.5193241676243, 3385.090878250318, 1827.8864703154288, 2100.116628656246, 2178.1564741767324, 2503.8810724913255, 1481.2955913278433, 713.0672566563896, 908.9805332018872, 1520.3517393571783, 1497.8161113905917, 1480.7998261780886, 2291.9012234072216, 2607.067720909406, 3082.0081723645053, 4040.1287356460966, 4462.696226055425, 3212.718145357926, 3314.8252733164823, 3002.1535251686655, 3193.312963961004, 4523.485475757624, 3429.812732413732, 4614.09113734149, 3599.8851098108803, 3670.303109293339, 2733.4592732800156, 2935.197794851893, 2201.7537199781773, 1491.400022502795, 1699.9825730197674, 2365.8272714391746, 1721.6635552960506, 498.56181567136684, 507.0212302203362, 738.7703279118718, 1747.5806606390568, 528.8300949554409, 1716.1820091489153, 1325.2659497798063, 2191.4944892438352, 1855.571084260501, 2072.126958306203, 1402.0001738043295, 1229.7708652822294, 2265.3603859877876, 2849.287733991625, 3673.1469660646335, 3369.413251911163, 971.6944261437716, 890.0157191006919, 1863.2732187266374, 473.10994787289286, 843.967704926925, 766.9915238344084, 1650.88143621063, 1556.7521303988224, 491.5870816960271, 696.116933204131, 2304.3893435798495, 720.2705008202266, 700.6210160975154, 302.1440981277727, 624.9443802779597, 1614.5086518216035, 2806.2063017169817, 51.51281964077309, 3079.365368293833, 2884.1675396687947, 1172.5861674817359, 1079.535171414503, 477.07757396652187, 738.0576249641002, 1371.898886081613, 2120.5933074264776, 3002.879750718324, 2138.9452629575517, 1017.1317154191456, 1954.321772743654, 1615.2244700303606, 993.1063774930287, 1314.7337008992824, 1728.930834603296, 1312.4470097888504, 1233.8590895470863, 1280.576429967292, 1287.2076850700691, 1335.9633311602079, 1179.057082988442, 1165.5976322674874, 1271.3861089186375, 1143.4495636065678, 1060.3048154099067, 1018.9043856591987, 889.1973385435258, 797.8863177814469, 560.5728225123066, 1040.1882846043268, 1062.7200385970527, 1159.911754015572, 606.5395453538126, 776.0946119502233, 835.6668124329158, 665.3259597169579, 682.7017212024454, 457.4537819494773, 496.15737865344204, 431.84048370709485, 694.0813994749053, 585.0661622800793, 848.0156409605052, 751.3327635931986, 800.7688017145626, 563.2822814534521, 583.0908694771249, 495.3872814766737, 547.3793957532697, 509.3063984959578, 494.20660614695055, 423.30563676277234, 486.7818659297289, 494.9791139440626, 662.3000827711433, 537.0399022759266, 636.4705288199216, 524.937693821656, 532.6634898166232, 578.0722658226849, 476.16580661395903, 531.9942136362856, 494.64871434565947, 536.6968049251592, 544.4793989928909, 551.9059529704058, 555.5876701939809, 558.3186048277659, 571.3706095228627, 575.8079928375221, 584.6661410588852, 522.7827466993228, 466.3639732350094, 425.85446038361687, 486.2559753108454, 488.1130612723917, 557.4561496627302, 548.7342199711587, 553.6503679983693, 552.6431950455168, 547.4848655931563, 545.5816073280705, 542.18304562075, 541.390192593132, 439.15356125973, 454.0686654647083, 398.53492725831904, 419.84058913834707, 421.4951102565168, 424.2077452534562, 423.57393372570715, 399.18826409987315, 405.43000233047667, 376.2956907157762, 367.299495162071, 378.94850424977943, 357.97510439770844, 369.07714330422374, 353.89676757170423, 351.6243961506942, 347.1704652865515, 345.8021162544271, 346.38003333596833, 342.437873162865, 335.58829830579845, 330.2206147188037, 326.58005623628435, 323.00026675230276, 322.13628539067753, 317.00387553848833, 309.3169791235009, 310.4661576009726, 305.77736305651274, 302.9374835545822, 309.5578957509045, 312.8570925328703, 316.64633888288773, 315.3193823835739, 315.46635310947937, 308.58351595568865, 306.49628598006717, 299.6359253433071, 293.09511827657866, 296.53711173602886, 283.6257640868089, 289.4068796824156, 272.4036456157891, 275.7799431285192, 272.78800612401477, 278.1981924376706, 260.9329303158588, 274.22160896903546, 255.4040272709666, 264.99087449249004, 259.5832210985468, 258.56643996170345, 255.66824830175742, 251.0617978416619, 258.2915575912735, 251.12022680308766, 259.2920057996587, 244.86932263872185, 245.8707228295661, 237.7459371273338, 236.70296183513761, 231.68975964486614, 233.4561178290938, 222.81224866610117, 230.9856173453344, 225.94232713399128, 230.86429805174419, 213.97041026487585, 216.26632301966305, 209.19741931527037, 215.3153437777905, 216.6766130592394, 198.9921520691613, 196.85031867136803, 182.7063018640579, 181.91126541503198, 180.2883730954171, 178.62924379356224, 178.0881624075491, 176.40533502671693, 175.48127066848872, 173.74961843950854, 172.09042856891935, 170.43122707466338, 165.41780763447997, 163.82952737333784, 159.96497951539706, 160.2001267688234, 160.18246932361558, 156.79519970622383, 156.18899734647542, 155.93747090753718, 151.0341421278224, 151.6509797212244, 147.5690835228726, 146.1269994984754, 144.4676278665727, 142.8082380660366, 144.50295258174847, 139.41852110551497, 140.0352263788263, 135.95327719766433, 134.51107417531267, 133.4106337287177, 131.73934835846651, 130.447387607168, 128.75167189601623, 127.09215605126195, 125.43261361152587, 123.77307515720307, 122.11351172808233, 120.45394778520689, 118.79437523011846, 117.13476671133358, 115.47515511497383, 115.49256316792385, 115.4745304193665, 111.52802207282623, 110.9331864391131, 106.95971726253836, 105.51724054244929, 103.85755014562238, 102.19784219739316, 100.53811575252197, 98.87836985484698, 97.21862214049703, 98.91287475469363, 93.82829065310136, 94.4444677413854, 88.9648386757863, 86.15420656394784, 83.60506451032275, 78.32191102075132, 76.81154375245552, 82.81697253478147, 81.13751191545968, 84.04854851514393, 80.13179470858529, 77.40468914146156, 80.89966759036378, 69.71573469972977, 85.15576957468255, 73.22469555759375, 84.05757890193925, 82.64330892321576, 76.62696904402746, 92.74803616108143, 71.03793091254887, 83.21587769947422, 67.76576964135285, 67.30228109764055, 61.9821001896047, 62.78964070139117, 56.71093572725035, 54.08128310374245, 50.06967125623918, 49.775415813218274, 46.58471284997473, 45.488040429961195, 45.897436939336394, 130.3728975070619, 71.61384937317779, 142.25624919049596, 376.44670062395176, 444.69522358091683, 140.47077051179082, -132.55325715981647, 280.0036767159251, 459.7043354771943, 48.19560766876957, 1993.5562359495063, 2791.6106939083534, 392.79628388660007, -437.1492689610029, -46.692288046715795, 891.3882951138605, 163.41080766754555, -300.83619389124664, 846.1498820119643, 886.2331025730814, 1299.619391693098, 1164.2451716550163, 400.34712239483974, 664.6211046076156, 2029.3271331187973, 1786.2488302539864, 1103.2768964623672, 909.2528829289064, 2930.2640418672904, 5637.293866855335, 10199.36916240536, 8592.03826217009, 2458.616086305742, 1723.665767082063, 1533.3766873243278, 2857.27504873569, 6552.296722549741, 3933.752343953909, 4326.216287995004, 4098.805566766976, 3819.8894771722116, 6001.14271536352, 13162.767259143598, 4831.080676379149, 7685.437422341093, 1148.3554426358635, 3066.382954959956, 2233.5121375030917, 2720.50047238928, 3109.2685626770417, 2620.436712024192, 2639.504609313619, 3232.051431157554, 4608.601974331123, 4801.939528493472, 4234.155101359555, 4167.080369238627, 3717.9253929132856, 3177.5513992851475, 3256.576481053529, 2588.4536701187303, 2508.022086919437, 2383.6877626458177, 2185.494626220121, 2050.2358159027867, 3045.9852737232827, 3405.5953138593427, 3426.1344871328174, 3882.41175642851, 2994.5201817862558, 3825.397934791246, 2920.036375313945, 3419.4549502009695, 4472.127482989044, 3730.0430080461806, 4947.86409706156, 4749.111917568167, 4882.739544088049, 6522.200833318431, 6425.208014089576, 7562.094501679331, 6404.199180633283, 4678.239305291678, 3578.1406369364972, 3596.5753538972785, 2988.8104536759342, 3392.246949672766, 2423.5402827537255, 2225.940270716354, 1838.553810155455, 2098.222993363065, 1625.6817251928442, 1038.679579584076, 1562.1201213430638, 1256.4569483297362, 1387.242125724449, 846.9223772935372, 689.0794705305511, 681.7614093632287, 1068.9418146825124, 1785.5192593203906, 1507.9338375462175, 1300.1585330463279, 914.4075478957504, 1036.4903098093976, 936.0523564434357, 706.9653019985097, 1191.6432264682285, 1039.573482574135, 2035.3889022934063, 2360.484176784545, 1219.2734088384586, 1623.8235798169376, 1533.9840586502633, 1323.666941716604, 1305.13236837151, 1647.5141675278637, 2300.5247645269783, 4834.929614506956, 2970.4517356958004, 4569.1533535849285, 3121.951182773023, 2728.7390092007186, 2565.4575937280306, 2594.941034186789, 2198.31252823955, 2016.419194676904, 955.0690657047236, 1250.8842459332607, 697.6166816893891, 706.3731266366776, 535.7557077018528, 430.8617905819493, 211.0236334303325, 132.71053998774457, 252.11504938673568, 436.82834111280675, 813.3100121536676, 1126.573609959372, 328.6224900294343, -155.19484574948572, -27.543315467253436, 283.2678952664603, 277.4598336031559, 212.95920345521355, 174.13646758635164, 121.49175925052614, 302.18279480028883, 128.28449105421333, 530.4250206016371, 393.95532355432726, 527.1512220788694, 455.98019552143194, 463.6062786662184, 367.7136392549227, 306.0883946419561, 308.90181631596045, 366.12763515829323, 277.8244762410465, 221.73990483192227, 156.6420069431978, 98.39423079824533, 96.6083250063873, 89.52643566557467, 94.71043609711282, 87.16903530645537, 86.5023540527976, 84.92406129066518, 80.62283897535166, 79.30202463989568, 84.25973977054656, 129.1365597066077, 129.9810991679371, 158.48099402017723, 154.19782499192164, 144.1069505836391, 140.14610599309245, 146.2748367934477, 156.6986713552454, 138.6224163554839, 121.05119933575048, 132.3599278507901, 133.8548646291027, 183.71619302970984, 145.8682525860137, 159.24509184285657, 129.837020127227, 132.0187076041152, 163.6150799962241, 159.41320230902406, 160.73535560614073, 155.73398703819367, 127.18522721916734, 131.67979615515443, 123.19959583444519, 120.68758771096755, 110.90211450523668, 107.470864430504, 147.2422919923506, 217.05651944957415, 196.8888310247044, 191.2731295891485, 149.67896209061377, 120.48270952854094, 108.4659255444791, 115.40074290701953, 84.25524699637542, 89.72981367120435, 74.07323127496032, 81.3590090965021, 70.23998797247854, 79.91777016078103, 72.26522013464216, 65.10366021930277, 65.16691395630339, 60.42097468031151, 64.0937355234209, 60.460621600664645, 62.41276636011259, 58.73415607490129, 59.273326488981894, 53.86146034903336, 56.951478413137444, 56.1894898588274, 47.32863595484117, 54.42904801811985, 41.3797251274601, 51.29553617101577, 41.76506607231413, 48.89205772794826, 47.76842233312568, 50.08635682327418, 46.33129978378594, 40.85640563372154, 38.03539434458912, 32.65175253812722, 34.16454738155438, 33.382957913076424, 34.06090961616933, 34.56981026404872, 33.59329865840313, 33.7944006727481, 33.236884371345624, 83.79160038408934, 133.2137062604467, 95.54062110654517, 103.53780452515996, 55.013958415023644, 44.27625462082936, 37.02974786160059, 38.79316129751042, 34.45815820324666, 36.10376404895938, 34.314999758221994, 34.46104300876514, 32.80095661213436, 33.15935474626441, 31.93955104741392, 30.749203434038577, 30.03739731673271, 28.2686685206091, 28.56021625703575, 28.561671094220042, 28.240846127682943, 28.797723343167835, 28.571595998911096, 28.226387450256134, 28.41574121352384, 28.784731721546763, 28.427745912243196, 27.86673491026584, 27.66417683791172, 27.142872089340777, 27.392789630331958, 27.57036810258662, 27.747946270364015, 27.925528956951567, 28.103111439125236, 28.28069648460263, 28.4582816802711, 28.635867826123885, 28.81345700317914, 28.99104556469817, 29.16863669480193, 29.346227684975847, 29.523821251673432, 29.701414957253192, 29.879009583626516, 30.05660725814268, 30.23420433069136, 30.41180398799025, 30.58940342378223, 30.767005486261564, 30.944607719268433, 31.122214935420228, 31.29981821819169, 33.154282568290476, 31.619681878507613, 32.9352222803297, 31.90173412795634, 32.1878620844907, 32.365471982341276, 31.984134413521755, 32.173528098248276, 31.98362120280096, 32.19740642275105, 32.37502849655762, 32.55264428460323, 32.730268789539195, 32.90788733331764, 36.43924435474377, 36.54617795705177, 50.10807289292565, 43.68449318454594, 45.19374645633059, 40.73474673444638, 37.26748249230499, 38.960932627729136, 39.114996323608146, 38.90977206830444, 38.200190315532375, 36.822015236405015, 36.53838249533412, 36.21899435858194, 36.450892239729676, 36.62853638604029, 36.8061756308068, 36.98382210226002, 37.16146633712148, 37.33911483172857, 37.516758428477225, 37.69440976153582, 37.87205887097691, 38.049712246476, 38.22736064476808, 38.405017454645765, 38.582668706003616, 94.09741968421739, 48.39165834267672, 94.84041022063332, 48.431128111098595, 58.78390586187684, 50.6565180955903, 52.41386090143094, 58.84384528018127, 58.83132205078017, 59.889439795951525, 59.764270916819655, 56.706910949926176, 55.69750995117406, 57.7806448861912, 54.27621048169621, 56.440871783705795, 54.60003955506792, 128.7418100315764, 114.2283664749066, 150.06059204074842, 100.77045847881092, 88.33775775889168, 65.59430804595874, 61.65339333498448, 59.45693498545772, 57.85592101532718, 56.37687310117404, 56.735442403467495, 56.91313478825663, 68.27013934737546, 110.13461648433037, 319.1538147905868, 634.7251187347931, 539.9139341286284, 751.1757878094293, 24.036037381677232, 88.97012823249197, 416.93352763684794, -326.64906170182445, 270.16225047919403, 1895.3488338968987, 3822.2960405761332, 1555.0174095873924, 398.6295122825277, 121.15893714124158, 64.2132755990443, 829.5629869024407, 689.9833207280326, 493.3116348240343, 169.4037871761327, 216.66909985840533, 772.1993637539233, 59.90681242821931, 622.5497908311592, 1765.225756340409, 3872.834616486869, 4670.995533429609, 2672.0250651317633, 493.0764599690945, -113.98254454984678, 933.1290732963711, 1308.3878953544358, 1067.184603750831, 689.5786453108182, 8.483931146276024, 920.8145628854475, 1364.0183447263005, 847.1144856988435, 64.09513892754671, 286.70792460471955, 604.0135346412337, 367.35243483612743, 738.3277912731294, 1871.6164231103091, 1954.7604760238808, 1274.6507145224787, 1623.35290405152, 2564.2777084146082, 7115.3780897028855, 15366.760476322097, 7375.994165633029, 4161.133511792558, 4961.825562302833, 3531.882725663142, 3319.6294045325244, 3084.5507848738516, 2437.4455555044924, 4266.632578274332, 3935.2969293905744, 3049.7994707274843, 2202.5904578162454, 2451.937045212004, 1707.9588164995369, 1448.496348328537, 4188.683067691007, 6407.567804158026, 5969.329655003851, 4986.2444750970035, 4345.5550153757495, 3795.531512596512, 3315.7366557323758, 2026.4579767786502, 3083.168652512587, 2149.9955972262273, 108.088626891189, 248.0524045119594, 1163.2382122133954, 1067.4744638328211, 1594.0826225969065, 3434.9051663720948, 6627.535952600275, 7267.171836130644, 7266.649392963919, 4277.383837829102, 1608.7872558619022, 4219.584703729824, 4526.175822949685, 5647.426518352924, 8567.03884709452, 11120.767592775781, 8879.961367478494, 5062.676623572204, 3009.3702108529064, 3984.005805099518, 3049.99346911545, 2569.634986934698, 2724.045196590883, 3259.1126926923303, 1619.6461517294902, 1794.708474507747, 2545.458036858165, 1857.2491801677882, 1340.4612745214529, 1031.431929546982, 484.3715103151286, 1340.6159967133535, 1320.582465704798, 1576.6608227512422, 3062.371444234769, 6339.351893297476, 4856.758287448363, 5132.0909849494, 1093.9362704035536, 1416.2970486982995, 1354.4775003510601, 1348.309716958416, 1847.978360164004, 2260.964918385705, 2111.501269416243, 1430.4227806283338, 843.0735090993327, 617.1187043358866, 797.2872273226434, 2096.588137910374, 1369.1798793193525, 1472.6031363837335, -58.41987934464401, 1283.0532773237132, 602.7394113574678, 600.3348535846261, 234.4603129575658, 291.1713672677716, 955.0668096988356, 832.5437398120175, 765.1098068180293, 1346.4973211991855, 1269.0179982242557, 429.2034566213817, -231.9497549787576, 319.5563599500034, 516.1016410922015, 307.48439597638344, 421.0088869491459, 302.99682578136725, 332.2560552945785, 283.1160194553896, 245.8325817982891, 439.59880514085546, 665.2830028726385, 838.7731072919526, 674.3578655435513, 67.10829340155722, 318.17107941625403, 59.631467135835074, 106.43058368143485, 75.12030593608617, 92.11312257824223, 87.280609572182, 101.64652245660386, 102.86575340001068, 113.93043881076849, 94.34096297516533, 95.36216876005355, 80.68973268760931, 79.20622203765069, 81.32406923106032, 77.23606903235877, 71.7388007652533, 75.37545719755448, 65.19980323463719, 65.51194562512732, 57.94960303062288, 57.39867431368207, 62.80586097897853, 75.67129510603372, 66.98364616719505, 68.26700640817747, 61.54822381011817, 61.04614316180694, 54.216867799768075, 59.35280334558145, 58.74727621097139, 61.35033503971233, 64.74571293696746, 64.04170403392855, 63.70520259707997, 58.434019850902175, 57.75247208845588, 54.97060199382565, 54.85383102275017, 55.19459179683554, 55.095500044835525, 55.03256979534119, 53.29283850572892, 52.14737055120341, 50.44648289686053, 49.209828909808884, 55.570677000036405, 56.43239488912773, 62.183808065891085, 62.57628538511198, 66.13642097787039, 65.92419210775695, 81.67223709353654, 114.6701834441902, 121.69140518851651, 141.4078550632596, 146.11081952560008, 145.61354707903553, 144.06732240665258, 138.41755119496142, 134.02593839046992, 136.31110085087596, 136.49203727033293, 140.10430344089554, 135.2082175200083, 135.23946877575054, 132.7952826111605, 133.0098669724456, 133.31443225249478, 132.65637800344024, 132.04626137237898, 114.85941725374072, 120.9666790206747, 104.1953784851446, 109.37782241807442, 105.24185741702918, 102.74584382337181, 99.94706401915582, 98.10537680408045, 96.3856455671469, 96.50350276264359, 100.91205871869191, 90.69396368955614, 95.18043769169839, 89.58073472148644, 92.1759823501541, 92.9178422088819, 97.9710200844066, 94.94681610107492, 97.88284901295796, 95.69296651993939, 95.81081950599379, 89.59947904176046, 89.66601497980703, 80.52987547677282, 80.97068305539246, 77.60005865040242, 77.86256818217504, 77.79958688056738, 77.73660207154168, 77.67361903914893, 79.28746275116833, 85.8964866479378, 84.00003561563793, 86.9002368666982, 83.19774905815527, 76.83679266161253, 87.24206437423176, 77.76943307467145, 83.30033109845672, 78.88596541575014, 76.03774619010375, 74.47789648793241, 69.99400570931373, 67.88970876870046, 65.75368444554573, 65.17265856169645, 65.1819904963953, 64.56005050410964, 63.949870683335575, 52.352180154357164, 46.60380914122587, 38.226573092399484, 35.235340977993694, 28.091602276404515, 27.962724008216757, 23.21599865434512, 20.61438195167656, 20.44455923453052, 18.562077722761977, 18.679906783893546, 17.498993309493134, 17.45952133710802, 16.661486071598084, 16.67080974025919, 20.520442394789473, 139.43155343545652, 63.416315019546985, 136.83199354391186, 77.25711973348031, 76.15528850118123, 88.65987454234772, 112.307467209388, 99.42133818467491, 126.65446211269979, 161.0688144520323, 158.0508482100461, 179.94362961280538, 164.83581732367233, 157.46541971064337, 148.65709573827607, 148.31406670268368, 135.89650587045134, 120.75720376898812, 99.86047415273335, 93.73312080617433, 77.61459944801138, 83.14640011250894, 72.8196567607011, 74.77837751204585, 70.89561568805907, 71.19426857137293, 71.13122511591702, 71.06818150905758, 71.00514241141657, 93.30032894845337, 129.6575845049195, 116.68793574619224, 113.1683880556084, 88.05335160214369, 73.32192592171705, 78.00396060600814, 84.48595148441379, 83.05331949688362, 85.23103077131906, 80.0368712751256, 79.62406274051487, 87.84167046231416, 80.95514036196863, 84.67751068375125, 76.31903579737816, 67.46520964124878, 57.681174178194645, 58.44448077613075, 79.33724153345347, 65.02748710973609, 84.12019109533873, 50.463615966801406, 54.8491111203484, 42.7793400964199, 67.82514529705092, 110.58890274165793, 162.61780623271653, 210.559794928038, 254.62526423286386, 190.31294348284433, 187.21670746605517, 130.51394140627502, 119.81529887871748, 114.52231167751519, 112.30731213269742, 100.03966890747333, 100.38104744824618, 93.3355143407417, 82.7804451381509, 76.8041323172689, 69.52056212454751, 63.902603079077664, 69.3151614332251, 118.26243301138668, 171.17282046141088, 336.5702535244542, 623.5984731110607, 853.5416526971304, 548.0397531613086, 535.0897792296965, 448.4764509647454, 432.4064480191236, 1051.1154850963035, 428.8332829213097, 235.81044656353953, 4084.833210224569, 5183.177875737091, 6101.80047406039, 8187.52760880197, 8546.806640204071, 9437.39659496325, 7315.50974304655, -784.8346520254375, -1293.0227308467595, 454.47395392149633, 810.6904434603131, 1582.8981240981495, 1966.094167254553, 1818.0913255549303, 118.51905556942819, 448.50915269235185, 690.1501193110128, 1473.0688311661986, 1758.3795864348076, 3741.7221295663435, 6433.58992123382, 4787.790709940244, 422.4825435673055, 2082.6523024682597, 2382.5642257582613, 1983.305257931874, 1979.8350804338797, 1734.670158969282, 1235.270710132013, 7490.7291701204485, 12167.453540064773, 8344.439625676305, 10227.615475743467, 14830.502749724608, 14075.651037022708, 14774.328247506115, 13575.724613304845, 13786.542482434465, 12536.408025764984, 17446.842024919282, 13287.72176791077, 13233.773967333093, 9667.588449028455, 12370.260015998805, 8846.985655188808, 9310.033257841353, 10931.309928098437, 13935.957867681464, 10608.841496743187, 10809.611722666106, 6711.816489237454, 6710.584643074547, 5192.837407685631, 5055.470849400759, 4964.700915491548, 3782.1866512894567, 3472.7197113055367, 4452.347179617202, 3926.2849948274584, 4595.511507254364, 5163.6349200977165, 10317.291190344391, 14995.753569031005, 7961.2268456906495, 10976.855903200138, 14018.963999539415, 21755.468946328045, 26841.462979888827, 33894.490553395386, 27105.289560475827, 59806.286834506805, 34783.43338885617, 41424.68759868543, 23493.09079919156, 17356.918274023377, 15397.967456325463, 9185.859803612851, 10472.429056986673, 2864.098436445852, 5164.82360433554, 3676.6878887321814, 6093.063980896679, 7718.171206894308, 6144.254905355308, 4537.741440260753, 4757.137666351068, 3329.8116663817536, 3922.604231282131, 3502.543744350273, 2661.44276942187, 2632.058200992028, 2308.5780090154663, 2525.1274713346243, 2315.677201213048, 1704.6003607767839, 1805.9971701093687, 1631.0810634529346, 1477.9844617882857, 880.6658222619827, 668.450234576038, 792.7153845022968, 958.272315692063, 1086.4117294389387, 889.5942919284313, 519.2878585594483, 605.4547229898449, 592.2880205285929, 466.8807766115452, 1188.749553157009, 1147.0141435150401, 1266.9688056388443, 3001.4455165907593, 380.24005761762214, 1144.4235394949403, 1209.181927802945, 905.8746810317441, 1028.8730783055073, 551.8007960020163, 259.1795839502765, 791.21935562134, 1117.9627643936908, 613.339436193408, -2.8666607086390687, 1433.8023987340737, 1880.8677598827117, 273.0915362662042, -330.05168614697806, 75.83427143687248, 442.3854686333775, 999.4170787062693, 950.137206874186, 1133.8001485904183, 956.3957558469266, -9.110615756237944, 895.8169803193335, 969.7711655290143, -47.82769763810327, -133.89088683350903, 209.68563683534853, 155.7593884355495, 170.14594348782663, 122.18873316579985, 124.50661089588006, 117.04444746892783, 119.37354660019223, 115.68582714577376, 107.96792908400819, 105.51474459724045, 103.05989982905787, 100.77646132648078, 91.52785061516951, 90.61024614823471, 78.23758631539285, 83.83606892136284, 85.3370024035596, 89.292289876378, 92.6060035092298, 92.24440126422775, 91.68547963755763, 86.10800199119011, 86.41718997998773, 82.76625177382522, 108.64703141524883, 100.255857148482, 109.13473341329572, 94.70202969755844, 87.99203585232611, 80.04639968771495, 83.62459331991555, 75.88055589927566, 78.59663999873996, 74.08489149499172, 74.09074323064294, 74.31829727973354, 72.66589820812975, 74.18662161270541, 73.5832320571512, 72.73821866697966, 71.39199303549726, 51.844037777739814, 66.88854140457161, 61.245764594874736, 71.47073910056076, 72.09756538859864, 69.31070242947187, 65.90392490293401, 66.69424341438332, 69.01834242047407, 61.774864119804164, 70.19643583982015, 64.3369308758352, 67.52486784703379, 65.75924274617212, 67.66448574939145, 66.77716239143072, 68.70521904686912, 78.02615357040253, 78.38483581881941, 85.18001911211432, 85.47997598090228, 93.62452500386183, 85.96603138528755, 94.03485261522928, 85.52963951123627, 90.16813945162495, 86.4257874079202]\n"
     ]
    }
   ],
   "source": [
    "tar = list(tar)\n",
    "out = list(out)\n",
    "print(tar)\n",
    "print(out)"
   ]
  },
  {
   "cell_type": "code",
   "execution_count": 76,
   "metadata": {},
   "outputs": [],
   "source": [
    "# for a,b in zip(tar,out):\n",
    "#     print(a,b)\n"
   ]
  },
  {
   "cell_type": "code",
   "execution_count": null,
   "metadata": {},
   "outputs": [],
   "source": [
    "# df = pd.read_csv('/home/ganesh/Documents/Datasets/allYearHarangi.csv',header=0,parse_dates=True,index_col=0)\n",
    "# df.drop([\"Present Storage(TMC)\",'Reservoir Level(TMC)','Outflow'],axis = 1,inplace = True)\n",
    "# scaler = MinMaxScaler(feature_range=(0, 1))\n",
    "# scaled = scaler.fit_transform(df.values)\n",
    "# reshaped=pd.DataFrame({'Inflow':scaled[:,0],'MADIKERI':scaled[:,1],'SOMWARPET':scaled[:,2],'VIRAJPET':scaled[:,3]})\n",
    "# print(reshaped.shape)\n",
    "# idx = pd.date_range('2011-01-01', '2018-12-31') \n",
    "# reshaped['Dates']=idx#reshaped.set_index(idx)\n",
    "# # reshaped.index.name='Dates'\n",
    "# reshaped.head()\n"
   ]
  },
  {
   "cell_type": "code",
   "execution_count": null,
   "metadata": {},
   "outputs": [],
   "source": [
    "# #df = pd.read_csv('kodaguAllYearRainDam.csv')\n",
    "# # df = pd.read_csv('/home/kishora/Documents/Datasets/allYearHarangi.csv')\n",
    "# print(type(reshaped))\n",
    "# df=reshaped\n",
    "# print(df.head())\n",
    "# a = \"RCDATE\"\n",
    "# b = \"Dates\"\n",
    "# df['month'] = pd.DatetimeIndex(df[b]).month\n",
    "# df['year'] = pd.DatetimeIndex(df[b]).year\n",
    "# mask = (df['month'] <= 12)\n",
    "# mask1 = (df['year'] == 2013)\n",
    "# df = df.loc[mask]\n",
    "# print(\"mask \",df)\n",
    "# df = df.loc[mask1]\n",
    "# print(\"mask1 \",df)\n",
    "# df.set_index(b,inplace = True)\n",
    "# df.drop(['month','year'],axis = 1,inplace = True)\n",
    "# #df.drop(['Inflow'],axis = 1,inplace = True)\n",
    "# df"
   ]
  },
  {
   "cell_type": "code",
   "execution_count": null,
   "metadata": {},
   "outputs": [],
   "source": [
    "# lag_val = 4"
   ]
  },
  {
   "cell_type": "code",
   "execution_count": null,
   "metadata": {},
   "outputs": [],
   "source": [
    "# values = df.values\n",
    "# values = values.astype('float32')\n",
    "# # normalize features\n",
    "# # scaler = MinMaxScaler(feature_range=(0, 1))\n",
    "# # scaled = scaler.fit_transform(values)\n",
    "# # data=pd.DataFrame({'Inflow':scaled[:,0],'MADIKERI':scaled[:,1],'SOMWARPET':scaled[:,2],'VIRAJPET':scaled[:,3]})\n",
    "# # print(data.shape)\n",
    "# # idx = pd.date_range('2011-01-01', '2011-12-31') \n",
    "# # data.set_index(idx)\n",
    "# # frame as supervised learning\n",
    "# reframed = series_to_supervised(values, lag_val, 1)#lag of 4 days\n",
    "# # drop columns we don't want to predict\n",
    "# reframed.drop(reframed.columns[[-1,-2,-3]], axis=1, inplace=True)\n",
    "# reframed.head()\n"
   ]
  },
  {
   "cell_type": "code",
   "execution_count": null,
   "metadata": {},
   "outputs": [],
   "source": [
    "values = reframed.values\n",
    "train_x = values[:,:-1]\n",
    "print(train_x)\n",
    "Inflow = values[:,-1]\n",
    "Inflow = Inflow.reshape((train_x.shape[0],1))\n",
    "\n",
    "Inflow.shape\n",
    "train_x.shape"
   ]
  },
  {
   "cell_type": "code",
   "execution_count": null,
   "metadata": {},
   "outputs": [],
   "source": [
    "# #df1 = pd.read_csv('kodaguAllYearRainDam.csv')\n",
    "# df1 =reshaped\n",
    "# df1['month'] = pd.DatetimeIndex(df1[b]).month\n",
    "# df1['year'] = pd.DatetimeIndex(df1[b]).year\n",
    "# df1\n",
    "# mask = (df1['month'] <= 12)\n",
    "# mask1 = (df1['year'] > 2013)#&(df1['year'] <= 2018))\n",
    "# df1 = df1.loc[mask]\n",
    "# df1 = df1.loc[mask1]\n",
    "# df1.set_index(b,inplace = True)\n",
    "# df1.drop(['month','year'],axis = 1,inplace = True)\n",
    "# #df1.drop(['Inflow'],axis = 1,inplace = True)\n",
    "# df1"
   ]
  },
  {
   "cell_type": "code",
   "execution_count": null,
   "metadata": {},
   "outputs": [],
   "source": []
  },
  {
   "cell_type": "code",
   "execution_count": null,
   "metadata": {},
   "outputs": [],
   "source": [
    "# values1 = df1.values\n",
    "# values1 = values1.astype('float32')\n",
    "# # normalize features\n",
    "# # scaler = MinMaxScaler(feature_range=(0, 1))\n",
    "# # scaled = scaler.fit_transform(values1)\n",
    "# # data1=pd.DataFrame({'Inflow':scaled[:,0],'MADIKERI':scaled[:,1],'SOMWARPET':scaled[:,2],'VIRAJPET':scaled[:,3]})\n",
    "# # print(data1.shape)\n",
    "# # idx = pd.date_range('2012-01-01', '2018-12-31') \n",
    "# # data1.set_index(idx)\n",
    "# # frame as supervised learning\n",
    "# reframed1 = series_to_supervised(values1, lag_val, 1)#lag of 4 days\n",
    "# # drop columns we don't want to predict1\n",
    "# print(reframed1.head())\n",
    "# reframed1.drop(reframed1.columns[[-1,-2,-3]], axis=1, inplace=True)\n",
    "# reframed1.head()\n"
   ]
  },
  {
   "cell_type": "code",
   "execution_count": null,
   "metadata": {},
   "outputs": [],
   "source": [
    "# values1 = reframed1.values\n",
    "# Actuall_inflow = values1[:,-1]\n",
    "# test_x = values1[:,:-1]\n",
    "\n",
    "# print(train_x.shape,Inflow.shape)\n",
    "# print(test_x.shape)\n",
    "# Actuall_inflow.shape"
   ]
  },
  {
   "cell_type": "code",
   "execution_count": null,
   "metadata": {},
   "outputs": [],
   "source": [
    "# ypred = []\n",
    "# train_X = train_x\n",
    "# train_y = Inflow\n",
    "# for i in test_x:\n",
    "#     ypred.append(lwr1(i, train_X, train_y, 7.15))\n",
    "# ypred = np.array(ypred).reshape(Actuall_inflow.shape[0],1)"
   ]
  },
  {
   "cell_type": "code",
   "execution_count": null,
   "metadata": {},
   "outputs": [],
   "source": [
    "# ypred"
   ]
  },
  {
   "cell_type": "code",
   "execution_count": null,
   "metadata": {},
   "outputs": [],
   "source": [
    "# Actuall_inflow=Actuall_inflow.reshape(Actuall_inflow.shape[0],1)"
   ]
  },
  {
   "cell_type": "code",
   "execution_count": null,
   "metadata": {},
   "outputs": [],
   "source": [
    "# inv_yhat = np.concatenate((ypred, test_x[:, -3:]), axis=1)\n",
    "# out=scaler.inverse_transform(inv_yhat) \n",
    "# out=out[:,0]\n",
    "# tar_y = np.concatenate((Actuall_inflow, test_x[:, -3:]), axis=1)\n",
    "# tar=scaler.inverse_transform(tar_y)\n",
    "# tar=tar[:,0]"
   ]
  },
  {
   "cell_type": "code",
   "execution_count": null,
   "metadata": {},
   "outputs": [],
   "source": [
    "# print(\"MSE = \",metrics.mean_squared_error(tar,out))\n",
    "# print(\"RMSE = \",sqrt(metrics.mean_squared_error(tar,out)))\n",
    "# print(\"RMSE = \",sqrt(metrics.mean_squared_error(tar[:-1],out[1:])))"
   ]
  },
  {
   "cell_type": "code",
   "execution_count": null,
   "metadata": {},
   "outputs": [],
   "source": [
    "# doityourself()"
   ]
  },
  {
   "cell_type": "code",
   "execution_count": null,
   "metadata": {
    "scrolled": true
   },
   "outputs": [],
   "source": [
    "# pt.plot(out[1601:1691],c='blue')\n",
    "# pt.plot(tar[1600:1690],c='red')"
   ]
  },
  {
   "cell_type": "code",
   "execution_count": null,
   "metadata": {},
   "outputs": [],
   "source": [
    "# pt.plot(tar,c='red')"
   ]
  },
  {
   "cell_type": "code",
   "execution_count": null,
   "metadata": {},
   "outputs": [],
   "source": [
    "# pt.plot(out,c='blue')"
   ]
  },
  {
   "cell_type": "code",
   "execution_count": null,
   "metadata": {},
   "outputs": [],
   "source": []
  }
 ],
 "metadata": {
  "kernelspec": {
   "display_name": "Python 3",
   "language": "python",
   "name": "python3"
  },
  "language_info": {
   "codemirror_mode": {
    "name": "ipython",
    "version": 3
   },
   "file_extension": ".py",
   "mimetype": "text/x-python",
   "name": "python",
   "nbconvert_exporter": "python",
   "pygments_lexer": "ipython3",
   "version": "3.7.5rc1"
  }
 },
 "nbformat": 4,
 "nbformat_minor": 2
}
