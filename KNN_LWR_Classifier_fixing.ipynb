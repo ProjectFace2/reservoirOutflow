{
 "cells": [
  {
   "cell_type": "code",
   "execution_count": 140,
   "metadata": {},
   "outputs": [],
   "source": [
    "import matplotlib.pyplot as pt\n",
    "import pandas as pd\n",
    "import numpy as np\n",
    "from sklearn import metrics\n",
    "from sklearn.preprocessing import MinMaxScaler\n",
    "from sklearn.model_selection import train_test_split\n",
    "from math import sqrt\n",
    "import matplotlib as mpl\n",
    "mpl.rcParams['figure.figsize'] = (18, 6)\n",
    "mpl.rcParams['axes.grid'] = True"
   ]
  },
  {
   "cell_type": "markdown",
   "metadata": {},
   "source": [
    "## Data Analysis"
   ]
  },
  {
   "cell_type": "code",
   "execution_count": 141,
   "metadata": {},
   "outputs": [],
   "source": [
    "input_dataframe = pd.read_csv('allYearLabeledHarangi.csv')"
   ]
  },
  {
   "cell_type": "code",
   "execution_count": 142,
   "metadata": {},
   "outputs": [
    {
     "data": {
      "text/html": [
       "<div>\n",
       "<style scoped>\n",
       "    .dataframe tbody tr th:only-of-type {\n",
       "        vertical-align: middle;\n",
       "    }\n",
       "\n",
       "    .dataframe tbody tr th {\n",
       "        vertical-align: top;\n",
       "    }\n",
       "\n",
       "    .dataframe thead th {\n",
       "        text-align: right;\n",
       "    }\n",
       "</style>\n",
       "<table border=\"1\" class=\"dataframe\">\n",
       "  <thead>\n",
       "    <tr style=\"text-align: right;\">\n",
       "      <th></th>\n",
       "      <th>Dates</th>\n",
       "      <th>Present Storage(TMC)</th>\n",
       "      <th>Reservoir Level(TMC)</th>\n",
       "      <th>Inflow</th>\n",
       "      <th>Outflow</th>\n",
       "      <th>MADIKERI</th>\n",
       "      <th>SOMWARPET</th>\n",
       "      <th>VIRAJPET</th>\n",
       "      <th>Label</th>\n",
       "    </tr>\n",
       "  </thead>\n",
       "  <tbody>\n",
       "    <tr>\n",
       "      <th>0</th>\n",
       "      <td>2011-01-01</td>\n",
       "      <td>3.74</td>\n",
       "      <td>2835.900</td>\n",
       "      <td>142.0</td>\n",
       "      <td>0.0</td>\n",
       "      <td>0.0</td>\n",
       "      <td>0.0</td>\n",
       "      <td>0.0</td>\n",
       "      <td>4</td>\n",
       "    </tr>\n",
       "    <tr>\n",
       "      <th>1</th>\n",
       "      <td>2011-01-02</td>\n",
       "      <td>3.76</td>\n",
       "      <td>2836.090</td>\n",
       "      <td>239.0</td>\n",
       "      <td>0.0</td>\n",
       "      <td>0.0</td>\n",
       "      <td>0.0</td>\n",
       "      <td>0.0</td>\n",
       "      <td>0</td>\n",
       "    </tr>\n",
       "    <tr>\n",
       "      <th>2</th>\n",
       "      <td>2011-01-03</td>\n",
       "      <td>3.77</td>\n",
       "      <td>2836.220</td>\n",
       "      <td>166.0</td>\n",
       "      <td>0.0</td>\n",
       "      <td>0.0</td>\n",
       "      <td>0.0</td>\n",
       "      <td>0.0</td>\n",
       "      <td>3</td>\n",
       "    </tr>\n",
       "    <tr>\n",
       "      <th>3</th>\n",
       "      <td>2011-01-04</td>\n",
       "      <td>3.78</td>\n",
       "      <td>2836.310</td>\n",
       "      <td>118.0</td>\n",
       "      <td>0.0</td>\n",
       "      <td>0.0</td>\n",
       "      <td>0.0</td>\n",
       "      <td>0.0</td>\n",
       "      <td>3</td>\n",
       "    </tr>\n",
       "    <tr>\n",
       "      <th>4</th>\n",
       "      <td>2011-01-05</td>\n",
       "      <td>3.79</td>\n",
       "      <td>2836.410</td>\n",
       "      <td>130.0</td>\n",
       "      <td>0.0</td>\n",
       "      <td>0.0</td>\n",
       "      <td>0.0</td>\n",
       "      <td>0.0</td>\n",
       "      <td>0</td>\n",
       "    </tr>\n",
       "    <tr>\n",
       "      <th>...</th>\n",
       "      <td>...</td>\n",
       "      <td>...</td>\n",
       "      <td>...</td>\n",
       "      <td>...</td>\n",
       "      <td>...</td>\n",
       "      <td>...</td>\n",
       "      <td>...</td>\n",
       "      <td>...</td>\n",
       "      <td>...</td>\n",
       "    </tr>\n",
       "    <tr>\n",
       "      <th>95</th>\n",
       "      <td>2011-04-06</td>\n",
       "      <td>4.00</td>\n",
       "      <td>2838.350</td>\n",
       "      <td>28.0</td>\n",
       "      <td>300.0</td>\n",
       "      <td>0.0</td>\n",
       "      <td>0.0</td>\n",
       "      <td>0.0</td>\n",
       "      <td>0</td>\n",
       "    </tr>\n",
       "    <tr>\n",
       "      <th>96</th>\n",
       "      <td>2011-04-07</td>\n",
       "      <td>3.98</td>\n",
       "      <td>2838.160</td>\n",
       "      <td>38.0</td>\n",
       "      <td>250.0</td>\n",
       "      <td>0.0</td>\n",
       "      <td>0.0</td>\n",
       "      <td>0.0</td>\n",
       "      <td>0</td>\n",
       "    </tr>\n",
       "    <tr>\n",
       "      <th>97</th>\n",
       "      <td>2011-04-08</td>\n",
       "      <td>3.95</td>\n",
       "      <td>2837.915</td>\n",
       "      <td>32.5</td>\n",
       "      <td>275.0</td>\n",
       "      <td>0.0</td>\n",
       "      <td>0.0</td>\n",
       "      <td>0.0</td>\n",
       "      <td>0</td>\n",
       "    </tr>\n",
       "    <tr>\n",
       "      <th>98</th>\n",
       "      <td>2011-04-09</td>\n",
       "      <td>3.92</td>\n",
       "      <td>2837.670</td>\n",
       "      <td>27.0</td>\n",
       "      <td>300.0</td>\n",
       "      <td>0.0</td>\n",
       "      <td>0.0</td>\n",
       "      <td>0.0</td>\n",
       "      <td>0</td>\n",
       "    </tr>\n",
       "    <tr>\n",
       "      <th>99</th>\n",
       "      <td>2011-04-10</td>\n",
       "      <td>3.91</td>\n",
       "      <td>2837.500</td>\n",
       "      <td>17.0</td>\n",
       "      <td>200.0</td>\n",
       "      <td>0.0</td>\n",
       "      <td>0.0</td>\n",
       "      <td>0.0</td>\n",
       "      <td>0</td>\n",
       "    </tr>\n",
       "  </tbody>\n",
       "</table>\n",
       "<p>100 rows × 9 columns</p>\n",
       "</div>"
      ],
      "text/plain": [
       "         Dates  Present Storage(TMC)  Reservoir Level(TMC)  Inflow  Outflow  \\\n",
       "0   2011-01-01                  3.74              2835.900   142.0      0.0   \n",
       "1   2011-01-02                  3.76              2836.090   239.0      0.0   \n",
       "2   2011-01-03                  3.77              2836.220   166.0      0.0   \n",
       "3   2011-01-04                  3.78              2836.310   118.0      0.0   \n",
       "4   2011-01-05                  3.79              2836.410   130.0      0.0   \n",
       "..         ...                   ...                   ...     ...      ...   \n",
       "95  2011-04-06                  4.00              2838.350    28.0    300.0   \n",
       "96  2011-04-07                  3.98              2838.160    38.0    250.0   \n",
       "97  2011-04-08                  3.95              2837.915    32.5    275.0   \n",
       "98  2011-04-09                  3.92              2837.670    27.0    300.0   \n",
       "99  2011-04-10                  3.91              2837.500    17.0    200.0   \n",
       "\n",
       "    MADIKERI  SOMWARPET  VIRAJPET  Label  \n",
       "0        0.0        0.0       0.0      4  \n",
       "1        0.0        0.0       0.0      0  \n",
       "2        0.0        0.0       0.0      3  \n",
       "3        0.0        0.0       0.0      3  \n",
       "4        0.0        0.0       0.0      0  \n",
       "..       ...        ...       ...    ...  \n",
       "95       0.0        0.0       0.0      0  \n",
       "96       0.0        0.0       0.0      0  \n",
       "97       0.0        0.0       0.0      0  \n",
       "98       0.0        0.0       0.0      0  \n",
       "99       0.0        0.0       0.0      0  \n",
       "\n",
       "[100 rows x 9 columns]"
      ]
     },
     "execution_count": 142,
     "metadata": {},
     "output_type": "execute_result"
    }
   ],
   "source": [
    "input_dataframe.head(100)"
   ]
  },
  {
   "cell_type": "code",
   "execution_count": 143,
   "metadata": {},
   "outputs": [
    {
     "data": {
      "text/plain": [
       "<matplotlib.axes._subplots.AxesSubplot at 0x7f154ae99950>"
      ]
     },
     "execution_count": 143,
     "metadata": {},
     "output_type": "execute_result"
    },
    {
     "data": {
      "image/png": "[encoded data removed]",
      "text/plain": [
       "<Figure size 1296x432 with 1 Axes>"
      ]
     },
     "metadata": {
      "needs_background": "light"
     },
     "output_type": "display_data"
    }
   ],
   "source": [
    "input_dataframe.Inflow.plot(kind='line')"
   ]
  },
  {
   "cell_type": "code",
   "execution_count": 144,
   "metadata": {},
   "outputs": [],
   "source": [
    "input_dataframe.drop('Label', axis=1, inplace=True)"
   ]
  },
  {
   "cell_type": "markdown",
   "metadata": {},
   "source": [
    "## Dataset Creation"
   ]
  },
  {
   "cell_type": "markdown",
   "metadata": {},
   "source": [
    "### Label creation "
   ]
  },
  {
   "cell_type": "code",
   "execution_count": 145,
   "metadata": {},
   "outputs": [
    {
     "data": {
      "text/plain": [
       "'\\n         and (x <= 20000)):\\n         elif((x > 20000) and (x <= 30000)):\\n        return 7\\n    elif((x > 30000) and (x <= 40000)):\\n        return 8\\n    elif((x > 40000) and (x <= 50000)):\\n        return 9\\n    elif((x > 50000) and (x <= 70000)):\\n        return 10\\n    elif(x > 70000):\\n        return 11\\n'"
      ]
     },
     "execution_count": 145,
     "metadata": {},
     "output_type": "execute_result"
    }
   ],
   "source": [
    "def sense_val_inflow(x):\n",
    "    if(x <= 500):\n",
    "        return 1\n",
    "    elif((x > 500) and (x<=1000)):\n",
    "        return 2\n",
    "    elif((x > 1000) and (x<=2500)):\n",
    "        return 3\n",
    "    elif((x > 2500) and (x<=5000)):\n",
    "        return 4\n",
    "    elif((x > 5000) and (x <= 11000)):\n",
    "        return 5\n",
    "    elif(x > 11000):\n",
    "         return 6\n",
    "\n",
    "'''\n",
    "         and (x <= 20000)):\n",
    "         elif((x > 20000) and (x <= 30000)):\n",
    "        return 7\n",
    "    elif((x > 30000) and (x <= 40000)):\n",
    "        return 8\n",
    "    elif((x > 40000) and (x <= 50000)):\n",
    "        return 9\n",
    "    elif((x > 50000) and (x <= 70000)):\n",
    "        return 10\n",
    "    elif(x > 70000):\n",
    "        return 11\n",
    "'''"
   ]
  },
  {
   "cell_type": "code",
   "execution_count": 146,
   "metadata": {},
   "outputs": [],
   "source": [
    "input_dataframe['Label'] = input_dataframe.Inflow.apply(sense_val_inflow)"
   ]
  },
  {
   "cell_type": "code",
   "execution_count": 147,
   "metadata": {},
   "outputs": [
    {
     "data": {
      "text/plain": [
       "<matplotlib.axes._subplots.AxesSubplot at 0x7f154c131990>"
      ]
     },
     "execution_count": 147,
     "metadata": {},
     "output_type": "execute_result"
    },
    {
     "data": {
      "image/png": "[encoded data removed]",
      "text/plain": [
       "<Figure size 1296x432 with 1 Axes>"
      ]
     },
     "metadata": {
      "needs_background": "light"
     },
     "output_type": "display_data"
    }
   ],
   "source": [
    "input_dataframe.Label.value_counts().plot(kind='bar')"
   ]
  },
  {
   "cell_type": "code",
   "execution_count": 148,
   "metadata": {},
   "outputs": [
    {
     "data": {
      "text/plain": [
       "(2922, 9)"
      ]
     },
     "execution_count": 148,
     "metadata": {},
     "output_type": "execute_result"
    }
   ],
   "source": [
    "input_dataframe.shape"
   ]
  },
  {
   "cell_type": "code",
   "execution_count": 149,
   "metadata": {},
   "outputs": [
    {
     "data": {
      "text/plain": [
       "0.6697467488021903"
      ]
     },
     "execution_count": 149,
     "metadata": {},
     "output_type": "execute_result"
    }
   ],
   "source": [
    "input_dataframe.Label.value_counts()[1]/input_dataframe.shape[0]"
   ]
  },
  {
   "cell_type": "code",
   "execution_count": 150,
   "metadata": {},
   "outputs": [
    {
     "data": {
      "text/plain": [
       "Index(['Dates', 'Present Storage(TMC)', 'Reservoir Level(TMC)', 'Inflow',\n",
       "       'Outflow', 'MADIKERI', 'SOMWARPET', 'VIRAJPET', 'Label'],\n",
       "      dtype='object')"
      ]
     },
     "execution_count": 150,
     "metadata": {},
     "output_type": "execute_result"
    }
   ],
   "source": [
    "input_dataframe.columns"
   ]
  },
  {
   "cell_type": "code",
   "execution_count": 151,
   "metadata": {},
   "outputs": [],
   "source": [
    "input_dataframe['month'] = pd.DatetimeIndex(input_dataframe['Dates']).month\n",
    "input_dataframe['year'] = pd.DatetimeIndex(input_dataframe['Dates']).year"
   ]
  },
  {
   "cell_type": "code",
   "execution_count": 152,
   "metadata": {},
   "outputs": [
    {
     "data": {
      "text/html": [
       "<div>\n",
       "<style scoped>\n",
       "    .dataframe tbody tr th:only-of-type {\n",
       "        vertical-align: middle;\n",
       "    }\n",
       "\n",
       "    .dataframe tbody tr th {\n",
       "        vertical-align: top;\n",
       "    }\n",
       "\n",
       "    .dataframe thead th {\n",
       "        text-align: right;\n",
       "    }\n",
       "</style>\n",
       "<table border=\"1\" class=\"dataframe\">\n",
       "  <thead>\n",
       "    <tr style=\"text-align: right;\">\n",
       "      <th></th>\n",
       "      <th>Dates</th>\n",
       "      <th>Present Storage(TMC)</th>\n",
       "      <th>Reservoir Level(TMC)</th>\n",
       "      <th>Inflow</th>\n",
       "      <th>Outflow</th>\n",
       "      <th>MADIKERI</th>\n",
       "      <th>SOMWARPET</th>\n",
       "      <th>VIRAJPET</th>\n",
       "      <th>Label</th>\n",
       "      <th>month</th>\n",
       "      <th>year</th>\n",
       "    </tr>\n",
       "  </thead>\n",
       "  <tbody>\n",
       "    <tr>\n",
       "      <th>0</th>\n",
       "      <td>2011-01-01</td>\n",
       "      <td>3.74</td>\n",
       "      <td>2835.90</td>\n",
       "      <td>142.0</td>\n",
       "      <td>0.0</td>\n",
       "      <td>0.0</td>\n",
       "      <td>0.0</td>\n",
       "      <td>0.0</td>\n",
       "      <td>1</td>\n",
       "      <td>1</td>\n",
       "      <td>2011</td>\n",
       "    </tr>\n",
       "    <tr>\n",
       "      <th>1</th>\n",
       "      <td>2011-01-02</td>\n",
       "      <td>3.76</td>\n",
       "      <td>2836.09</td>\n",
       "      <td>239.0</td>\n",
       "      <td>0.0</td>\n",
       "      <td>0.0</td>\n",
       "      <td>0.0</td>\n",
       "      <td>0.0</td>\n",
       "      <td>1</td>\n",
       "      <td>1</td>\n",
       "      <td>2011</td>\n",
       "    </tr>\n",
       "    <tr>\n",
       "      <th>2</th>\n",
       "      <td>2011-01-03</td>\n",
       "      <td>3.77</td>\n",
       "      <td>2836.22</td>\n",
       "      <td>166.0</td>\n",
       "      <td>0.0</td>\n",
       "      <td>0.0</td>\n",
       "      <td>0.0</td>\n",
       "      <td>0.0</td>\n",
       "      <td>1</td>\n",
       "      <td>1</td>\n",
       "      <td>2011</td>\n",
       "    </tr>\n",
       "    <tr>\n",
       "      <th>3</th>\n",
       "      <td>2011-01-04</td>\n",
       "      <td>3.78</td>\n",
       "      <td>2836.31</td>\n",
       "      <td>118.0</td>\n",
       "      <td>0.0</td>\n",
       "      <td>0.0</td>\n",
       "      <td>0.0</td>\n",
       "      <td>0.0</td>\n",
       "      <td>1</td>\n",
       "      <td>1</td>\n",
       "      <td>2011</td>\n",
       "    </tr>\n",
       "    <tr>\n",
       "      <th>4</th>\n",
       "      <td>2011-01-05</td>\n",
       "      <td>3.79</td>\n",
       "      <td>2836.41</td>\n",
       "      <td>130.0</td>\n",
       "      <td>0.0</td>\n",
       "      <td>0.0</td>\n",
       "      <td>0.0</td>\n",
       "      <td>0.0</td>\n",
       "      <td>1</td>\n",
       "      <td>1</td>\n",
       "      <td>2011</td>\n",
       "    </tr>\n",
       "  </tbody>\n",
       "</table>\n",
       "</div>"
      ],
      "text/plain": [
       "        Dates  Present Storage(TMC)  Reservoir Level(TMC)  Inflow  Outflow  \\\n",
       "0  2011-01-01                  3.74               2835.90   142.0      0.0   \n",
       "1  2011-01-02                  3.76               2836.09   239.0      0.0   \n",
       "2  2011-01-03                  3.77               2836.22   166.0      0.0   \n",
       "3  2011-01-04                  3.78               2836.31   118.0      0.0   \n",
       "4  2011-01-05                  3.79               2836.41   130.0      0.0   \n",
       "\n",
       "   MADIKERI  SOMWARPET  VIRAJPET  Label  month  year  \n",
       "0       0.0        0.0       0.0      1      1  2011  \n",
       "1       0.0        0.0       0.0      1      1  2011  \n",
       "2       0.0        0.0       0.0      1      1  2011  \n",
       "3       0.0        0.0       0.0      1      1  2011  \n",
       "4       0.0        0.0       0.0      1      1  2011  "
      ]
     },
     "execution_count": 152,
     "metadata": {},
     "output_type": "execute_result"
    }
   ],
   "source": [
    "input_dataframe.head()"
   ]
  },
  {
   "cell_type": "markdown",
   "metadata": {},
   "source": [
    "##### Converting pandas series into timeseries"
   ]
  },
  {
   "cell_type": "code",
   "execution_count": 153,
   "metadata": {},
   "outputs": [],
   "source": [
    "'''\n",
    "In this method, we use all the lag days and lead days and construct a dataframe, where\n",
    "the lag and lead days are represented in a single row\n",
    "Using these features we can predict the class of the present day with the data from the previous days\n",
    "This holds good for all the rows in the dataframe\n",
    "'''\n",
    "\n",
    "#dataset preparation with lag\n",
    "def series_to_supervised(data, lag_days=1, lead_days=1, dropnan=True):\n",
    "    no_of_features = 1 if type(data) is list else data.shape[1]\n",
    "    print(no_of_features)\n",
    "    df = pd.DataFrame(data)\n",
    "    cols, names = list(), list()\n",
    "    # input sequence (t-n, ... t-1)\n",
    "    for i in range(lag_days, 0, -1):\n",
    "        cols.append(df.shift(i))\n",
    "        names += [('var%d(t-%d)' % (j+1, i)) for j in range(no_of_features)]\n",
    "    # forecast sequence (t, t+1, ... t+n)\n",
    "    for i in range(0, lead_days):\n",
    "        cols.append(df.shift(-i))\n",
    "        if i == 0:\n",
    "            names += [('var%d(t)' % (j+1)) for j in range(no_of_features)]\n",
    "        else:\n",
    "            names += [('var%d(t+%d)' % (j+1, i)) for j in range(no_of_features)]\n",
    "# put it all together\n",
    "    agg = pd.concat(cols, axis=1)\n",
    "    agg.columns = names\n",
    "    # drop rows with NaN values\n",
    "    if dropnan:\n",
    "        agg.dropna(inplace=True)\n",
    "    return agg"
   ]
  },
  {
   "cell_type": "code",
   "execution_count": 154,
   "metadata": {},
   "outputs": [],
   "source": [
    "input_dataframe_train = input_dataframe.loc[(input_dataframe['year'] <=2017) & (input_dataframe['month'] <= 12)]\n",
    "input_dataframe_train.set_index(input_dataframe_train['Dates'], inplace=True)\n",
    "input_dataframe_train = input_dataframe_train[['MADIKERI', 'SOMWARPET', 'VIRAJPET', 'Label']]\n",
    "input_dataframe_test = input_dataframe.loc[(input_dataframe['year'] > 2017)]\n",
    "input_dataframe_test.set_index(input_dataframe_test['Dates'], inplace=True)\n",
    "input_dataframe_test = input_dataframe_test[['MADIKERI', 'SOMWARPET', 'VIRAJPET', 'Label']]"
   ]
  },
  {
   "cell_type": "code",
   "execution_count": 155,
   "metadata": {},
   "outputs": [
    {
     "data": {
      "text/html": [
       "<div>\n",
       "<style scoped>\n",
       "    .dataframe tbody tr th:only-of-type {\n",
       "        vertical-align: middle;\n",
       "    }\n",
       "\n",
       "    .dataframe tbody tr th {\n",
       "        vertical-align: top;\n",
       "    }\n",
       "\n",
       "    .dataframe thead th {\n",
       "        text-align: right;\n",
       "    }\n",
       "</style>\n",
       "<table border=\"1\" class=\"dataframe\">\n",
       "  <thead>\n",
       "    <tr style=\"text-align: right;\">\n",
       "      <th></th>\n",
       "      <th>MADIKERI</th>\n",
       "      <th>SOMWARPET</th>\n",
       "      <th>VIRAJPET</th>\n",
       "      <th>Label</th>\n",
       "    </tr>\n",
       "    <tr>\n",
       "      <th>Dates</th>\n",
       "      <th></th>\n",
       "      <th></th>\n",
       "      <th></th>\n",
       "      <th></th>\n",
       "    </tr>\n",
       "  </thead>\n",
       "  <tbody>\n",
       "    <tr>\n",
       "      <th>2011-01-01</th>\n",
       "      <td>0.0</td>\n",
       "      <td>0.0</td>\n",
       "      <td>0.0</td>\n",
       "      <td>1</td>\n",
       "    </tr>\n",
       "    <tr>\n",
       "      <th>2011-01-02</th>\n",
       "      <td>0.0</td>\n",
       "      <td>0.0</td>\n",
       "      <td>0.0</td>\n",
       "      <td>1</td>\n",
       "    </tr>\n",
       "    <tr>\n",
       "      <th>2011-01-03</th>\n",
       "      <td>0.0</td>\n",
       "      <td>0.0</td>\n",
       "      <td>0.0</td>\n",
       "      <td>1</td>\n",
       "    </tr>\n",
       "    <tr>\n",
       "      <th>2011-01-04</th>\n",
       "      <td>0.0</td>\n",
       "      <td>0.0</td>\n",
       "      <td>0.0</td>\n",
       "      <td>1</td>\n",
       "    </tr>\n",
       "    <tr>\n",
       "      <th>2011-01-05</th>\n",
       "      <td>0.0</td>\n",
       "      <td>0.0</td>\n",
       "      <td>0.0</td>\n",
       "      <td>1</td>\n",
       "    </tr>\n",
       "  </tbody>\n",
       "</table>\n",
       "</div>"
      ],
      "text/plain": [
       "            MADIKERI  SOMWARPET  VIRAJPET  Label\n",
       "Dates                                           \n",
       "2011-01-01       0.0        0.0       0.0      1\n",
       "2011-01-02       0.0        0.0       0.0      1\n",
       "2011-01-03       0.0        0.0       0.0      1\n",
       "2011-01-04       0.0        0.0       0.0      1\n",
       "2011-01-05       0.0        0.0       0.0      1"
      ]
     },
     "execution_count": 155,
     "metadata": {},
     "output_type": "execute_result"
    }
   ],
   "source": [
    "input_dataframe_train.head()"
   ]
  },
  {
   "cell_type": "code",
   "execution_count": 156,
   "metadata": {},
   "outputs": [
    {
     "data": {
      "text/html": [
       "<div>\n",
       "<style scoped>\n",
       "    .dataframe tbody tr th:only-of-type {\n",
       "        vertical-align: middle;\n",
       "    }\n",
       "\n",
       "    .dataframe tbody tr th {\n",
       "        vertical-align: top;\n",
       "    }\n",
       "\n",
       "    .dataframe thead th {\n",
       "        text-align: right;\n",
       "    }\n",
       "</style>\n",
       "<table border=\"1\" class=\"dataframe\">\n",
       "  <thead>\n",
       "    <tr style=\"text-align: right;\">\n",
       "      <th></th>\n",
       "      <th>MADIKERI</th>\n",
       "      <th>SOMWARPET</th>\n",
       "      <th>VIRAJPET</th>\n",
       "      <th>Label</th>\n",
       "    </tr>\n",
       "    <tr>\n",
       "      <th>Dates</th>\n",
       "      <th></th>\n",
       "      <th></th>\n",
       "      <th></th>\n",
       "      <th></th>\n",
       "    </tr>\n",
       "  </thead>\n",
       "  <tbody>\n",
       "    <tr>\n",
       "      <th>2018-01-01</th>\n",
       "      <td>0.040023</td>\n",
       "      <td>0.922238</td>\n",
       "      <td>0.0</td>\n",
       "      <td>1</td>\n",
       "    </tr>\n",
       "    <tr>\n",
       "      <th>2018-01-02</th>\n",
       "      <td>0.040669</td>\n",
       "      <td>0.937113</td>\n",
       "      <td>0.0</td>\n",
       "      <td>1</td>\n",
       "    </tr>\n",
       "    <tr>\n",
       "      <th>2018-01-03</th>\n",
       "      <td>0.041315</td>\n",
       "      <td>0.951987</td>\n",
       "      <td>0.0</td>\n",
       "      <td>1</td>\n",
       "    </tr>\n",
       "    <tr>\n",
       "      <th>2018-01-04</th>\n",
       "      <td>0.041960</td>\n",
       "      <td>0.966862</td>\n",
       "      <td>0.0</td>\n",
       "      <td>1</td>\n",
       "    </tr>\n",
       "    <tr>\n",
       "      <th>2018-01-05</th>\n",
       "      <td>0.042606</td>\n",
       "      <td>0.981737</td>\n",
       "      <td>0.0</td>\n",
       "      <td>1</td>\n",
       "    </tr>\n",
       "  </tbody>\n",
       "</table>\n",
       "</div>"
      ],
      "text/plain": [
       "            MADIKERI  SOMWARPET  VIRAJPET  Label\n",
       "Dates                                           \n",
       "2018-01-01  0.040023   0.922238       0.0      1\n",
       "2018-01-02  0.040669   0.937113       0.0      1\n",
       "2018-01-03  0.041315   0.951987       0.0      1\n",
       "2018-01-04  0.041960   0.966862       0.0      1\n",
       "2018-01-05  0.042606   0.981737       0.0      1"
      ]
     },
     "execution_count": 156,
     "metadata": {},
     "output_type": "execute_result"
    }
   ],
   "source": [
    "input_dataframe_test.head()"
   ]
  },
  {
   "cell_type": "markdown",
   "metadata": {},
   "source": [
    "### Creating dataframe for Training data"
   ]
  },
  {
   "cell_type": "code",
   "execution_count": 157,
   "metadata": {},
   "outputs": [
    {
     "name": "stdout",
     "output_type": "stream",
     "text": [
      "4\n"
     ]
    },
    {
     "data": {
      "text/html": [
       "<div>\n",
       "<style scoped>\n",
       "    .dataframe tbody tr th:only-of-type {\n",
       "        vertical-align: middle;\n",
       "    }\n",
       "\n",
       "    .dataframe tbody tr th {\n",
       "        vertical-align: top;\n",
       "    }\n",
       "\n",
       "    .dataframe thead th {\n",
       "        text-align: right;\n",
       "    }\n",
       "</style>\n",
       "<table border=\"1\" class=\"dataframe\">\n",
       "  <thead>\n",
       "    <tr style=\"text-align: right;\">\n",
       "      <th></th>\n",
       "      <th>var1(t-2)</th>\n",
       "      <th>var2(t-2)</th>\n",
       "      <th>var3(t-2)</th>\n",
       "      <th>var4(t-2)</th>\n",
       "      <th>var1(t-1)</th>\n",
       "      <th>var2(t-1)</th>\n",
       "      <th>var3(t-1)</th>\n",
       "      <th>var4(t-1)</th>\n",
       "      <th>var4(t)</th>\n",
       "    </tr>\n",
       "  </thead>\n",
       "  <tbody>\n",
       "    <tr>\n",
       "      <th>2</th>\n",
       "      <td>0.0</td>\n",
       "      <td>0.0</td>\n",
       "      <td>0.0</td>\n",
       "      <td>1.0</td>\n",
       "      <td>0.0</td>\n",
       "      <td>0.0</td>\n",
       "      <td>0.0</td>\n",
       "      <td>1.0</td>\n",
       "      <td>1.0</td>\n",
       "    </tr>\n",
       "    <tr>\n",
       "      <th>3</th>\n",
       "      <td>0.0</td>\n",
       "      <td>0.0</td>\n",
       "      <td>0.0</td>\n",
       "      <td>1.0</td>\n",
       "      <td>0.0</td>\n",
       "      <td>0.0</td>\n",
       "      <td>0.0</td>\n",
       "      <td>1.0</td>\n",
       "      <td>1.0</td>\n",
       "    </tr>\n",
       "    <tr>\n",
       "      <th>4</th>\n",
       "      <td>0.0</td>\n",
       "      <td>0.0</td>\n",
       "      <td>0.0</td>\n",
       "      <td>1.0</td>\n",
       "      <td>0.0</td>\n",
       "      <td>0.0</td>\n",
       "      <td>0.0</td>\n",
       "      <td>1.0</td>\n",
       "      <td>1.0</td>\n",
       "    </tr>\n",
       "    <tr>\n",
       "      <th>5</th>\n",
       "      <td>0.0</td>\n",
       "      <td>0.0</td>\n",
       "      <td>0.0</td>\n",
       "      <td>1.0</td>\n",
       "      <td>0.0</td>\n",
       "      <td>0.0</td>\n",
       "      <td>0.0</td>\n",
       "      <td>1.0</td>\n",
       "      <td>1.0</td>\n",
       "    </tr>\n",
       "    <tr>\n",
       "      <th>6</th>\n",
       "      <td>0.0</td>\n",
       "      <td>0.0</td>\n",
       "      <td>0.0</td>\n",
       "      <td>1.0</td>\n",
       "      <td>0.0</td>\n",
       "      <td>0.0</td>\n",
       "      <td>0.0</td>\n",
       "      <td>1.0</td>\n",
       "      <td>1.0</td>\n",
       "    </tr>\n",
       "  </tbody>\n",
       "</table>\n",
       "</div>"
      ],
      "text/plain": [
       "   var1(t-2)  var2(t-2)  var3(t-2)  var4(t-2)  var1(t-1)  var2(t-1)  \\\n",
       "2        0.0        0.0        0.0        1.0        0.0        0.0   \n",
       "3        0.0        0.0        0.0        1.0        0.0        0.0   \n",
       "4        0.0        0.0        0.0        1.0        0.0        0.0   \n",
       "5        0.0        0.0        0.0        1.0        0.0        0.0   \n",
       "6        0.0        0.0        0.0        1.0        0.0        0.0   \n",
       "\n",
       "   var3(t-1)  var4(t-1)  var4(t)  \n",
       "2        0.0        1.0      1.0  \n",
       "3        0.0        1.0      1.0  \n",
       "4        0.0        1.0      1.0  \n",
       "5        0.0        1.0      1.0  \n",
       "6        0.0        1.0      1.0  "
      ]
     },
     "execution_count": 157,
     "metadata": {},
     "output_type": "execute_result"
    }
   ],
   "source": [
    "lead_lag_dataframe_train = series_to_supervised(input_dataframe_train.values.astype('float64'), lag_days=2, lead_days=1, dropnan=True)\n",
    "lead_columns = lead_lag_dataframe_train.filter(regex='var.\\\\(t\\\\)').columns\n",
    "lead_columns_dataframe_train = lead_lag_dataframe_train[lead_columns]\n",
    "lead_lag_dataframe_train.drop(labels=lead_columns, inplace=True, axis=1)\n",
    "'''\n",
    "Copying the label for the current day and keeping all the data from the previous days\n",
    "'''\n",
    "column_name = 'var4(t)'\n",
    "lead_lag_dataframe_train[column_name] = lead_columns_dataframe_train[column_name]\n",
    "lead_lag_dataframe_train.head()"
   ]
  },
  {
   "cell_type": "markdown",
   "metadata": {},
   "source": [
    "### Creating dataframe for Testing data"
   ]
  },
  {
   "cell_type": "code",
   "execution_count": 158,
   "metadata": {},
   "outputs": [
    {
     "name": "stdout",
     "output_type": "stream",
     "text": [
      "4\n"
     ]
    },
    {
     "data": {
      "text/html": [
       "<div>\n",
       "<style scoped>\n",
       "    .dataframe tbody tr th:only-of-type {\n",
       "        vertical-align: middle;\n",
       "    }\n",
       "\n",
       "    .dataframe tbody tr th {\n",
       "        vertical-align: top;\n",
       "    }\n",
       "\n",
       "    .dataframe thead th {\n",
       "        text-align: right;\n",
       "    }\n",
       "</style>\n",
       "<table border=\"1\" class=\"dataframe\">\n",
       "  <thead>\n",
       "    <tr style=\"text-align: right;\">\n",
       "      <th></th>\n",
       "      <th>var1(t-2)</th>\n",
       "      <th>var2(t-2)</th>\n",
       "      <th>var3(t-2)</th>\n",
       "      <th>var4(t-2)</th>\n",
       "      <th>var1(t-1)</th>\n",
       "      <th>var2(t-1)</th>\n",
       "      <th>var3(t-1)</th>\n",
       "      <th>var4(t-1)</th>\n",
       "      <th>var4(t)</th>\n",
       "    </tr>\n",
       "  </thead>\n",
       "  <tbody>\n",
       "    <tr>\n",
       "      <th>2</th>\n",
       "      <td>0.040023</td>\n",
       "      <td>0.922238</td>\n",
       "      <td>0.0</td>\n",
       "      <td>1.0</td>\n",
       "      <td>0.040669</td>\n",
       "      <td>0.937113</td>\n",
       "      <td>0.0</td>\n",
       "      <td>1.0</td>\n",
       "      <td>1.0</td>\n",
       "    </tr>\n",
       "    <tr>\n",
       "      <th>3</th>\n",
       "      <td>0.040669</td>\n",
       "      <td>0.937113</td>\n",
       "      <td>0.0</td>\n",
       "      <td>1.0</td>\n",
       "      <td>0.041315</td>\n",
       "      <td>0.951987</td>\n",
       "      <td>0.0</td>\n",
       "      <td>1.0</td>\n",
       "      <td>1.0</td>\n",
       "    </tr>\n",
       "    <tr>\n",
       "      <th>4</th>\n",
       "      <td>0.041315</td>\n",
       "      <td>0.951987</td>\n",
       "      <td>0.0</td>\n",
       "      <td>1.0</td>\n",
       "      <td>0.041960</td>\n",
       "      <td>0.966862</td>\n",
       "      <td>0.0</td>\n",
       "      <td>1.0</td>\n",
       "      <td>1.0</td>\n",
       "    </tr>\n",
       "    <tr>\n",
       "      <th>5</th>\n",
       "      <td>0.041960</td>\n",
       "      <td>0.966862</td>\n",
       "      <td>0.0</td>\n",
       "      <td>1.0</td>\n",
       "      <td>0.042606</td>\n",
       "      <td>0.981737</td>\n",
       "      <td>0.0</td>\n",
       "      <td>1.0</td>\n",
       "      <td>1.0</td>\n",
       "    </tr>\n",
       "    <tr>\n",
       "      <th>6</th>\n",
       "      <td>0.042606</td>\n",
       "      <td>0.981737</td>\n",
       "      <td>0.0</td>\n",
       "      <td>1.0</td>\n",
       "      <td>0.043251</td>\n",
       "      <td>0.996612</td>\n",
       "      <td>0.0</td>\n",
       "      <td>1.0</td>\n",
       "      <td>1.0</td>\n",
       "    </tr>\n",
       "  </tbody>\n",
       "</table>\n",
       "</div>"
      ],
      "text/plain": [
       "   var1(t-2)  var2(t-2)  var3(t-2)  var4(t-2)  var1(t-1)  var2(t-1)  \\\n",
       "2   0.040023   0.922238        0.0        1.0   0.040669   0.937113   \n",
       "3   0.040669   0.937113        0.0        1.0   0.041315   0.951987   \n",
       "4   0.041315   0.951987        0.0        1.0   0.041960   0.966862   \n",
       "5   0.041960   0.966862        0.0        1.0   0.042606   0.981737   \n",
       "6   0.042606   0.981737        0.0        1.0   0.043251   0.996612   \n",
       "\n",
       "   var3(t-1)  var4(t-1)  var4(t)  \n",
       "2        0.0        1.0      1.0  \n",
       "3        0.0        1.0      1.0  \n",
       "4        0.0        1.0      1.0  \n",
       "5        0.0        1.0      1.0  \n",
       "6        0.0        1.0      1.0  "
      ]
     },
     "execution_count": 158,
     "metadata": {},
     "output_type": "execute_result"
    }
   ],
   "source": [
    "lead_lag_dataframe_test = series_to_supervised(input_dataframe_test.values.astype('float64'), lag_days=2, lead_days=1, dropnan=True)\n",
    "lead_columns_test = lead_lag_dataframe_test.filter(regex='var.\\\\(t\\\\)').columns\n",
    "lead_columns_dataframe_test = lead_lag_dataframe_test[lead_columns_test]\n",
    "lead_lag_dataframe_test.drop(labels=lead_columns_test, inplace=True, axis=1)\n",
    "'''\n",
    "Copying the label for the current day and keeping all the data from the previous days\n",
    "'''\n",
    "column_name = 'var4(t)'\n",
    "lead_lag_dataframe_test[column_name] = lead_columns_dataframe_test[column_name]\n",
    "lead_lag_dataframe_test.head()"
   ]
  },
  {
   "cell_type": "markdown",
   "metadata": {},
   "source": [
    "## Machine Learning"
   ]
  },
  {
   "cell_type": "markdown",
   "metadata": {},
   "source": [
    "### Train test split "
   ]
  },
  {
   "cell_type": "code",
   "execution_count": 159,
   "metadata": {},
   "outputs": [],
   "source": [
    "X_train = lead_lag_dataframe_train.loc[:, lead_lag_dataframe_train.columns != 'var4(t)']\n",
    "y_train = lead_lag_dataframe_train.loc[:, lead_lag_dataframe_train.columns == 'var4(t)']\n",
    "X_test = lead_lag_dataframe_test.loc[:, lead_lag_dataframe_test.columns != 'var4(t)']\n",
    "y_test = lead_lag_dataframe_test.loc[:, lead_lag_dataframe_test.columns == 'var4(t)']"
   ]
  },
  {
   "cell_type": "code",
   "execution_count": 160,
   "metadata": {},
   "outputs": [
    {
     "data": {
      "text/plain": [
       "(      var1(t-2)  var2(t-2)  var3(t-2)  var4(t-2)  var1(t-1)  var2(t-1)  \\\n",
       " 2      0.000000   0.000000        0.0        1.0   0.000000   0.000000   \n",
       " 3      0.000000   0.000000        0.0        1.0   0.000000   0.000000   \n",
       " 4      0.000000   0.000000        0.0        1.0   0.000000   0.000000   \n",
       " 5      0.000000   0.000000        0.0        1.0   0.000000   0.000000   \n",
       " 6      0.000000   0.000000        0.0        1.0   0.000000   0.000000   \n",
       " ...         ...        ...        ...        ...        ...        ...   \n",
       " 2552   0.035505   0.818114        0.0        1.0   0.036150   0.832989   \n",
       " 2553   0.036150   0.832989        0.0        1.0   0.036796   0.847864   \n",
       " 2554   0.036796   0.847864        0.0        1.0   0.037441   0.862739   \n",
       " 2555   0.037441   0.862739        0.0        1.0   0.038087   0.877613   \n",
       " 2556   0.038087   0.877613        0.0        1.0   0.038732   0.892488   \n",
       " \n",
       "       var3(t-1)  var4(t-1)  \n",
       " 2           0.0        1.0  \n",
       " 3           0.0        1.0  \n",
       " 4           0.0        1.0  \n",
       " 5           0.0        1.0  \n",
       " 6           0.0        1.0  \n",
       " ...         ...        ...  \n",
       " 2552        0.0        1.0  \n",
       " 2553        0.0        1.0  \n",
       " 2554        0.0        1.0  \n",
       " 2555        0.0        1.0  \n",
       " 2556        0.0        1.0  \n",
       " \n",
       " [2555 rows x 8 columns],       var4(t)\n",
       " 2         1.0\n",
       " 3         1.0\n",
       " 4         1.0\n",
       " 5         1.0\n",
       " 6         1.0\n",
       " ...       ...\n",
       " 2552      1.0\n",
       " 2553      1.0\n",
       " 2554      1.0\n",
       " 2555      1.0\n",
       " 2556      1.0\n",
       " \n",
       " [2555 rows x 1 columns])"
      ]
     },
     "execution_count": 160,
     "metadata": {},
     "output_type": "execute_result"
    }
   ],
   "source": [
    "X_train, y_train"
   ]
  },
  {
   "cell_type": "markdown",
   "metadata": {},
   "source": [
    "### Machine Learning with Eucliadian distance"
   ]
  },
  {
   "cell_type": "code",
   "execution_count": 161,
   "metadata": {},
   "outputs": [],
   "source": [
    "#locally weighted regression\n",
    "def lwr1(x0, inp, out, k):\n",
    "    m,n = np.shape(inp)\n",
    "    ypred = np.zeros(m)    \n",
    "    ypred = x0 * beta(x0, inp, out, k)\n",
    "    #print(\"The final prediction is :\",ypred)\n",
    "    return ypred\n",
    "\n",
    "def beta(point, inp, out, k):\n",
    "    wt = kernal(point, inp, k)\n",
    "    #print(\"The weight of betas is\",wt)\n",
    "    #print(\"Weight * inp\" , (inp.T * (wt*inp)).I)\n",
    "    out = out.reshape((inp.shape[0],1))\n",
    "#     print(inp.shape)\n",
    "#     print(wt.shape)\n",
    "#     print(out.shape)\n",
    "    beta_val = (inp.T * (wt*inp)).I * inp.T * wt * out\n",
    "    #print(\"The weight is beta value is\",beta_val)\n",
    "    return beta_val\n",
    "\n",
    "def kernal(point, inp, k):\n",
    "    l,b = np.shape(inp)\n",
    "    weights = np.mat(np.eye((l)))\n",
    "    #print(weights)    \n",
    "    for i in range(l):\n",
    "        #print(point.shape,inp[i].shape)\n",
    "        diff = point - inp[i]\n",
    "        weights[i,i] = np.exp(np.dot(diff,diff.T) / (-2.0 * (k**2)))\n",
    "    return weights"
   ]
  },
  {
   "cell_type": "code",
   "execution_count": 162,
   "metadata": {},
   "outputs": [],
   "source": [
    "# distance = np.array(distance)\n",
    "# distance\n",
    "# train_knn_y = distance[:,-1]\n",
    "# train_knn_x = distance[:,:-1]\n",
    "# print(train_knn_y.shape)\n",
    "# print(train_knn_x.shape)"
   ]
  },
  {
   "cell_type": "code",
   "execution_count": 163,
   "metadata": {},
   "outputs": [],
   "source": [
    "# train_knn_y = trai\n",
    "# train_knn_x = distance[:,:-1]\n",
    "# print(train_knn_y.shape)\n",
    "# print(train_knn_x.shape)"
   ]
  },
  {
   "cell_type": "code",
   "execution_count": 164,
   "metadata": {},
   "outputs": [
    {
     "name": "stdout",
     "output_type": "stream",
     "text": [
      "(2555, 8) (2555, 1) (363, 8)\n"
     ]
    }
   ],
   "source": [
    "print(X_train.shape,y_train.shape,X_test.shape)\n",
    "ypred = []\n",
    "for i in X_test.values:\n",
    "    ypred.append(lwr1(i, X_train.values.astype('float32'), y_train.values.astype('float32'), 100))"
   ]
  },
  {
   "cell_type": "code",
   "execution_count": 165,
   "metadata": {},
   "outputs": [
    {
     "data": {
      "text/plain": [
       "(363, 1)"
      ]
     },
     "execution_count": 165,
     "metadata": {},
     "output_type": "execute_result"
    }
   ],
   "source": [
    "ypred = np.array(ypred).reshape((len(ypred),1))\n",
    "ypred.shape"
   ]
  },
  {
   "cell_type": "code",
   "execution_count": 166,
   "metadata": {},
   "outputs": [
    {
     "data": {
      "text/plain": [
       "((363, 1), (363, 1))"
      ]
     },
     "execution_count": 166,
     "metadata": {},
     "output_type": "execute_result"
    }
   ],
   "source": [
    "Actuall_inflow=y_test\n",
    "ypred.shape,Actuall_inflow.shape"
   ]
  },
  {
   "cell_type": "code",
   "execution_count": 167,
   "metadata": {},
   "outputs": [],
   "source": [
    "ypred = np.round(ypred)\n",
    "df3 = pd.DataFrame()\n",
    "df3['predicted'] = list(ypred)\n",
    "df3['Actuall'] = Actuall_inflow\n",
    "df3.to_csv(r\"/home/ganesh/Downloads/choice_added_pred.csv\") \n",
    "#print((ypred,Actuall_inflow))\n"
   ]
  },
  {
   "cell_type": "code",
   "execution_count": 174,
   "metadata": {},
   "outputs": [
    {
     "name": "stdout",
     "output_type": "stream",
     "text": [
      "MSE =  0.15702479338842976\n",
      "RMSE =  0.39626354032187944\n",
      "Accuracy =  0.8677685950413223\n",
      "Accuracy_lag =  0.8753462603878116\n",
      "F1 Score_with_lag =  0.8763501517208678\n",
      "F1 Score_no_lag =  0.8686821830610347\n"
     ]
    }
   ],
   "source": [
    "print(\"MSE = \",metrics.mean_squared_error(Actuall_inflow,ypred))\n",
    "#print(\"RMSE = \",sqrt(metrics.mean_squared_error(Actuall_inflow,train_knn_y)))\n",
    "print(\"RMSE = \",sqrt(metrics.mean_squared_error(Actuall_inflow,ypred)))\n",
    "print(\"Accuracy = \" ,metrics.accuracy_score(Actuall_inflow,ypred))\n",
    "print(\"Accuracy_lag = \" ,metrics.accuracy_score(Actuall_inflow[0:-2],ypred[2:]))\n",
    "#print(\"Accuracy_knn = \" ,metrics.accuracy_score(Actuall_inflow,train_knn_y))\n",
    "print(\"F1 Score_with_lag = \",metrics.f1_score(Actuall_inflow[0:-2],ypred[2:],average = 'weighted'))\n",
    "print(\"F1 Score_no_lag = \",metrics.f1_score(Actuall_inflow,ypred,average = 'weighted'))"
   ]
  },
  {
   "cell_type": "code",
   "execution_count": 175,
   "metadata": {},
   "outputs": [
    {
     "data": {
      "text/plain": [
       "[<matplotlib.lines.Line2D at 0x7f154aacc310>]"
      ]
     },
     "execution_count": 175,
     "metadata": {},
     "output_type": "execute_result"
    },
    {
     "data": {
      "image/png": "[encoded data removed]",
      "text/plain": [
       "<Figure size 1296x432 with 1 Axes>"
      ]
     },
     "metadata": {
      "needs_background": "light"
     },
     "output_type": "display_data"
    }
   ],
   "source": [
    "#pt.plot(train_knn_y,c='red')\n",
    "pt.plot(ypred[:],c='red')\n",
    "pt.plot(y_test[:],c='blue')"
   ]
  },
  {
   "cell_type": "code",
   "execution_count": 170,
   "metadata": {},
   "outputs": [
    {
     "data": {
      "text/plain": [
       "[<matplotlib.lines.Line2D at 0x7f154b058c90>]"
      ]
     },
     "execution_count": 170,
     "metadata": {},
     "output_type": "execute_result"
    },
    {
     "data": {
      "image/png": "[encoded data removed]",
      "text/plain": [
       "<Figure size 1296x432 with 1 Axes>"
      ]
     },
     "metadata": {
      "needs_background": "light"
     },
     "output_type": "display_data"
    }
   ],
   "source": [
    "pt.plot(Actuall_inflow,c='blue')"
   ]
  },
  {
   "cell_type": "code",
   "execution_count": 171,
   "metadata": {},
   "outputs": [
    {
     "data": {
      "text/plain": [
       "[<matplotlib.lines.Line2D at 0x7f154b9da710>]"
      ]
     },
     "execution_count": 171,
     "metadata": {},
     "output_type": "execute_result"
    },
    {
     "data": {
      "image/png": "[encoded data removed]",
      "text/plain": [
       "<Figure size 1296x432 with 1 Axes>"
      ]
     },
     "metadata": {
      "needs_background": "light"
     },
     "output_type": "display_data"
    }
   ],
   "source": [
    "pt.plot(ypred,c='blue')"
   ]
  },
  {
   "cell_type": "markdown",
   "metadata": {},
   "source": [
    "### Machine Learning with Stratified Sampling and KNN Regressor from Sklearn\n",
    "\n",
    "Read links \n",
    "* [Link 1](https://explorable.com/stratified-sampling)\n",
    "* [Link 2](https://scikit-learn.org/stable/modules/generated/sklearn.neighbors.KNeighborsRegressor.html)\n"
   ]
  },
  {
   "cell_type": "code",
   "execution_count": null,
   "metadata": {},
   "outputs": [],
   "source": []
  },
  {
   "cell_type": "code",
   "execution_count": null,
   "metadata": {},
   "outputs": [],
   "source": []
  }
 ],
 "metadata": {
  "kernelspec": {
   "display_name": "Python 3",
   "language": "python",
   "name": "python3"
  },
  "language_info": {
   "codemirror_mode": {
    "name": "ipython",
    "version": 3
   },
   "file_extension": ".py",
   "mimetype": "text/x-python",
   "name": "python",
   "nbconvert_exporter": "python",
   "pygments_lexer": "ipython3",
   "version": "3.7.5rc1"
  }
 },
 "nbformat": 4,
 "nbformat_minor": 2
}
