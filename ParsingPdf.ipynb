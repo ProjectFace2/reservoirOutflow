{
  "nbformat": 4,
  "nbformat_minor": 0,
  "metadata": {
    "colab": {
      "name": "ParsingPdf.ipynb",
      "provenance": [],
      "authorship_tag": "ABX9TyMW3xZ03pJXV8yoKIgZJHV5",
      "include_colab_link": true
    },
    "kernelspec": {
      "name": "python3",
      "display_name": "Python 3"
    }
  },
  "cells": [
    {
      "cell_type": "markdown",
      "metadata": {
        "id": "view-in-github",
        "colab_type": "text"
      },
      "source": [
        "<a href=\"https://colab.research.google.com/github/ProjectFace2/reservoirOutflow/blob/master/ParsingPdf.ipynb\" target=\"_parent\"><img src=\"https://colab.research.google.com/assets/colab-badge.svg\" alt=\"Open In Colab\"/></a>"
      ]
    },
    {
      "cell_type": "code",
      "metadata": {
        "id": "dykrkmqRsFvN",
        "colab_type": "code",
        "outputId": "6ef931cc-6a2b-4661-cb10-444b3b147eed",
        "colab": {
          "base_uri": "https://localhost:8080/",
          "height": 231
        }
      },
      "source": [
        "\n",
        "import camelot\n",
        "\n",
        "file=\"./dR15-08-2019.pdf\"\n",
        "tables = camelot.read_pdf(file,pages=\"1-end\")\n",
        "\n",
        "# tables[3].to_excel(\"rainfall.xlsx\",sheet_name='Sheet2')\n",
        "# tables[6].to_excel(\"reservoir.xlsx\",sheet_name='Sheet2')\n",
        "print(tables.shape)\n",
        "\n",
        "# #for rainfall\n",
        "# import pandas as pd\n",
        "# data=pd.read_excel(\"rainfall.xlsx\")\n",
        "# data.fillna('empty', inplace=True)\n",
        "# rain=input(\"enter the rain_area name\")\n",
        "# df1 = data[data[1].str.contains(rain)]\n",
        "# df1.to_csv('kodagu.csv', mode='a', index = False, header=None)\n",
        "\n",
        "\n",
        "# #for reservoir\n",
        "# data=pd.read_excel(\"reservoir.xlsx\")\n",
        "# data.fillna('empty', inplace=True)\n",
        "# dam=input(\"enter the dam name\")\n",
        "# df1 = data[data[1].str.contains(dam)]\n",
        "# df1.to_csv('harangi.csv', mode='a', index = False, header=None)"
      ],
      "execution_count": 0,
      "outputs": [
        {
          "output_type": "error",
          "ename": "AttributeError",
          "evalue": "ignored",
          "traceback": [
            "\u001b[0;31m---------------------------------------------------------------------------\u001b[0m",
            "\u001b[0;31mAttributeError\u001b[0m                            Traceback (most recent call last)",
            "\u001b[0;32m<ipython-input-9-120d9cfacec3>\u001b[0m in \u001b[0;36m<module>\u001b[0;34m()\u001b[0m\n\u001b[1;32m      3\u001b[0m \u001b[0;34m\u001b[0m\u001b[0m\n\u001b[1;32m      4\u001b[0m \u001b[0mfile\u001b[0m\u001b[0;34m=\u001b[0m\u001b[0;34m\"./dR15-08-2019.pdf\"\u001b[0m\u001b[0;34m\u001b[0m\u001b[0;34m\u001b[0m\u001b[0m\n\u001b[0;32m----> 5\u001b[0;31m \u001b[0mtables\u001b[0m \u001b[0;34m=\u001b[0m \u001b[0mcamelot\u001b[0m\u001b[0;34m.\u001b[0m\u001b[0mread_pdf\u001b[0m\u001b[0;34m(\u001b[0m\u001b[0mfile\u001b[0m\u001b[0;34m,\u001b[0m\u001b[0mpages\u001b[0m\u001b[0;34m=\u001b[0m\u001b[0;34m\"1-end\"\u001b[0m\u001b[0;34m)\u001b[0m\u001b[0;34m\u001b[0m\u001b[0;34m\u001b[0m\u001b[0m\n\u001b[0m\u001b[1;32m      6\u001b[0m \u001b[0;34m\u001b[0m\u001b[0m\n\u001b[1;32m      7\u001b[0m \u001b[0;31m# tables[3].to_excel(\"rainfall.xlsx\",sheet_name='Sheet2')\u001b[0m\u001b[0;34m\u001b[0m\u001b[0;34m\u001b[0m\u001b[0;34m\u001b[0m\u001b[0m\n",
            "\u001b[0;31mAttributeError\u001b[0m: module 'camelot' has no attribute 'read_pdf'"
          ]
        }
      ]
    },
    {
      "cell_type": "code",
      "metadata": {
        "id": "EM6hxD-msj6w",
        "colab_type": "code",
        "outputId": "251b5cdf-5a32-4408-815d-d8e5eec3fef9",
        "colab": {
          "base_uri": "https://localhost:8080/",
          "height": 241
        }
      },
      "source": [
        "!pip install tabula-py"
      ],
      "execution_count": 0,
      "outputs": [
        {
          "output_type": "stream",
          "text": [
            "Collecting tabula-py\n",
            "\u001b[?25l  Downloading https://files.pythonhosted.org/packages/53/a4/66add528eca00398af98f181772006750019eb9f2d68c7c6fdd53ba661c5/tabula_py-2.1.0-py3-none-any.whl (10.4MB)\n",
            "\u001b[K     |████████████████████████████████| 10.4MB 2.6MB/s \n",
            "\u001b[?25hRequirement already satisfied: pandas>=0.25.3 in /usr/local/lib/python3.6/dist-packages (from tabula-py) (1.0.3)\n",
            "Collecting distro\n",
            "  Downloading https://files.pythonhosted.org/packages/25/b7/b3c4270a11414cb22c6352ebc7a83aaa3712043be29daa05018fd5a5c956/distro-1.5.0-py2.py3-none-any.whl\n",
            "Requirement already satisfied: numpy in /usr/local/lib/python3.6/dist-packages (from tabula-py) (1.18.4)\n",
            "Requirement already satisfied: pytz>=2017.2 in /usr/local/lib/python3.6/dist-packages (from pandas>=0.25.3->tabula-py) (2018.9)\n",
            "Requirement already satisfied: python-dateutil>=2.6.1 in /usr/local/lib/python3.6/dist-packages (from pandas>=0.25.3->tabula-py) (2.8.1)\n",
            "Requirement already satisfied: six>=1.5 in /usr/local/lib/python3.6/dist-packages (from python-dateutil>=2.6.1->pandas>=0.25.3->tabula-py) (1.12.0)\n",
            "Installing collected packages: distro, tabula-py\n",
            "Successfully installed distro-1.5.0 tabula-py-2.1.0\n"
          ],
          "name": "stdout"
        }
      ]
    },
    {
      "cell_type": "code",
      "metadata": {
        "id": "YSJTOAP9uG72",
        "colab_type": "code",
        "outputId": "51cd813c-10f0-4de0-8b54-db5e0fee0bbb",
        "colab": {
          "base_uri": "https://localhost:8080/",
          "height": 1000
        }
      },
      "source": [
        "import tabula\n",
        " \n",
        "file = \"./dR15-08-2019.pdf\"\n",
        " \n",
        "tables = tabula.read_pdf(file, pages = \"all\", multiple_tables = True,pandas_options={'header': None})"
      ],
      "execution_count": 0,
      "outputs": [
        {
          "output_type": "stream",
          "text": [
            "Got stderr: May 26, 2020 6:14:30 AM org.apache.pdfbox.pdmodel.font.PDTrueTypeFont <init>\n",
            "WARNING: Using fallback font 'LiberationSans' for 'TimesNewRomanPSMT'\n",
            "May 26, 2020 6:14:30 AM org.apache.pdfbox.pdmodel.font.PDTrueTypeFont <init>\n",
            "WARNING: Using fallback font 'LiberationSans-Bold' for 'TimesNewRomanPS-BoldItalicMT'\n",
            "May 26, 2020 6:14:30 AM org.apache.pdfbox.pdmodel.font.PDTrueTypeFont <init>\n",
            "WARNING: Using fallback font 'LiberationSans-Bold' for 'TimesNewRomanPS-BoldMT'\n",
            "May 26, 2020 6:14:30 AM org.apache.pdfbox.pdmodel.font.PDCIDFontType2 <init>\n",
            "INFO: OpenType Layout tables used in font TimesNewRomanPS-BoldMT are not implemented in PDFBox and will be ignored\n",
            "May 26, 2020 6:14:32 AM org.apache.pdfbox.pdmodel.font.PDTrueTypeFont <init>\n",
            "WARNING: Using fallback font 'LiberationSans' for 'TimesNewRomanPSMT'\n",
            "May 26, 2020 6:14:32 AM org.apache.pdfbox.pdmodel.font.PDTrueTypeFont <init>\n",
            "WARNING: Using fallback font 'LiberationSans-Bold' for 'TimesNewRomanPS-BoldItalicMT'\n",
            "May 26, 2020 6:14:32 AM org.apache.pdfbox.pdmodel.font.PDTrueTypeFont <init>\n",
            "WARNING: Using fallback font 'LiberationSans-Bold' for 'TimesNewRomanPS-BoldMT'\n",
            "May 26, 2020 6:14:32 AM org.apache.pdfbox.pdmodel.font.PDCIDFontType2 <init>\n",
            "INFO: OpenType Layout tables used in font TimesNewRomanPS-BoldMT are not implemented in PDFBox and will be ignored\n",
            "May 26, 2020 6:14:34 AM org.apache.pdfbox.pdmodel.font.PDTrueTypeFont <init>\n",
            "WARNING: Using fallback font 'LiberationSans' for 'TimesNewRomanPSMT'\n",
            "May 26, 2020 6:14:34 AM org.apache.pdfbox.pdmodel.font.PDTrueTypeFont <init>\n",
            "WARNING: Using fallback font 'LiberationSans-Bold' for 'TimesNewRomanPS-BoldItalicMT'\n",
            "May 26, 2020 6:14:34 AM org.apache.pdfbox.pdmodel.font.PDTrueTypeFont <init>\n",
            "WARNING: Using fallback font 'LiberationSans-Bold' for 'TimesNewRomanPS-BoldMT'\n",
            "May 26, 2020 6:14:34 AM org.apache.pdfbox.pdmodel.font.PDCIDFontType2 <init>\n",
            "INFO: OpenType Layout tables used in font TimesNewRomanPS-BoldMT are not implemented in PDFBox and will be ignored\n",
            "May 26, 2020 6:14:35 AM org.apache.pdfbox.pdmodel.font.PDCIDFontType2 <init>\n",
            "INFO: OpenType Layout tables used in font TimesNewRomanPSMT are not implemented in PDFBox and will be ignored\n",
            "May 26, 2020 6:14:35 AM org.apache.pdfbox.pdmodel.font.PDTrueTypeFont <init>\n",
            "WARNING: Using fallback font 'LiberationSans' for 'TimesNewRomanPSMT'\n",
            "May 26, 2020 6:14:35 AM org.apache.pdfbox.pdmodel.font.PDTrueTypeFont <init>\n",
            "WARNING: Using fallback font 'LiberationSans-Bold' for 'TimesNewRomanPS-BoldItalicMT'\n",
            "May 26, 2020 6:14:35 AM org.apache.pdfbox.pdmodel.font.PDTrueTypeFont <init>\n",
            "WARNING: Using fallback font 'LiberationSans-Bold' for 'TimesNewRomanPS-BoldMT'\n",
            "May 26, 2020 6:14:35 AM org.apache.pdfbox.pdmodel.font.PDCIDFontType2 <init>\n",
            "INFO: OpenType Layout tables used in font TimesNewRomanPS-BoldMT are not implemented in PDFBox and will be ignored\n",
            "May 26, 2020 6:14:35 AM org.apache.pdfbox.pdmodel.font.PDCIDFontType2 <init>\n",
            "INFO: OpenType Layout tables used in font TimesNewRomanPSMT are not implemented in PDFBox and will be ignored\n",
            "May 26, 2020 6:14:36 AM org.apache.pdfbox.pdmodel.font.PDTrueTypeFont <init>\n",
            "WARNING: Using fallback font 'LiberationSans' for 'TimesNewRomanPSMT'\n",
            "May 26, 2020 6:14:36 AM org.apache.pdfbox.pdmodel.font.PDTrueTypeFont <init>\n",
            "WARNING: Using fallback font 'LiberationSans-Bold' for 'TimesNewRomanPS-BoldItalicMT'\n",
            "May 26, 2020 6:14:36 AM org.apache.pdfbox.pdmodel.font.PDTrueTypeFont <init>\n",
            "WARNING: Using fallback font 'LiberationSans-Bold' for 'TimesNewRomanPS-BoldMT'\n",
            "May 26, 2020 6:14:36 AM org.apache.pdfbox.pdmodel.font.PDCIDFontType2 <init>\n",
            "INFO: OpenType Layout tables used in font TimesNewRomanPS-BoldMT are not implemented in PDFBox and will be ignored\n",
            "May 26, 2020 6:14:36 AM org.apache.pdfbox.pdmodel.font.PDCIDFontType2 <init>\n",
            "INFO: OpenType Layout tables used in font TimesNewRomanPSMT are not implemented in PDFBox and will be ignored\n",
            "May 26, 2020 6:14:36 AM org.apache.pdfbox.pdmodel.font.PDTrueTypeFont <init>\n",
            "WARNING: Using fallback font 'LiberationSans' for 'TimesNewRomanPSMT'\n",
            "May 26, 2020 6:14:36 AM org.apache.pdfbox.pdmodel.font.PDTrueTypeFont <init>\n",
            "WARNING: Using fallback font 'LiberationSans-Bold' for 'TimesNewRomanPS-BoldMT'\n",
            "May 26, 2020 6:14:37 AM org.apache.pdfbox.pdmodel.font.PDTrueTypeFont <init>\n",
            "WARNING: Using fallback font 'LiberationSans' for 'TimesNewRomanPSMT'\n",
            "May 26, 2020 6:14:37 AM org.apache.pdfbox.pdmodel.font.PDTrueTypeFont <init>\n",
            "WARNING: Using fallback font 'LiberationSans-Bold' for 'TimesNewRomanPS-BoldMT'\n",
            "May 26, 2020 6:14:37 AM org.apache.pdfbox.pdmodel.font.PDTrueTypeFont <init>\n",
            "WARNING: Using fallback font 'LiberationSans' for 'TimesNewRomanPSMT'\n",
            "May 26, 2020 6:14:37 AM org.apache.pdfbox.pdmodel.font.PDTrueTypeFont <init>\n",
            "WARNING: Using fallback font 'LiberationSans-Bold' for 'TimesNewRomanPS-BoldMT'\n",
            "May 26, 2020 6:14:37 AM org.apache.pdfbox.pdmodel.font.PDTrueTypeFont <init>\n",
            "WARNING: Using fallback font 'LiberationSans' for 'TimesNewRomanPSMT'\n",
            "May 26, 2020 6:14:37 AM org.apache.pdfbox.pdmodel.font.PDTrueTypeFont <init>\n",
            "WARNING: Using fallback font 'LiberationSans-Bold' for 'TimesNewRomanPS-BoldMT'\n",
            "May 26, 2020 6:14:37 AM org.apache.pdfbox.pdmodel.font.PDTrueTypeFont <init>\n",
            "WARNING: Using fallback font 'LiberationSans' for 'TimesNewRomanPSMT'\n",
            "May 26, 2020 6:14:37 AM org.apache.pdfbox.pdmodel.font.PDTrueTypeFont <init>\n",
            "WARNING: Using fallback font 'LiberationSans-Bold' for 'TimesNewRomanPS-BoldMT'\n",
            "May 26, 2020 6:14:38 AM org.apache.pdfbox.pdmodel.font.PDTrueTypeFont <init>\n",
            "WARNING: Using fallback font 'LiberationSans' for 'TimesNewRomanPSMT'\n",
            "May 26, 2020 6:14:38 AM org.apache.pdfbox.pdmodel.font.PDTrueTypeFont <init>\n",
            "WARNING: Using fallback font 'LiberationSans-Bold' for 'TimesNewRomanPS-BoldMT'\n",
            "May 26, 2020 6:14:38 AM org.apache.pdfbox.pdmodel.font.PDTrueTypeFont <init>\n",
            "WARNING: Using fallback font 'LiberationSans' for 'TimesNewRomanPSMT'\n",
            "May 26, 2020 6:14:38 AM org.apache.pdfbox.pdmodel.font.PDTrueTypeFont <init>\n",
            "WARNING: Using fallback font 'LiberationSans-Bold' for 'TimesNewRomanPS-BoldMT'\n",
            "May 26, 2020 6:14:39 AM org.apache.pdfbox.pdmodel.font.PDTrueTypeFont <init>\n",
            "WARNING: Using fallback font 'LiberationSans' for 'TimesNewRomanPSMT'\n",
            "May 26, 2020 6:14:39 AM org.apache.pdfbox.pdmodel.font.PDTrueTypeFont <init>\n",
            "WARNING: Using fallback font 'LiberationSans-Bold' for 'TimesNewRomanPS-BoldMT'\n",
            "May 26, 2020 6:14:39 AM org.apache.pdfbox.pdmodel.font.PDTrueTypeFont <init>\n",
            "WARNING: Using fallback font 'LiberationSans' for 'TimesNewRomanPSMT'\n",
            "May 26, 2020 6:14:39 AM org.apache.pdfbox.pdmodel.font.PDTrueTypeFont <init>\n",
            "WARNING: Using fallback font 'LiberationSans-Bold' for 'TimesNewRomanPS-BoldMT'\n",
            "May 26, 2020 6:14:40 AM org.apache.pdfbox.pdmodel.font.PDTrueTypeFont <init>\n",
            "WARNING: Using fallback font 'LiberationSans' for 'TimesNewRomanPSMT'\n",
            "May 26, 2020 6:14:40 AM org.apache.pdfbox.pdmodel.font.PDTrueTypeFont <init>\n",
            "WARNING: Using fallback font 'LiberationSans-Bold' for 'TimesNewRomanPS-BoldMT'\n",
            "May 26, 2020 6:14:40 AM org.apache.pdfbox.pdmodel.font.PDTrueTypeFont <init>\n",
            "WARNING: Using fallback font 'LiberationSans' for 'TimesNewRomanPSMT'\n",
            "May 26, 2020 6:14:40 AM org.apache.pdfbox.pdmodel.font.PDTrueTypeFont <init>\n",
            "WARNING: Using fallback font 'LiberationSans-Bold' for 'TimesNewRomanPS-BoldMT'\n",
            "May 26, 2020 6:14:40 AM org.apache.pdfbox.pdmodel.font.PDTrueTypeFont <init>\n",
            "WARNING: Using fallback font 'LiberationSans' for 'TimesNewRomanPSMT'\n",
            "May 26, 2020 6:14:40 AM org.apache.pdfbox.pdmodel.font.PDTrueTypeFont <init>\n",
            "WARNING: Using fallback font 'LiberationSans-Bold' for 'TimesNewRomanPS-BoldMT'\n",
            "May 26, 2020 6:14:41 AM org.apache.pdfbox.pdmodel.font.PDTrueTypeFont <init>\n",
            "WARNING: Using fallback font 'LiberationSans' for 'TimesNewRomanPSMT'\n",
            "May 26, 2020 6:14:41 AM org.apache.pdfbox.pdmodel.font.PDTrueTypeFont <init>\n",
            "WARNING: Using fallback font 'LiberationSans-Bold' for 'TimesNewRomanPS-BoldMT'\n",
            "May 26, 2020 6:14:41 AM org.apache.pdfbox.pdmodel.font.PDTrueTypeFont <init>\n",
            "WARNING: Using fallback font 'LiberationSans' for 'TimesNewRomanPSMT'\n",
            "May 26, 2020 6:14:41 AM org.apache.pdfbox.pdmodel.font.PDTrueTypeFont <init>\n",
            "WARNING: Using fallback font 'LiberationSans-Bold' for 'TimesNewRomanPS-BoldMT'\n",
            "May 26, 2020 6:14:42 AM org.apache.pdfbox.pdmodel.font.PDTrueTypeFont <init>\n",
            "WARNING: Using fallback font 'LiberationSans' for 'TimesNewRomanPSMT'\n",
            "May 26, 2020 6:14:42 AM org.apache.pdfbox.pdmodel.font.PDTrueTypeFont <init>\n",
            "WARNING: Using fallback font 'LiberationSans-Bold' for 'TimesNewRomanPS-BoldMT'\n",
            "May 26, 2020 6:14:42 AM org.apache.pdfbox.pdmodel.font.PDTrueTypeFont <init>\n",
            "WARNING: Using fallback font 'LiberationSans' for 'TimesNewRomanPSMT'\n",
            "May 26, 2020 6:14:42 AM org.apache.pdfbox.pdmodel.font.PDTrueTypeFont <init>\n",
            "WARNING: Using fallback font 'LiberationSans-Bold' for 'TimesNewRomanPS-BoldMT'\n",
            "May 26, 2020 6:14:43 AM org.apache.pdfbox.pdmodel.font.PDTrueTypeFont <init>\n",
            "WARNING: Using fallback font 'LiberationSans' for 'TimesNewRomanPSMT'\n",
            "May 26, 2020 6:14:43 AM org.apache.pdfbox.pdmodel.font.PDTrueTypeFont <init>\n",
            "WARNING: Using fallback font 'LiberationSans-Bold' for 'TimesNewRomanPS-BoldMT'\n",
            "May 26, 2020 6:14:43 AM org.apache.pdfbox.pdmodel.font.PDTrueTypeFont <init>\n",
            "WARNING: Using fallback font 'LiberationSans' for 'TimesNewRomanPSMT'\n",
            "May 26, 2020 6:14:43 AM org.apache.pdfbox.pdmodel.font.PDTrueTypeFont <init>\n",
            "WARNING: Using fallback font 'LiberationSans-Bold' for 'TimesNewRomanPS-BoldMT'\n",
            "May 26, 2020 6:14:44 AM org.apache.pdfbox.pdmodel.font.PDTrueTypeFont <init>\n",
            "WARNING: Using fallback font 'LiberationSans' for 'TimesNewRomanPSMT'\n",
            "May 26, 2020 6:14:44 AM org.apache.pdfbox.pdmodel.font.PDTrueTypeFont <init>\n",
            "WARNING: Using fallback font 'LiberationSans-Bold' for 'TimesNewRomanPS-BoldMT'\n",
            "May 26, 2020 6:14:44 AM org.apache.pdfbox.pdmodel.font.PDTrueTypeFont <init>\n",
            "WARNING: Using fallback font 'LiberationSans' for 'TimesNewRomanPSMT'\n",
            "May 26, 2020 6:14:44 AM org.apache.pdfbox.pdmodel.font.PDTrueTypeFont <init>\n",
            "WARNING: Using fallback font 'LiberationSans-Bold' for 'TimesNewRomanPS-BoldMT'\n",
            "May 26, 2020 6:14:45 AM org.apache.pdfbox.pdmodel.font.PDTrueTypeFont <init>\n",
            "WARNING: Using fallback font 'LiberationSans' for 'TimesNewRomanPSMT'\n",
            "May 26, 2020 6:14:45 AM org.apache.pdfbox.pdmodel.font.PDTrueTypeFont <init>\n",
            "WARNING: Using fallback font 'LiberationSans-Bold' for 'TimesNewRomanPS-BoldMT'\n",
            "May 26, 2020 6:14:45 AM org.apache.pdfbox.pdmodel.font.PDTrueTypeFont <init>\n",
            "WARNING: Using fallback font 'LiberationSans' for 'TimesNewRomanPSMT'\n",
            "May 26, 2020 6:14:45 AM org.apache.pdfbox.pdmodel.font.PDTrueTypeFont <init>\n",
            "WARNING: Using fallback font 'LiberationSans-Bold' for 'TimesNewRomanPS-BoldMT'\n",
            "May 26, 2020 6:14:45 AM org.apache.pdfbox.pdmodel.font.PDTrueTypeFont <init>\n",
            "WARNING: Using fallback font 'LiberationSans' for 'TimesNewRomanPSMT'\n",
            "May 26, 2020 6:14:45 AM org.apache.pdfbox.pdmodel.font.PDTrueTypeFont <init>\n",
            "WARNING: Using fallback font 'LiberationSans-Bold' for 'TimesNewRomanPS-BoldMT'\n",
            "May 26, 2020 6:14:46 AM org.apache.pdfbox.pdmodel.font.PDTrueTypeFont <init>\n",
            "WARNING: Using fallback font 'LiberationSans' for 'TimesNewRomanPSMT'\n",
            "May 26, 2020 6:14:46 AM org.apache.pdfbox.pdmodel.font.PDTrueTypeFont <init>\n",
            "WARNING: Using fallback font 'LiberationSans-Bold' for 'TimesNewRomanPS-BoldMT'\n",
            "May 26, 2020 6:14:46 AM org.apache.pdfbox.pdmodel.font.PDTrueTypeFont <init>\n",
            "WARNING: Using fallback font 'LiberationSans' for 'TimesNewRomanPSMT'\n",
            "May 26, 2020 6:14:46 AM org.apache.pdfbox.pdmodel.font.PDTrueTypeFont <init>\n",
            "WARNING: Using fallback font 'LiberationSans-Bold' for 'TimesNewRomanPS-BoldMT'\n",
            "May 26, 2020 6:14:46 AM org.apache.pdfbox.pdmodel.font.PDTrueTypeFont <init>\n",
            "WARNING: Using fallback font 'LiberationSans-Bold' for 'TimesNewRomanPS-BoldItalicMT'\n",
            "May 26, 2020 6:14:46 AM org.apache.pdfbox.pdmodel.font.PDCIDFontType2 <init>\n",
            "INFO: OpenType Layout tables used in font TimesNewRomanPS-BoldMT are not implemented in PDFBox and will be ignored\n",
            "May 26, 2020 6:14:47 AM org.apache.pdfbox.pdmodel.font.PDTrueTypeFont <init>\n",
            "WARNING: Using fallback font 'LiberationSans' for 'TimesNewRomanPSMT'\n",
            "May 26, 2020 6:14:47 AM org.apache.pdfbox.pdmodel.font.PDTrueTypeFont <init>\n",
            "WARNING: Using fallback font 'LiberationSans-Bold' for 'TimesNewRomanPS-BoldMT'\n",
            "May 26, 2020 6:14:47 AM org.apache.pdfbox.pdmodel.font.PDTrueTypeFont <init>\n",
            "WARNING: Using fallback font 'LiberationSans-Bold' for 'TimesNewRomanPS-BoldItalicMT'\n",
            "May 26, 2020 6:14:47 AM org.apache.pdfbox.pdmodel.font.PDCIDFontType2 <init>\n",
            "INFO: OpenType Layout tables used in font TimesNewRomanPS-BoldMT are not implemented in PDFBox and will be ignored\n",
            "May 26, 2020 6:14:47 AM org.apache.pdfbox.pdmodel.font.PDTrueTypeFont <init>\n",
            "WARNING: Using fallback font 'LiberationSans' for 'TimesNewRomanPSMT'\n",
            "May 26, 2020 6:14:47 AM org.apache.pdfbox.pdmodel.font.PDTrueTypeFont <init>\n",
            "WARNING: Using fallback font 'LiberationSans-Bold' for 'TimesNewRomanPS-BoldItalicMT'\n",
            "May 26, 2020 6:14:47 AM org.apache.pdfbox.pdmodel.font.PDTrueTypeFont <init>\n",
            "WARNING: Using fallback font 'LiberationSans' for 'TimesNewRomanPSMT'\n",
            "May 26, 2020 6:14:47 AM org.apache.pdfbox.pdmodel.font.PDTrueTypeFont <init>\n",
            "WARNING: Using fallback font 'LiberationSans-Bold' for 'TimesNewRomanPS-BoldItalicMT'\n",
            "May 26, 2020 6:14:47 AM org.apache.pdfbox.pdmodel.font.PDTrueTypeFont <init>\n",
            "WARNING: Using fallback font 'LiberationSans' for 'TimesNewRomanPSMT'\n",
            "May 26, 2020 6:14:47 AM org.apache.pdfbox.pdmodel.font.PDTrueTypeFont <init>\n",
            "WARNING: Using fallback font 'LiberationSans-Bold' for 'TimesNewRomanPS-BoldItalicMT'\n",
            "May 26, 2020 6:14:48 AM org.apache.pdfbox.pdmodel.font.PDTrueTypeFont <init>\n",
            "WARNING: Using fallback font 'LiberationSans' for 'TimesNewRomanPSMT'\n",
            "May 26, 2020 6:14:48 AM org.apache.pdfbox.pdmodel.font.PDTrueTypeFont <init>\n",
            "WARNING: Using fallback font 'LiberationSans-Bold' for 'TimesNewRomanPS-BoldItalicMT'\n",
            "May 26, 2020 6:14:48 AM org.apache.pdfbox.pdmodel.font.PDTrueTypeFont <init>\n",
            "WARNING: Using fallback font 'LiberationSans' for 'TimesNewRomanPSMT'\n",
            "May 26, 2020 6:14:48 AM org.apache.pdfbox.pdmodel.font.PDTrueTypeFont <init>\n",
            "WARNING: Using fallback font 'LiberationSans-Bold' for 'TimesNewRomanPS-BoldItalicMT'\n",
            "May 26, 2020 6:14:48 AM org.apache.pdfbox.pdmodel.font.PDTrueTypeFont <init>\n",
            "WARNING: Using fallback font 'LiberationSans' for 'TimesNewRomanPSMT'\n",
            "May 26, 2020 6:14:48 AM org.apache.pdfbox.pdmodel.font.PDTrueTypeFont <init>\n",
            "WARNING: Using fallback font 'LiberationSans-Bold' for 'TimesNewRomanPS-BoldItalicMT'\n",
            "May 26, 2020 6:14:49 AM org.apache.pdfbox.pdmodel.font.PDTrueTypeFont <init>\n",
            "WARNING: Using fallback font 'LiberationSans' for 'TimesNewRomanPSMT'\n",
            "May 26, 2020 6:14:49 AM org.apache.pdfbox.pdmodel.font.PDTrueTypeFont <init>\n",
            "WARNING: Using fallback font 'LiberationSans-Bold' for 'TimesNewRomanPS-BoldItalicMT'\n",
            "May 26, 2020 6:14:49 AM org.apache.pdfbox.pdmodel.font.PDTrueTypeFont <init>\n",
            "WARNING: Using fallback font 'LiberationSans-Bold' for 'TimesNewRomanPS-BoldMT'\n",
            "May 26, 2020 6:14:49 AM org.apache.pdfbox.pdmodel.font.PDTrueTypeFont <init>\n",
            "WARNING: Using fallback font 'LiberationSans' for 'TimesNewRomanPSMT'\n",
            "May 26, 2020 6:14:49 AM org.apache.pdfbox.pdmodel.font.PDTrueTypeFont <init>\n",
            "WARNING: Using fallback font 'LiberationSans-Bold' for 'TimesNewRomanPS-BoldItalicMT'\n",
            "May 26, 2020 6:14:49 AM org.apache.pdfbox.pdmodel.font.PDTrueTypeFont <init>\n",
            "WARNING: Using fallback font 'LiberationSans-Bold' for 'TimesNewRomanPS-BoldMT'\n",
            "May 26, 2020 6:14:49 AM org.apache.pdfbox.pdmodel.font.PDTrueTypeFont <init>\n",
            "WARNING: Using fallback font 'LiberationSans' for 'TimesNewRomanPSMT'\n",
            "May 26, 2020 6:14:50 AM org.apache.pdfbox.pdmodel.font.PDTrueTypeFont <init>\n",
            "WARNING: Using fallback font 'LiberationSans' for 'TimesNewRomanPSMT'\n",
            "May 26, 2020 6:14:50 AM org.apache.pdfbox.pdmodel.font.PDTrueTypeFont <init>\n",
            "WARNING: Using fallback font 'LiberationSans' for 'TimesNewRomanPSMT'\n",
            "May 26, 2020 6:14:50 AM org.apache.pdfbox.pdmodel.font.PDTrueTypeFont <init>\n",
            "WARNING: Using fallback font 'LiberationSans' for 'TimesNewRomanPSMT'\n",
            "May 26, 2020 6:14:50 AM org.apache.pdfbox.pdmodel.font.PDTrueTypeFont <init>\n",
            "WARNING: Using fallback font 'LiberationSans' for 'TimesNewRomanPSMT'\n",
            "May 26, 2020 6:14:51 AM org.apache.pdfbox.pdmodel.font.PDTrueTypeFont <init>\n",
            "WARNING: Using fallback font 'LiberationSans' for 'TimesNewRomanPSMT'\n",
            "May 26, 2020 6:14:51 AM org.apache.pdfbox.pdmodel.font.PDTrueTypeFont <init>\n",
            "WARNING: Using fallback font 'LiberationSans' for 'TimesNewRomanPSMT'\n",
            "May 26, 2020 6:14:51 AM org.apache.pdfbox.pdmodel.font.PDTrueTypeFont <init>\n",
            "WARNING: Using fallback font 'LiberationSans-Bold' for 'TimesNewRomanPS-BoldMT'\n",
            "May 26, 2020 6:14:51 AM org.apache.pdfbox.pdmodel.font.PDTrueTypeFont <init>\n",
            "WARNING: Using fallback font 'LiberationSans' for 'TimesNewRomanPSMT'\n",
            "May 26, 2020 6:14:51 AM org.apache.pdfbox.pdmodel.font.PDTrueTypeFont <init>\n",
            "WARNING: Using fallback font 'LiberationSans-Bold' for 'TimesNewRomanPS-BoldMT'\n",
            "May 26, 2020 6:14:52 AM org.apache.pdfbox.pdmodel.font.PDTrueTypeFont <init>\n",
            "WARNING: Using fallback font 'LiberationSans' for 'TimesNewRomanPSMT'\n",
            "May 26, 2020 6:14:52 AM org.apache.pdfbox.pdmodel.font.PDTrueTypeFont <init>\n",
            "WARNING: Using fallback font 'LiberationSans-Bold' for 'TimesNewRomanPS-BoldMT'\n",
            "May 26, 2020 6:14:52 AM org.apache.pdfbox.pdmodel.font.PDTrueTypeFont <init>\n",
            "WARNING: Using fallback font 'LiberationSans' for 'TimesNewRomanPSMT'\n",
            "May 26, 2020 6:14:52 AM org.apache.pdfbox.pdmodel.font.PDTrueTypeFont <init>\n",
            "WARNING: Using fallback font 'LiberationSans-Bold' for 'TimesNewRomanPS-BoldMT'\n",
            "May 26, 2020 6:14:52 AM org.apache.pdfbox.pdmodel.font.PDTrueTypeFont <init>\n",
            "WARNING: Using fallback font 'LiberationSans' for 'TimesNewRomanPSMT'\n",
            "May 26, 2020 6:14:53 AM org.apache.pdfbox.pdmodel.font.PDTrueTypeFont <init>\n",
            "WARNING: Using fallback font 'LiberationSans' for 'TimesNewRomanPSMT'\n",
            "May 26, 2020 6:14:53 AM org.apache.pdfbox.pdmodel.font.PDTrueTypeFont <init>\n",
            "WARNING: Using fallback font 'LiberationSans' for 'TimesNewRomanPSMT'\n",
            "May 26, 2020 6:14:53 AM org.apache.pdfbox.pdmodel.font.PDTrueTypeFont <init>\n",
            "WARNING: Using fallback font 'LiberationSans' for 'TimesNewRomanPSMT'\n",
            "May 26, 2020 6:14:54 AM org.apache.pdfbox.pdmodel.font.PDTrueTypeFont <init>\n",
            "WARNING: Using fallback font 'LiberationSans' for 'TimesNewRomanPSMT'\n",
            "May 26, 2020 6:14:54 AM org.apache.pdfbox.pdmodel.font.PDTrueTypeFont <init>\n",
            "WARNING: Using fallback font 'LiberationSans' for 'TimesNewRomanPSMT'\n",
            "May 26, 2020 6:14:54 AM org.apache.pdfbox.pdmodel.font.PDTrueTypeFont <init>\n",
            "WARNING: Using fallback font 'LiberationSans' for 'TimesNewRomanPSMT'\n",
            "May 26, 2020 6:14:54 AM org.apache.pdfbox.pdmodel.font.PDTrueTypeFont <init>\n",
            "WARNING: Using fallback font 'LiberationSans-Bold' for 'TimesNewRomanPS-BoldMT'\n",
            "May 26, 2020 6:14:55 AM org.apache.pdfbox.pdmodel.font.PDTrueTypeFont <init>\n",
            "WARNING: Using fallback font 'LiberationSans' for 'TimesNewRomanPSMT'\n",
            "May 26, 2020 6:14:55 AM org.apache.pdfbox.pdmodel.font.PDTrueTypeFont <init>\n",
            "WARNING: Using fallback font 'LiberationSans-Bold' for 'TimesNewRomanPS-BoldMT'\n",
            "May 26, 2020 6:14:55 AM org.apache.pdfbox.pdmodel.font.PDTrueTypeFont <init>\n",
            "WARNING: Using fallback font 'LiberationSans' for 'TimesNewRomanPSMT'\n",
            "May 26, 2020 6:14:55 AM org.apache.pdfbox.pdmodel.font.PDTrueTypeFont <init>\n",
            "WARNING: Using fallback font 'LiberationSans-Bold' for 'TimesNewRomanPS-BoldMT'\n",
            "May 26, 2020 6:14:55 AM org.apache.pdfbox.pdmodel.font.PDCIDFontType2 <init>\n",
            "INFO: OpenType Layout tables used in font TimesNewRomanPS-BoldMT are not implemented in PDFBox and will be ignored\n",
            "May 26, 2020 6:14:56 AM org.apache.pdfbox.pdmodel.font.PDTrueTypeFont <init>\n",
            "WARNING: Using fallback font 'LiberationSans' for 'TimesNewRomanPSMT'\n",
            "May 26, 2020 6:14:56 AM org.apache.pdfbox.pdmodel.font.PDTrueTypeFont <init>\n",
            "WARNING: Using fallback font 'LiberationSans-Bold' for 'TimesNewRomanPS-BoldMT'\n",
            "May 26, 2020 6:14:56 AM org.apache.pdfbox.pdmodel.font.PDCIDFontType2 <init>\n",
            "INFO: OpenType Layout tables used in font TimesNewRomanPS-BoldMT are not implemented in PDFBox and will be ignored\n",
            "\n"
          ],
          "name": "stderr"
        }
      ]
    },
    {
      "cell_type": "code",
      "metadata": {
        "id": "yZAonEO2vb5x",
        "colab_type": "code",
        "outputId": "e3a62f5c-1a9e-4903-b9fe-a12fcc7364ee",
        "colab": {
          "base_uri": "https://localhost:8080/",
          "height": 34
        }
      },
      "source": [
        "len(tables)"
      ],
      "execution_count": 0,
      "outputs": [
        {
          "output_type": "execute_result",
          "data": {
            "text/plain": [
              "10"
            ]
          },
          "metadata": {
            "tags": []
          },
          "execution_count": 11
        }
      ]
    },
    {
      "cell_type": "code",
      "metadata": {
        "id": "HipBki-MvqeP",
        "colab_type": "code",
        "colab": {}
      },
      "source": [
        "import pandas as pd\n",
        "import numpy as np\n",
        "x=tables[len(tables)-1]\n",
        "y = pd.DataFrame()"
      ],
      "execution_count": 0,
      "outputs": []
    },
    {
      "cell_type": "code",
      "metadata": {
        "id": "_3m3IpjovyaV",
        "colab_type": "code",
        "colab": {}
      },
      "source": [
        "df=x\n",
        "df=df.drop(df.index[0:11])"
      ],
      "execution_count": 0,
      "outputs": []
    },
    {
      "cell_type": "code",
      "metadata": {
        "id": "BxKdWvJl9stB",
        "colab_type": "code",
        "outputId": "16cc516b-a698-4544-cd55-ef84a836a341",
        "colab": {
          "base_uri": "https://localhost:8080/",
          "height": 855
        }
      },
      "source": [
        "df"
      ],
      "execution_count": 0,
      "outputs": [
        {
          "output_type": "execute_result",
          "data": {
            "text/html": [
              "<div>\n",
              "<style scoped>\n",
              "    .dataframe tbody tr th:only-of-type {\n",
              "        vertical-align: middle;\n",
              "    }\n",
              "\n",
              "    .dataframe tbody tr th {\n",
              "        vertical-align: top;\n",
              "    }\n",
              "\n",
              "    .dataframe thead th {\n",
              "        text-align: right;\n",
              "    }\n",
              "</style>\n",
              "<table border=\"1\" class=\"dataframe\">\n",
              "  <thead>\n",
              "    <tr style=\"text-align: right;\">\n",
              "      <th></th>\n",
              "      <th>0</th>\n",
              "      <th>1</th>\n",
              "      <th>2</th>\n",
              "      <th>3</th>\n",
              "    </tr>\n",
              "  </thead>\n",
              "  <tbody>\n",
              "    <tr>\n",
              "      <th>11</th>\n",
              "      <td>1</td>\n",
              "      <td>Linganamakki</td>\n",
              "      <td>NaN</td>\n",
              "      <td>NaN</td>\n",
              "    </tr>\n",
              "    <tr>\n",
              "      <th>12</th>\n",
              "      <td>NaN</td>\n",
              "      <td>NaN</td>\n",
              "      <td>1819.00 1812.80 1815.35 -6.20 151.75 131.75 13...</td>\n",
              "      <td>14970</td>\n",
              "    </tr>\n",
              "    <tr>\n",
              "      <th>13</th>\n",
              "      <td>2</td>\n",
              "      <td>Supa</td>\n",
              "      <td>NaN</td>\n",
              "      <td>NaN</td>\n",
              "    </tr>\n",
              "    <tr>\n",
              "      <th>14</th>\n",
              "      <td>NaN</td>\n",
              "      <td>NaN</td>\n",
              "      <td>1849.92 1840.50 1826.66 -9.42 145.33 134.64 11...</td>\n",
              "      <td>6536</td>\n",
              "    </tr>\n",
              "    <tr>\n",
              "      <th>15</th>\n",
              "      <td>3</td>\n",
              "      <td>Varahi</td>\n",
              "      <td>NaN</td>\n",
              "      <td>NaN</td>\n",
              "    </tr>\n",
              "    <tr>\n",
              "      <th>16</th>\n",
              "      <td>NaN</td>\n",
              "      <td>NaN</td>\n",
              "      <td>1949.50 1921.56 1941.76 -27.95 31.10 16.89 26....</td>\n",
              "      <td>4034</td>\n",
              "    </tr>\n",
              "    <tr>\n",
              "      <th>17</th>\n",
              "      <td>4</td>\n",
              "      <td>Harangi</td>\n",
              "      <td>NaN</td>\n",
              "      <td>NaN</td>\n",
              "    </tr>\n",
              "    <tr>\n",
              "      <th>18</th>\n",
              "      <td>NaN</td>\n",
              "      <td>NaN</td>\n",
              "      <td>2859.00 2857.87 2856.54 -1.13 8.07 7.69 7.24 9...</td>\n",
              "      <td>7523</td>\n",
              "    </tr>\n",
              "    <tr>\n",
              "      <th>19</th>\n",
              "      <td>5</td>\n",
              "      <td>Hemavathi</td>\n",
              "      <td>NaN</td>\n",
              "      <td>NaN</td>\n",
              "    </tr>\n",
              "    <tr>\n",
              "      <th>20</th>\n",
              "      <td>NaN</td>\n",
              "      <td>NaN</td>\n",
              "      <td>2922.00 2921.55 2919.82 -0.45 35.76 35.33 33.6...</td>\n",
              "      <td>25698</td>\n",
              "    </tr>\n",
              "    <tr>\n",
              "      <th>21</th>\n",
              "      <td>6</td>\n",
              "      <td>K.R.S.</td>\n",
              "      <td>NaN</td>\n",
              "      <td>NaN</td>\n",
              "    </tr>\n",
              "    <tr>\n",
              "      <th>22</th>\n",
              "      <td>NaN</td>\n",
              "      <td>NaN</td>\n",
              "      <td>124.80 124.80 121.43 0.00 45.05 45.05 40.48 10...</td>\n",
              "      <td>41512</td>\n",
              "    </tr>\n",
              "    <tr>\n",
              "      <th>23</th>\n",
              "      <td>7</td>\n",
              "      <td>Kabini</td>\n",
              "      <td>NaN</td>\n",
              "      <td>NaN</td>\n",
              "    </tr>\n",
              "    <tr>\n",
              "      <th>24</th>\n",
              "      <td>NaN</td>\n",
              "      <td>NaN</td>\n",
              "      <td>2284.00 2282.81 2278.02 -1.19 15.67 14.90 12.0...</td>\n",
              "      <td>46240</td>\n",
              "    </tr>\n",
              "    <tr>\n",
              "      <th>25</th>\n",
              "      <td>8</td>\n",
              "      <td>Bhadra</td>\n",
              "      <td>NaN</td>\n",
              "      <td>NaN</td>\n",
              "    </tr>\n",
              "    <tr>\n",
              "      <th>26</th>\n",
              "      <td>NaN</td>\n",
              "      <td>NaN</td>\n",
              "      <td>2158.00 2154.93 2156.00 -3.07 63.04 59.23 60.5...</td>\n",
              "      <td>3223</td>\n",
              "    </tr>\n",
              "    <tr>\n",
              "      <th>27</th>\n",
              "      <td>9</td>\n",
              "      <td>Tungabhadra</td>\n",
              "      <td>NaN</td>\n",
              "      <td>NaN</td>\n",
              "    </tr>\n",
              "    <tr>\n",
              "      <th>28</th>\n",
              "      <td>NaN</td>\n",
              "      <td>NaN</td>\n",
              "      <td>1633.00 1633.00 1631.63 0.00 100.86 92.36 87.1...</td>\n",
              "      <td>58785</td>\n",
              "    </tr>\n",
              "    <tr>\n",
              "      <th>29</th>\n",
              "      <td>10</td>\n",
              "      <td>Ghataprabha</td>\n",
              "      <td>NaN</td>\n",
              "      <td>NaN</td>\n",
              "    </tr>\n",
              "    <tr>\n",
              "      <th>30</th>\n",
              "      <td>NaN</td>\n",
              "      <td>NaN</td>\n",
              "      <td>2175.00 2175.00 2175.00 0.00 48.98 42.50 42.50...</td>\n",
              "      <td>52788</td>\n",
              "    </tr>\n",
              "    <tr>\n",
              "      <th>31</th>\n",
              "      <td>11</td>\n",
              "      <td>Malaprabha</td>\n",
              "      <td>NaN</td>\n",
              "      <td>NaN</td>\n",
              "    </tr>\n",
              "    <tr>\n",
              "      <th>32</th>\n",
              "      <td>NaN</td>\n",
              "      <td>NaN</td>\n",
              "      <td>2079.50 2078.10 2065.02 -1.40 34.35 27.30 12.4...</td>\n",
              "      <td>27325</td>\n",
              "    </tr>\n",
              "    <tr>\n",
              "      <th>33</th>\n",
              "      <td>12</td>\n",
              "      <td>Almatti</td>\n",
              "      <td>NaN</td>\n",
              "      <td>NaN</td>\n",
              "    </tr>\n",
              "    <tr>\n",
              "      <th>34</th>\n",
              "      <td>NaN</td>\n",
              "      <td>NaN</td>\n",
              "      <td>1704.81 1700.94 1704.74 -3.87 119.26 95.42 114...</td>\n",
              "      <td>545638</td>\n",
              "    </tr>\n",
              "    <tr>\n",
              "      <th>35</th>\n",
              "      <td>13</td>\n",
              "      <td>Narayanapura</td>\n",
              "      <td>NaN</td>\n",
              "      <td>NaN</td>\n",
              "    </tr>\n",
              "    <tr>\n",
              "      <th>36</th>\n",
              "      <td>NaN</td>\n",
              "      <td>NaN</td>\n",
              "      <td>1615.00 1605.72 1614.12 -9.28 26.14 13.36 23.4...</td>\n",
              "      <td>571745</td>\n",
              "    </tr>\n",
              "  </tbody>\n",
              "</table>\n",
              "</div>"
            ],
            "text/plain": [
              "      0  ...       3\n",
              "11    1  ...     NaN\n",
              "12  NaN  ...   14970\n",
              "13    2  ...     NaN\n",
              "14  NaN  ...    6536\n",
              "15    3  ...     NaN\n",
              "16  NaN  ...    4034\n",
              "17    4  ...     NaN\n",
              "18  NaN  ...    7523\n",
              "19    5  ...     NaN\n",
              "20  NaN  ...   25698\n",
              "21    6  ...     NaN\n",
              "22  NaN  ...   41512\n",
              "23    7  ...     NaN\n",
              "24  NaN  ...   46240\n",
              "25    8  ...     NaN\n",
              "26  NaN  ...    3223\n",
              "27    9  ...     NaN\n",
              "28  NaN  ...   58785\n",
              "29   10  ...     NaN\n",
              "30  NaN  ...   52788\n",
              "31   11  ...     NaN\n",
              "32  NaN  ...   27325\n",
              "33   12  ...     NaN\n",
              "34  NaN  ...  545638\n",
              "35   13  ...     NaN\n",
              "36  NaN  ...  571745\n",
              "\n",
              "[26 rows x 4 columns]"
            ]
          },
          "metadata": {
            "tags": []
          },
          "execution_count": 15
        }
      ]
    },
    {
      "cell_type": "code",
      "metadata": {
        "id": "Fxua3J8r7Nxs",
        "colab_type": "code",
        "outputId": "c42446d7-48fc-40dd-c60d-186847be6234",
        "colab": {
          "base_uri": "https://localhost:8080/",
          "height": 49
        }
      },
      "source": [
        "df[1::2].drop(columns=[0,1],axis=1)\n",
        "df[::2].drop(columns=[0,2,3],axis=1)\n",
        "fr=[df[::2].drop(columns=[0,2,3],axis=1),df[1::2].drop(columns=[0,1],axis=1)]\n",
        "pd.merge(left=df[::2].drop(columns=[0,2,3],axis=1), right=df[1::2].drop(columns=[0,1],axis=1), left_index=True,right_index=True)"
      ],
      "execution_count": 0,
      "outputs": [
        {
          "output_type": "execute_result",
          "data": {
            "text/html": [
              "<div>\n",
              "<style scoped>\n",
              "    .dataframe tbody tr th:only-of-type {\n",
              "        vertical-align: middle;\n",
              "    }\n",
              "\n",
              "    .dataframe tbody tr th {\n",
              "        vertical-align: top;\n",
              "    }\n",
              "\n",
              "    .dataframe thead th {\n",
              "        text-align: right;\n",
              "    }\n",
              "</style>\n",
              "<table border=\"1\" class=\"dataframe\">\n",
              "  <thead>\n",
              "    <tr style=\"text-align: right;\">\n",
              "      <th></th>\n",
              "      <th>1</th>\n",
              "      <th>2</th>\n",
              "      <th>3</th>\n",
              "    </tr>\n",
              "  </thead>\n",
              "  <tbody>\n",
              "  </tbody>\n",
              "</table>\n",
              "</div>"
            ],
            "text/plain": [
              "Empty DataFrame\n",
              "Columns: [1, 2, 3]\n",
              "Index: []"
            ]
          },
          "metadata": {
            "tags": []
          },
          "execution_count": 16
        }
      ]
    },
    {
      "cell_type": "code",
      "metadata": {
        "id": "MDETZvL_8JEm",
        "colab_type": "code",
        "colab": {}
      },
      "source": [
        "left=df[::2].drop(columns=[0,2,3],axis=1)\n",
        "right= df[1::2].drop(columns=[0,1],axis=1)"
      ],
      "execution_count": 0,
      "outputs": []
    },
    {
      "cell_type": "code",
      "metadata": {
        "id": "ZUqXPxgHAjtZ",
        "colab_type": "code",
        "outputId": "f07e5761-999a-4462-ffe6-a7adb2322ff3",
        "colab": {
          "base_uri": "https://localhost:8080/",
          "height": 204
        }
      },
      "source": [
        "left.head()"
      ],
      "execution_count": 0,
      "outputs": [
        {
          "output_type": "execute_result",
          "data": {
            "text/html": [
              "<div>\n",
              "<style scoped>\n",
              "    .dataframe tbody tr th:only-of-type {\n",
              "        vertical-align: middle;\n",
              "    }\n",
              "\n",
              "    .dataframe tbody tr th {\n",
              "        vertical-align: top;\n",
              "    }\n",
              "\n",
              "    .dataframe thead th {\n",
              "        text-align: right;\n",
              "    }\n",
              "</style>\n",
              "<table border=\"1\" class=\"dataframe\">\n",
              "  <thead>\n",
              "    <tr style=\"text-align: right;\">\n",
              "      <th></th>\n",
              "      <th>1</th>\n",
              "    </tr>\n",
              "  </thead>\n",
              "  <tbody>\n",
              "    <tr>\n",
              "      <th>11</th>\n",
              "      <td>Linganamakki</td>\n",
              "    </tr>\n",
              "    <tr>\n",
              "      <th>13</th>\n",
              "      <td>Supa</td>\n",
              "    </tr>\n",
              "    <tr>\n",
              "      <th>15</th>\n",
              "      <td>Varahi</td>\n",
              "    </tr>\n",
              "    <tr>\n",
              "      <th>17</th>\n",
              "      <td>Harangi</td>\n",
              "    </tr>\n",
              "    <tr>\n",
              "      <th>19</th>\n",
              "      <td>Hemavathi</td>\n",
              "    </tr>\n",
              "  </tbody>\n",
              "</table>\n",
              "</div>"
            ],
            "text/plain": [
              "               1\n",
              "11  Linganamakki\n",
              "13          Supa\n",
              "15        Varahi\n",
              "17       Harangi\n",
              "19     Hemavathi"
            ]
          },
          "metadata": {
            "tags": []
          },
          "execution_count": 18
        }
      ]
    },
    {
      "cell_type": "code",
      "metadata": {
        "id": "mVFg1Hs4AoMl",
        "colab_type": "code",
        "colab": {}
      },
      "source": [
        "left['2']=right.iloc[:,1]"
      ],
      "execution_count": 0,
      "outputs": []
    },
    {
      "cell_type": "code",
      "metadata": {
        "id": "GyGd97nLAp-a",
        "colab_type": "code",
        "colab": {}
      },
      "source": [
        "left['3']=right[3]"
      ],
      "execution_count": 0,
      "outputs": []
    },
    {
      "cell_type": "code",
      "metadata": {
        "id": "bHd8dCOrAzq2",
        "colab_type": "code",
        "outputId": "48f4bb1a-af02-4782-f19a-79fea341a37b",
        "colab": {
          "base_uri": "https://localhost:8080/",
          "height": 255
        }
      },
      "source": [
        "right.iloc[:,1]"
      ],
      "execution_count": 0,
      "outputs": [
        {
          "output_type": "execute_result",
          "data": {
            "text/plain": [
              "12     14970\n",
              "14      6536\n",
              "16      4034\n",
              "18      7523\n",
              "20     25698\n",
              "22     41512\n",
              "24     46240\n",
              "26      3223\n",
              "28     58785\n",
              "30     52788\n",
              "32     27325\n",
              "34    545638\n",
              "36    571745\n",
              "Name: 3, dtype: object"
            ]
          },
          "metadata": {
            "tags": []
          },
          "execution_count": 21
        }
      ]
    },
    {
      "cell_type": "code",
      "metadata": {
        "id": "6JcY_s5rA01W",
        "colab_type": "code",
        "outputId": "463ac766-d3d8-4a16-e675-370ffac6ccbb",
        "colab": {
          "base_uri": "https://localhost:8080/",
          "height": 452
        }
      },
      "source": [
        "left"
      ],
      "execution_count": 0,
      "outputs": [
        {
          "output_type": "execute_result",
          "data": {
            "text/html": [
              "<div>\n",
              "<style scoped>\n",
              "    .dataframe tbody tr th:only-of-type {\n",
              "        vertical-align: middle;\n",
              "    }\n",
              "\n",
              "    .dataframe tbody tr th {\n",
              "        vertical-align: top;\n",
              "    }\n",
              "\n",
              "    .dataframe thead th {\n",
              "        text-align: right;\n",
              "    }\n",
              "</style>\n",
              "<table border=\"1\" class=\"dataframe\">\n",
              "  <thead>\n",
              "    <tr style=\"text-align: right;\">\n",
              "      <th></th>\n",
              "      <th>1</th>\n",
              "      <th>2</th>\n",
              "      <th>3</th>\n",
              "    </tr>\n",
              "  </thead>\n",
              "  <tbody>\n",
              "    <tr>\n",
              "      <th>11</th>\n",
              "      <td>Linganamakki</td>\n",
              "      <td>NaN</td>\n",
              "      <td>NaN</td>\n",
              "    </tr>\n",
              "    <tr>\n",
              "      <th>13</th>\n",
              "      <td>Supa</td>\n",
              "      <td>NaN</td>\n",
              "      <td>NaN</td>\n",
              "    </tr>\n",
              "    <tr>\n",
              "      <th>15</th>\n",
              "      <td>Varahi</td>\n",
              "      <td>NaN</td>\n",
              "      <td>NaN</td>\n",
              "    </tr>\n",
              "    <tr>\n",
              "      <th>17</th>\n",
              "      <td>Harangi</td>\n",
              "      <td>NaN</td>\n",
              "      <td>NaN</td>\n",
              "    </tr>\n",
              "    <tr>\n",
              "      <th>19</th>\n",
              "      <td>Hemavathi</td>\n",
              "      <td>NaN</td>\n",
              "      <td>NaN</td>\n",
              "    </tr>\n",
              "    <tr>\n",
              "      <th>21</th>\n",
              "      <td>K.R.S.</td>\n",
              "      <td>NaN</td>\n",
              "      <td>NaN</td>\n",
              "    </tr>\n",
              "    <tr>\n",
              "      <th>23</th>\n",
              "      <td>Kabini</td>\n",
              "      <td>NaN</td>\n",
              "      <td>NaN</td>\n",
              "    </tr>\n",
              "    <tr>\n",
              "      <th>25</th>\n",
              "      <td>Bhadra</td>\n",
              "      <td>NaN</td>\n",
              "      <td>NaN</td>\n",
              "    </tr>\n",
              "    <tr>\n",
              "      <th>27</th>\n",
              "      <td>Tungabhadra</td>\n",
              "      <td>NaN</td>\n",
              "      <td>NaN</td>\n",
              "    </tr>\n",
              "    <tr>\n",
              "      <th>29</th>\n",
              "      <td>Ghataprabha</td>\n",
              "      <td>NaN</td>\n",
              "      <td>NaN</td>\n",
              "    </tr>\n",
              "    <tr>\n",
              "      <th>31</th>\n",
              "      <td>Malaprabha</td>\n",
              "      <td>NaN</td>\n",
              "      <td>NaN</td>\n",
              "    </tr>\n",
              "    <tr>\n",
              "      <th>33</th>\n",
              "      <td>Almatti</td>\n",
              "      <td>NaN</td>\n",
              "      <td>NaN</td>\n",
              "    </tr>\n",
              "    <tr>\n",
              "      <th>35</th>\n",
              "      <td>Narayanapura</td>\n",
              "      <td>NaN</td>\n",
              "      <td>NaN</td>\n",
              "    </tr>\n",
              "  </tbody>\n",
              "</table>\n",
              "</div>"
            ],
            "text/plain": [
              "               1    2    3\n",
              "11  Linganamakki  NaN  NaN\n",
              "13          Supa  NaN  NaN\n",
              "15        Varahi  NaN  NaN\n",
              "17       Harangi  NaN  NaN\n",
              "19     Hemavathi  NaN  NaN\n",
              "21        K.R.S.  NaN  NaN\n",
              "23        Kabini  NaN  NaN\n",
              "25        Bhadra  NaN  NaN\n",
              "27   Tungabhadra  NaN  NaN\n",
              "29   Ghataprabha  NaN  NaN\n",
              "31    Malaprabha  NaN  NaN\n",
              "33       Almatti  NaN  NaN\n",
              "35  Narayanapura  NaN  NaN"
            ]
          },
          "metadata": {
            "tags": []
          },
          "execution_count": 22
        }
      ]
    },
    {
      "cell_type": "code",
      "metadata": {
        "id": "tOyh_CU3oL8Z",
        "colab_type": "code",
        "outputId": "0890d455-fdc3-4b91-a643-b09360f2ccb8",
        "colab": {
          "base_uri": "https://localhost:8080/",
          "height": 452
        }
      },
      "source": [
        "right"
      ],
      "execution_count": 0,
      "outputs": [
        {
          "output_type": "execute_result",
          "data": {
            "text/html": [
              "<div>\n",
              "<style scoped>\n",
              "    .dataframe tbody tr th:only-of-type {\n",
              "        vertical-align: middle;\n",
              "    }\n",
              "\n",
              "    .dataframe tbody tr th {\n",
              "        vertical-align: top;\n",
              "    }\n",
              "\n",
              "    .dataframe thead th {\n",
              "        text-align: right;\n",
              "    }\n",
              "</style>\n",
              "<table border=\"1\" class=\"dataframe\">\n",
              "  <thead>\n",
              "    <tr style=\"text-align: right;\">\n",
              "      <th></th>\n",
              "      <th>2</th>\n",
              "      <th>3</th>\n",
              "    </tr>\n",
              "  </thead>\n",
              "  <tbody>\n",
              "    <tr>\n",
              "      <th>12</th>\n",
              "      <td>1819.00 1812.80 1815.35 -6.20 151.75 131.75 13...</td>\n",
              "      <td>14970</td>\n",
              "    </tr>\n",
              "    <tr>\n",
              "      <th>14</th>\n",
              "      <td>1849.92 1840.50 1826.66 -9.42 145.33 134.64 11...</td>\n",
              "      <td>6536</td>\n",
              "    </tr>\n",
              "    <tr>\n",
              "      <th>16</th>\n",
              "      <td>1949.50 1921.56 1941.76 -27.95 31.10 16.89 26....</td>\n",
              "      <td>4034</td>\n",
              "    </tr>\n",
              "    <tr>\n",
              "      <th>18</th>\n",
              "      <td>2859.00 2857.87 2856.54 -1.13 8.07 7.69 7.24 9...</td>\n",
              "      <td>7523</td>\n",
              "    </tr>\n",
              "    <tr>\n",
              "      <th>20</th>\n",
              "      <td>2922.00 2921.55 2919.82 -0.45 35.76 35.33 33.6...</td>\n",
              "      <td>25698</td>\n",
              "    </tr>\n",
              "    <tr>\n",
              "      <th>22</th>\n",
              "      <td>124.80 124.80 121.43 0.00 45.05 45.05 40.48 10...</td>\n",
              "      <td>41512</td>\n",
              "    </tr>\n",
              "    <tr>\n",
              "      <th>24</th>\n",
              "      <td>2284.00 2282.81 2278.02 -1.19 15.67 14.90 12.0...</td>\n",
              "      <td>46240</td>\n",
              "    </tr>\n",
              "    <tr>\n",
              "      <th>26</th>\n",
              "      <td>2158.00 2154.93 2156.00 -3.07 63.04 59.23 60.5...</td>\n",
              "      <td>3223</td>\n",
              "    </tr>\n",
              "    <tr>\n",
              "      <th>28</th>\n",
              "      <td>1633.00 1633.00 1631.63 0.00 100.86 92.36 87.1...</td>\n",
              "      <td>58785</td>\n",
              "    </tr>\n",
              "    <tr>\n",
              "      <th>30</th>\n",
              "      <td>2175.00 2175.00 2175.00 0.00 48.98 42.50 42.50...</td>\n",
              "      <td>52788</td>\n",
              "    </tr>\n",
              "    <tr>\n",
              "      <th>32</th>\n",
              "      <td>2079.50 2078.10 2065.02 -1.40 34.35 27.30 12.4...</td>\n",
              "      <td>27325</td>\n",
              "    </tr>\n",
              "    <tr>\n",
              "      <th>34</th>\n",
              "      <td>1704.81 1700.94 1704.74 -3.87 119.26 95.42 114...</td>\n",
              "      <td>545638</td>\n",
              "    </tr>\n",
              "    <tr>\n",
              "      <th>36</th>\n",
              "      <td>1615.00 1605.72 1614.12 -9.28 26.14 13.36 23.4...</td>\n",
              "      <td>571745</td>\n",
              "    </tr>\n",
              "  </tbody>\n",
              "</table>\n",
              "</div>"
            ],
            "text/plain": [
              "                                                    2       3\n",
              "12  1819.00 1812.80 1815.35 -6.20 151.75 131.75 13...   14970\n",
              "14  1849.92 1840.50 1826.66 -9.42 145.33 134.64 11...    6536\n",
              "16  1949.50 1921.56 1941.76 -27.95 31.10 16.89 26....    4034\n",
              "18  2859.00 2857.87 2856.54 -1.13 8.07 7.69 7.24 9...    7523\n",
              "20  2922.00 2921.55 2919.82 -0.45 35.76 35.33 33.6...   25698\n",
              "22  124.80 124.80 121.43 0.00 45.05 45.05 40.48 10...   41512\n",
              "24  2284.00 2282.81 2278.02 -1.19 15.67 14.90 12.0...   46240\n",
              "26  2158.00 2154.93 2156.00 -3.07 63.04 59.23 60.5...    3223\n",
              "28  1633.00 1633.00 1631.63 0.00 100.86 92.36 87.1...   58785\n",
              "30  2175.00 2175.00 2175.00 0.00 48.98 42.50 42.50...   52788\n",
              "32  2079.50 2078.10 2065.02 -1.40 34.35 27.30 12.4...   27325\n",
              "34  1704.81 1700.94 1704.74 -3.87 119.26 95.42 114...  545638\n",
              "36  1615.00 1605.72 1614.12 -9.28 26.14 13.36 23.4...  571745"
            ]
          },
          "metadata": {
            "tags": []
          },
          "execution_count": 23
        }
      ]
    },
    {
      "cell_type": "code",
      "metadata": {
        "id": "B1UHej_9oNH1",
        "colab_type": "code",
        "colab": {}
      },
      "source": [
        "m=right[right.index==18][2]"
      ],
      "execution_count": 0,
      "outputs": []
    },
    {
      "cell_type": "code",
      "metadata": {
        "id": "qp4FAHL5oVsp",
        "colab_type": "code",
        "outputId": "91f12173-2ae7-4dcf-8bf8-bb8d07d3cb58",
        "colab": {
          "base_uri": "https://localhost:8080/",
          "height": 34
        }
      },
      "source": [
        "type(list(m))"
      ],
      "execution_count": 0,
      "outputs": [
        {
          "output_type": "execute_result",
          "data": {
            "text/plain": [
              "list"
            ]
          },
          "metadata": {
            "tags": []
          },
          "execution_count": 30
        }
      ]
    },
    {
      "cell_type": "code",
      "metadata": {
        "id": "uB4PPIKqocpY",
        "colab_type": "code",
        "outputId": "35f54e7e-88bd-4ab8-8f60-208e55fdc00e",
        "colab": {
          "base_uri": "https://localhost:8080/",
          "height": 34
        }
      },
      "source": [
        "list(m)\n",
        "1,5,9,10"
      ],
      "execution_count": 0,
      "outputs": [
        {
          "output_type": "execute_result",
          "data": {
            "text/plain": [
              "['2859.00 2857.87 2856.54 -1.13 8.07 7.69 7.24 95 0 7665 3200 14046']"
            ]
          },
          "metadata": {
            "tags": []
          },
          "execution_count": 31
        }
      ]
    },
    {
      "cell_type": "code",
      "metadata": {
        "id": "QbUq3BzUofIs",
        "colab_type": "code",
        "outputId": "2116b93a-d69d-4d21-fa54-4a313514f90c",
        "colab": {
          "base_uri": "https://localhost:8080/",
          "height": 390
        }
      },
      "source": [
        "x.head(11)"
      ],
      "execution_count": 0,
      "outputs": [
        {
          "output_type": "execute_result",
          "data": {
            "text/html": [
              "<div>\n",
              "<style scoped>\n",
              "    .dataframe tbody tr th:only-of-type {\n",
              "        vertical-align: middle;\n",
              "    }\n",
              "\n",
              "    .dataframe tbody tr th {\n",
              "        vertical-align: top;\n",
              "    }\n",
              "\n",
              "    .dataframe thead th {\n",
              "        text-align: right;\n",
              "    }\n",
              "</style>\n",
              "<table border=\"1\" class=\"dataframe\">\n",
              "  <thead>\n",
              "    <tr style=\"text-align: right;\">\n",
              "      <th></th>\n",
              "      <th>0</th>\n",
              "      <th>1</th>\n",
              "      <th>2</th>\n",
              "      <th>3</th>\n",
              "    </tr>\n",
              "  </thead>\n",
              "  <tbody>\n",
              "    <tr>\n",
              "      <th>0</th>\n",
              "      <td>NaN</td>\n",
              "      <td>NaN</td>\n",
              "      <td>MAJOR RESERVOIR LEVEL INFORMATION – 15.08.2019</td>\n",
              "      <td>NaN</td>\n",
              "    </tr>\n",
              "    <tr>\n",
              "      <th>1</th>\n",
              "      <td>NaN</td>\n",
              "      <td>NaN</td>\n",
              "      <td>Reservoir Level Information (feet) Capacity in...</td>\n",
              "      <td>NaN</td>\n",
              "    </tr>\n",
              "    <tr>\n",
              "      <th>2</th>\n",
              "      <td>Sl.</td>\n",
              "      <td>Name of the</td>\n",
              "      <td>NaN</td>\n",
              "      <td>Cumulative</td>\n",
              "    </tr>\n",
              "    <tr>\n",
              "      <th>3</th>\n",
              "      <td>NaN</td>\n",
              "      <td>NaN</td>\n",
              "      <td>Live storage Last year Live Present Balance Cu...</td>\n",
              "      <td>NaN</td>\n",
              "    </tr>\n",
              "    <tr>\n",
              "      <th>4</th>\n",
              "      <td>No.</td>\n",
              "      <td>Reservoir</td>\n",
              "      <td>Last year RL FRL in feet RL as on Balance RL L...</td>\n",
              "      <td>out flows</td>\n",
              "    </tr>\n",
              "    <tr>\n",
              "      <th>5</th>\n",
              "      <td>NaN</td>\n",
              "      <td>NaN</td>\n",
              "      <td>as on  Capacity cusecs on cusecs on</td>\n",
              "      <td>from</td>\n",
              "    </tr>\n",
              "    <tr>\n",
              "      <th>6</th>\n",
              "      <td>NaN</td>\n",
              "      <td>NaN</td>\n",
              "      <td>above MSL 15/08/2019 to reach FRL 15/08/2019 1...</td>\n",
              "      <td>NaN</td>\n",
              "    </tr>\n",
              "    <tr>\n",
              "      <th>7</th>\n",
              "      <td>NaN</td>\n",
              "      <td>NaN</td>\n",
              "      <td>15/08/2018 TMC 15/08/2019 15/08/2019</td>\n",
              "      <td>01.06.2019</td>\n",
              "    </tr>\n",
              "    <tr>\n",
              "      <th>8</th>\n",
              "      <td>NaN</td>\n",
              "      <td>NaN</td>\n",
              "      <td>TMC TMC % of Col. 7 capacity (mcft)</td>\n",
              "      <td>NaN</td>\n",
              "    </tr>\n",
              "    <tr>\n",
              "      <th>9</th>\n",
              "      <td>NaN</td>\n",
              "      <td>NaN</td>\n",
              "      <td>NaN</td>\n",
              "      <td>(mcft)</td>\n",
              "    </tr>\n",
              "    <tr>\n",
              "      <th>10</th>\n",
              "      <td>1</td>\n",
              "      <td>2</td>\n",
              "      <td>3 4 5 6 7 8 9 10 11 12 13 14</td>\n",
              "      <td>15</td>\n",
              "    </tr>\n",
              "  </tbody>\n",
              "</table>\n",
              "</div>"
            ],
            "text/plain": [
              "      0  ...           3\n",
              "0   NaN  ...         NaN\n",
              "1   NaN  ...         NaN\n",
              "2   Sl.  ...  Cumulative\n",
              "3   NaN  ...         NaN\n",
              "4   No.  ...   out flows\n",
              "5   NaN  ...        from\n",
              "6   NaN  ...         NaN\n",
              "7   NaN  ...  01.06.2019\n",
              "8   NaN  ...         NaN\n",
              "9   NaN  ...      (mcft)\n",
              "10    1  ...          15\n",
              "\n",
              "[11 rows x 4 columns]"
            ]
          },
          "metadata": {
            "tags": []
          },
          "execution_count": 35
        }
      ]
    },
    {
      "cell_type": "code",
      "metadata": {
        "id": "QtENvghMoznG",
        "colab_type": "code",
        "colab": {}
      },
      "source": [
        "# x[x.index==(x[x[1]=='Harangi'].index+1).values[0]]\n",
        "# (x[x[1]=='Harangi'].index+1).values[0]\n",
        "todayVal = list(x[x.index==(x[x[1]=='Harangi'].index+1).values[0]][2])"
      ],
      "execution_count": 0,
      "outputs": []
    },
    {
      "cell_type": "code",
      "metadata": {
        "id": "yfl1WrJxpu23",
        "colab_type": "code",
        "outputId": "3818c85d-6c3c-4a4e-c977-33b8cc7c07ac",
        "colab": {
          "base_uri": "https://localhost:8080/",
          "height": 34
        }
      },
      "source": [
        "todayVal=todayVal[0].split()\n",
        "len(todayVal)\n"
      ],
      "execution_count": 0,
      "outputs": [
        {
          "output_type": "execute_result",
          "data": {
            "text/plain": [
              "12"
            ]
          },
          "metadata": {
            "tags": []
          },
          "execution_count": 62
        }
      ]
    },
    {
      "cell_type": "code",
      "metadata": {
        "id": "VUDSKgsaujHh",
        "colab_type": "code",
        "outputId": "ea0658d6-4d09-44f2-92e7-1e8130aaba5a",
        "colab": {
          "base_uri": "https://localhost:8080/",
          "height": 34
        }
      },
      "source": [
        " d = list(x.head(1)[2])[0].split()[-1].split()[0].replace('.',' ').split()\n",
        " date = np.datetime64(d[-1]+\"-\"+d[1]+\"-\"+d[0]) \n",
        "date \n"
      ],
      "execution_count": 0,
      "outputs": [
        {
          "output_type": "execute_result",
          "data": {
            "text/plain": [
              "numpy.datetime64('2019-08-15')"
            ]
          },
          "metadata": {
            "tags": []
          },
          "execution_count": 92
        }
      ]
    },
    {
      "cell_type": "code",
      "metadata": {
        "id": "ZdvJqlz4rstt",
        "colab_type": "code",
        "outputId": "d1066c40-35cd-4dc3-f82f-7291570e7cf0",
        "colab": {
          "base_uri": "https://localhost:8080/",
          "height": 34
        }
      },
      "source": [
        "needed = [1,5,9,10]\n",
        "result =[todayVal[i] for i in needed]\n",
        "result.insert(0,date)\n",
        "result"
      ],
      "execution_count": 0,
      "outputs": [
        {
          "output_type": "execute_result",
          "data": {
            "text/plain": [
              "[numpy.datetime64('2019-08-15'), '2857.87', '7.69', '7665', '3200']"
            ]
          },
          "metadata": {
            "tags": []
          },
          "execution_count": 94
        }
      ]
    },
    {
      "cell_type": "code",
      "metadata": {
        "id": "P9s22TwQyFMi",
        "colab_type": "code",
        "outputId": "0b7f5426-32d7-4a40-d97a-7b6efec5d856",
        "colab": {
          "base_uri": "https://localhost:8080/",
          "height": 80
        }
      },
      "source": [
        "pd.DataFrame(columns=['reservoirLevel', 'StorageCapacity', 'inflow', 'outflow'],index=[(None,np.datetime64)])"
      ],
      "execution_count": 0,
      "outputs": [
        {
          "output_type": "execute_result",
          "data": {
            "text/html": [
              "<div>\n",
              "<style scoped>\n",
              "    .dataframe tbody tr th:only-of-type {\n",
              "        vertical-align: middle;\n",
              "    }\n",
              "\n",
              "    .dataframe tbody tr th {\n",
              "        vertical-align: top;\n",
              "    }\n",
              "\n",
              "    .dataframe thead th {\n",
              "        text-align: right;\n",
              "    }\n",
              "</style>\n",
              "<table border=\"1\" class=\"dataframe\">\n",
              "  <thead>\n",
              "    <tr style=\"text-align: right;\">\n",
              "      <th></th>\n",
              "      <th>reservoirLevel</th>\n",
              "      <th>StorageCapacity</th>\n",
              "      <th>inflow</th>\n",
              "      <th>outflow</th>\n",
              "    </tr>\n",
              "  </thead>\n",
              "  <tbody>\n",
              "    <tr>\n",
              "      <th>(None, &lt;class 'numpy.datetime64'&gt;)</th>\n",
              "      <td>NaN</td>\n",
              "      <td>NaN</td>\n",
              "      <td>NaN</td>\n",
              "      <td>NaN</td>\n",
              "    </tr>\n",
              "  </tbody>\n",
              "</table>\n",
              "</div>"
            ],
            "text/plain": [
              "                                   reservoirLevel  ... outflow\n",
              "(None, <class 'numpy.datetime64'>)            NaN  ...     NaN\n",
              "\n",
              "[1 rows x 4 columns]"
            ]
          },
          "metadata": {
            "tags": []
          },
          "execution_count": 96
        }
      ]
    },
    {
      "cell_type": "code",
      "metadata": {
        "id": "JPZlDTm6sFez",
        "colab_type": "code",
        "colab": {}
      },
      "source": [
        ""
      ],
      "execution_count": 0,
      "outputs": []
    },
    {
      "cell_type": "code",
      "metadata": {
        "id": "-3dz32XB0RtQ",
        "colab_type": "code",
        "colab": {}
      },
      "source": [
        ""
      ],
      "execution_count": 0,
      "outputs": []
    },
    {
      "cell_type": "code",
      "metadata": {
        "id": "mVGuH1-u0R5Y",
        "colab_type": "code",
        "colab": {}
      },
      "source": [
        ""
      ],
      "execution_count": 0,
      "outputs": []
    },
    {
      "cell_type": "code",
      "metadata": {
        "id": "vjRC1I760SEA",
        "colab_type": "code",
        "colab": {}
      },
      "source": [
        ""
      ],
      "execution_count": 0,
      "outputs": []
    },
    {
      "cell_type": "code",
      "metadata": {
        "id": "7ill3wP70gYQ",
        "colab_type": "code",
        "outputId": "d31a256c-49d6-41b5-e958-3cf6939b92e4",
        "colab": {
          "base_uri": "https://localhost:8080/",
          "height": 34
        }
      },
      "source": [
        "len(tables1)"
      ],
      "execution_count": 0,
      "outputs": [
        {
          "output_type": "execute_result",
          "data": {
            "text/plain": [
              "3"
            ]
          },
          "metadata": {
            "tags": []
          },
          "execution_count": 121
        }
      ]
    },
    {
      "cell_type": "code",
      "metadata": {
        "id": "cjIXGI6A03VL",
        "colab_type": "code",
        "colab": {}
      },
      "source": [
        "x1=tables1[2]"
      ],
      "execution_count": 0,
      "outputs": []
    },
    {
      "cell_type": "code",
      "metadata": {
        "id": "4f9bIKbZ1Q--",
        "colab_type": "code",
        "outputId": "57601256-81cf-4875-dfd4-a5b93d9beceb",
        "colab": {
          "base_uri": "https://localhost:8080/",
          "height": 119
        }
      },
      "source": [
        "# x1[x1.index==x1[x1[0]=='KODAGU'].index.values[0]+0]\n",
        "print(x1[x1.index==x1[x1[0]=='KODAGU'].index.values[0]+0][7])\n",
        "print(x1[x1.index==x1[x1[0]=='KODAGU'].index.values[0]+1][7])\n",
        "print(x1[x1.index==x1[x1[0]=='KODAGU'].index.values[0]+2][7])"
      ],
      "execution_count": 0,
      "outputs": [
        {
          "output_type": "stream",
          "text": [
            "39    0.5\n",
            "Name: 7, dtype: float64\n",
            "40    0.5\n",
            "Name: 7, dtype: float64\n",
            "41    5.5\n",
            "Name: 7, dtype: float64\n"
          ],
          "name": "stdout"
        }
      ]
    },
    {
      "cell_type": "code",
      "metadata": {
        "id": "r8LPzOZqsuIH",
        "colab_type": "code",
        "colab": {}
      },
      "source": [
        "!pip install tabula-py\n",
        "import tabula\n",
        "import pandas as pd\n",
        "import numpy as np\n",
        "list_of_files = [\"./dR15-08-2019.pdf\",\"./dr16-08-2019\"]  #add all file name with path in this list\n",
        "# now open csv file\n",
        "# file header is as follows\n",
        "# [date , reservoirLevel, StorageCapacity, inflow, outflow]\n",
        "# pd.DataFrame(columns=[])\n",
        "for file in list_of_files:\n",
        "    tables = tabula.read_pdf(file, pages = \"all\", multiple_tables = True,pandas_options={'header': None})#pages=[1,2,..] incase u know page number\n",
        "    x=tables[len(tables)-1]# choose table number wisely\n",
        "    todayVal = list(x[x.index==(x[x[1]=='Harangi'].index+1).values[0]][2])\n",
        "    todayVal=todayVal[0].split()\n",
        "    needed = [1,5,9,10]\n",
        "    result = [todayVal[i] for i in needed]\n",
        "    d = list(x.head(1)[2])[0].split()[-1].split()[0].replace('.',' ').split()\n",
        "    date = np.datetime64(d[-1]+\"-\"+d[1]+\"-\"+d[0])\n",
        "    result.insert(0,date) \n",
        "    #  write variable 'result' as new row\n",
        "# end of for loop\n",
        "# save csv file"
      ],
      "execution_count": 0,
      "outputs": []
    },
    {
      "cell_type": "code",
      "metadata": {
        "id": "AZScM4B655ax",
        "colab_type": "code",
        "outputId": "4a65c03b-f980-457b-fc0a-e1fd135da667",
        "colab": {
          "base_uri": "https://localhost:8080/",
          "height": 34
        }
      },
      "source": [
        "file = \"./dR15-08-2019.pdf\"\n",
        "tables = tabula.read_pdf(file, pages = \"all\", multiple_tables = True,pandas_options={'header': None})\n",
        "x=tables[len(tables)-1]\n",
        "todayVal = list(x[x.index==(x[x[1]=='Harangi'].index+1).values[0]][2])\n",
        "todayVal=todayVal[0].split()\n",
        "needed = [1,5,9,10]\n",
        "result = [todayVal[i] for i in needed]\n",
        "d = list(x.head(1)[2])[0].split()[-1].split()[0].replace('.',' ').split()\n",
        "date = np.datetime64(d[-1]+\"-\"+d[1]+\"-\"+d[0])\n",
        "result.insert(0,date) "
      ],
      "execution_count": 0,
      "outputs": [
        {
          "output_type": "execute_result",
          "data": {
            "text/plain": [
              "Int64Index([], dtype='int64')"
            ]
          },
          "metadata": {
            "tags": []
          },
          "execution_count": 156
        }
      ]
    },
    {
      "cell_type": "code",
      "metadata": {
        "id": "w445-7SA5PQA",
        "colab_type": "code",
        "outputId": "154ac64c-2ebe-4e33-bb4a-f54b13fa6bdd",
        "colab": {
          "base_uri": "https://localhost:8080/",
          "height": 34
        }
      },
      "source": [
        "filename = \"./Districtwise_Rainfall.pdf\"\n",
        "tables1 = tabula.read_pdf(filename, pages = [2,3,4], multiple_tables = True,pandas_options={'header': None})\n",
        "for table in tables1:\n",
        "  x1 = table\n",
        "  result = []\n",
        "  if(x1[x1[0]=='KODAGU'].index.values.size!=0):\n",
        "    for i in range(3):\n",
        "      result.append(x1[x1.index==x1[x1[0]=='KODAGU'].index.values[0]+i][7].values[0])\n",
        "    break\n",
        "result.insert(0,date)\n",
        "result"
      ],
      "execution_count": 0,
      "outputs": [
        {
          "output_type": "execute_result",
          "data": {
            "text/plain": [
              "[numpy.datetime64('2019-08-15'), 0.5, 0.5, 5.5]"
            ]
          },
          "metadata": {
            "tags": []
          },
          "execution_count": 163
        }
      ]
    },
    {
      "cell_type": "code",
      "metadata": {
        "id": "2fwblDFE7307",
        "colab_type": "code",
        "colab": {}
      },
      "source": [
        ""
      ],
      "execution_count": 0,
      "outputs": []
    }
  ]
}