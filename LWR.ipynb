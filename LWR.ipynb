{
 "cells": [
  {
   "cell_type": "code",
   "execution_count": 19,
   "metadata": {},
   "outputs": [],
   "source": [
    "import matplotlib.pyplot as pt\n",
    "import pandas as pd\n",
    "import numpy as np\n",
    "from sklearn import metrics\n",
    "from sklearn.preprocessing import MinMaxScaler\n",
    "from math import sqrt\n",
    "import matplotlib as mpl\n",
    "mpl.rcParams['figure.figsize'] = (18, 6)\n",
    "mpl.rcParams['axes.grid'] = False"
   ]
  },
  {
   "cell_type": "code",
   "execution_count": 2,
   "metadata": {},
   "outputs": [],
   "source": [
    "#dataset preparation with lag\n",
    "def series_to_supervised(data, n_in=1, n_out=1, dropnan=True):\n",
    "\tn_vars = 1 if type(data) is list else data.shape[1]\n",
    "\tdf = pd.DataFrame(data)\n",
    "\tcols, names = list(), list()\n",
    "\t# input sequence (t-n, ... t-1)\n",
    "\tfor i in range(n_in, 0, -1):\n",
    "\t\tcols.append(df.shift(i))\n",
    "\t\tnames += [('var%d(t-%d)' % (j+1, i)) for j in range(n_vars)]\n",
    "\t# forecast sequence (t, t+1, ... t+n)\n",
    "\tfor i in range(0, n_out):\n",
    "\t\tcols.append(df.shift(-i))\n",
    "\t\tif i == 0:\n",
    "\t\t\tnames += [('var%d(t)' % (j+1)) for j in range(n_vars)]\n",
    "\t\telse:\n",
    "\t\t\tnames += [('var%d(t+%d)' % (j+1, i)) for j in range(n_vars)]\n",
    "\t# put it all together\n",
    "\tagg = pd.concat(cols, axis=1)\n",
    "\tagg.columns = names\n",
    "\t# drop rows with NaN values\n",
    "\tif dropnan:\n",
    "\t\tagg.dropna(inplace=True)\n",
    "\treturn agg"
   ]
  },
  {
   "cell_type": "code",
   "execution_count": 3,
   "metadata": {},
   "outputs": [],
   "source": [
    "#locally weighted regression\n",
    "def lwr(inp, out, k):\n",
    "    m,n = np.shape(inp)\n",
    "    ypred = np.zeros(m)    \n",
    "    for i in range(m):\n",
    "        ypred[i] = inp[i] * beta(inp[i], inp, out, k)\n",
    "    #print(\"The final prediction is :\",ypred)\n",
    "    return ypred\n",
    "\n",
    "def lwr1(x0, inp, out, k):\n",
    "    m,n = np.shape(inp)\n",
    "    ypred = np.zeros(m)    \n",
    "    ypred = x0 * beta(x0, inp, out, k)\n",
    "    #print(\"The final prediction is :\",ypred)\n",
    "    return ypred\n",
    "\n",
    "def beta(point, inp, out, k):\n",
    "    wt = kernal(point, inp, k)\n",
    "    #print(\"The weight of betas is\",wt)\n",
    "    beta_val = (inp.T * (wt*inp)).I * inp.T * wt * out\n",
    "    #print(\"The weight is beta value is\",beta_val)\n",
    "    return beta_val\n",
    "\n",
    "def kernal(point, inp, k):\n",
    "    l,b = np.shape(inp)\n",
    "    weights = np.mat(np.eye((l)))\n",
    "    #print(weights)    \n",
    "    for i in range(l):\n",
    "        #print(point.shape,inp[i].shape)\n",
    "        diff = point - inp[i]\n",
    "        weights[i,i] = np.exp(np.dot(diff,diff.T) / (-2.0 * (k**2)))\n",
    "    return weights"
   ]
  },
  {
   "cell_type": "code",
   "execution_count": 6,
   "metadata": {},
   "outputs": [
    {
     "data": {
      "text/html": [
       "<div>\n",
       "<style scoped>\n",
       "    .dataframe tbody tr th:only-of-type {\n",
       "        vertical-align: middle;\n",
       "    }\n",
       "\n",
       "    .dataframe tbody tr th {\n",
       "        vertical-align: top;\n",
       "    }\n",
       "\n",
       "    .dataframe thead th {\n",
       "        text-align: right;\n",
       "    }\n",
       "</style>\n",
       "<table border=\"1\" class=\"dataframe\">\n",
       "  <thead>\n",
       "    <tr style=\"text-align: right;\">\n",
       "      <th></th>\n",
       "      <th>Inflow</th>\n",
       "      <th>MADIKERI</th>\n",
       "      <th>SOMWARPET</th>\n",
       "      <th>VIRAJPET</th>\n",
       "    </tr>\n",
       "    <tr>\n",
       "      <th>Dates</th>\n",
       "      <th></th>\n",
       "      <th></th>\n",
       "      <th></th>\n",
       "      <th></th>\n",
       "    </tr>\n",
       "  </thead>\n",
       "  <tbody>\n",
       "    <tr>\n",
       "      <th>2011-01-01</th>\n",
       "      <td>142.000000</td>\n",
       "      <td>0.000000</td>\n",
       "      <td>0.000000</td>\n",
       "      <td>0.000000</td>\n",
       "    </tr>\n",
       "    <tr>\n",
       "      <th>2011-01-02</th>\n",
       "      <td>239.000000</td>\n",
       "      <td>0.000000</td>\n",
       "      <td>0.000000</td>\n",
       "      <td>0.000000</td>\n",
       "    </tr>\n",
       "    <tr>\n",
       "      <th>2011-01-03</th>\n",
       "      <td>166.000000</td>\n",
       "      <td>0.000000</td>\n",
       "      <td>0.000000</td>\n",
       "      <td>0.000000</td>\n",
       "    </tr>\n",
       "    <tr>\n",
       "      <th>2011-01-04</th>\n",
       "      <td>118.000000</td>\n",
       "      <td>0.000000</td>\n",
       "      <td>0.000000</td>\n",
       "      <td>0.000000</td>\n",
       "    </tr>\n",
       "    <tr>\n",
       "      <th>2011-01-05</th>\n",
       "      <td>130.000000</td>\n",
       "      <td>0.000000</td>\n",
       "      <td>0.000000</td>\n",
       "      <td>0.000000</td>\n",
       "    </tr>\n",
       "    <tr>\n",
       "      <th>...</th>\n",
       "      <td>...</td>\n",
       "      <td>...</td>\n",
       "      <td>...</td>\n",
       "      <td>...</td>\n",
       "    </tr>\n",
       "    <tr>\n",
       "      <th>2011-12-27</th>\n",
       "      <td>77.000000</td>\n",
       "      <td>1.493925</td>\n",
       "      <td>2.274299</td>\n",
       "      <td>0.366822</td>\n",
       "    </tr>\n",
       "    <tr>\n",
       "      <th>2011-12-28</th>\n",
       "      <td>68.000000</td>\n",
       "      <td>1.485047</td>\n",
       "      <td>2.259813</td>\n",
       "      <td>0.364486</td>\n",
       "    </tr>\n",
       "    <tr>\n",
       "      <th>2011-12-29</th>\n",
       "      <td>69.000000</td>\n",
       "      <td>1.476168</td>\n",
       "      <td>2.245327</td>\n",
       "      <td>0.362150</td>\n",
       "    </tr>\n",
       "    <tr>\n",
       "      <th>2011-12-30</th>\n",
       "      <td>142.000000</td>\n",
       "      <td>1.467290</td>\n",
       "      <td>2.230841</td>\n",
       "      <td>0.359813</td>\n",
       "    </tr>\n",
       "    <tr>\n",
       "      <th>2011-12-31</th>\n",
       "      <td>141.155844</td>\n",
       "      <td>1.458411</td>\n",
       "      <td>2.216355</td>\n",
       "      <td>0.357477</td>\n",
       "    </tr>\n",
       "  </tbody>\n",
       "</table>\n",
       "<p>365 rows × 4 columns</p>\n",
       "</div>"
      ],
      "text/plain": [
       "                Inflow  MADIKERI  SOMWARPET  VIRAJPET\n",
       "Dates                                                \n",
       "2011-01-01  142.000000  0.000000   0.000000  0.000000\n",
       "2011-01-02  239.000000  0.000000   0.000000  0.000000\n",
       "2011-01-03  166.000000  0.000000   0.000000  0.000000\n",
       "2011-01-04  118.000000  0.000000   0.000000  0.000000\n",
       "2011-01-05  130.000000  0.000000   0.000000  0.000000\n",
       "...                ...       ...        ...       ...\n",
       "2011-12-27   77.000000  1.493925   2.274299  0.366822\n",
       "2011-12-28   68.000000  1.485047   2.259813  0.364486\n",
       "2011-12-29   69.000000  1.476168   2.245327  0.362150\n",
       "2011-12-30  142.000000  1.467290   2.230841  0.359813\n",
       "2011-12-31  141.155844  1.458411   2.216355  0.357477\n",
       "\n",
       "[365 rows x 4 columns]"
      ]
     },
     "execution_count": 6,
     "metadata": {},
     "output_type": "execute_result"
    }
   ],
   "source": [
    "#df = pd.read_csv('kodaguAllYearRainDam.csv')\n",
    "df = pd.read_csv('allYearHarangi.csv')\n",
    "df\n",
    "a = \"RCDATE\"\n",
    "b = \"Dates\"\n",
    "df['month'] = pd.DatetimeIndex(df[b]).month\n",
    "df['year'] = pd.DatetimeIndex(df[b]).year\n",
    "mask = (df['month'] <= 12)\n",
    "mask1 = (df['year'] == 2011)\n",
    "df = df.loc[mask]\n",
    "df = df.loc[mask1]\n",
    "df.set_index(b,inplace = True)\n",
    "df.drop(['month','year',\"Present Storage(TMC)\",'Reservoir Level(TMC)','Outflow'],axis = 1,inplace = True)\n",
    "#df.drop(['Inflow'],axis = 1,inplace = True)\n",
    "df"
   ]
  },
  {
   "cell_type": "code",
   "execution_count": 7,
   "metadata": {},
   "outputs": [],
   "source": [
    "lag_val = 5"
   ]
  },
  {
   "cell_type": "code",
   "execution_count": 8,
   "metadata": {},
   "outputs": [
    {
     "name": "stdout",
     "output_type": "stream",
     "text": [
      "5\n"
     ]
    }
   ],
   "source": [
    "values = df.values\n",
    "values = values.astype('float32')\n",
    "# normalize features\n",
    "scaler = MinMaxScaler(feature_range=(0, 1))\n",
    "scaled = scaler.fit_transform(values)\n",
    "# frame as supervised learning\n",
    "reframed = series_to_supervised(values, lag_val, 1)#lag of 4 days\n",
    "# drop columns we don't want to predict\n",
    "reframed.drop(reframed.columns[[-1,-2,-3]], axis=1, inplace=True)\n",
    "reframed.head()\n",
    "print(lag_val)"
   ]
  },
  {
   "cell_type": "code",
   "execution_count": 9,
   "metadata": {},
   "outputs": [
    {
     "data": {
      "text/plain": [
       "(360, 20)"
      ]
     },
     "execution_count": 9,
     "metadata": {},
     "output_type": "execute_result"
    }
   ],
   "source": [
    "values = reframed.values\n",
    "train_x = values[:,:-1]\n",
    "Inflow = values[:,-1]\n",
    "Inflow = Inflow.reshape((train_x.shape[0],1))\n",
    "\n",
    "Inflow.shape\n",
    "train_x.shape"
   ]
  },
  {
   "cell_type": "code",
   "execution_count": 10,
   "metadata": {},
   "outputs": [
    {
     "data": {
      "text/html": [
       "<div>\n",
       "<style scoped>\n",
       "    .dataframe tbody tr th:only-of-type {\n",
       "        vertical-align: middle;\n",
       "    }\n",
       "\n",
       "    .dataframe tbody tr th {\n",
       "        vertical-align: top;\n",
       "    }\n",
       "\n",
       "    .dataframe thead th {\n",
       "        text-align: right;\n",
       "    }\n",
       "</style>\n",
       "<table border=\"1\" class=\"dataframe\">\n",
       "  <thead>\n",
       "    <tr style=\"text-align: right;\">\n",
       "      <th></th>\n",
       "      <th>Inflow</th>\n",
       "      <th>MADIKERI</th>\n",
       "      <th>SOMWARPET</th>\n",
       "      <th>VIRAJPET</th>\n",
       "    </tr>\n",
       "    <tr>\n",
       "      <th>Dates</th>\n",
       "      <th></th>\n",
       "      <th></th>\n",
       "      <th></th>\n",
       "      <th></th>\n",
       "    </tr>\n",
       "  </thead>\n",
       "  <tbody>\n",
       "    <tr>\n",
       "      <th>2012-01-01</th>\n",
       "      <td>140.311688</td>\n",
       "      <td>1.449533</td>\n",
       "      <td>2.201869</td>\n",
       "      <td>0.355140</td>\n",
       "    </tr>\n",
       "    <tr>\n",
       "      <th>2012-01-02</th>\n",
       "      <td>139.467532</td>\n",
       "      <td>1.440654</td>\n",
       "      <td>2.187383</td>\n",
       "      <td>0.352804</td>\n",
       "    </tr>\n",
       "    <tr>\n",
       "      <th>2012-01-03</th>\n",
       "      <td>138.623377</td>\n",
       "      <td>1.431776</td>\n",
       "      <td>2.172897</td>\n",
       "      <td>0.350467</td>\n",
       "    </tr>\n",
       "    <tr>\n",
       "      <th>2012-01-04</th>\n",
       "      <td>137.779221</td>\n",
       "      <td>1.422897</td>\n",
       "      <td>2.158411</td>\n",
       "      <td>0.348131</td>\n",
       "    </tr>\n",
       "    <tr>\n",
       "      <th>2012-01-05</th>\n",
       "      <td>136.935065</td>\n",
       "      <td>1.414019</td>\n",
       "      <td>2.143925</td>\n",
       "      <td>0.345794</td>\n",
       "    </tr>\n",
       "    <tr>\n",
       "      <th>...</th>\n",
       "      <td>...</td>\n",
       "      <td>...</td>\n",
       "      <td>...</td>\n",
       "      <td>...</td>\n",
       "    </tr>\n",
       "    <tr>\n",
       "      <th>2018-12-27</th>\n",
       "      <td>103.000000</td>\n",
       "      <td>0.000000</td>\n",
       "      <td>0.000000</td>\n",
       "      <td>0.000000</td>\n",
       "    </tr>\n",
       "    <tr>\n",
       "      <th>2018-12-28</th>\n",
       "      <td>98.000000</td>\n",
       "      <td>0.000000</td>\n",
       "      <td>0.000000</td>\n",
       "      <td>0.000000</td>\n",
       "    </tr>\n",
       "    <tr>\n",
       "      <th>2018-12-29</th>\n",
       "      <td>102.000000</td>\n",
       "      <td>0.000000</td>\n",
       "      <td>0.000000</td>\n",
       "      <td>0.000000</td>\n",
       "    </tr>\n",
       "    <tr>\n",
       "      <th>2018-12-30</th>\n",
       "      <td>99.000000</td>\n",
       "      <td>0.000000</td>\n",
       "      <td>0.000000</td>\n",
       "      <td>0.000000</td>\n",
       "    </tr>\n",
       "    <tr>\n",
       "      <th>2018-12-31</th>\n",
       "      <td>99.000000</td>\n",
       "      <td>0.000000</td>\n",
       "      <td>0.000000</td>\n",
       "      <td>0.000000</td>\n",
       "    </tr>\n",
       "  </tbody>\n",
       "</table>\n",
       "<p>2557 rows × 4 columns</p>\n",
       "</div>"
      ],
      "text/plain": [
       "                Inflow  MADIKERI  SOMWARPET  VIRAJPET\n",
       "Dates                                                \n",
       "2012-01-01  140.311688  1.449533   2.201869  0.355140\n",
       "2012-01-02  139.467532  1.440654   2.187383  0.352804\n",
       "2012-01-03  138.623377  1.431776   2.172897  0.350467\n",
       "2012-01-04  137.779221  1.422897   2.158411  0.348131\n",
       "2012-01-05  136.935065  1.414019   2.143925  0.345794\n",
       "...                ...       ...        ...       ...\n",
       "2018-12-27  103.000000  0.000000   0.000000  0.000000\n",
       "2018-12-28   98.000000  0.000000   0.000000  0.000000\n",
       "2018-12-29  102.000000  0.000000   0.000000  0.000000\n",
       "2018-12-30   99.000000  0.000000   0.000000  0.000000\n",
       "2018-12-31   99.000000  0.000000   0.000000  0.000000\n",
       "\n",
       "[2557 rows x 4 columns]"
      ]
     },
     "execution_count": 10,
     "metadata": {},
     "output_type": "execute_result"
    }
   ],
   "source": [
    "#df1 = pd.read_csv('kodaguAllYearRainDam.csv')\n",
    "df1 = pd.read_csv('allYearHarangi.csv')\n",
    "df1['month'] = pd.DatetimeIndex(df1[b]).month\n",
    "df1['year'] = pd.DatetimeIndex(df1[b]).year\n",
    "df1\n",
    "mask = (df1['month'] <= 12)\n",
    "mask1 = (df1['year'] > 2011)#&(df1['year'] <= 2018))\n",
    "df1 = df1.loc[mask]\n",
    "df1 = df1.loc[mask1]\n",
    "df1.set_index(b,inplace = True)\n",
    "df1.drop(['month','year',\"Present Storage(TMC)\",'Reservoir Level(TMC)','Outflow'],axis = 1,inplace = True)\n",
    "#df1.drop(['Inflow'],axis = 1,inplace = True)\n",
    "df1"
   ]
  },
  {
   "cell_type": "code",
   "execution_count": 11,
   "metadata": {},
   "outputs": [
    {
     "name": "stdout",
     "output_type": "stream",
     "text": [
      "5\n"
     ]
    }
   ],
   "source": [
    "values1 = df1.values\n",
    "values1 = values1.astype('float32')\n",
    "# normalize features\n",
    "scaler = MinMaxScaler(feature_range=(0, 1))\n",
    "scaled = scaler.fit_transform(values)\n",
    "# frame as supervised learning\n",
    "reframed1 = series_to_supervised(values1, lag_val, 1)#lag of 4 days\n",
    "# drop columns we don't want to predict\n",
    "reframed1.drop(reframed.columns[[-1,-2,-3]], axis=1, inplace=True)\n",
    "reframed1\n",
    "print(lag_val)"
   ]
  },
  {
   "cell_type": "code",
   "execution_count": 12,
   "metadata": {},
   "outputs": [
    {
     "name": "stdout",
     "output_type": "stream",
     "text": [
      "(360, 20) (360, 1)\n",
      "(2552, 20)\n"
     ]
    },
    {
     "data": {
      "text/plain": [
       "(2552,)"
      ]
     },
     "execution_count": 12,
     "metadata": {},
     "output_type": "execute_result"
    }
   ],
   "source": [
    "values1 = reframed1.values\n",
    "Actuall_inflow = values1[:,-1]\n",
    "test_x = values1[:,:-1]\n",
    "\n",
    "print(train_x.shape,Inflow.shape)\n",
    "print(test_x.shape)\n",
    "Actuall_inflow.shape"
   ]
  },
  {
   "cell_type": "code",
   "execution_count": 15,
   "metadata": {},
   "outputs": [],
   "source": [
    "ypred = []\n",
    "train_X = train_x\n",
    "train_y = Inflow\n",
    "for i in test_x:\n",
    "    ypred.append(lwr1(i, train_X, train_y, 10000))\n",
    "ypred = np.array(ypred).reshape(Actuall_inflow.shape[0],1)"
   ]
  },
  {
   "cell_type": "code",
   "execution_count": 16,
   "metadata": {},
   "outputs": [
    {
     "data": {
      "text/plain": [
       "array([[140.56386848],\n",
       "       [139.69921221],\n",
       "       [138.83462326],\n",
       "       ...,\n",
       "       [ 89.43397648],\n",
       "       [ 95.27687662],\n",
       "       [ 91.44060146]])"
      ]
     },
     "execution_count": 16,
     "metadata": {},
     "output_type": "execute_result"
    }
   ],
   "source": [
    "ypred"
   ]
  },
  {
   "cell_type": "code",
   "execution_count": 17,
   "metadata": {},
   "outputs": [
    {
     "name": "stdout",
     "output_type": "stream",
     "text": [
      "MSE =  14241325.949014539\n",
      "RMSE =  3773.768136626115\n"
     ]
    }
   ],
   "source": [
    "print(\"MSE = \",metrics.mean_squared_error(Actuall_inflow,ypred))\n",
    "print(\"RMSE = \",sqrt(metrics.mean_squared_error(Actuall_inflow,ypred)))"
   ]
  },
  {
   "cell_type": "code",
   "execution_count": 26,
   "metadata": {
    "scrolled": true
   },
   "outputs": [
    {
     "data": {
      "text/plain": [
       "[<matplotlib.lines.Line2D at 0x7f1443504250>]"
      ]
     },
     "execution_count": 26,
     "metadata": {},
     "output_type": "execute_result"
    },
    {
     "data": {
      "image/png": "[encoded data removed]",
      "text/plain": [
       "<Figure size 432x288 with 1 Axes>"
      ]
     },
     "metadata": {
      "needs_background": "light"
     },
     "output_type": "display_data"
    }
   ],
   "source": [
    "pt.plot(ypred,c='blue')\n",
    "pt.plot(Actuall_inflow,c='red')"
   ]
  },
  {
   "cell_type": "code",
   "execution_count": 27,
   "metadata": {},
   "outputs": [
    {
     "data": {
      "text/plain": [
       "[<matplotlib.lines.Line2D at 0x7f1441793dd0>]"
      ]
     },
     "execution_count": 27,
     "metadata": {},
     "output_type": "execute_result"
    },
    {
     "data": {
      "image/png": "[encoded data removed]",
      "text/plain": [
       "<Figure size 432x288 with 1 Axes>"
      ]
     },
     "metadata": {
      "needs_background": "light"
     },
     "output_type": "display_data"
    }
   ],
   "source": [
    "pt.plot(Actuall_inflow,c='red')"
   ]
  },
  {
   "cell_type": "code",
   "execution_count": 22,
   "metadata": {},
   "outputs": [
    {
     "data": {
      "text/plain": [
       "[<matplotlib.lines.Line2D at 0x7f14473db110>]"
      ]
     },
     "execution_count": 22,
     "metadata": {},
     "output_type": "execute_result"
    },
    {
     "data": {
      "image/png": "[encoded data removed]",
      "text/plain": [
       "<Figure size 432x288 with 1 Axes>"
      ]
     },
     "metadata": {
      "needs_background": "light"
     },
     "output_type": "display_data"
    }
   ],
   "source": [
    "pt.plot(ypred,c='blue')"
   ]
  },
  {
   "cell_type": "code",
   "execution_count": null,
   "metadata": {},
   "outputs": [],
   "source": []
  }
 ],
 "metadata": {
  "kernelspec": {
   "display_name": "Python 3",
   "language": "python",
   "name": "python3"
  },
  "language_info": {
   "codemirror_mode": {
    "name": "ipython",
    "version": 3
   },
   "file_extension": ".py",
   "mimetype": "text/x-python",
   "name": "python",
   "nbconvert_exporter": "python",
   "pygments_lexer": "ipython3",
   "version": "3.7.5rc1"
  }
 },
 "nbformat": 4,
 "nbformat_minor": 2
}
