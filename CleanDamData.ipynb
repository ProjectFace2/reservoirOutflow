{
 "cells": [
  {
   "cell_type": "code",
   "execution_count": 1,
   "metadata": {},
   "outputs": [],
   "source": [
    "import pandas as pd\n",
    "import numpy as np"
   ]
  },
  {
   "cell_type": "code",
   "execution_count": 2,
   "metadata": {},
   "outputs": [],
   "source": [
    "d=pd.read_excel('/home/kishora/Downloads/Harangi.xlsx')"
   ]
  },
  {
   "cell_type": "code",
   "execution_count": 3,
   "metadata": {},
   "outputs": [],
   "source": [
    "#extracting only data from june to october\n",
    "d['Flow Date'] = pd.to_datetime(d['Flow Date'],errors='coerce',dayfirst=True)\n",
    "damInput = pd.DataFrame()\n",
    "d = d.set_index('Flow Date')\n",
    "for group_name, df_group in d.groupby(pd.Grouper(freq='M')):\n",
    "    #print(type(str(group_name)),\"and then\")\n",
    "    me=str(group_name)\n",
    "    if(me=='2018-06-30 00:00:00' or me=='2018-07-31 00:00:00' or me=='2018-08-31 00:00:00' or me=='2018-09-30 00:00:00' or me=='2018-10-31 00:00:00'):\n",
    "        damInput = damInput.append(df_group)"
   ]
  },
  {
   "cell_type": "code",
   "execution_count": 4,
   "metadata": {},
   "outputs": [],
   "source": [
    "#refill empty dates,add missing rows with NaN value\n",
    "idx = pd.date_range('2018-06-01', '2018-10-31') \n",
    "damInput=damInput.reindex(idx, fill_value=np.nan)"
   ]
  },
  {
   "cell_type": "code",
   "execution_count": 5,
   "metadata": {},
   "outputs": [],
   "source": [
    "damInput.Reservoir=damInput.Reservoir.replace({np.nan:'Harangi'})"
   ]
  },
  {
   "cell_type": "code",
   "execution_count": 6,
   "metadata": {},
   "outputs": [],
   "source": [
    "#replace NaN with average/median of previous and next value to make a linear flow \n",
    "damInput.interpolate(method='linear', inplace=True)"
   ]
  },
  {
   "cell_type": "code",
   "execution_count": null,
   "metadata": {},
   "outputs": [],
   "source": [
    "#next we can store the dataset to csv or xlsx"
   ]
  }
 ],
 "metadata": {
  "kernelspec": {
   "display_name": "Python 3",
   "language": "python",
   "name": "python3"
  },
  "language_info": {
   "codemirror_mode": {
    "name": "ipython",
    "version": 3
   },
   "file_extension": ".py",
   "mimetype": "text/x-python",
   "name": "python",
   "nbconvert_exporter": "python",
   "pygments_lexer": "ipython3",
   "version": "3.6.8"
  }
 },
 "nbformat": 4,
 "nbformat_minor": 2
}
