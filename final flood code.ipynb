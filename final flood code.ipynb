import camelot
import ghostscript
file="dR24-04-2019.pdf"
tables = camelot.read_pdf(file,pages="1-end")

tables[3].to_excel("rainfall.xlsx",sheet_name='Sheet2')
tables[6].to_excel("reservoir.xlsx",sheet_name='Sheet2')


#for rainfall
import pandas as pd
data=pd.read_excel("rainfall.xlsx")
data.fillna('empty', inplace=True)
rain=input("enter the rain_area name")
df1 = data[data[1].str.contains(rain)]
df1.to_csv('kodagu.csv', mode='a', index = False, header=None)


#for reservoir
data=pd.read_excel("reservoir.xlsx")
data.fillna('empty', inplace=True)
dam=input("enter the dam name")
df1 = data[data[1].str.contains(dam)]
df1.to_csv('harangi.csv', mode='a', index = False, header=None)