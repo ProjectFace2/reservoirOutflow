{
 "cells": [
  {
   "cell_type": "code",
   "execution_count": null,
   "metadata": {},
   "outputs": [],
   "source": []
  },
  {
   "cell_type": "code",
   "execution_count": 1,
   "metadata": {},
   "outputs": [],
   "source": [
    "import matplotlib.pyplot as pt\n",
    "import pandas as pd\n",
    "import numpy as np\n",
    "from sklearn import metrics\n",
    "from sklearn.preprocessing import MinMaxScaler\n",
    "from math import sqrt\n",
    "import matplotlib as mpl\n",
    "from matplotlib import style\n",
    "style.use('fivethirtyeight')"
   ]
  },
  {
   "cell_type": "code",
   "execution_count": 2,
   "metadata": {},
   "outputs": [],
   "source": [
    "#locally weighted regression\n",
    "def lwr(inp, out, k):\n",
    "    m,n = np.shape(inp)\n",
    "    ypred = np.zeros(m)    \n",
    "    for i in range(m):\n",
    "        ypred[i] = inp[i] * beta(inp[i], inp, out, k)\n",
    "    #print(\"The final prediction is :\",ypred)\n",
    "    return ypred\n",
    "\n",
    "def lwr1(x0, inp, out, k):\n",
    "    m,n = np.shape(inp)\n",
    "    ypred = np.zeros(m)    \n",
    "    ypred = x0 * beta(x0, inp, out, k)\n",
    "    #print(\"The final prediction is :\",ypred)\n",
    "    return ypred\n",
    "\n",
    "def beta(point, inp, out, k):\n",
    "    wt = kernal(point, inp, k)\n",
    "    #print(\"The weight of betas is\",wt)\n",
    "    #print(\"Weight * inp\" , (inp.T * (wt*inp)).I)\n",
    "    out = out.reshape((inp.shape[0],1))\n",
    "#     print(inp.shape)\n",
    "#     print(wt.shape)\n",
    "#     print(out.shape)\n",
    "    beta_val = (inp.T * (wt*inp)).I * inp.T * wt * out\n",
    "    #print(\"The weight is beta value is\",beta_val)\n",
    "    return beta_val\n",
    "\n",
    "def kernal(point, inp, k):\n",
    "    l,b = np.shape(inp)\n",
    "    weights = np.mat(np.eye((l)))\n",
    "    #print(weights)    \n",
    "    for i in range(l):\n",
    "        #point = point.reshape((point.shape[0],1))\n",
    "        #print(point.shape,inp[i].shape)\n",
    "        diff = point - inp[i]\n",
    "        #print(diff.shape)\n",
    "        weights[i,i] = np.exp(np.dot(diff,diff.T) / (-2.0 * (k**2)))\n",
    "    return weights"
   ]
  },
  {
   "cell_type": "code",
   "execution_count": 3,
   "metadata": {},
   "outputs": [],
   "source": [
    "mpl.rcParams['figure.figsize'] = (18, 6)\n",
    "mpl.rcParams['axes.grid'] = True"
   ]
  },
  {
   "cell_type": "code",
   "execution_count": 752,
   "metadata": {},
   "outputs": [],
   "source": [
    "def sense_val_inflow(df):\n",
    "    sense_vals = []\n",
    "    for x in df['Inflow']:\n",
    "        if(x <= 50):\n",
    "            sense_vals.append(int(1))\n",
    "        if((x > 50) and (x<=100)):\n",
    "            sense_vals.append(int(2))    \n",
    "        if((x > 100) and (x<=500)):\n",
    "            sense_vals.append(int(3))\n",
    "        if((x > 500) and (x<=1000)):\n",
    "            sense_vals.append(int(4))\n",
    "        if((x > 1000) and (x <= 2000)):\n",
    "            sense_vals.append(int(5))\n",
    "        if((x > 2000) and (x<=3000)):\n",
    "            sense_vals.append(int(6))\n",
    "        if((x > 3000) and (x <= 4000)):\n",
    "            sense_vals.append(int(7))\n",
    "        if((x > 4000) and (x <= 5000)):\n",
    "            sense_vals.append(int(8))\n",
    "        if((x > 5000) and (x <= 6000)):\n",
    "            sense_vals.append(int(9))\n",
    "        if((x > 6000) and (x <= 7000)):\n",
    "            sense_vals.append(int(10))\n",
    "        if((x > 7000) and (x <= 8000)):\n",
    "            sense_vals.append(int(11))\n",
    "        if((x > 8000) and (x <= 9000)):\n",
    "            sense_vals.append(int(12))\n",
    "        if((x > 9000) and (x <= 10000)):\n",
    "            sense_vals.append(int(13))\n",
    "        if((x > 10000) and (x <= 15000)):\n",
    "            sense_vals.append(int(14))\n",
    "        if((x > 15000) and (x <= 20000)):\n",
    "            sense_vals.append(int(15))\n",
    "        if((x > 20000) and (x <= 30000)):\n",
    "            sense_vals.append(int(16))\n",
    "        if((x > 30000) and (x <= 40000)):\n",
    "            sense_vals.append(int(17))\n",
    "        if((x > 40000) and (x <= 60000)):\n",
    "            sense_vals.append(int(18))\n",
    "        if((x > 60000) and (x <= 70000)):\n",
    "            sense_vals.append(int(19))\n",
    "        if(x > 70000):\n",
    "            sense_vals.append(int(20))\n",
    "    return sense_vals"
   ]
  },
  {
   "cell_type": "code",
   "execution_count": 661,
   "metadata": {},
   "outputs": [],
   "source": [
    "# def sense_val_inflow(df):\n",
    "#     sense_vals = []\n",
    "#     for x in df['Inflow']:\n",
    "#         if(x <= 500):\n",
    "#             sense_vals.append(int(1))\n",
    "#         if((x > 500) and (x<=1000)):\n",
    "#             sense_vals.append(int(2))    \n",
    "#         if((x > 1000) and (x<=5000)):\n",
    "#             sense_vals.append(int(3))\n",
    "#         if((x > 5000) and (x<=10000)):\n",
    "#             sense_vals.append(int(4))\n",
    "#         if(x > 10000):\n",
    "#             sense_vals.append(int(5))\n",
    "# #         if((x > 2000) and (x<=3000)):\n",
    "# #             sense_vals.append(int(6))\n",
    "# #         if((x > 3000) and (x <= 4000)):\n",
    "# #             sense_vals.append(int(7))\n",
    "# #         if((x > 4000) and (x <= 5000)):\n",
    "# #             sense_vals.append(int(8))\n",
    "# #         if((x > 5000) and (x <= 6000)):\n",
    "# #             sense_vals.append(int(9))\n",
    "# #         if((x > 6000) and (x <= 7000)):\n",
    "# #             sense_vals.append(int(10))\n",
    "# #         if((x > 7000) and (x <= 8000)):\n",
    "# #             sense_vals.append(int(11))\n",
    "# #         if((x > 8000) and (x <= 9000)):\n",
    "# #             sense_vals.append(int(12))\n",
    "# #         if((x > 9000) and (x <= 10000)):\n",
    "# #             sense_vals.append(int(13))\n",
    "# #         if((x > 10000) and (x <= 15000)):\n",
    "# #             sense_vals.append(int(14))\n",
    "# #         if((x > 15000) and (x <= 20000)):\n",
    "# #             sense_vals.append(int(15))\n",
    "# #         if((x > 20000) and (x <= 30000)):\n",
    "# #             sense_vals.append(int(16))\n",
    "# #         if((x > 30000) and (x <= 40000)):\n",
    "# #             sense_vals.append(int(17))\n",
    "# #         if((x > 40000) and (x <= 60000)):\n",
    "# #             sense_vals.append(int(18))\n",
    "# #         if((x > 60000) and (x <= 70000)):\n",
    "# #             sense_vals.append(int(19))\n",
    "# #         if(x > 70000):\n",
    "# #             sense_vals.append(int(20))\n",
    "#     return sense_vals"
   ]
  },
  {
   "cell_type": "code",
   "execution_count": 662,
   "metadata": {},
   "outputs": [],
   "source": [
    "# def sense_val_avg(df):\n",
    "#     sense_vals = []\n",
    "#     for x in df['Avg']:\n",
    "#         if(x == 0):\n",
    "#             sense_vals.append(float(1))\n",
    "#         if((x > 0) and (x <= 1)):\n",
    "#             sense_vals.append(float(2))\n",
    "#         if((x > 1) and (x <= 2)):\n",
    "#             sense_vals.append(float(3))\n",
    "#         if((x > 2) and (x <= 3)):\n",
    "#             sense_vals.append(float(4))\n",
    "#         if((x > 3) and (x <= 4)):\n",
    "#             sense_vals.append(float(5))\n",
    "#         if((x > 4) and (x <= 5)):\n",
    "#             sense_vals.append(float(6))\n",
    "#         if((x > 5) and (x <= 6)):\n",
    "#             sense_vals.append(float(7))\n",
    "#         if((x > 6) and (x< 7)):\n",
    "#             sense_vals.append(float(8))\n",
    "#         if((x > 7) and (x <= 8)):\n",
    "#             sense_vals.append(float(9))\n",
    "#         if((x > 8) and (x <= 9)):\n",
    "#             sense_vals.append(float(10))\n",
    "#         if((x > 9) and (x <= 10)):\n",
    "#             sense_vals.append(float(11))\n",
    "#         if((x > 10) and (x <= 20)):\n",
    "#             sense_vals.append(float(12))\n",
    "#         if((x > 20) and (x <= 30)):\n",
    "#             sense_vals.append(float(13))\n",
    "#         if((x > 30) and (x <= 40)):\n",
    "#             sense_vals.append(float(14))\n",
    "#         if((x > 40) and (x <= 50)):\n",
    "#             sense_vals.append(float(15))\n",
    "#         if((x > 50) and (x <= 60)):\n",
    "#             sense_vals.append(float(16))\n",
    "#         if((x > 60) and (x <= 80)):\n",
    "#             sense_vals.append(float(17))\n",
    "#         if((x > 80) and (x <= 100)):\n",
    "#             sense_vals.append(float(18))\n",
    "#         if((x > 100) and (x <= 120)):\n",
    "#             sense_vals.append(float(19))\n",
    "#         if(x > 120):\n",
    "#             sense_vals.append(float(20))\n",
    "#     return sense_vals"
   ]
  },
  {
   "cell_type": "code",
   "execution_count": null,
   "metadata": {},
   "outputs": [],
   "source": []
  },
  {
   "cell_type": "code",
   "execution_count": 753,
   "metadata": {},
   "outputs": [],
   "source": [
    "#dataset preparation with lag\n",
    "def series_to_supervised(data, n_in=1, n_out=1, dropnan=True):\n",
    "\tn_vars = 1 if type(data) is list else data.shape[1]\n",
    "\tdf = pd.DataFrame(data)\n",
    "\tcols, names = list(), list()\n",
    "\t# input sequence (t-n, ... t-1)\n",
    "\tfor i in range(n_in, 0, -1):\n",
    "\t\tcols.append(df.shift(i))\n",
    "\t\tnames += [('var%d(t-%d)' % (j+1, i)) for j in range(n_vars)]\n",
    "\t# forecast sequence (t, t+1, ... t+n)\n",
    "\tfor i in range(0, n_out):\n",
    "\t\tcols.append(df.shift(-i))\n",
    "\t\tif i == 0:\n",
    "\t\t\tnames += [('var%d(t)' % (j+1)) for j in range(n_vars)]\n",
    "\t\telse:\n",
    "\t\t\tnames += [('var%d(t+%d)' % (j+1, i)) for j in range(n_vars)]\n",
    "\t# put it all together\n",
    "\tagg = pd.concat(cols, axis=1)\n",
    "\tagg.columns = names\n",
    "\t# drop rows with NaN values\n",
    "\tif dropnan:\n",
    "\t\tagg.dropna(inplace=True)\n",
    "\treturn agg"
   ]
  },
  {
   "cell_type": "code",
   "execution_count": 952,
   "metadata": {},
   "outputs": [],
   "source": [
    "lag_val = 9"
   ]
  },
  {
   "cell_type": "code",
   "execution_count": 996,
   "metadata": {},
   "outputs": [
    {
     "data": {
      "text/html": [
       "<div>\n",
       "<style scoped>\n",
       "    .dataframe tbody tr th:only-of-type {\n",
       "        vertical-align: middle;\n",
       "    }\n",
       "\n",
       "    .dataframe tbody tr th {\n",
       "        vertical-align: top;\n",
       "    }\n",
       "\n",
       "    .dataframe thead th {\n",
       "        text-align: right;\n",
       "    }\n",
       "</style>\n",
       "<table border=\"1\" class=\"dataframe\">\n",
       "  <thead>\n",
       "    <tr style=\"text-align: right;\">\n",
       "      <th></th>\n",
       "      <th>MADIKERI</th>\n",
       "      <th>SOMWARPET</th>\n",
       "      <th>VIRAJPET</th>\n",
       "      <th>Inflow_Label</th>\n",
       "    </tr>\n",
       "    <tr>\n",
       "      <th>Dates</th>\n",
       "      <th></th>\n",
       "      <th></th>\n",
       "      <th></th>\n",
       "      <th></th>\n",
       "    </tr>\n",
       "  </thead>\n",
       "  <tbody>\n",
       "    <tr>\n",
       "      <th>2011-01-01</th>\n",
       "      <td>0.000000</td>\n",
       "      <td>0.000000</td>\n",
       "      <td>0.0</td>\n",
       "      <td>3</td>\n",
       "    </tr>\n",
       "    <tr>\n",
       "      <th>2011-01-02</th>\n",
       "      <td>0.000000</td>\n",
       "      <td>0.000000</td>\n",
       "      <td>0.0</td>\n",
       "      <td>3</td>\n",
       "    </tr>\n",
       "    <tr>\n",
       "      <th>2011-01-03</th>\n",
       "      <td>0.000000</td>\n",
       "      <td>0.000000</td>\n",
       "      <td>0.0</td>\n",
       "      <td>3</td>\n",
       "    </tr>\n",
       "    <tr>\n",
       "      <th>2011-01-04</th>\n",
       "      <td>0.000000</td>\n",
       "      <td>0.000000</td>\n",
       "      <td>0.0</td>\n",
       "      <td>3</td>\n",
       "    </tr>\n",
       "    <tr>\n",
       "      <th>2011-01-05</th>\n",
       "      <td>0.000000</td>\n",
       "      <td>0.000000</td>\n",
       "      <td>0.0</td>\n",
       "      <td>3</td>\n",
       "    </tr>\n",
       "    <tr>\n",
       "      <th>...</th>\n",
       "      <td>...</td>\n",
       "      <td>...</td>\n",
       "      <td>...</td>\n",
       "      <td>...</td>\n",
       "    </tr>\n",
       "    <tr>\n",
       "      <th>2017-12-27</th>\n",
       "      <td>0.036796</td>\n",
       "      <td>0.847864</td>\n",
       "      <td>0.0</td>\n",
       "      <td>3</td>\n",
       "    </tr>\n",
       "    <tr>\n",
       "      <th>2017-12-28</th>\n",
       "      <td>0.037441</td>\n",
       "      <td>0.862739</td>\n",
       "      <td>0.0</td>\n",
       "      <td>3</td>\n",
       "    </tr>\n",
       "    <tr>\n",
       "      <th>2017-12-29</th>\n",
       "      <td>0.038087</td>\n",
       "      <td>0.877613</td>\n",
       "      <td>0.0</td>\n",
       "      <td>3</td>\n",
       "    </tr>\n",
       "    <tr>\n",
       "      <th>2017-12-30</th>\n",
       "      <td>0.038732</td>\n",
       "      <td>0.892488</td>\n",
       "      <td>0.0</td>\n",
       "      <td>3</td>\n",
       "    </tr>\n",
       "    <tr>\n",
       "      <th>2017-12-31</th>\n",
       "      <td>0.039378</td>\n",
       "      <td>0.907363</td>\n",
       "      <td>0.0</td>\n",
       "      <td>3</td>\n",
       "    </tr>\n",
       "  </tbody>\n",
       "</table>\n",
       "<p>2557 rows × 4 columns</p>\n",
       "</div>"
      ],
      "text/plain": [
       "            MADIKERI  SOMWARPET  VIRAJPET  Inflow_Label\n",
       "Dates                                                  \n",
       "2011-01-01  0.000000   0.000000       0.0             3\n",
       "2011-01-02  0.000000   0.000000       0.0             3\n",
       "2011-01-03  0.000000   0.000000       0.0             3\n",
       "2011-01-04  0.000000   0.000000       0.0             3\n",
       "2011-01-05  0.000000   0.000000       0.0             3\n",
       "...              ...        ...       ...           ...\n",
       "2017-12-27  0.036796   0.847864       0.0             3\n",
       "2017-12-28  0.037441   0.862739       0.0             3\n",
       "2017-12-29  0.038087   0.877613       0.0             3\n",
       "2017-12-30  0.038732   0.892488       0.0             3\n",
       "2017-12-31  0.039378   0.907363       0.0             3\n",
       "\n",
       "[2557 rows x 4 columns]"
      ]
     },
     "execution_count": 996,
     "metadata": {},
     "output_type": "execute_result"
    }
   ],
   "source": [
    "df = pd.read_csv('allYearLabeledHarangi.csv')\n",
    "df\n",
    "a = \"RCDATE\"\n",
    "b = \"Dates\"\n",
    "df['month'] = pd.DatetimeIndex(df[b]).month\n",
    "df['year'] = pd.DatetimeIndex(df[b]).year\n",
    "df = df.sort_values(by = ['month','Dates'])\n",
    "mask = (df['month'] <= 12)#&(df['month'] >=6))\n",
    "mask1 = (df['year'] <= 2017)\n",
    "df = df.loc[mask]\n",
    "df = df.loc[mask1]\n",
    "df.drop(['Label'],axis = 1,inplace = True)\n",
    "#df['Avg'] = (df['MADIKERI']+df['SOMWARPET']+df['VIRAJPET'])/3\n",
    "#df.to_csv(r\"/home/ganesh/Downloads/avg_added_pred.csv\")\n",
    "df.set_index(b,inplace = True)\n",
    "#df.to_csv(r\"/home/ganesh/Downloads/avg_added_pred.csv\")     \n",
    "dataframe = pd.DataFrame(df, columns = ['MADIKERI', 'SOMWARPET', 'VIRAJPET'])\n",
    "dataframe[\"minimum\"] = dataframe.min(axis = 1)\n",
    "df.drop(['month','year',\"Present Storage(TMC)\",'Reservoir Level(TMC)','Outflow'],axis = 1,inplace = True)\n",
    "#df.drop(['Inflow'],axis = 1,inplace = True)\n",
    "df['Inflow_Label'] = sense_val_inflow(df)\n",
    "#df['Rainfall_Label'] = sense_val_avg(df)\n",
    "#df['Mul'] = df['Inflow_Label'] * df['Rainfall_Label']\n",
    "#df.to_csv(r\"/home/ganesh/Downloads/avg1_added_pred.csv\") \n",
    "#df.drop(['Avg','Inflow_Label'],axis = 1,inplace = True)\n",
    "#df['Inflow_Label'] = sense_val_inflow(df)\n",
    "# count = df['Label'].value_counts()\n",
    "df.drop(['Inflow'],axis = 1,inplace = True)\n",
    "#count\n",
    "df"
   ]
  },
  {
   "cell_type": "code",
   "execution_count": 997,
   "metadata": {},
   "outputs": [
    {
     "data": {
      "text/html": [
       "<div>\n",
       "<style scoped>\n",
       "    .dataframe tbody tr th:only-of-type {\n",
       "        vertical-align: middle;\n",
       "    }\n",
       "\n",
       "    .dataframe tbody tr th {\n",
       "        vertical-align: top;\n",
       "    }\n",
       "\n",
       "    .dataframe thead th {\n",
       "        text-align: right;\n",
       "    }\n",
       "</style>\n",
       "<table border=\"1\" class=\"dataframe\">\n",
       "  <thead>\n",
       "    <tr style=\"text-align: right;\">\n",
       "      <th></th>\n",
       "      <th>var1(t-9)</th>\n",
       "      <th>var2(t-9)</th>\n",
       "      <th>var3(t-9)</th>\n",
       "      <th>var4(t-9)</th>\n",
       "      <th>var1(t-8)</th>\n",
       "      <th>var2(t-8)</th>\n",
       "      <th>var3(t-8)</th>\n",
       "      <th>var4(t-8)</th>\n",
       "      <th>var1(t-7)</th>\n",
       "      <th>var2(t-7)</th>\n",
       "      <th>...</th>\n",
       "      <th>var3(t-2)</th>\n",
       "      <th>var4(t-2)</th>\n",
       "      <th>var1(t-1)</th>\n",
       "      <th>var2(t-1)</th>\n",
       "      <th>var3(t-1)</th>\n",
       "      <th>var4(t-1)</th>\n",
       "      <th>var1(t)</th>\n",
       "      <th>var2(t)</th>\n",
       "      <th>var3(t)</th>\n",
       "      <th>var4(t)</th>\n",
       "    </tr>\n",
       "  </thead>\n",
       "  <tbody>\n",
       "    <tr>\n",
       "      <th>9</th>\n",
       "      <td>0.000000</td>\n",
       "      <td>0.000000</td>\n",
       "      <td>0.0</td>\n",
       "      <td>3.0</td>\n",
       "      <td>0.000000</td>\n",
       "      <td>0.000000</td>\n",
       "      <td>0.0</td>\n",
       "      <td>3.0</td>\n",
       "      <td>0.000000</td>\n",
       "      <td>0.000000</td>\n",
       "      <td>...</td>\n",
       "      <td>0.0</td>\n",
       "      <td>3.0</td>\n",
       "      <td>0.000000</td>\n",
       "      <td>0.000000</td>\n",
       "      <td>0.0</td>\n",
       "      <td>3.0</td>\n",
       "      <td>0.000000</td>\n",
       "      <td>0.000000</td>\n",
       "      <td>0.0</td>\n",
       "      <td>3.0</td>\n",
       "    </tr>\n",
       "    <tr>\n",
       "      <th>10</th>\n",
       "      <td>0.000000</td>\n",
       "      <td>0.000000</td>\n",
       "      <td>0.0</td>\n",
       "      <td>3.0</td>\n",
       "      <td>0.000000</td>\n",
       "      <td>0.000000</td>\n",
       "      <td>0.0</td>\n",
       "      <td>3.0</td>\n",
       "      <td>0.000000</td>\n",
       "      <td>0.000000</td>\n",
       "      <td>...</td>\n",
       "      <td>0.0</td>\n",
       "      <td>3.0</td>\n",
       "      <td>0.000000</td>\n",
       "      <td>0.000000</td>\n",
       "      <td>0.0</td>\n",
       "      <td>3.0</td>\n",
       "      <td>0.000000</td>\n",
       "      <td>0.000000</td>\n",
       "      <td>0.0</td>\n",
       "      <td>3.0</td>\n",
       "    </tr>\n",
       "    <tr>\n",
       "      <th>11</th>\n",
       "      <td>0.000000</td>\n",
       "      <td>0.000000</td>\n",
       "      <td>0.0</td>\n",
       "      <td>3.0</td>\n",
       "      <td>0.000000</td>\n",
       "      <td>0.000000</td>\n",
       "      <td>0.0</td>\n",
       "      <td>3.0</td>\n",
       "      <td>0.000000</td>\n",
       "      <td>0.000000</td>\n",
       "      <td>...</td>\n",
       "      <td>0.0</td>\n",
       "      <td>3.0</td>\n",
       "      <td>0.000000</td>\n",
       "      <td>0.000000</td>\n",
       "      <td>0.0</td>\n",
       "      <td>3.0</td>\n",
       "      <td>0.000000</td>\n",
       "      <td>0.000000</td>\n",
       "      <td>0.0</td>\n",
       "      <td>2.0</td>\n",
       "    </tr>\n",
       "    <tr>\n",
       "      <th>12</th>\n",
       "      <td>0.000000</td>\n",
       "      <td>0.000000</td>\n",
       "      <td>0.0</td>\n",
       "      <td>3.0</td>\n",
       "      <td>0.000000</td>\n",
       "      <td>0.000000</td>\n",
       "      <td>0.0</td>\n",
       "      <td>3.0</td>\n",
       "      <td>0.000000</td>\n",
       "      <td>0.000000</td>\n",
       "      <td>...</td>\n",
       "      <td>0.0</td>\n",
       "      <td>3.0</td>\n",
       "      <td>0.000000</td>\n",
       "      <td>0.000000</td>\n",
       "      <td>0.0</td>\n",
       "      <td>2.0</td>\n",
       "      <td>0.000000</td>\n",
       "      <td>0.000000</td>\n",
       "      <td>0.0</td>\n",
       "      <td>2.0</td>\n",
       "    </tr>\n",
       "    <tr>\n",
       "      <th>13</th>\n",
       "      <td>0.000000</td>\n",
       "      <td>0.000000</td>\n",
       "      <td>0.0</td>\n",
       "      <td>3.0</td>\n",
       "      <td>0.000000</td>\n",
       "      <td>0.000000</td>\n",
       "      <td>0.0</td>\n",
       "      <td>3.0</td>\n",
       "      <td>0.000000</td>\n",
       "      <td>0.000000</td>\n",
       "      <td>...</td>\n",
       "      <td>0.0</td>\n",
       "      <td>2.0</td>\n",
       "      <td>0.000000</td>\n",
       "      <td>0.000000</td>\n",
       "      <td>0.0</td>\n",
       "      <td>2.0</td>\n",
       "      <td>0.000000</td>\n",
       "      <td>0.000000</td>\n",
       "      <td>0.0</td>\n",
       "      <td>2.0</td>\n",
       "    </tr>\n",
       "    <tr>\n",
       "      <th>...</th>\n",
       "      <td>...</td>\n",
       "      <td>...</td>\n",
       "      <td>...</td>\n",
       "      <td>...</td>\n",
       "      <td>...</td>\n",
       "      <td>...</td>\n",
       "      <td>...</td>\n",
       "      <td>...</td>\n",
       "      <td>...</td>\n",
       "      <td>...</td>\n",
       "      <td>...</td>\n",
       "      <td>...</td>\n",
       "      <td>...</td>\n",
       "      <td>...</td>\n",
       "      <td>...</td>\n",
       "      <td>...</td>\n",
       "      <td>...</td>\n",
       "      <td>...</td>\n",
       "      <td>...</td>\n",
       "      <td>...</td>\n",
       "      <td>...</td>\n",
       "    </tr>\n",
       "    <tr>\n",
       "      <th>2552</th>\n",
       "      <td>0.030986</td>\n",
       "      <td>0.713991</td>\n",
       "      <td>0.0</td>\n",
       "      <td>2.0</td>\n",
       "      <td>0.031631</td>\n",
       "      <td>0.728865</td>\n",
       "      <td>0.0</td>\n",
       "      <td>2.0</td>\n",
       "      <td>0.032277</td>\n",
       "      <td>0.743740</td>\n",
       "      <td>...</td>\n",
       "      <td>0.0</td>\n",
       "      <td>3.0</td>\n",
       "      <td>0.036150</td>\n",
       "      <td>0.832989</td>\n",
       "      <td>0.0</td>\n",
       "      <td>3.0</td>\n",
       "      <td>0.036796</td>\n",
       "      <td>0.847864</td>\n",
       "      <td>0.0</td>\n",
       "      <td>3.0</td>\n",
       "    </tr>\n",
       "    <tr>\n",
       "      <th>2553</th>\n",
       "      <td>0.031631</td>\n",
       "      <td>0.728865</td>\n",
       "      <td>0.0</td>\n",
       "      <td>2.0</td>\n",
       "      <td>0.032277</td>\n",
       "      <td>0.743740</td>\n",
       "      <td>0.0</td>\n",
       "      <td>2.0</td>\n",
       "      <td>0.032923</td>\n",
       "      <td>0.758615</td>\n",
       "      <td>...</td>\n",
       "      <td>0.0</td>\n",
       "      <td>3.0</td>\n",
       "      <td>0.036796</td>\n",
       "      <td>0.847864</td>\n",
       "      <td>0.0</td>\n",
       "      <td>3.0</td>\n",
       "      <td>0.037441</td>\n",
       "      <td>0.862739</td>\n",
       "      <td>0.0</td>\n",
       "      <td>3.0</td>\n",
       "    </tr>\n",
       "    <tr>\n",
       "      <th>2554</th>\n",
       "      <td>0.032277</td>\n",
       "      <td>0.743740</td>\n",
       "      <td>0.0</td>\n",
       "      <td>2.0</td>\n",
       "      <td>0.032923</td>\n",
       "      <td>0.758615</td>\n",
       "      <td>0.0</td>\n",
       "      <td>3.0</td>\n",
       "      <td>0.033568</td>\n",
       "      <td>0.773490</td>\n",
       "      <td>...</td>\n",
       "      <td>0.0</td>\n",
       "      <td>3.0</td>\n",
       "      <td>0.037441</td>\n",
       "      <td>0.862739</td>\n",
       "      <td>0.0</td>\n",
       "      <td>3.0</td>\n",
       "      <td>0.038087</td>\n",
       "      <td>0.877613</td>\n",
       "      <td>0.0</td>\n",
       "      <td>3.0</td>\n",
       "    </tr>\n",
       "    <tr>\n",
       "      <th>2555</th>\n",
       "      <td>0.032923</td>\n",
       "      <td>0.758615</td>\n",
       "      <td>0.0</td>\n",
       "      <td>3.0</td>\n",
       "      <td>0.033568</td>\n",
       "      <td>0.773490</td>\n",
       "      <td>0.0</td>\n",
       "      <td>3.0</td>\n",
       "      <td>0.034214</td>\n",
       "      <td>0.788365</td>\n",
       "      <td>...</td>\n",
       "      <td>0.0</td>\n",
       "      <td>3.0</td>\n",
       "      <td>0.038087</td>\n",
       "      <td>0.877613</td>\n",
       "      <td>0.0</td>\n",
       "      <td>3.0</td>\n",
       "      <td>0.038732</td>\n",
       "      <td>0.892488</td>\n",
       "      <td>0.0</td>\n",
       "      <td>3.0</td>\n",
       "    </tr>\n",
       "    <tr>\n",
       "      <th>2556</th>\n",
       "      <td>0.033568</td>\n",
       "      <td>0.773490</td>\n",
       "      <td>0.0</td>\n",
       "      <td>3.0</td>\n",
       "      <td>0.034214</td>\n",
       "      <td>0.788365</td>\n",
       "      <td>0.0</td>\n",
       "      <td>3.0</td>\n",
       "      <td>0.034859</td>\n",
       "      <td>0.803239</td>\n",
       "      <td>...</td>\n",
       "      <td>0.0</td>\n",
       "      <td>3.0</td>\n",
       "      <td>0.038732</td>\n",
       "      <td>0.892488</td>\n",
       "      <td>0.0</td>\n",
       "      <td>3.0</td>\n",
       "      <td>0.039378</td>\n",
       "      <td>0.907363</td>\n",
       "      <td>0.0</td>\n",
       "      <td>3.0</td>\n",
       "    </tr>\n",
       "  </tbody>\n",
       "</table>\n",
       "<p>2548 rows × 40 columns</p>\n",
       "</div>"
      ],
      "text/plain": [
       "      var1(t-9)  var2(t-9)  var3(t-9)  var4(t-9)  var1(t-8)  var2(t-8)  \\\n",
       "9      0.000000   0.000000        0.0        3.0   0.000000   0.000000   \n",
       "10     0.000000   0.000000        0.0        3.0   0.000000   0.000000   \n",
       "11     0.000000   0.000000        0.0        3.0   0.000000   0.000000   \n",
       "12     0.000000   0.000000        0.0        3.0   0.000000   0.000000   \n",
       "13     0.000000   0.000000        0.0        3.0   0.000000   0.000000   \n",
       "...         ...        ...        ...        ...        ...        ...   \n",
       "2552   0.030986   0.713991        0.0        2.0   0.031631   0.728865   \n",
       "2553   0.031631   0.728865        0.0        2.0   0.032277   0.743740   \n",
       "2554   0.032277   0.743740        0.0        2.0   0.032923   0.758615   \n",
       "2555   0.032923   0.758615        0.0        3.0   0.033568   0.773490   \n",
       "2556   0.033568   0.773490        0.0        3.0   0.034214   0.788365   \n",
       "\n",
       "      var3(t-8)  var4(t-8)  var1(t-7)  var2(t-7)  ...  var3(t-2)  var4(t-2)  \\\n",
       "9           0.0        3.0   0.000000   0.000000  ...        0.0        3.0   \n",
       "10          0.0        3.0   0.000000   0.000000  ...        0.0        3.0   \n",
       "11          0.0        3.0   0.000000   0.000000  ...        0.0        3.0   \n",
       "12          0.0        3.0   0.000000   0.000000  ...        0.0        3.0   \n",
       "13          0.0        3.0   0.000000   0.000000  ...        0.0        2.0   \n",
       "...         ...        ...        ...        ...  ...        ...        ...   \n",
       "2552        0.0        2.0   0.032277   0.743740  ...        0.0        3.0   \n",
       "2553        0.0        2.0   0.032923   0.758615  ...        0.0        3.0   \n",
       "2554        0.0        3.0   0.033568   0.773490  ...        0.0        3.0   \n",
       "2555        0.0        3.0   0.034214   0.788365  ...        0.0        3.0   \n",
       "2556        0.0        3.0   0.034859   0.803239  ...        0.0        3.0   \n",
       "\n",
       "      var1(t-1)  var2(t-1)  var3(t-1)  var4(t-1)   var1(t)   var2(t)  var3(t)  \\\n",
       "9      0.000000   0.000000        0.0        3.0  0.000000  0.000000      0.0   \n",
       "10     0.000000   0.000000        0.0        3.0  0.000000  0.000000      0.0   \n",
       "11     0.000000   0.000000        0.0        3.0  0.000000  0.000000      0.0   \n",
       "12     0.000000   0.000000        0.0        2.0  0.000000  0.000000      0.0   \n",
       "13     0.000000   0.000000        0.0        2.0  0.000000  0.000000      0.0   \n",
       "...         ...        ...        ...        ...       ...       ...      ...   \n",
       "2552   0.036150   0.832989        0.0        3.0  0.036796  0.847864      0.0   \n",
       "2553   0.036796   0.847864        0.0        3.0  0.037441  0.862739      0.0   \n",
       "2554   0.037441   0.862739        0.0        3.0  0.038087  0.877613      0.0   \n",
       "2555   0.038087   0.877613        0.0        3.0  0.038732  0.892488      0.0   \n",
       "2556   0.038732   0.892488        0.0        3.0  0.039378  0.907363      0.0   \n",
       "\n",
       "      var4(t)  \n",
       "9         3.0  \n",
       "10        3.0  \n",
       "11        2.0  \n",
       "12        2.0  \n",
       "13        2.0  \n",
       "...       ...  \n",
       "2552      3.0  \n",
       "2553      3.0  \n",
       "2554      3.0  \n",
       "2555      3.0  \n",
       "2556      3.0  \n",
       "\n",
       "[2548 rows x 40 columns]"
      ]
     },
     "execution_count": 997,
     "metadata": {},
     "output_type": "execute_result"
    }
   ],
   "source": [
    "values = df.values\n",
    "values = values.astype('float64')\n",
    "# normalize features\n",
    "# scaler = MinMaxScaler(feature_range=(0, 1))\n",
    "# scaled = scaler.fit_transform(values)\n",
    "# data=pd.DataFrame({'Inflow':scaled[:,0],'MADIKERI':scaled[:,1],'SOMWARPET':scaled[:,2],'VIRAJPET':scaled[:,3]})\n",
    "# print(data.shape)\n",
    "# idx = pd.date_range('2011-01-01', '2011-12-31') \n",
    "# data.set_index(idx)\n",
    "# frame as supervised learning\n",
    "reframed = series_to_supervised(values, lag_val,1)#lag of 4 days\n",
    "# drop columns we don't want to predict\n",
    "reframed.drop(reframed.columns[[]], axis=1, inplace=True)\n",
    "reframed\n"
   ]
  },
  {
   "cell_type": "code",
   "execution_count": 998,
   "metadata": {},
   "outputs": [],
   "source": [
    "# colA = np.array(data.loc[:,['MADIKERI','SOMWARPET','VIRAJPET']])\n",
    "# colB = np.array(data['Inflow'])\n",
    "\n",
    "# l,b = np.shape(colA)\n",
    "# l,b\n",
    "# print(np.shape(colA))\n",
    "# print(np.shape(colB))\n",
    "# colA\n",
    "# colB = colB.T\n",
    "# t_vals = []\n",
    "# for i in range(l):\n",
    "#     a = colA[i]\n",
    "#     b = colB[i]\n",
    "#     t_vals.append((a,b))\n",
    "# #t_vals = np.array(t_vals)\n",
    "# print(t_vals)\n",
    "# np.shape(t_vals)\n"
   ]
  },
  {
   "cell_type": "code",
   "execution_count": 999,
   "metadata": {},
   "outputs": [
    {
     "name": "stdout",
     "output_type": "stream",
     "text": [
      "(2548, 39)\n",
      "(2548, 1)\n"
     ]
    },
    {
     "data": {
      "text/plain": [
       "array([[3],\n",
       "       [3],\n",
       "       [2],\n",
       "       ...,\n",
       "       [3],\n",
       "       [3],\n",
       "       [3]])"
      ]
     },
     "execution_count": 999,
     "metadata": {},
     "output_type": "execute_result"
    }
   ],
   "source": [
    "values = reframed.values\n",
    "#np.random.shuffle(values)\n",
    "train_x = values[:,:-1]\n",
    "#print(train_x)\n",
    "train_y = values[:,-1].astype(int)\n",
    "train_y = train_y.reshape((train_x.shape[0],1))\n",
    "print(train_x.shape)\n",
    "print(train_y.shape)\n",
    "train_x.shape\n",
    "inp = values\n",
    "train_x\n",
    "train_y"
   ]
  },
  {
   "cell_type": "code",
   "execution_count": 1000,
   "metadata": {},
   "outputs": [
    {
     "data": {
      "text/html": [
       "<div>\n",
       "<style scoped>\n",
       "    .dataframe tbody tr th:only-of-type {\n",
       "        vertical-align: middle;\n",
       "    }\n",
       "\n",
       "    .dataframe tbody tr th {\n",
       "        vertical-align: top;\n",
       "    }\n",
       "\n",
       "    .dataframe thead th {\n",
       "        text-align: right;\n",
       "    }\n",
       "</style>\n",
       "<table border=\"1\" class=\"dataframe\">\n",
       "  <thead>\n",
       "    <tr style=\"text-align: right;\">\n",
       "      <th></th>\n",
       "      <th>MADIKERI</th>\n",
       "      <th>SOMWARPET</th>\n",
       "      <th>VIRAJPET</th>\n",
       "      <th>Inflow_Label</th>\n",
       "    </tr>\n",
       "    <tr>\n",
       "      <th>Dates</th>\n",
       "      <th></th>\n",
       "      <th></th>\n",
       "      <th></th>\n",
       "      <th></th>\n",
       "    </tr>\n",
       "  </thead>\n",
       "  <tbody>\n",
       "    <tr>\n",
       "      <th>2018-01-01</th>\n",
       "      <td>0.040023</td>\n",
       "      <td>0.922238</td>\n",
       "      <td>0.0</td>\n",
       "      <td>3</td>\n",
       "    </tr>\n",
       "    <tr>\n",
       "      <th>2018-01-02</th>\n",
       "      <td>0.040669</td>\n",
       "      <td>0.937113</td>\n",
       "      <td>0.0</td>\n",
       "      <td>3</td>\n",
       "    </tr>\n",
       "    <tr>\n",
       "      <th>2018-01-03</th>\n",
       "      <td>0.041315</td>\n",
       "      <td>0.951987</td>\n",
       "      <td>0.0</td>\n",
       "      <td>3</td>\n",
       "    </tr>\n",
       "    <tr>\n",
       "      <th>2018-01-04</th>\n",
       "      <td>0.041960</td>\n",
       "      <td>0.966862</td>\n",
       "      <td>0.0</td>\n",
       "      <td>3</td>\n",
       "    </tr>\n",
       "    <tr>\n",
       "      <th>2018-01-05</th>\n",
       "      <td>0.042606</td>\n",
       "      <td>0.981737</td>\n",
       "      <td>0.0</td>\n",
       "      <td>3</td>\n",
       "    </tr>\n",
       "    <tr>\n",
       "      <th>2018-01-06</th>\n",
       "      <td>0.043251</td>\n",
       "      <td>0.996612</td>\n",
       "      <td>0.0</td>\n",
       "      <td>3</td>\n",
       "    </tr>\n",
       "    <tr>\n",
       "      <th>2018-01-07</th>\n",
       "      <td>0.043897</td>\n",
       "      <td>1.011487</td>\n",
       "      <td>0.0</td>\n",
       "      <td>3</td>\n",
       "    </tr>\n",
       "    <tr>\n",
       "      <th>2018-01-08</th>\n",
       "      <td>0.044542</td>\n",
       "      <td>1.026362</td>\n",
       "      <td>0.0</td>\n",
       "      <td>3</td>\n",
       "    </tr>\n",
       "    <tr>\n",
       "      <th>2018-01-09</th>\n",
       "      <td>0.045188</td>\n",
       "      <td>1.041236</td>\n",
       "      <td>0.0</td>\n",
       "      <td>3</td>\n",
       "    </tr>\n",
       "    <tr>\n",
       "      <th>2018-01-10</th>\n",
       "      <td>0.045833</td>\n",
       "      <td>1.056111</td>\n",
       "      <td>0.0</td>\n",
       "      <td>3</td>\n",
       "    </tr>\n",
       "    <tr>\n",
       "      <th>2018-01-11</th>\n",
       "      <td>0.046479</td>\n",
       "      <td>1.070986</td>\n",
       "      <td>0.0</td>\n",
       "      <td>3</td>\n",
       "    </tr>\n",
       "    <tr>\n",
       "      <th>2018-01-12</th>\n",
       "      <td>0.047124</td>\n",
       "      <td>1.085861</td>\n",
       "      <td>0.0</td>\n",
       "      <td>3</td>\n",
       "    </tr>\n",
       "    <tr>\n",
       "      <th>2018-01-13</th>\n",
       "      <td>0.047770</td>\n",
       "      <td>1.100736</td>\n",
       "      <td>0.0</td>\n",
       "      <td>3</td>\n",
       "    </tr>\n",
       "    <tr>\n",
       "      <th>2018-01-14</th>\n",
       "      <td>0.048415</td>\n",
       "      <td>1.115610</td>\n",
       "      <td>0.0</td>\n",
       "      <td>3</td>\n",
       "    </tr>\n",
       "    <tr>\n",
       "      <th>2018-01-15</th>\n",
       "      <td>0.049061</td>\n",
       "      <td>1.130485</td>\n",
       "      <td>0.0</td>\n",
       "      <td>3</td>\n",
       "    </tr>\n",
       "    <tr>\n",
       "      <th>2018-01-16</th>\n",
       "      <td>0.049707</td>\n",
       "      <td>1.145360</td>\n",
       "      <td>0.0</td>\n",
       "      <td>3</td>\n",
       "    </tr>\n",
       "    <tr>\n",
       "      <th>2018-01-17</th>\n",
       "      <td>0.050352</td>\n",
       "      <td>1.160235</td>\n",
       "      <td>0.0</td>\n",
       "      <td>3</td>\n",
       "    </tr>\n",
       "    <tr>\n",
       "      <th>2018-01-18</th>\n",
       "      <td>0.050998</td>\n",
       "      <td>1.175110</td>\n",
       "      <td>0.0</td>\n",
       "      <td>3</td>\n",
       "    </tr>\n",
       "    <tr>\n",
       "      <th>2018-01-19</th>\n",
       "      <td>0.051643</td>\n",
       "      <td>1.189984</td>\n",
       "      <td>0.0</td>\n",
       "      <td>3</td>\n",
       "    </tr>\n",
       "    <tr>\n",
       "      <th>2018-01-20</th>\n",
       "      <td>0.052289</td>\n",
       "      <td>1.204859</td>\n",
       "      <td>0.0</td>\n",
       "      <td>3</td>\n",
       "    </tr>\n",
       "    <tr>\n",
       "      <th>2018-01-21</th>\n",
       "      <td>0.052934</td>\n",
       "      <td>1.219734</td>\n",
       "      <td>0.0</td>\n",
       "      <td>3</td>\n",
       "    </tr>\n",
       "    <tr>\n",
       "      <th>2018-01-22</th>\n",
       "      <td>0.053580</td>\n",
       "      <td>1.234609</td>\n",
       "      <td>0.0</td>\n",
       "      <td>3</td>\n",
       "    </tr>\n",
       "    <tr>\n",
       "      <th>2018-01-23</th>\n",
       "      <td>0.054225</td>\n",
       "      <td>1.249484</td>\n",
       "      <td>0.0</td>\n",
       "      <td>3</td>\n",
       "    </tr>\n",
       "    <tr>\n",
       "      <th>2018-01-24</th>\n",
       "      <td>0.054871</td>\n",
       "      <td>1.264358</td>\n",
       "      <td>0.0</td>\n",
       "      <td>3</td>\n",
       "    </tr>\n",
       "    <tr>\n",
       "      <th>2018-01-25</th>\n",
       "      <td>0.055516</td>\n",
       "      <td>1.279233</td>\n",
       "      <td>0.0</td>\n",
       "      <td>3</td>\n",
       "    </tr>\n",
       "    <tr>\n",
       "      <th>2018-01-26</th>\n",
       "      <td>0.056162</td>\n",
       "      <td>1.294108</td>\n",
       "      <td>0.0</td>\n",
       "      <td>3</td>\n",
       "    </tr>\n",
       "    <tr>\n",
       "      <th>2018-01-27</th>\n",
       "      <td>0.056808</td>\n",
       "      <td>1.308983</td>\n",
       "      <td>0.0</td>\n",
       "      <td>3</td>\n",
       "    </tr>\n",
       "    <tr>\n",
       "      <th>2018-01-28</th>\n",
       "      <td>0.057453</td>\n",
       "      <td>1.323858</td>\n",
       "      <td>0.0</td>\n",
       "      <td>3</td>\n",
       "    </tr>\n",
       "    <tr>\n",
       "      <th>2018-01-29</th>\n",
       "      <td>0.058099</td>\n",
       "      <td>1.338732</td>\n",
       "      <td>0.0</td>\n",
       "      <td>3</td>\n",
       "    </tr>\n",
       "    <tr>\n",
       "      <th>2018-01-30</th>\n",
       "      <td>0.058744</td>\n",
       "      <td>1.353607</td>\n",
       "      <td>0.0</td>\n",
       "      <td>3</td>\n",
       "    </tr>\n",
       "    <tr>\n",
       "      <th>2018-01-31</th>\n",
       "      <td>0.059390</td>\n",
       "      <td>1.368482</td>\n",
       "      <td>0.0</td>\n",
       "      <td>3</td>\n",
       "    </tr>\n",
       "    <tr>\n",
       "      <th>2018-02-01</th>\n",
       "      <td>0.060035</td>\n",
       "      <td>1.383357</td>\n",
       "      <td>0.0</td>\n",
       "      <td>2</td>\n",
       "    </tr>\n",
       "    <tr>\n",
       "      <th>2018-02-02</th>\n",
       "      <td>0.060681</td>\n",
       "      <td>1.398232</td>\n",
       "      <td>0.0</td>\n",
       "      <td>2</td>\n",
       "    </tr>\n",
       "    <tr>\n",
       "      <th>2018-02-03</th>\n",
       "      <td>0.061326</td>\n",
       "      <td>1.413106</td>\n",
       "      <td>0.0</td>\n",
       "      <td>2</td>\n",
       "    </tr>\n",
       "    <tr>\n",
       "      <th>2018-02-04</th>\n",
       "      <td>0.061972</td>\n",
       "      <td>1.427981</td>\n",
       "      <td>0.0</td>\n",
       "      <td>2</td>\n",
       "    </tr>\n",
       "    <tr>\n",
       "      <th>2018-02-05</th>\n",
       "      <td>0.062617</td>\n",
       "      <td>1.442856</td>\n",
       "      <td>0.0</td>\n",
       "      <td>2</td>\n",
       "    </tr>\n",
       "    <tr>\n",
       "      <th>2018-02-06</th>\n",
       "      <td>0.063263</td>\n",
       "      <td>1.457731</td>\n",
       "      <td>0.0</td>\n",
       "      <td>2</td>\n",
       "    </tr>\n",
       "    <tr>\n",
       "      <th>2018-02-07</th>\n",
       "      <td>0.063908</td>\n",
       "      <td>1.472606</td>\n",
       "      <td>0.0</td>\n",
       "      <td>2</td>\n",
       "    </tr>\n",
       "    <tr>\n",
       "      <th>2018-02-08</th>\n",
       "      <td>0.064554</td>\n",
       "      <td>1.487480</td>\n",
       "      <td>0.0</td>\n",
       "      <td>2</td>\n",
       "    </tr>\n",
       "    <tr>\n",
       "      <th>2018-02-09</th>\n",
       "      <td>0.065200</td>\n",
       "      <td>1.502355</td>\n",
       "      <td>0.0</td>\n",
       "      <td>3</td>\n",
       "    </tr>\n",
       "    <tr>\n",
       "      <th>2018-02-10</th>\n",
       "      <td>0.065845</td>\n",
       "      <td>1.517230</td>\n",
       "      <td>0.0</td>\n",
       "      <td>3</td>\n",
       "    </tr>\n",
       "    <tr>\n",
       "      <th>2018-02-11</th>\n",
       "      <td>0.066491</td>\n",
       "      <td>1.532105</td>\n",
       "      <td>0.0</td>\n",
       "      <td>3</td>\n",
       "    </tr>\n",
       "    <tr>\n",
       "      <th>2018-02-12</th>\n",
       "      <td>0.067136</td>\n",
       "      <td>1.546980</td>\n",
       "      <td>0.0</td>\n",
       "      <td>2</td>\n",
       "    </tr>\n",
       "    <tr>\n",
       "      <th>2018-02-13</th>\n",
       "      <td>0.067782</td>\n",
       "      <td>1.561854</td>\n",
       "      <td>0.0</td>\n",
       "      <td>2</td>\n",
       "    </tr>\n",
       "    <tr>\n",
       "      <th>2018-02-14</th>\n",
       "      <td>0.068427</td>\n",
       "      <td>1.576729</td>\n",
       "      <td>0.0</td>\n",
       "      <td>3</td>\n",
       "    </tr>\n",
       "    <tr>\n",
       "      <th>2018-02-15</th>\n",
       "      <td>0.069073</td>\n",
       "      <td>1.591604</td>\n",
       "      <td>0.0</td>\n",
       "      <td>2</td>\n",
       "    </tr>\n",
       "    <tr>\n",
       "      <th>2018-02-16</th>\n",
       "      <td>0.069718</td>\n",
       "      <td>1.606479</td>\n",
       "      <td>0.0</td>\n",
       "      <td>2</td>\n",
       "    </tr>\n",
       "    <tr>\n",
       "      <th>2018-02-17</th>\n",
       "      <td>0.070364</td>\n",
       "      <td>1.621354</td>\n",
       "      <td>0.0</td>\n",
       "      <td>2</td>\n",
       "    </tr>\n",
       "    <tr>\n",
       "      <th>2018-02-18</th>\n",
       "      <td>0.071009</td>\n",
       "      <td>1.636228</td>\n",
       "      <td>0.0</td>\n",
       "      <td>2</td>\n",
       "    </tr>\n",
       "    <tr>\n",
       "      <th>2018-02-19</th>\n",
       "      <td>0.071655</td>\n",
       "      <td>1.651103</td>\n",
       "      <td>0.0</td>\n",
       "      <td>2</td>\n",
       "    </tr>\n",
       "  </tbody>\n",
       "</table>\n",
       "</div>"
      ],
      "text/plain": [
       "            MADIKERI  SOMWARPET  VIRAJPET  Inflow_Label\n",
       "Dates                                                  \n",
       "2018-01-01  0.040023   0.922238       0.0             3\n",
       "2018-01-02  0.040669   0.937113       0.0             3\n",
       "2018-01-03  0.041315   0.951987       0.0             3\n",
       "2018-01-04  0.041960   0.966862       0.0             3\n",
       "2018-01-05  0.042606   0.981737       0.0             3\n",
       "2018-01-06  0.043251   0.996612       0.0             3\n",
       "2018-01-07  0.043897   1.011487       0.0             3\n",
       "2018-01-08  0.044542   1.026362       0.0             3\n",
       "2018-01-09  0.045188   1.041236       0.0             3\n",
       "2018-01-10  0.045833   1.056111       0.0             3\n",
       "2018-01-11  0.046479   1.070986       0.0             3\n",
       "2018-01-12  0.047124   1.085861       0.0             3\n",
       "2018-01-13  0.047770   1.100736       0.0             3\n",
       "2018-01-14  0.048415   1.115610       0.0             3\n",
       "2018-01-15  0.049061   1.130485       0.0             3\n",
       "2018-01-16  0.049707   1.145360       0.0             3\n",
       "2018-01-17  0.050352   1.160235       0.0             3\n",
       "2018-01-18  0.050998   1.175110       0.0             3\n",
       "2018-01-19  0.051643   1.189984       0.0             3\n",
       "2018-01-20  0.052289   1.204859       0.0             3\n",
       "2018-01-21  0.052934   1.219734       0.0             3\n",
       "2018-01-22  0.053580   1.234609       0.0             3\n",
       "2018-01-23  0.054225   1.249484       0.0             3\n",
       "2018-01-24  0.054871   1.264358       0.0             3\n",
       "2018-01-25  0.055516   1.279233       0.0             3\n",
       "2018-01-26  0.056162   1.294108       0.0             3\n",
       "2018-01-27  0.056808   1.308983       0.0             3\n",
       "2018-01-28  0.057453   1.323858       0.0             3\n",
       "2018-01-29  0.058099   1.338732       0.0             3\n",
       "2018-01-30  0.058744   1.353607       0.0             3\n",
       "2018-01-31  0.059390   1.368482       0.0             3\n",
       "2018-02-01  0.060035   1.383357       0.0             2\n",
       "2018-02-02  0.060681   1.398232       0.0             2\n",
       "2018-02-03  0.061326   1.413106       0.0             2\n",
       "2018-02-04  0.061972   1.427981       0.0             2\n",
       "2018-02-05  0.062617   1.442856       0.0             2\n",
       "2018-02-06  0.063263   1.457731       0.0             2\n",
       "2018-02-07  0.063908   1.472606       0.0             2\n",
       "2018-02-08  0.064554   1.487480       0.0             2\n",
       "2018-02-09  0.065200   1.502355       0.0             3\n",
       "2018-02-10  0.065845   1.517230       0.0             3\n",
       "2018-02-11  0.066491   1.532105       0.0             3\n",
       "2018-02-12  0.067136   1.546980       0.0             2\n",
       "2018-02-13  0.067782   1.561854       0.0             2\n",
       "2018-02-14  0.068427   1.576729       0.0             3\n",
       "2018-02-15  0.069073   1.591604       0.0             2\n",
       "2018-02-16  0.069718   1.606479       0.0             2\n",
       "2018-02-17  0.070364   1.621354       0.0             2\n",
       "2018-02-18  0.071009   1.636228       0.0             2\n",
       "2018-02-19  0.071655   1.651103       0.0             2"
      ]
     },
     "execution_count": 1000,
     "metadata": {},
     "output_type": "execute_result"
    }
   ],
   "source": [
    "df1 = pd.read_csv('allYearLabeledHarangi.csv')\n",
    "df1\n",
    "a = \"RCDATE\"\n",
    "b = \"Dates\"\n",
    "df1['month'] = pd.DatetimeIndex(df1[b]).month\n",
    "df1['year'] = pd.DatetimeIndex(df1[b]).year\n",
    "mask = (df1['month'] <= 12)#&(df1['month'] >=1))\n",
    "mask1 = (df1['year'] > 2017 )\n",
    "df1 = df1.loc[mask]\n",
    "df1 = df1.loc[mask1]\n",
    "df1.drop(['Label'],axis = 1,inplace = True)\n",
    "#df1['Avg'] = (df1['MADIKERI']+df1['SOMWARPET']+df1['VIRAJPET'])/3\n",
    "#df.to_csv(r\"/home/ganesh/Downloads/avg_added_pred.csv\")\n",
    "df1.set_index(b,inplace = True)\n",
    "#df.to_csv(r\"/home/ganesh/Downloads/avg_added_pred.csv\")     \n",
    "dataframe = pd.DataFrame(df1, columns = ['MADIKERI', 'SOMWARPET', 'VIRAJPET'])\n",
    "dataframe[\"minimum\"] = dataframe.min(axis = 1)\n",
    "df1.drop(['month','year',\"Present Storage(TMC)\",'Reservoir Level(TMC)','Outflow'],axis = 1,inplace = True)\n",
    "#df.drop(['Inflow'],axis = 1,inplace = True)\n",
    "df1['Inflow_Label'] = sense_val_inflow(df1)\n",
    "#df1['Rainfall_Label'] = sense_val_avg(df1)\n",
    "#df1['mul'] = df1['Inflow_Label'] * df1['Rainfall_Label']\n",
    "#df.to_csv(r\"/home/ganesh/Downloads/avg1_added_pred.csv\") \n",
    "#df1.drop(['Avg','Inflow_Label'],axis = 1,inplace = True)\n",
    "#df1['Inflow_Label'] = sense_val_inflow(df1)\n",
    "df1.drop(['Inflow'],axis = 1,inplace = True)\n",
    "df1.head(50)\n",
    "# count = df1['Label'].value_counts()\n",
    "# count"
   ]
  },
  {
   "cell_type": "code",
   "execution_count": 1001,
   "metadata": {},
   "outputs": [
    {
     "data": {
      "text/html": [
       "<div>\n",
       "<style scoped>\n",
       "    .dataframe tbody tr th:only-of-type {\n",
       "        vertical-align: middle;\n",
       "    }\n",
       "\n",
       "    .dataframe tbody tr th {\n",
       "        vertical-align: top;\n",
       "    }\n",
       "\n",
       "    .dataframe thead th {\n",
       "        text-align: right;\n",
       "    }\n",
       "</style>\n",
       "<table border=\"1\" class=\"dataframe\">\n",
       "  <thead>\n",
       "    <tr style=\"text-align: right;\">\n",
       "      <th></th>\n",
       "      <th>var1(t-9)</th>\n",
       "      <th>var2(t-9)</th>\n",
       "      <th>var3(t-9)</th>\n",
       "      <th>var4(t-9)</th>\n",
       "      <th>var1(t-8)</th>\n",
       "      <th>var2(t-8)</th>\n",
       "      <th>var3(t-8)</th>\n",
       "      <th>var4(t-8)</th>\n",
       "      <th>var1(t-7)</th>\n",
       "      <th>var2(t-7)</th>\n",
       "      <th>...</th>\n",
       "      <th>var3(t-2)</th>\n",
       "      <th>var4(t-2)</th>\n",
       "      <th>var1(t-1)</th>\n",
       "      <th>var2(t-1)</th>\n",
       "      <th>var3(t-1)</th>\n",
       "      <th>var4(t-1)</th>\n",
       "      <th>var1(t)</th>\n",
       "      <th>var2(t)</th>\n",
       "      <th>var3(t)</th>\n",
       "      <th>var4(t)</th>\n",
       "    </tr>\n",
       "  </thead>\n",
       "  <tbody>\n",
       "    <tr>\n",
       "      <th>9</th>\n",
       "      <td>0.040023</td>\n",
       "      <td>0.922238</td>\n",
       "      <td>0.0</td>\n",
       "      <td>3.0</td>\n",
       "      <td>0.040669</td>\n",
       "      <td>0.937113</td>\n",
       "      <td>0.0</td>\n",
       "      <td>3.0</td>\n",
       "      <td>0.041315</td>\n",
       "      <td>0.951987</td>\n",
       "      <td>...</td>\n",
       "      <td>0.0</td>\n",
       "      <td>3.0</td>\n",
       "      <td>0.045188</td>\n",
       "      <td>1.041236</td>\n",
       "      <td>0.0</td>\n",
       "      <td>3.0</td>\n",
       "      <td>0.045833</td>\n",
       "      <td>1.056111</td>\n",
       "      <td>0.0</td>\n",
       "      <td>3.0</td>\n",
       "    </tr>\n",
       "    <tr>\n",
       "      <th>10</th>\n",
       "      <td>0.040669</td>\n",
       "      <td>0.937113</td>\n",
       "      <td>0.0</td>\n",
       "      <td>3.0</td>\n",
       "      <td>0.041315</td>\n",
       "      <td>0.951987</td>\n",
       "      <td>0.0</td>\n",
       "      <td>3.0</td>\n",
       "      <td>0.041960</td>\n",
       "      <td>0.966862</td>\n",
       "      <td>...</td>\n",
       "      <td>0.0</td>\n",
       "      <td>3.0</td>\n",
       "      <td>0.045833</td>\n",
       "      <td>1.056111</td>\n",
       "      <td>0.0</td>\n",
       "      <td>3.0</td>\n",
       "      <td>0.046479</td>\n",
       "      <td>1.070986</td>\n",
       "      <td>0.0</td>\n",
       "      <td>3.0</td>\n",
       "    </tr>\n",
       "    <tr>\n",
       "      <th>11</th>\n",
       "      <td>0.041315</td>\n",
       "      <td>0.951987</td>\n",
       "      <td>0.0</td>\n",
       "      <td>3.0</td>\n",
       "      <td>0.041960</td>\n",
       "      <td>0.966862</td>\n",
       "      <td>0.0</td>\n",
       "      <td>3.0</td>\n",
       "      <td>0.042606</td>\n",
       "      <td>0.981737</td>\n",
       "      <td>...</td>\n",
       "      <td>0.0</td>\n",
       "      <td>3.0</td>\n",
       "      <td>0.046479</td>\n",
       "      <td>1.070986</td>\n",
       "      <td>0.0</td>\n",
       "      <td>3.0</td>\n",
       "      <td>0.047124</td>\n",
       "      <td>1.085861</td>\n",
       "      <td>0.0</td>\n",
       "      <td>3.0</td>\n",
       "    </tr>\n",
       "    <tr>\n",
       "      <th>12</th>\n",
       "      <td>0.041960</td>\n",
       "      <td>0.966862</td>\n",
       "      <td>0.0</td>\n",
       "      <td>3.0</td>\n",
       "      <td>0.042606</td>\n",
       "      <td>0.981737</td>\n",
       "      <td>0.0</td>\n",
       "      <td>3.0</td>\n",
       "      <td>0.043251</td>\n",
       "      <td>0.996612</td>\n",
       "      <td>...</td>\n",
       "      <td>0.0</td>\n",
       "      <td>3.0</td>\n",
       "      <td>0.047124</td>\n",
       "      <td>1.085861</td>\n",
       "      <td>0.0</td>\n",
       "      <td>3.0</td>\n",
       "      <td>0.047770</td>\n",
       "      <td>1.100736</td>\n",
       "      <td>0.0</td>\n",
       "      <td>3.0</td>\n",
       "    </tr>\n",
       "    <tr>\n",
       "      <th>13</th>\n",
       "      <td>0.042606</td>\n",
       "      <td>0.981737</td>\n",
       "      <td>0.0</td>\n",
       "      <td>3.0</td>\n",
       "      <td>0.043251</td>\n",
       "      <td>0.996612</td>\n",
       "      <td>0.0</td>\n",
       "      <td>3.0</td>\n",
       "      <td>0.043897</td>\n",
       "      <td>1.011487</td>\n",
       "      <td>...</td>\n",
       "      <td>0.0</td>\n",
       "      <td>3.0</td>\n",
       "      <td>0.047770</td>\n",
       "      <td>1.100736</td>\n",
       "      <td>0.0</td>\n",
       "      <td>3.0</td>\n",
       "      <td>0.048415</td>\n",
       "      <td>1.115610</td>\n",
       "      <td>0.0</td>\n",
       "      <td>3.0</td>\n",
       "    </tr>\n",
       "    <tr>\n",
       "      <th>...</th>\n",
       "      <td>...</td>\n",
       "      <td>...</td>\n",
       "      <td>...</td>\n",
       "      <td>...</td>\n",
       "      <td>...</td>\n",
       "      <td>...</td>\n",
       "      <td>...</td>\n",
       "      <td>...</td>\n",
       "      <td>...</td>\n",
       "      <td>...</td>\n",
       "      <td>...</td>\n",
       "      <td>...</td>\n",
       "      <td>...</td>\n",
       "      <td>...</td>\n",
       "      <td>...</td>\n",
       "      <td>...</td>\n",
       "      <td>...</td>\n",
       "      <td>...</td>\n",
       "      <td>...</td>\n",
       "      <td>...</td>\n",
       "      <td>...</td>\n",
       "    </tr>\n",
       "    <tr>\n",
       "      <th>360</th>\n",
       "      <td>0.000000</td>\n",
       "      <td>0.000000</td>\n",
       "      <td>0.0</td>\n",
       "      <td>2.0</td>\n",
       "      <td>0.000000</td>\n",
       "      <td>0.000000</td>\n",
       "      <td>0.0</td>\n",
       "      <td>2.0</td>\n",
       "      <td>0.000000</td>\n",
       "      <td>0.000000</td>\n",
       "      <td>...</td>\n",
       "      <td>0.0</td>\n",
       "      <td>3.0</td>\n",
       "      <td>0.000000</td>\n",
       "      <td>0.000000</td>\n",
       "      <td>0.0</td>\n",
       "      <td>2.0</td>\n",
       "      <td>0.000000</td>\n",
       "      <td>0.000000</td>\n",
       "      <td>0.0</td>\n",
       "      <td>3.0</td>\n",
       "    </tr>\n",
       "    <tr>\n",
       "      <th>361</th>\n",
       "      <td>0.000000</td>\n",
       "      <td>0.000000</td>\n",
       "      <td>0.0</td>\n",
       "      <td>2.0</td>\n",
       "      <td>0.000000</td>\n",
       "      <td>0.000000</td>\n",
       "      <td>0.0</td>\n",
       "      <td>2.0</td>\n",
       "      <td>0.000000</td>\n",
       "      <td>0.000000</td>\n",
       "      <td>...</td>\n",
       "      <td>0.0</td>\n",
       "      <td>2.0</td>\n",
       "      <td>0.000000</td>\n",
       "      <td>0.000000</td>\n",
       "      <td>0.0</td>\n",
       "      <td>3.0</td>\n",
       "      <td>0.000000</td>\n",
       "      <td>0.000000</td>\n",
       "      <td>0.0</td>\n",
       "      <td>2.0</td>\n",
       "    </tr>\n",
       "    <tr>\n",
       "      <th>362</th>\n",
       "      <td>0.000000</td>\n",
       "      <td>0.000000</td>\n",
       "      <td>0.0</td>\n",
       "      <td>2.0</td>\n",
       "      <td>0.000000</td>\n",
       "      <td>0.000000</td>\n",
       "      <td>0.0</td>\n",
       "      <td>2.0</td>\n",
       "      <td>0.000000</td>\n",
       "      <td>0.000000</td>\n",
       "      <td>...</td>\n",
       "      <td>0.0</td>\n",
       "      <td>3.0</td>\n",
       "      <td>0.000000</td>\n",
       "      <td>0.000000</td>\n",
       "      <td>0.0</td>\n",
       "      <td>2.0</td>\n",
       "      <td>0.000000</td>\n",
       "      <td>0.000000</td>\n",
       "      <td>0.0</td>\n",
       "      <td>3.0</td>\n",
       "    </tr>\n",
       "    <tr>\n",
       "      <th>363</th>\n",
       "      <td>0.000000</td>\n",
       "      <td>0.000000</td>\n",
       "      <td>0.0</td>\n",
       "      <td>2.0</td>\n",
       "      <td>0.000000</td>\n",
       "      <td>0.000000</td>\n",
       "      <td>0.0</td>\n",
       "      <td>2.0</td>\n",
       "      <td>0.000000</td>\n",
       "      <td>0.000000</td>\n",
       "      <td>...</td>\n",
       "      <td>0.0</td>\n",
       "      <td>2.0</td>\n",
       "      <td>0.000000</td>\n",
       "      <td>0.000000</td>\n",
       "      <td>0.0</td>\n",
       "      <td>3.0</td>\n",
       "      <td>0.000000</td>\n",
       "      <td>0.000000</td>\n",
       "      <td>0.0</td>\n",
       "      <td>2.0</td>\n",
       "    </tr>\n",
       "    <tr>\n",
       "      <th>364</th>\n",
       "      <td>0.000000</td>\n",
       "      <td>0.000000</td>\n",
       "      <td>0.0</td>\n",
       "      <td>2.0</td>\n",
       "      <td>0.000000</td>\n",
       "      <td>0.000000</td>\n",
       "      <td>0.0</td>\n",
       "      <td>2.0</td>\n",
       "      <td>0.000000</td>\n",
       "      <td>0.000000</td>\n",
       "      <td>...</td>\n",
       "      <td>0.0</td>\n",
       "      <td>3.0</td>\n",
       "      <td>0.000000</td>\n",
       "      <td>0.000000</td>\n",
       "      <td>0.0</td>\n",
       "      <td>2.0</td>\n",
       "      <td>0.000000</td>\n",
       "      <td>0.000000</td>\n",
       "      <td>0.0</td>\n",
       "      <td>2.0</td>\n",
       "    </tr>\n",
       "  </tbody>\n",
       "</table>\n",
       "<p>356 rows × 40 columns</p>\n",
       "</div>"
      ],
      "text/plain": [
       "     var1(t-9)  var2(t-9)  var3(t-9)  var4(t-9)  var1(t-8)  var2(t-8)  \\\n",
       "9     0.040023   0.922238        0.0        3.0   0.040669   0.937113   \n",
       "10    0.040669   0.937113        0.0        3.0   0.041315   0.951987   \n",
       "11    0.041315   0.951987        0.0        3.0   0.041960   0.966862   \n",
       "12    0.041960   0.966862        0.0        3.0   0.042606   0.981737   \n",
       "13    0.042606   0.981737        0.0        3.0   0.043251   0.996612   \n",
       "..         ...        ...        ...        ...        ...        ...   \n",
       "360   0.000000   0.000000        0.0        2.0   0.000000   0.000000   \n",
       "361   0.000000   0.000000        0.0        2.0   0.000000   0.000000   \n",
       "362   0.000000   0.000000        0.0        2.0   0.000000   0.000000   \n",
       "363   0.000000   0.000000        0.0        2.0   0.000000   0.000000   \n",
       "364   0.000000   0.000000        0.0        2.0   0.000000   0.000000   \n",
       "\n",
       "     var3(t-8)  var4(t-8)  var1(t-7)  var2(t-7)  ...  var3(t-2)  var4(t-2)  \\\n",
       "9          0.0        3.0   0.041315   0.951987  ...        0.0        3.0   \n",
       "10         0.0        3.0   0.041960   0.966862  ...        0.0        3.0   \n",
       "11         0.0        3.0   0.042606   0.981737  ...        0.0        3.0   \n",
       "12         0.0        3.0   0.043251   0.996612  ...        0.0        3.0   \n",
       "13         0.0        3.0   0.043897   1.011487  ...        0.0        3.0   \n",
       "..         ...        ...        ...        ...  ...        ...        ...   \n",
       "360        0.0        2.0   0.000000   0.000000  ...        0.0        3.0   \n",
       "361        0.0        2.0   0.000000   0.000000  ...        0.0        2.0   \n",
       "362        0.0        2.0   0.000000   0.000000  ...        0.0        3.0   \n",
       "363        0.0        2.0   0.000000   0.000000  ...        0.0        2.0   \n",
       "364        0.0        2.0   0.000000   0.000000  ...        0.0        3.0   \n",
       "\n",
       "     var1(t-1)  var2(t-1)  var3(t-1)  var4(t-1)   var1(t)   var2(t)  var3(t)  \\\n",
       "9     0.045188   1.041236        0.0        3.0  0.045833  1.056111      0.0   \n",
       "10    0.045833   1.056111        0.0        3.0  0.046479  1.070986      0.0   \n",
       "11    0.046479   1.070986        0.0        3.0  0.047124  1.085861      0.0   \n",
       "12    0.047124   1.085861        0.0        3.0  0.047770  1.100736      0.0   \n",
       "13    0.047770   1.100736        0.0        3.0  0.048415  1.115610      0.0   \n",
       "..         ...        ...        ...        ...       ...       ...      ...   \n",
       "360   0.000000   0.000000        0.0        2.0  0.000000  0.000000      0.0   \n",
       "361   0.000000   0.000000        0.0        3.0  0.000000  0.000000      0.0   \n",
       "362   0.000000   0.000000        0.0        2.0  0.000000  0.000000      0.0   \n",
       "363   0.000000   0.000000        0.0        3.0  0.000000  0.000000      0.0   \n",
       "364   0.000000   0.000000        0.0        2.0  0.000000  0.000000      0.0   \n",
       "\n",
       "     var4(t)  \n",
       "9        3.0  \n",
       "10       3.0  \n",
       "11       3.0  \n",
       "12       3.0  \n",
       "13       3.0  \n",
       "..       ...  \n",
       "360      3.0  \n",
       "361      2.0  \n",
       "362      3.0  \n",
       "363      2.0  \n",
       "364      2.0  \n",
       "\n",
       "[356 rows x 40 columns]"
      ]
     },
     "execution_count": 1001,
     "metadata": {},
     "output_type": "execute_result"
    }
   ],
   "source": [
    "values1 = df1.values\n",
    "values1 = values1.astype('float64')\n",
    "# normalize features\n",
    "# scaler = MinMaxScaler(feature_range=(0, 1))\n",
    "# scaled = scaler.fit_transform(values1)\n",
    "# data1=pd.DataFrame({'Inflow':scaled[:,0],'MADIKERI':scaled[:,1],'SOMWARPET':scaled[:,2],'VIRAJPET':scaled[:,3]})\n",
    "# print(data1.shape)\n",
    "# idx = pd.date_range('2012-01-01', '2018-12-31') \n",
    "# data1.set_index(idx)\n",
    "# frame as supervised learning\n",
    "reframed1 = series_to_supervised(values1, lag_val, 1)#lag of 4 days\n",
    "# drop columns we don't want to predict1\n",
    "reframed1.head()\n",
    "reframed1.drop(reframed1.columns[[]], axis=1, inplace=True)\n",
    "#np.random.shuffle(reframed1)\n",
    "reframed1"
   ]
  },
  {
   "cell_type": "code",
   "execution_count": 1002,
   "metadata": {},
   "outputs": [
    {
     "name": "stdout",
     "output_type": "stream",
     "text": [
      "[[0.04002347 0.92223787 0.         ... 1.05611111 0.         3.        ]\n",
      " [0.04066901 0.93711268 0.         ... 1.07098592 0.         3.        ]\n",
      " [0.04131455 0.95198748 0.         ... 1.08586072 0.         3.        ]\n",
      " ...\n",
      " [0.         0.         0.         ... 0.         0.         3.        ]\n",
      " [0.         0.         0.         ... 0.         0.         2.        ]\n",
      " [0.         0.         0.         ... 0.         0.         2.        ]]\n",
      "[[0.04002347 0.92223787 0.         ... 1.05611111 0.         3.        ]\n",
      " [0.04066901 0.93711268 0.         ... 1.07098592 0.         3.        ]\n",
      " [0.04131455 0.95198748 0.         ... 1.08586072 0.         3.        ]\n",
      " ...\n",
      " [0.         0.         0.         ... 0.         0.         3.        ]\n",
      " [0.         0.         0.         ... 0.         0.         2.        ]\n",
      " [0.         0.         0.         ... 0.         0.         2.        ]]\n",
      "(2548, 39) (2548, 1)\n",
      "(356, 39)\n",
      "(356, 1)\n"
     ]
    },
    {
     "data": {
      "text/plain": [
       "array([[0.        , 0.        , 0.        , ..., 0.        , 0.        ,\n",
       "        3.        ],\n",
       "       [0.        , 0.        , 0.        , ..., 0.        , 0.        ,\n",
       "        3.        ],\n",
       "       [0.        , 0.        , 0.        , ..., 0.        , 0.        ,\n",
       "        2.        ],\n",
       "       ...,\n",
       "       [0.032277  , 0.74374022, 0.        , ..., 0.87761346, 0.        ,\n",
       "        3.        ],\n",
       "       [0.03292254, 0.75861502, 0.        , ..., 0.89248826, 0.        ,\n",
       "        3.        ],\n",
       "       [0.03356808, 0.77348983, 0.        , ..., 0.90736307, 0.        ,\n",
       "        3.        ]])"
      ]
     },
     "execution_count": 1002,
     "metadata": {},
     "output_type": "execute_result"
    }
   ],
   "source": [
    "values1 = reframed1.values\n",
    "print(values1)\n",
    "#np.random.shuffle(values1)\n",
    "print(values1)\n",
    "test_y = values1[:,-1].astype(int)\n",
    "test_x = values1[:,:-1]\n",
    "test_y = test_y.reshape(test_x.shape[0],1) \n",
    "print(train_x.shape,train_y.shape)\n",
    "print(test_x.shape)\n",
    "print(test_y.shape)\n",
    "#print(list(Actuall_inflow))\n",
    "Q_point = values1\n",
    "Q_point\n",
    "values"
   ]
  },
  {
   "cell_type": "code",
   "execution_count": 1003,
   "metadata": {},
   "outputs": [],
   "source": [
    "# def create_qry_point(start,end):\n",
    "#     query_data = np.array(Rain_data.iloc[start:end,:],dtype = float)\n",
    "#     return query_data\n",
    "        #40\n",
    "# q_point = create_qry_point(1000,2000)\n",
    "# q_point = np.mat([[137.695,57.25,80.2333333333333,36179],[123.0475,76.86,78.515,33901]])\n",
    "# print(q_point)\n",
    "# print(len(q_point))\n",
    "# q_point.shape"
   ]
  },
  {
   "cell_type": "code",
   "execution_count": 1004,
   "metadata": {},
   "outputs": [
    {
     "name": "stdout",
     "output_type": "stream",
     "text": [
      "(356, 40)\n",
      "(2548, 40)\n"
     ]
    },
    {
     "data": {
      "text/plain": [
       "array([[0.        , 0.        , 0.        , ..., 0.        , 0.        ,\n",
       "        3.        ],\n",
       "       [0.        , 0.        , 0.        , ..., 0.        , 0.        ,\n",
       "        3.        ],\n",
       "       [0.        , 0.        , 0.        , ..., 0.        , 0.        ,\n",
       "        2.        ],\n",
       "       ...,\n",
       "       [0.032277  , 0.74374022, 0.        , ..., 0.87761346, 0.        ,\n",
       "        3.        ],\n",
       "       [0.03292254, 0.75861502, 0.        , ..., 0.89248826, 0.        ,\n",
       "        3.        ],\n",
       "       [0.03356808, 0.77348983, 0.        , ..., 0.90736307, 0.        ,\n",
       "        3.        ]])"
      ]
     },
     "execution_count": 1004,
     "metadata": {},
     "output_type": "execute_result"
    }
   ],
   "source": [
    "print(Q_point.shape)\n",
    "print(inp.shape)\n",
    "inp"
   ]
  },
  {
   "cell_type": "code",
   "execution_count": 1005,
   "metadata": {},
   "outputs": [],
   "source": [
    "# def euclid_dist(points, q_point):\n",
    "#     mini = 100000000\n",
    "#     store_point = 0\n",
    "#     for point in points:\n",
    "#         val = np.linalg.norm(point - q_point)\n",
    "#         if(mini > val):\n",
    "#             mini = val\n",
    "#             store_point = point\n",
    "#     return list(store_point)\n",
    "    "
   ]
  },
  {
   "cell_type": "code",
   "execution_count": 1006,
   "metadata": {},
   "outputs": [],
   "source": [
    "# distance = list()\n",
    "# points = inp \n",
    "# for single_point in Q_point:\n",
    "#     distance.append(euclid_dist(points,single_point))"
   ]
  },
  {
   "cell_type": "code",
   "execution_count": 1007,
   "metadata": {},
   "outputs": [],
   "source": [
    "# distance = np.array(distance)\n",
    "# distance\n",
    "# train_knn_y = distance[:,-1]\n",
    "# train_knn_x = distance[:,:-1]\n",
    "# print(train_knn_y.shape)\n",
    "# print(train_knn_x.shape)\n",
    "# train_knn_y"
   ]
  },
  {
   "cell_type": "code",
   "execution_count": 965,
   "metadata": {},
   "outputs": [],
   "source": [
    "# def sense_val_inflow(df):\n",
    "#     sense_vals = []\n",
    "#     for x in df['Inflow']:\n",
    "#         if(x <= 50):\n",
    "#             sense_vals.append(int(1))\n",
    "#         if((x > 50) and (x<=100)):\n",
    "#             sense_vals.append(int(2))    \n",
    "#         if((x > 100) and (x<=500)):\n",
    "#             sense_vals.append(int(3))\n",
    "#         if((x > 500) and (x<=1000)):\n",
    "#             sense_vals.append(int(4))\n",
    "#         if((x > 1000) and (x <= 2000)):\n",
    "#             sense_vals.append(int(5))\n",
    "#         if((x > 2000) and (x<=3000)):\n",
    "#             sense_vals.append(int(6))\n",
    "#         if((x > 3000) and (x <= 4000)):\n",
    "#             sense_vals.append(int(7))\n",
    "#         if((x > 4000) and (x <= 5000)):\n",
    "#             sense_vals.append(int(8))\n",
    "#         if((x > 5000) and (x <= 6000)):\n",
    "#             sense_vals.append(int(9))\n",
    "#         if((x > 6000) and (x <= 7000)):\n",
    "#             sense_vals.append(int(10))\n",
    "#         if((x > 7000) and (x <= 8000)):\n",
    "#             sense_vals.append(int(11))\n",
    "#         if((x > 8000) and (x <= 9000)):\n",
    "#             sense_vals.append(int(12))\n",
    "#         if((x > 9000) and (x <= 10000)):\n",
    "#             sense_vals.append(int(13))\n",
    "#         if((x > 10000) and (x <= 15000)):\n",
    "#             sense_vals.append(int(14))\n",
    "#         if((x > 15000) and (x <= 20000)):\n",
    "#             sense_vals.append(int(15))\n",
    "#         if((x > 20000) and (x <= 30000)):\n",
    "#             sense_vals.append(int(16))\n",
    "#         if((x > 30000) and (x <= 40000)):\n",
    "#             sense_vals.append(int(17))\n",
    "#         if((x > 40000) and (x <= 60000)):\n",
    "#             sense_vals.append(int(18))\n",
    "#         if((x > 60000) and (x <= 70000)):\n",
    "#             sense_vals.append(int(19))\n",
    "#         if(x > 70000):\n",
    "#             sense_vals.append(int(20))\n",
    "#     return sense_vals"
   ]
  },
  {
   "cell_type": "code",
   "execution_count": 941,
   "metadata": {},
   "outputs": [],
   "source": [
    "# (10+14+14+8)/4\n",
    "# #If lag 4 then k = 10\n",
    "# #40.97,16.0483333333333,63.7666666666667,8,68.6025,20.9833333333333,51.32,10,"
   ]
  },
  {
   "cell_type": "code",
   "execution_count": 942,
   "metadata": {},
   "outputs": [],
   "source": [
    "\n",
    "\n",
    "# new_val = [119.3225,48.6916666666667,89.4166666666667,14,55.0475,51.4666666666667,39.0433333333333,14,53.53,11.1283333333333,7.14833333333333]\n",
    "# new_val = np.array(new_val)\n",
    "# new_val.shape\n",
    "# abc = lwr1(new_val,train_x,train_y,100)\n",
    "# abc = np.round(abc)\n",
    "# abc\n",
    "# # train_x = train_knn_x\n",
    "# # train_y = train_knn_y"
   ]
  },
  {
   "cell_type": "code",
   "execution_count": 993,
   "metadata": {},
   "outputs": [
    {
     "ename": "ValueError",
     "evalue": "l1_ratio must be between 0 and 1; got (l1_ratio=None)",
     "output_type": "error",
     "traceback": [
      "\u001b[0;31m---------------------------------------------------------------------------\u001b[0m",
      "\u001b[0;31mValueError\u001b[0m                                Traceback (most recent call last)",
      "\u001b[0;32m<ipython-input-993-f94ea492ba61>\u001b[0m in \u001b[0;36m<module>\u001b[0;34m\u001b[0m\n\u001b[1;32m      2\u001b[0m \u001b[0;32mfrom\u001b[0m \u001b[0msklearn\u001b[0m\u001b[0;34m.\u001b[0m\u001b[0mlinear_model\u001b[0m \u001b[0;32mimport\u001b[0m \u001b[0mLogisticRegression\u001b[0m\u001b[0;34m\u001b[0m\u001b[0;34m\u001b[0m\u001b[0m\n\u001b[1;32m      3\u001b[0m \u001b[0mlr\u001b[0m \u001b[0;34m=\u001b[0m \u001b[0mLogisticRegression\u001b[0m\u001b[0;34m(\u001b[0m\u001b[0mmulti_class\u001b[0m\u001b[0;34m=\u001b[0m\u001b[0;34m\"multinomial\"\u001b[0m\u001b[0;34m,\u001b[0m\u001b[0msolver\u001b[0m\u001b[0;34m=\u001b[0m\u001b[0;34m'saga'\u001b[0m\u001b[0;34m,\u001b[0m\u001b[0mmax_iter\u001b[0m\u001b[0;34m=\u001b[0m\u001b[0;36m10000\u001b[0m\u001b[0;34m,\u001b[0m\u001b[0mpenalty\u001b[0m\u001b[0;34m=\u001b[0m\u001b[0;34m\"elasticnet\"\u001b[0m\u001b[0;34m)\u001b[0m\u001b[0;34m\u001b[0m\u001b[0;34m\u001b[0m\u001b[0m\n\u001b[0;32m----> 4\u001b[0;31m \u001b[0mlr\u001b[0m\u001b[0;34m.\u001b[0m\u001b[0mfit\u001b[0m\u001b[0;34m(\u001b[0m\u001b[0mtrain_x\u001b[0m\u001b[0;34m,\u001b[0m\u001b[0mtrain_y\u001b[0m\u001b[0;34m)\u001b[0m\u001b[0;34m\u001b[0m\u001b[0;34m\u001b[0m\u001b[0m\n\u001b[0m\u001b[1;32m      5\u001b[0m \u001b[0mypred\u001b[0m \u001b[0;34m=\u001b[0m \u001b[0mlr\u001b[0m\u001b[0;34m.\u001b[0m\u001b[0mpredict\u001b[0m\u001b[0;34m(\u001b[0m\u001b[0mtest_x\u001b[0m\u001b[0;34m)\u001b[0m\u001b[0;34m\u001b[0m\u001b[0;34m\u001b[0m\u001b[0m\n\u001b[1;32m      6\u001b[0m \u001b[0mActuall_inflow\u001b[0m\u001b[0;34m=\u001b[0m\u001b[0mtest_y\u001b[0m\u001b[0;34m.\u001b[0m\u001b[0mreshape\u001b[0m\u001b[0;34m(\u001b[0m\u001b[0mtest_y\u001b[0m\u001b[0;34m.\u001b[0m\u001b[0mshape\u001b[0m\u001b[0;34m[\u001b[0m\u001b[0;36m0\u001b[0m\u001b[0;34m]\u001b[0m\u001b[0;34m,\u001b[0m\u001b[0;36m1\u001b[0m\u001b[0;34m)\u001b[0m\u001b[0;34m\u001b[0m\u001b[0;34m\u001b[0m\u001b[0m\n",
      "\u001b[0;32m~/PycharmProjects/untitled1/venv/lib/python3.7/site-packages/sklearn/linear_model/_logistic.py\u001b[0m in \u001b[0;36mfit\u001b[0;34m(self, X, y, sample_weight)\u001b[0m\n\u001b[1;32m   1493\u001b[0m                     self.l1_ratio < 0 or self.l1_ratio > 1):\n\u001b[1;32m   1494\u001b[0m                         raise ValueError(\"l1_ratio must be between 0 and 1;\"\n\u001b[0;32m-> 1495\u001b[0;31m                                          \" got (l1_ratio=%r)\" % self.l1_ratio)\n\u001b[0m\u001b[1;32m   1496\u001b[0m         \u001b[0;32melif\u001b[0m \u001b[0mself\u001b[0m\u001b[0;34m.\u001b[0m\u001b[0ml1_ratio\u001b[0m \u001b[0;32mis\u001b[0m \u001b[0;32mnot\u001b[0m \u001b[0;32mNone\u001b[0m\u001b[0;34m:\u001b[0m\u001b[0;34m\u001b[0m\u001b[0;34m\u001b[0m\u001b[0m\n\u001b[1;32m   1497\u001b[0m             warnings.warn(\"l1_ratio parameter is only used when penalty is \"\n",
      "\u001b[0;31mValueError\u001b[0m: l1_ratio must be between 0 and 1; got (l1_ratio=None)"
     ]
    }
   ],
   "source": [
    "#Logistic regression\n",
    "from sklearn.linear_model import LogisticRegression\n",
    "lr = LogisticRegression(multi_class=\"multinomial\",solver='saga',max_iter=10000,penalty=\"elasticnet\")\n",
    "lr.fit(train_x,train_y)\n",
    "ypred = lr.predict(test_x)\n",
    "Actuall_inflow=test_y.reshape(test_y.shape[0],1)\n",
    "print(\"F1 Score = \",metrics.f1_score(Actuall_inflow[:],ypred[:],average = 'weighted'))\n",
    "print(\"Precision = \",metrics.precision_score(Actuall_inflow[:],ypred[:],average = 'weighted'))\n",
    "print(\"Recall = \",metrics.recall_score(Actuall_inflow[:],ypred[:],average = 'weighted'))\n",
    "pt.plot(ypred[:],c='red')\n",
    "pt.plot(Actuall_inflow[:],c='blue')"
   ]
  },
  {
   "cell_type": "code",
   "execution_count": 990,
   "metadata": {},
   "outputs": [
    {
     "name": "stdout",
     "output_type": "stream",
     "text": [
      "F1 Score =  0.7323069427671153\n",
      "Precision =  0.6679761188532348\n",
      "Recall =  0.6713483146067416\n"
     ]
    },
    {
     "data": {
      "text/plain": [
       "[<matplotlib.lines.Line2D at 0x7f4f47b376d0>]"
      ]
     },
     "execution_count": 990,
     "metadata": {},
     "output_type": "execute_result"
    },
    {
     "data": {
      "image/png": "[encoded data removed]",
      "text/plain": [
       "<Figure size 1296x432 with 1 Axes>"
      ]
     },
     "metadata": {
      "needs_background": "light"
     },
     "output_type": "display_data"
    }
   ],
   "source": [
    "print(\"F1 Score = \",metrics.f1_score(Actuall_inflow[:-1],ypred[1:],average = 'weighted'))\n",
    "print(\"Precision = \",metrics.precision_score(Actuall_inflow[:],ypred[:],average = 'weighted'))\n",
    "print(\"Recall = \",metrics.recall_score(Actuall_inflow[:],ypred[:],average = 'weighted'))\n",
    "pt.plot(ypred[1:],c='red')\n",
    "pt.plot(Actuall_inflow[:-1],c='blue')"
   ]
  },
  {
   "cell_type": "code",
   "execution_count": 812,
   "metadata": {},
   "outputs": [
    {
     "name": "stderr",
     "output_type": "stream",
     "text": [
      "/home/ganesh/PycharmProjects/untitled1/venv/lib/python3.7/site-packages/sklearn/naive_bayes.py:207: DataConversionWarning: A column-vector y was passed when a 1d array was expected. Please change the shape of y to (n_samples, ), for example using ravel().\n",
      "  y = column_or_1d(y, warn=True)\n"
     ]
    }
   ],
   "source": [
    "from sklearn.naive_bayes import GaussianNB\n",
    "nb = GaussianNB()\n",
    "nb.fit(train_x,train_y)\n",
    "ypred = nb.predict(test_x)"
   ]
  },
  {
   "cell_type": "code",
   "execution_count": 880,
   "metadata": {},
   "outputs": [
    {
     "name": "stdout",
     "output_type": "stream",
     "text": [
      "F1 Score =  0.2750729496492208\n",
      "Precision =  0.4043650793650793\n",
      "Recall =  0.26666666666666666\n"
     ]
    },
    {
     "data": {
      "text/plain": [
       "[<matplotlib.lines.Line2D at 0x7f4f484d0d90>]"
      ]
     },
     "execution_count": 880,
     "metadata": {},
     "output_type": "execute_result"
    },
    {
     "data": {
      "image/png": "[encoded data removed]",
      "text/plain": [
       "<Figure size 1296x432 with 1 Axes>"
      ]
     },
     "metadata": {
      "needs_background": "light"
     },
     "output_type": "display_data"
    }
   ],
   "source": [
    "Actuall_inflow=test_y.reshape(test_y.shape[0],1)\n",
    "print(\"F1 Score = \",metrics.f1_score(Actuall_inflow[:-1],ypred[1:],average = 'weighted'))\n",
    "print(\"Precision = \",metrics.precision_score(Actuall_inflow[:],ypred[:],average = 'weighted'))\n",
    "print(\"Recall = \",metrics.recall_score(Actuall_inflow[:],ypred[:],average = 'weighted'))\n",
    "pt.plot(ypred[:],c='red')\n",
    "pt.plot(Actuall_inflow[:],c='blue')"
   ]
  },
  {
   "cell_type": "code",
   "execution_count": 816,
   "metadata": {},
   "outputs": [
    {
     "name": "stdout",
     "output_type": "stream",
     "text": [
      "F1 Score =  0.22423910349808754\n",
      "Precision =  0.3125184309638442\n",
      "Recall =  0.23763736263736263\n"
     ]
    },
    {
     "name": "stderr",
     "output_type": "stream",
     "text": [
      "/home/ganesh/PycharmProjects/untitled1/venv/lib/python3.7/site-packages/ipykernel_launcher.py:3: DataConversionWarning: A column-vector y was passed when a 1d array was expected. Please change the shape of y to (n_samples, ), for example using ravel().\n",
      "  This is separate from the ipykernel package so we can avoid doing imports until\n",
      "/home/ganesh/PycharmProjects/untitled1/venv/lib/python3.7/site-packages/sklearn/metrics/_classification.py:1268: UndefinedMetricWarning: Precision is ill-defined and being set to 0.0 in labels with no predicted samples. Use `zero_division` parameter to control this behavior.\n",
      "  _warn_prf(average, modifier, msg_start, len(result))\n"
     ]
    },
    {
     "data": {
      "text/plain": [
       "[<matplotlib.lines.Line2D at 0x7f4f4c1b0d50>]"
      ]
     },
     "execution_count": 816,
     "metadata": {},
     "output_type": "execute_result"
    },
    {
     "data": {
      "image/png": "[encoded data removed]",
      "text/plain": [
       "<Figure size 1296x432 with 1 Axes>"
      ]
     },
     "metadata": {
      "needs_background": "light"
     },
     "output_type": "display_data"
    }
   ],
   "source": [
    "from sklearn.neighbors import KNeighborsClassifier\n",
    "knn = KNeighborsClassifier(n_neighbors=1)\n",
    "knn.fit(train_x,train_y)\n",
    "ypred = knn.predict(test_x)\n",
    "Actuall_inflow=test_y.reshape(test_y.shape[0],1)\n",
    "print(\"F1 Score = \",metrics.f1_score(Actuall_inflow[:],ypred[:],average = 'weighted'))\n",
    "print(\"Precision = \",metrics.precision_score(Actuall_inflow[:],ypred[:],average = 'weighted'))\n",
    "print(\"Recall = \",metrics.recall_score(Actuall_inflow[:],ypred[:],average = 'weighted'))\n",
    "pt.plot(ypred[:],c='red')\n",
    "pt.plot(Actuall_inflow[:],c='blue')"
   ]
  },
  {
   "cell_type": "code",
   "execution_count": 823,
   "metadata": {},
   "outputs": [
    {
     "name": "stdout",
     "output_type": "stream",
     "text": [
      "MSE =  2.4171550671550674\n",
      "RMSE =  1.554720253664648\n"
     ]
    },
    {
     "data": {
      "text/plain": [
       "[<matplotlib.lines.Line2D at 0x7f4f4faa0150>]"
      ]
     },
     "execution_count": 823,
     "metadata": {},
     "output_type": "execute_result"
    },
    {
     "data": {
      "image/png": "[encoded data removed]",
      "text/plain": [
       "<Figure size 1296x432 with 1 Axes>"
      ]
     },
     "metadata": {
      "needs_background": "light"
     },
     "output_type": "display_data"
    }
   ],
   "source": [
    "from sklearn.neighbors import KNeighborsRegressor\n",
    "neigh_reg = KNeighborsRegressor(n_neighbors=15)\n",
    "neigh_reg.fit(train_x,train_y)\n",
    "ypred = neigh_reg.predict(test_x)\n",
    "Actuall_inflow=test_y.reshape(test_y.shape[0],1)\n",
    "print(\"MSE = \",metrics.mean_squared_error(Actuall_inflow,ypred))\n",
    "#print(\"RMSE = \",sqrt(metrics.mean_squared_error(Actuall_inflow,train_knn_y)))\n",
    "print(\"RMSE = \",sqrt(metrics.mean_squared_error(Actuall_inflow,ypred)))\n",
    "#print(\"F1 Score = \",metrics.f1_score(Actuall_inflow[:],ypred[:],average = 'weighted'))\n",
    "# print(\"Precision = \",metrics.precision_score(Actuall_inflow[:],ypred[:],average = 'weighted'))\n",
    "# print(\"Recall = \",metrics.recall_score(Actuall_inflow[:],ypred[:],average = 'weighted'))\n",
    "pt.plot(ypred[:],c='red')\n",
    "pt.plot(Actuall_inflow[:],c='blue')"
   ]
  },
  {
   "cell_type": "code",
   "execution_count": 806,
   "metadata": {},
   "outputs": [],
   "source": [
    "ypred = []\n",
    "# print(test_x.shape)\n",
    "# print(train_knn_x.shape)\n",
    "# print(train_knn_y.shape)\n",
    "for i in test_x:\n",
    "    ypred.append(lwr1(i, train_x, train_y, 50))\n",
    "ypred = np.array(ypred).reshape(test_y.shape[0],1)\n",
    "\n",
    "Actuall_inflow=test_y.reshape(test_y.shape[0],1)"
   ]
  },
  {
   "cell_type": "code",
   "execution_count": 807,
   "metadata": {},
   "outputs": [],
   "source": [
    "ypred = np.round(ypred)\n",
    "df3 = pd.DataFrame()\n",
    "df3['predicted'] = list(ypred)\n",
    "df3['Actuall'] = Actuall_inflow\n",
    "df3.to_csv(r\"/home/ganesh/Downloads/choice_added_pred.csv\") \n",
    "#print((ypred,Actuall_inflow))"
   ]
  },
  {
   "cell_type": "code",
   "execution_count": 808,
   "metadata": {},
   "outputs": [
    {
     "name": "stdout",
     "output_type": "stream",
     "text": [
      "MSE =  0.7939560439560439\n",
      "RMSE =  0.8910421112136305\n",
      "Accuracy =  0.7005494505494505\n",
      "Accuracy_lag =  0.7005494505494505\n",
      "F1 Score =  0.8402928029556408\n",
      "Precision =  0.7097133641475362\n",
      "Recall =  0.7005494505494505\n",
      "F1 Score_no_lag =  0.7029962341423925\n"
     ]
    },
    {
     "name": "stderr",
     "output_type": "stream",
     "text": [
      "/home/ganesh/PycharmProjects/untitled1/venv/lib/python3.7/site-packages/sklearn/metrics/_classification.py:1268: UndefinedMetricWarning: Precision is ill-defined and being set to 0.0 in labels with no predicted samples. Use `zero_division` parameter to control this behavior.\n",
      "  _warn_prf(average, modifier, msg_start, len(result))\n",
      "/home/ganesh/PycharmProjects/untitled1/venv/lib/python3.7/site-packages/sklearn/metrics/_classification.py:1268: UndefinedMetricWarning: Recall is ill-defined and being set to 0.0 in labels with no true samples. Use `zero_division` parameter to control this behavior.\n",
      "  _warn_prf(average, modifier, msg_start, len(result))\n"
     ]
    }
   ],
   "source": [
    "print(\"MSE = \",metrics.mean_squared_error(Actuall_inflow,ypred))\n",
    "#print(\"RMSE = \",sqrt(metrics.mean_squared_error(Actuall_inflow,train_knn_y)))\n",
    "print(\"RMSE = \",sqrt(metrics.mean_squared_error(Actuall_inflow,ypred)))\n",
    "print(\"Accuracy = \" ,metrics.accuracy_score(Actuall_inflow,ypred))\n",
    "print(\"Accuracy_lag = \" ,metrics.accuracy_score(Actuall_inflow[0:],ypred[:]))\n",
    "#print(\"Accuracy_knn = \" ,metrics.accuracy_score(Actuall_inflow,train_knn_y))\n",
    "print(\"F1 Score = \",metrics.f1_score(Actuall_inflow[:-1],ypred[1:],average = 'weighted'))\n",
    "print(\"Precision = \",metrics.precision_score(Actuall_inflow[:],ypred[:],average = 'weighted'))\n",
    "print(\"Recall = \",metrics.recall_score(Actuall_inflow[:],ypred[:],average = 'weighted'))\n",
    "print(\"F1 Score_no_lag = \",metrics.f1_score(Actuall_inflow,ypred,average = 'weighted'))"
   ]
  },
  {
   "cell_type": "code",
   "execution_count": 814,
   "metadata": {},
   "outputs": [
    {
     "data": {
      "text/plain": [
       "[<matplotlib.lines.Line2D at 0x7f4f4c8edc90>]"
      ]
     },
     "execution_count": 814,
     "metadata": {},
     "output_type": "execute_result"
    },
    {
     "data": {
      "image/png": "[encoded data removed]",
      "text/plain": [
       "<Figure size 1296x432 with 1 Axes>"
      ]
     },
     "metadata": {
      "needs_background": "light"
     },
     "output_type": "display_data"
    }
   ],
   "source": [
    "#pt.plot(train_knn_y,c='red')\n",
    "pt.plot(ypred[:],c='red')\n",
    "pt.plot(Actuall_inflow[:],c='blue')"
   ]
  },
  {
   "cell_type": "code",
   "execution_count": 1008,
   "metadata": {},
   "outputs": [],
   "source": [
    "class LocallyWeightedRegression:\n",
    "    def __init__(self,X,y):\n",
    "        self.train_x = X\n",
    "        self.train_y = y\n",
    "\n",
    "    def fit(self, train_x, train_y):\n",
    "        LocallyWeightedRegression(train_x,train_y)\n",
    "        \n",
    "        \n",
    "    #locally weighted regression\n",
    "    \n",
    "    def lwr1(x0, inp, out, k):\n",
    "        m,n = np.shape(inp)\n",
    "        ypred = np.zeros(m)    \n",
    "        ypred = x0 * beta(x0, inp, out, k)\n",
    "        #print(\"The final prediction is :\",ypred)\n",
    "        return ypred\n",
    "\n",
    "    def beta(point, inp, out, k):\n",
    "        wt = kernal(point, inp, k)\n",
    "        #print(\"The weight of betas is\",wt)\n",
    "        #print(\"Weight * inp\" , (inp.T * (wt*inp)).I)\n",
    "        out = out.reshape((inp.shape[0],1))\n",
    "    #     print(inp.shape)\n",
    "    #     print(wt.shape)\n",
    "    #     print(out.shape)\n",
    "        beta_val = (inp.T * (wt*inp)).I * inp.T * wt * out\n",
    "        #print(\"The weight is beta value is\",beta_val)\n",
    "        return beta_val\n",
    "\n",
    "    def kernal(point, inp, k):\n",
    "        l,b = np.shape(inp)\n",
    "        weights = np.mat(np.eye((l)))\n",
    "        #print(weights)    \n",
    "        for i in range(l):\n",
    "            #point = point.reshape((point.shape[0],1))\n",
    "            #print(point.shape,inp[i].shape)\n",
    "            diff = point - inp[i]\n",
    "            #print(diff.shape)\n",
    "            weights[i,i] = np.exp(np.dot(diff,diff.T) / (-2.0 * (k**2)))\n",
    "        return weights   \n",
    "    \n",
    "    def call_Lwr(self, test_x,train_x,train_y,k):\n",
    "        ypred = []\n",
    "        for i in test_x:\n",
    "            ypred.append(lwr1(i, train_x, train_y, k))\n",
    "        ypred = np.array(ypred).reshape(test_y.shape[0],1)\n",
    "        ypred = np.round(ypred)\n",
    "        return ypred\n",
    "\n",
    "        \n",
    "\n",
    "    def predict(self, test_x):\n",
    "        return self.call_Lwr(test_x,train_x,train_y,k=120)  "
   ]
  },
  {
   "cell_type": "code",
   "execution_count": null,
   "metadata": {},
   "outputs": [],
   "source": [
    "lwr = LocallyWeightedRegression(train_x,train_y)\n",
    "lwr.fit(train_x,train_y)\n",
    "ypred = lwr.predict(test_x)\n",
    "ypred"
   ]
  },
  {
   "cell_type": "code",
   "execution_count": 980,
   "metadata": {},
   "outputs": [
    {
     "name": "stdout",
     "output_type": "stream",
     "text": [
      "Accuracy =  0.6741573033707865\n",
      "Accuracy_lag =  0.6741573033707865\n",
      "F1 Score =  0.803056672311022\n",
      "Precision =  0.6852055020588252\n",
      "Recall =  0.6741573033707865\n",
      "F1 Score_no_lag =  0.6749049111022394\n"
     ]
    },
    {
     "data": {
      "text/plain": [
       "[<matplotlib.lines.Line2D at 0x7f4f47e99690>]"
      ]
     },
     "execution_count": 980,
     "metadata": {},
     "output_type": "execute_result"
    },
    {
     "data": {
      "image/png": "[encoded data removed]",
      "text/plain": [
       "<Figure size 1296x432 with 1 Axes>"
      ]
     },
     "metadata": {
      "needs_background": "light"
     },
     "output_type": "display_data"
    }
   ],
   "source": [
    "Actuall_inflow=test_y.reshape(test_y.shape[0],1)\n",
    "print(\"Accuracy = \" ,metrics.accuracy_score(Actuall_inflow,ypred))\n",
    "print(\"Accuracy_lag = \" ,metrics.accuracy_score(Actuall_inflow[0:],ypred[:]))\n",
    "#print(\"Accuracy_knn = \" ,metrics.accuracy_score(Actuall_inflow,train_knn_y))\n",
    "print(\"F1 Score = \",metrics.f1_score(Actuall_inflow[:-1],ypred[1:],average = 'weighted'))\n",
    "print(\"Precision = \",metrics.precision_score(Actuall_inflow[:],ypred[:],average = 'weighted'))\n",
    "print(\"Recall = \",metrics.recall_score(Actuall_inflow[:],ypred[:],average = 'weighted'))\n",
    "print(\"F1 Score_no_lag = \",metrics.f1_score(Actuall_inflow,ypred,average = 'weighted'))\n",
    "pt.plot(ypred[1:],c='red')\n",
    "pt.plot(Actuall_inflow[:-1],c='blue')"
   ]
  },
  {
   "cell_type": "code",
   "execution_count": 994,
   "metadata": {},
   "outputs": [
    {
     "name": "stderr",
     "output_type": "stream",
     "text": [
      "/home/ganesh/PycharmProjects/untitled1/venv/lib/python3.7/site-packages/sklearn/preprocessing/_label.py:235: DataConversionWarning: A column-vector y was passed when a 1d array was expected. Please change the shape of y to (n_samples, ), for example using ravel().\n",
      "  y = column_or_1d(y, warn=True)\n",
      "/home/ganesh/PycharmProjects/untitled1/venv/lib/python3.7/site-packages/sklearn/preprocessing/_label.py:268: DataConversionWarning: A column-vector y was passed when a 1d array was expected. Please change the shape of y to (n_samples, ), for example using ravel().\n",
      "  y = column_or_1d(y, warn=True)\n",
      "/home/ganesh/PycharmProjects/untitled1/venv/lib/python3.7/site-packages/sklearn/linear_model/_logistic.py:939: ConvergenceWarning: lbfgs failed to converge (status=1):\n",
      "STOP: TOTAL NO. of f AND g EVALUATIONS EXCEEDS LIMIT.\n",
      "\n",
      "Increase the number of iterations (max_iter) or scale the data as shown in:\n",
      "    https://scikit-learn.org/stable/modules/preprocessing.html.\n",
      "Please also refer to the documentation for alternative solver options:\n",
      "    https://scikit-learn.org/stable/modules/linear_model.html#logistic-regression\n",
      "  extra_warning_msg=_LOGISTIC_SOLVER_CONVERGENCE_MSG)\n",
      "/home/ganesh/PycharmProjects/untitled1/venv/lib/python3.7/site-packages/sklearn/linear_model/_logistic.py:939: ConvergenceWarning: lbfgs failed to converge (status=1):\n",
      "STOP: TOTAL NO. of f AND g EVALUATIONS EXCEEDS LIMIT.\n",
      "\n",
      "Increase the number of iterations (max_iter) or scale the data as shown in:\n",
      "    https://scikit-learn.org/stable/modules/preprocessing.html.\n",
      "Please also refer to the documentation for alternative solver options:\n",
      "    https://scikit-learn.org/stable/modules/linear_model.html#logistic-regression\n",
      "  extra_warning_msg=_LOGISTIC_SOLVER_CONVERGENCE_MSG)\n"
     ]
    }
   ],
   "source": [
    "from sklearn.linear_model import LogisticRegression\n",
    "from sklearn.naive_bayes import GaussianNB\n",
    "from sklearn.ensemble import VotingClassifier\n",
    "#Logistic regression\n",
    "lr = LogisticRegression(multi_class=\"multinomial\",solver='lbfgs',max_iter=20000)\n",
    "#lr.fit(train_x,train_y)\n",
    "#ypred_lr = lr.predict(test_x)\n",
    "\n",
    "#Gaussian classification\n",
    "nb = GaussianNB()\n",
    "#nb.fit(train_x,train_y)\n",
    "#ypred_nb = nb.predict(test_x)\n",
    "\n",
    "#LWR\n",
    "lwr = LocallyWeightedRegression(train_x,train_y)\n",
    "#lwr.fit(train_x,train_y)\n",
    "#ypred = lwr.predict(test_x)\n",
    "\n",
    "#Ensemble\n",
    "eclf = VotingClassifier(estimators=[('LR',lr), ('GNB', nb), ('LWR', lr)],voting='soft', weights=[1, 1, 3])\n",
    "# cl1 = nb.fit(train_x,train_y)\n",
    "# cl2 = lr.fit(train_x,train_y)\n",
    "eclf = eclf.fit(train_x,train_y)"
   ]
  },
  {
   "cell_type": "code",
   "execution_count": 995,
   "metadata": {},
   "outputs": [
    {
     "name": "stdout",
     "output_type": "stream",
     "text": [
      "F1 Score =  0.7133842282639044\n",
      "Precision =  0.647406225173079\n",
      "Recall =  0.6544943820224719\n",
      "F1 Score_no_lag =  0.6450115013443692\n"
     ]
    },
    {
     "name": "stderr",
     "output_type": "stream",
     "text": [
      "/home/ganesh/PycharmProjects/untitled1/venv/lib/python3.7/site-packages/sklearn/metrics/_classification.py:1268: UndefinedMetricWarning: Precision is ill-defined and being set to 0.0 in labels with no predicted samples. Use `zero_division` parameter to control this behavior.\n",
      "  _warn_prf(average, modifier, msg_start, len(result))\n"
     ]
    },
    {
     "data": {
      "text/plain": [
       "[<matplotlib.lines.Line2D at 0x7f4f47a6b450>]"
      ]
     },
     "execution_count": 995,
     "metadata": {},
     "output_type": "execute_result"
    },
    {
     "data": {
      "image/png": "[encoded data removed]",
      "text/plain": [
       "<Figure size 1296x432 with 1 Axes>"
      ]
     },
     "metadata": {
      "needs_background": "light"
     },
     "output_type": "display_data"
    }
   ],
   "source": [
    "ypred = eclf.predict(test_x)\n",
    "print(\"F1 Score = \",metrics.f1_score(Actuall_inflow[:-1],ypred[1:],average = 'weighted'))\n",
    "print(\"Precision = \",metrics.precision_score(Actuall_inflow[:],ypred[:],average = 'weighted'))\n",
    "print(\"Recall = \",metrics.recall_score(Actuall_inflow[:],ypred[:],average = 'weighted'))\n",
    "print(\"F1 Score_no_lag = \",metrics.f1_score(Actuall_inflow,ypred,average = 'weighted'))\n",
    "pt.plot(ypred[1:],c='red')\n",
    "pt.plot(Actuall_inflow[:-1],c='blue')"
   ]
  },
  {
   "cell_type": "code",
   "execution_count": 565,
   "metadata": {},
   "outputs": [
    {
     "data": {
      "text/plain": [
       "[<matplotlib.lines.Line2D at 0x7f4f514d2390>]"
      ]
     },
     "execution_count": 565,
     "metadata": {},
     "output_type": "execute_result"
    },
    {
     "data": {
      "image/png": "[encoded data removed]",
      "text/plain": [
       "<Figure size 1296x432 with 1 Axes>"
      ]
     },
     "metadata": {
      "needs_background": "light"
     },
     "output_type": "display_data"
    }
   ],
   "source": [
    "pt.plot(Actuall_inflow,c='blue')"
   ]
  },
  {
   "cell_type": "code",
   "execution_count": 566,
   "metadata": {},
   "outputs": [
    {
     "data": {
      "text/plain": [
       "[<matplotlib.lines.Line2D at 0x7f4f51435b50>]"
      ]
     },
     "execution_count": 566,
     "metadata": {},
     "output_type": "execute_result"
    },
    {
     "data": {
      "image/png": "[encoded data removed]",
      "text/plain": [
       "<Figure size 1296x432 with 1 Axes>"
      ]
     },
     "metadata": {
      "needs_background": "light"
     },
     "output_type": "display_data"
    }
   ],
   "source": [
    "pt.plot(ypred,c='red')"
   ]
  },
  {
   "cell_type": "code",
   "execution_count": null,
   "metadata": {},
   "outputs": [],
   "source": []
  },
  {
   "cell_type": "code",
   "execution_count": 155,
   "metadata": {},
   "outputs": [],
   "source": [
    "# distance = []\n",
    "# for single_point in Q_point:\n",
    "#         #print(single_point)\n",
    "#         points = inp \n",
    "#         #print(points)\n",
    "#         distance.append(euclid_dist(single_point,points))\n",
    "# distance\n",
    "# min_val = np.amin(distance,axis = 0) \n",
    "# min_val.shape"
   ]
  },
  {
   "cell_type": "code",
   "execution_count": 156,
   "metadata": {},
   "outputs": [],
   "source": [
    "# def cal_eucledian_distance(q_point,inp1):\n",
    "#     #print(q_point,inp1)\n",
    "#     q_point = list(q_point)\n",
    "#     #print(q_point.shape)\n",
    "#     print(inp1.shape)\n",
    "#     a = np.linalg.norm(q_point - inp1)\n",
    "#     print(a)"
   ]
  },
  {
   "cell_type": "code",
   "execution_count": 157,
   "metadata": {},
   "outputs": [],
   "source": [
    "# #for q_point in Q_point:\n",
    "# abc = cal_eucledian_distance(Q_point[0],inp)"
   ]
  },
  {
   "cell_type": "code",
   "execution_count": 158,
   "metadata": {},
   "outputs": [],
   "source": [
    "# def knn(inp1,k,q_point):\n",
    "#     tup_val = []\n",
    "#     distance_list = [cal_eucledian_distance(Q_point,inp1[i]) for i in range(len(inp1))]\n",
    "#     #print(distance_list)\n",
    "#     for i in range(len(inp1)):\n",
    "#         tup_val.append((distance_list[i],inp1[i]))\n",
    "#     #print(\"---------------------------\")\n",
    "#     #print(tup_val)\n",
    "#     index=0\n",
    "#     sorted_values = sort(tup_val)\n",
    "#     neighbours = sorted_values[:k]\n",
    "#     return neighbours"
   ]
  },
  {
   "cell_type": "code",
   "execution_count": 159,
   "metadata": {},
   "outputs": [],
   "source": [
    "# def last(n):\n",
    "#     m =0\n",
    "#     return n[m]"
   ]
  },
  {
   "cell_type": "code",
   "execution_count": 160,
   "metadata": {},
   "outputs": [],
   "source": [
    "# def sort(tuples):\n",
    "#     return sorted(tuples,key=last)"
   ]
  },
  {
   "cell_type": "code",
   "execution_count": 19,
   "metadata": {},
   "outputs": [
    {
     "name": "stdout",
     "output_type": "stream",
     "text": [
      "[(20731.981515523323, array([[   42.9525,    31.8   ,    25.085 , 20425.    ]])), (23297.686961347703, array([[2.67125000e+01, 1.83850000e+01, 1.48183333e+01, 1.86060000e+04]])), (24399.328760307188, array([[   47.7375    ,    33.08      ,    35.29666667, 17825.        ]])), (25855.892008067804, array([[   35.975     ,    32.77833333,    24.51333333, 16793.        ]])), (28072.26480699056, array([[   34.2625    ,    21.96833333,    17.76666667, 15223.        ]])), (28472.884040877885, array([[   70.74      ,    52.415     ,    45.90666667, 14939.        ]])), (29992.39079578066, array([[   56.78      ,    41.05      ,    25.89166667, 13863.        ]])), (30037.87962054293, array([[2.85500000e+01, 1.20950000e+01, 1.18066667e+01, 1.38310000e+04]])), (30369.803755501955, array([[2.19325000e+01, 1.40566667e+01, 6.47166667e+00, 1.35960000e+04]])), (30756.227591805935, array([[   77.865     ,    60.06333333,    48.285     , 13322.        ]]))]\n"
     ]
    },
    {
     "data": {
      "text/plain": [
       "10"
      ]
     },
     "execution_count": 19,
     "metadata": {},
     "output_type": "execute_result"
    }
   ],
   "source": [
    "inp1 = t_vals\n",
    "vals = knn(inp1,10,q_point)\n",
    "print(vals)\n",
    "len(vals)"
   ]
  },
  {
   "cell_type": "code",
   "execution_count": 20,
   "metadata": {},
   "outputs": [
    {
     "name": "stdout",
     "output_type": "stream",
     "text": [
      "(20731.981515523323, array([[   42.9525,    31.8   ,    25.085 , 20425.    ]]))\n"
     ]
    }
   ],
   "source": [
    "print(vals[0])"
   ]
  },
  {
   "cell_type": "code",
   "execution_count": 21,
   "metadata": {},
   "outputs": [],
   "source": [
    "near_vals = []\n",
    "for i in range(len(vals)):\n",
    "    near_vals.append(vals[i][1])"
   ]
  },
  {
   "cell_type": "code",
   "execution_count": 22,
   "metadata": {},
   "outputs": [
    {
     "data": {
      "text/plain": [
       "(10, 1, 4)"
      ]
     },
     "execution_count": 22,
     "metadata": {},
     "output_type": "execute_result"
    }
   ],
   "source": [
    "near_vals = np.array(near_vals)\n",
    "near_vals.shape"
   ]
  },
  {
   "cell_type": "code",
   "execution_count": 23,
   "metadata": {},
   "outputs": [
    {
     "data": {
      "text/plain": [
       "(10, 1, 4)"
      ]
     },
     "execution_count": 23,
     "metadata": {},
     "output_type": "execute_result"
    }
   ],
   "source": [
    "np.shape(near_vals)"
   ]
  },
  {
   "cell_type": "code",
   "execution_count": 24,
   "metadata": {},
   "outputs": [
    {
     "data": {
      "text/plain": [
       "10"
      ]
     },
     "execution_count": 24,
     "metadata": {},
     "output_type": "execute_result"
    }
   ],
   "source": [
    "len(near_vals) "
   ]
  },
  {
   "cell_type": "code",
   "execution_count": 25,
   "metadata": {},
   "outputs": [],
   "source": [
    "def normalize(mcolB, max_val, min_val):\n",
    "    #print(mcolB)\n",
    "    n_val = []\n",
    "    for i in range(len(mcolB)):\n",
    "        n_val.append(float(((mcolB[i] - min_val) / (max_val - min_val))))\n",
    "    return n_val\n",
    "    #return ( (point - m) / () )"
   ]
  },
  {
   "cell_type": "code",
   "execution_count": 26,
   "metadata": {},
   "outputs": [
    {
     "data": {
      "text/plain": [
       "array([[[4.29525000e+01, 3.18000000e+01, 2.50850000e+01, 2.04250000e+04]],\n",
       "\n",
       "       [[2.67125000e+01, 1.83850000e+01, 1.48183333e+01, 1.86060000e+04]],\n",
       "\n",
       "       [[4.77375000e+01, 3.30800000e+01, 3.52966667e+01, 1.78250000e+04]],\n",
       "\n",
       "       [[3.59750000e+01, 3.27783333e+01, 2.45133333e+01, 1.67930000e+04]],\n",
       "\n",
       "       [[3.42625000e+01, 2.19683333e+01, 1.77666667e+01, 1.52230000e+04]],\n",
       "\n",
       "       [[7.07400000e+01, 5.24150000e+01, 4.59066667e+01, 1.49390000e+04]],\n",
       "\n",
       "       [[5.67800000e+01, 4.10500000e+01, 2.58916667e+01, 1.38630000e+04]],\n",
       "\n",
       "       [[2.85500000e+01, 1.20950000e+01, 1.18066667e+01, 1.38310000e+04]],\n",
       "\n",
       "       [[2.19325000e+01, 1.40566667e+01, 6.47166667e+00, 1.35960000e+04]],\n",
       "\n",
       "       [[7.78650000e+01, 6.00633333e+01, 4.82850000e+01, 1.33220000e+04]],\n",
       "\n",
       "       [[1.23047500e+02, 7.68600000e+01, 7.85150000e+01, 3.39010000e+04]]])"
      ]
     },
     "execution_count": 26,
     "metadata": {},
     "output_type": "execute_result"
    }
   ],
   "source": [
    "near_vals = np.append(near_vals,[[[123.0475,76.86,78.515,33901]]],axis = 0)\n",
    "near_vals[:,0:3]\n"
   ]
  },
  {
   "cell_type": "code",
   "execution_count": 27,
   "metadata": {},
   "outputs": [
    {
     "data": {
      "text/plain": [
       "11"
      ]
     },
     "execution_count": 27,
     "metadata": {},
     "output_type": "execute_result"
    }
   ],
   "source": [
    "near_len = len(near_vals)\n",
    "near_len"
   ]
  },
  {
   "cell_type": "code",
   "execution_count": 28,
   "metadata": {},
   "outputs": [],
   "source": [
    "x = near_vals.reshape(near_len,4)"
   ]
  },
  {
   "cell_type": "code",
   "execution_count": 29,
   "metadata": {},
   "outputs": [
    {
     "name": "stdout",
     "output_type": "stream",
     "text": [
      "2918\n"
     ]
    }
   ],
   "source": [
    "print(len(Dam_data))"
   ]
  },
  {
   "cell_type": "code",
   "execution_count": 30,
   "metadata": {},
   "outputs": [],
   "source": [
    "mcolA = x[:,0:3]\n",
    "mcolB = x[:,-1]"
   ]
  },
  {
   "cell_type": "code",
   "execution_count": 31,
   "metadata": {},
   "outputs": [
    {
     "data": {
      "text/plain": [
       "array([[ 42.9525    ,  31.8       ,  25.085     ],\n",
       "       [ 26.7125    ,  18.385     ,  14.81833333],\n",
       "       [ 47.7375    ,  33.08      ,  35.29666667],\n",
       "       [ 35.975     ,  32.77833333,  24.51333333],\n",
       "       [ 34.2625    ,  21.96833333,  17.76666667],\n",
       "       [ 70.74      ,  52.415     ,  45.90666667],\n",
       "       [ 56.78      ,  41.05      ,  25.89166667],\n",
       "       [ 28.55      ,  12.095     ,  11.80666667],\n",
       "       [ 21.9325    ,  14.05666667,   6.47166667],\n",
       "       [ 77.865     ,  60.06333333,  48.285     ],\n",
       "       [123.0475    ,  76.86      ,  78.515     ]])"
      ]
     },
     "execution_count": 31,
     "metadata": {},
     "output_type": "execute_result"
    }
   ],
   "source": [
    "mcolA "
   ]
  },
  {
   "cell_type": "code",
   "execution_count": 32,
   "metadata": {},
   "outputs": [
    {
     "data": {
      "text/plain": [
       "array([20425., 18606., 17825., 16793., 15223., 14939., 13863., 13831.,\n",
       "       13596., 13322., 33901.])"
      ]
     },
     "execution_count": 32,
     "metadata": {},
     "output_type": "execute_result"
    }
   ],
   "source": [
    "mcolB"
   ]
  },
  {
   "cell_type": "code",
   "execution_count": 33,
   "metadata": {},
   "outputs": [],
   "source": [
    "# a = list(mcolA)\n",
    "# b = list(mcolB)\n",
    "# b\n",
    "# a\n",
    "inp_matrix = mcolA"
   ]
  },
  {
   "cell_type": "code",
   "execution_count": 34,
   "metadata": {},
   "outputs": [],
   "source": [
    "# reg_val = []\n",
    "# mcolB = []\n",
    "# mcolA = []\n",
    "# for i in range(len(t_vals)):\n",
    "#     if t_vals[i][0] in near_vals:\n",
    "#         reg_val.append((t_vals[i][0],t_vals[i][1]))\n",
    "#         mcolA.append(t_vals[i][0])\n",
    "#         mcolB.append(t_vals[i][1])\n",
    "#         #print(\"True\")\n",
    "# #print(q_point)\n",
    "# #print(reg_val)\n",
    "# print(reg_val)\n",
    "# size_b = len(mcolB)\n",
    "# mcolB = np.array(mcolB)\n",
    "# mcolA = np.array(mcolA)\n",
    "# mcolB = mcolB.reshape((size_b,1))\n",
    "# max_val = np.max(mcolB)\n",
    "# min_val = np.min(mcolB)\n",
    "# print(np.shape(mcolB))\n",
    "# print(np.shape(mcolA))\n",
    "# #print(mcolA1[0])\n",
    "# print(mcolB)\n",
    "\n"
   ]
  },
  {
   "cell_type": "code",
   "execution_count": 35,
   "metadata": {},
   "outputs": [
    {
     "data": {
      "text/plain": [
       "(11, 1)"
      ]
     },
     "execution_count": 35,
     "metadata": {},
     "output_type": "execute_result"
    }
   ],
   "source": [
    "size_b = len(mcolB)\n",
    "#print(size_b)\n",
    "max_val = np.max(mcolB)\n",
    "min_val = np.min(mcolB)\n",
    "mcolB = mcolB.reshape(size_b,1)\n",
    "mcolB.shape"
   ]
  },
  {
   "cell_type": "code",
   "execution_count": 36,
   "metadata": {},
   "outputs": [
    {
     "data": {
      "text/plain": [
       "(11, 3)"
      ]
     },
     "execution_count": 36,
     "metadata": {},
     "output_type": "execute_result"
    }
   ],
   "source": [
    "mcolA.shape"
   ]
  },
  {
   "cell_type": "code",
   "execution_count": 37,
   "metadata": {},
   "outputs": [
    {
     "name": "stdout",
     "output_type": "stream",
     "text": [
      "[0.3451576850187084, 0.25676660673502116, 0.21881529714757764, 0.16866708780795958, 0.0923757228242383, 0.07857524661062248, 0.026288935322416055, 0.024733952087079063, 0.013314543952573012, 0.0, 1.0]\n",
      "1.0\n",
      "(11, 1)\n"
     ]
    }
   ],
   "source": [
    "normalized_tar_val = normalize(mcolB,max_val,min_val)\n",
    "print(normalized_tar_val)\n",
    "print(np.max(normalized_tar_val))\n",
    "normalized_tar_val = np.array(normalized_tar_val)\n",
    "normalized_tar_val = normalized_tar_val.reshape(size_b,1)\n",
    "print(np.shape(normalized_tar_val))"
   ]
  },
  {
   "cell_type": "code",
   "execution_count": 38,
   "metadata": {},
   "outputs": [
    {
     "name": "stdout",
     "output_type": "stream",
     "text": [
      "[[137.695       57.25        80.23333333]\n",
      " [123.0475      76.86        78.515     ]]\n"
     ]
    },
    {
     "data": {
      "text/plain": [
       "(1, 3)"
      ]
     },
     "execution_count": 38,
     "metadata": {},
     "output_type": "execute_result"
    }
   ],
   "source": [
    "q_point = q_point[:,0:3]\n",
    "q_point.shape\n",
    "print(q_point)\n",
    "q_point[0].shape"
   ]
  },
  {
   "cell_type": "code",
   "execution_count": 39,
   "metadata": {},
   "outputs": [
    {
     "data": {
      "text/plain": [
       "matrix([[137.695     ,  57.25      ,  80.23333333],\n",
       "        [123.0475    ,  76.86      ,  78.515     ]])"
      ]
     },
     "execution_count": 39,
     "metadata": {},
     "output_type": "execute_result"
    }
   ],
   "source": [
    "q_point[:,0:4]"
   ]
  },
  {
   "cell_type": "code",
   "execution_count": 40,
   "metadata": {},
   "outputs": [],
   "source": [
    "def lwr(inp, out, k):\n",
    "    m,n = np.shape(inp)\n",
    "    ypred = np.zeros(m)\n",
    "    \n",
    "    for i in range(m):\n",
    "        ypred[i] = inp[i] * beta(inp[i], inp, out, k)\n",
    "    #print(\"The final prediction is :\",ypred)\n",
    "    return ypred\n",
    "    "
   ]
  },
  {
   "cell_type": "code",
   "execution_count": 41,
   "metadata": {},
   "outputs": [],
   "source": [
    "def lwr1(x0, inp, out, k):\n",
    "    m,n = np.shape(inp)\n",
    "    ypred = np.zeros(m)\n",
    "    \n",
    "    ypred = x0 * beta(x0, inp, out, k)\n",
    "    #print(\"The final prediction is :\",ypred)\n",
    "    return ypred\n"
   ]
  },
  {
   "cell_type": "code",
   "execution_count": 42,
   "metadata": {},
   "outputs": [],
   "source": [
    "def beta(point, inp, out, k):\n",
    "    wt = kernal(point, inp, k)\n",
    "    #print(\"The weight of betas is\",wt)\n",
    "    beta_val = (inp.T * (wt*inp)).I * (inp.T * wt * out)\n",
    "    #print(\"The weight is beta value is\",beta_val)\n",
    "    \n",
    "    return beta_val"
   ]
  },
  {
   "cell_type": "code",
   "execution_count": 43,
   "metadata": {},
   "outputs": [],
   "source": [
    "def kernal(point, inp, k):\n",
    "    l,b = np.shape(inp)\n",
    "    weights = np.mat(np.eye((l)))\n",
    "    #print(weights)\n",
    "    \n",
    "    for i in range(l):\n",
    "        diff = point - inp[i]\n",
    "        #diff = np.array(diff)\n",
    "        #print(\"Hi\",len(diff))\n",
    "        #print(diff.shape)\n",
    "        #diff = diff.reshape(len(diff),1)\n",
    "        #print(np.shape(diff))\n",
    "        #diff1 = diff.T\n",
    "        #print(np.shape(diff.T))\n",
    "        #a = np.dot(diff,diff.T)\n",
    "        #print(a)\n",
    "        \n",
    "        #print(a)\n",
    "        #print(np.shape(a))\n",
    "        weights[i,i] = np.exp(np.dot(diff,diff.T) / (-2.0 * (k**2)))\n",
    "        #print(weights[i,i])\n",
    "    #print(\"The weights of\",i,'is',weights[i,i])\n",
    "    \n",
    "    return weights"
   ]
  },
  {
   "cell_type": "code",
   "execution_count": 44,
   "metadata": {},
   "outputs": [
    {
     "name": "stdout",
     "output_type": "stream",
     "text": [
      "(11, 3)\n",
      "(11, 1)\n",
      "[[137.695       57.25        80.23333333]\n",
      " [123.0475      76.86        78.515     ]]\n",
      "----------------------\n",
      "[[ 42.9525      31.8         25.085     ]\n",
      " [ 26.7125      18.385       14.81833333]\n",
      " [ 47.7375      33.08        35.29666667]\n",
      " [ 35.975       32.77833333  24.51333333]\n",
      " [ 34.2625      21.96833333  17.76666667]\n",
      " [ 70.74        52.415       45.90666667]\n",
      " [ 56.78        41.05        25.89166667]\n",
      " [ 28.55        12.095       11.80666667]\n",
      " [ 21.9325      14.05666667   6.47166667]\n",
      " [ 77.865       60.06333333  48.285     ]\n",
      " [123.0475      76.86        78.515     ]]\n",
      "-----------------------------------------------\n"
     ]
    },
    {
     "ename": "LinAlgError",
     "evalue": "Singular matrix",
     "output_type": "error",
     "traceback": [
      "\u001b[0;31m---------------------------------------------------------------------------\u001b[0m",
      "\u001b[0;31mLinAlgError\u001b[0m                               Traceback (most recent call last)",
      "\u001b[0;32m<ipython-input-44-19779f6e93f9>\u001b[0m in \u001b[0;36m<module>\u001b[0;34m\u001b[0m\n\u001b[1;32m      9\u001b[0m \u001b[0;32mfor\u001b[0m \u001b[0mi\u001b[0m \u001b[0;32min\u001b[0m \u001b[0mrange\u001b[0m\u001b[0;34m(\u001b[0m\u001b[0mlen\u001b[0m\u001b[0;34m(\u001b[0m\u001b[0mq_point\u001b[0m\u001b[0;34m)\u001b[0m\u001b[0;34m)\u001b[0m\u001b[0;34m:\u001b[0m\u001b[0;34m\u001b[0m\u001b[0;34m\u001b[0m\u001b[0m\n\u001b[1;32m     10\u001b[0m \u001b[0;34m\u001b[0m\u001b[0m\n\u001b[0;32m---> 11\u001b[0;31m     \u001b[0mypred1\u001b[0m \u001b[0;34m=\u001b[0m \u001b[0mlwr1\u001b[0m\u001b[0;34m(\u001b[0m\u001b[0mq_point\u001b[0m\u001b[0;34m[\u001b[0m\u001b[0mi\u001b[0m\u001b[0;34m]\u001b[0m\u001b[0;34m,\u001b[0m \u001b[0minp_matrix\u001b[0m\u001b[0;34m,\u001b[0m \u001b[0mmcolB\u001b[0m\u001b[0;34m,\u001b[0m \u001b[0;36m1.5\u001b[0m\u001b[0;34m)\u001b[0m\u001b[0;34m\u001b[0m\u001b[0;34m\u001b[0m\u001b[0m\n\u001b[0m\u001b[1;32m     12\u001b[0m \u001b[0mypred\u001b[0m \u001b[0;34m=\u001b[0m \u001b[0mnp\u001b[0m\u001b[0;34m.\u001b[0m\u001b[0marray\u001b[0m\u001b[0;34m(\u001b[0m\u001b[0mypred\u001b[0m\u001b[0;34m)\u001b[0m\u001b[0;34m\u001b[0m\u001b[0;34m\u001b[0m\u001b[0m\n\u001b[1;32m     13\u001b[0m \u001b[0mprint\u001b[0m\u001b[0;34m(\u001b[0m\u001b[0mmcolB\u001b[0m\u001b[0;34m)\u001b[0m\u001b[0;34m\u001b[0m\u001b[0;34m\u001b[0m\u001b[0m\n",
      "\u001b[0;32m<ipython-input-41-a7327315db52>\u001b[0m in \u001b[0;36mlwr1\u001b[0;34m(x0, inp, out, k)\u001b[0m\n\u001b[1;32m      3\u001b[0m     \u001b[0mypred\u001b[0m \u001b[0;34m=\u001b[0m \u001b[0mnp\u001b[0m\u001b[0;34m.\u001b[0m\u001b[0mzeros\u001b[0m\u001b[0;34m(\u001b[0m\u001b[0mm\u001b[0m\u001b[0;34m)\u001b[0m\u001b[0;34m\u001b[0m\u001b[0;34m\u001b[0m\u001b[0m\n\u001b[1;32m      4\u001b[0m \u001b[0;34m\u001b[0m\u001b[0m\n\u001b[0;32m----> 5\u001b[0;31m     \u001b[0mypred\u001b[0m \u001b[0;34m=\u001b[0m \u001b[0mx0\u001b[0m \u001b[0;34m*\u001b[0m \u001b[0mbeta\u001b[0m\u001b[0;34m(\u001b[0m\u001b[0mx0\u001b[0m\u001b[0;34m,\u001b[0m \u001b[0minp\u001b[0m\u001b[0;34m,\u001b[0m \u001b[0mout\u001b[0m\u001b[0;34m,\u001b[0m \u001b[0mk\u001b[0m\u001b[0;34m)\u001b[0m\u001b[0;34m\u001b[0m\u001b[0;34m\u001b[0m\u001b[0m\n\u001b[0m\u001b[1;32m      6\u001b[0m     \u001b[0;31m#print(\"The final prediction is :\",ypred)\u001b[0m\u001b[0;34m\u001b[0m\u001b[0;34m\u001b[0m\u001b[0;34m\u001b[0m\u001b[0m\n\u001b[1;32m      7\u001b[0m     \u001b[0;32mreturn\u001b[0m \u001b[0mypred\u001b[0m\u001b[0;34m\u001b[0m\u001b[0;34m\u001b[0m\u001b[0m\n",
      "\u001b[0;32m<ipython-input-42-359827637047>\u001b[0m in \u001b[0;36mbeta\u001b[0;34m(point, inp, out, k)\u001b[0m\n\u001b[1;32m      2\u001b[0m     \u001b[0mwt\u001b[0m \u001b[0;34m=\u001b[0m \u001b[0mkernal\u001b[0m\u001b[0;34m(\u001b[0m\u001b[0mpoint\u001b[0m\u001b[0;34m,\u001b[0m \u001b[0minp\u001b[0m\u001b[0;34m,\u001b[0m \u001b[0mk\u001b[0m\u001b[0;34m)\u001b[0m\u001b[0;34m\u001b[0m\u001b[0;34m\u001b[0m\u001b[0m\n\u001b[1;32m      3\u001b[0m     \u001b[0;31m#print(\"The weight of betas is\",wt)\u001b[0m\u001b[0;34m\u001b[0m\u001b[0;34m\u001b[0m\u001b[0;34m\u001b[0m\u001b[0m\n\u001b[0;32m----> 4\u001b[0;31m     \u001b[0mbeta_val\u001b[0m \u001b[0;34m=\u001b[0m \u001b[0;34m(\u001b[0m\u001b[0minp\u001b[0m\u001b[0;34m.\u001b[0m\u001b[0mT\u001b[0m \u001b[0;34m*\u001b[0m \u001b[0;34m(\u001b[0m\u001b[0mwt\u001b[0m\u001b[0;34m*\u001b[0m\u001b[0minp\u001b[0m\u001b[0;34m)\u001b[0m\u001b[0;34m)\u001b[0m\u001b[0;34m.\u001b[0m\u001b[0mI\u001b[0m \u001b[0;34m*\u001b[0m \u001b[0;34m(\u001b[0m\u001b[0minp\u001b[0m\u001b[0;34m.\u001b[0m\u001b[0mT\u001b[0m \u001b[0;34m*\u001b[0m \u001b[0mwt\u001b[0m \u001b[0;34m*\u001b[0m \u001b[0mout\u001b[0m\u001b[0;34m)\u001b[0m\u001b[0;34m\u001b[0m\u001b[0;34m\u001b[0m\u001b[0m\n\u001b[0m\u001b[1;32m      5\u001b[0m     \u001b[0;31m#print(\"The weight is beta value is\",beta_val)\u001b[0m\u001b[0;34m\u001b[0m\u001b[0;34m\u001b[0m\u001b[0;34m\u001b[0m\u001b[0m\n\u001b[1;32m      6\u001b[0m \u001b[0;34m\u001b[0m\u001b[0m\n",
      "\u001b[0;32m~/PycharmProjects/untitled1/venv/lib/python3.7/site-packages/numpy/matrixlib/defmatrix.py\u001b[0m in \u001b[0;36mI\u001b[0;34m(self)\u001b[0m\n\u001b[1;32m    835\u001b[0m         \u001b[0;32melse\u001b[0m\u001b[0;34m:\u001b[0m\u001b[0;34m\u001b[0m\u001b[0;34m\u001b[0m\u001b[0m\n\u001b[1;32m    836\u001b[0m             \u001b[0;32mfrom\u001b[0m \u001b[0mnumpy\u001b[0m\u001b[0;34m.\u001b[0m\u001b[0mdual\u001b[0m \u001b[0;32mimport\u001b[0m \u001b[0mpinv\u001b[0m \u001b[0;32mas\u001b[0m \u001b[0mfunc\u001b[0m\u001b[0;34m\u001b[0m\u001b[0;34m\u001b[0m\u001b[0m\n\u001b[0;32m--> 837\u001b[0;31m         \u001b[0;32mreturn\u001b[0m \u001b[0masmatrix\u001b[0m\u001b[0;34m(\u001b[0m\u001b[0mfunc\u001b[0m\u001b[0;34m(\u001b[0m\u001b[0mself\u001b[0m\u001b[0;34m)\u001b[0m\u001b[0;34m)\u001b[0m\u001b[0;34m\u001b[0m\u001b[0;34m\u001b[0m\u001b[0m\n\u001b[0m\u001b[1;32m    838\u001b[0m \u001b[0;34m\u001b[0m\u001b[0m\n\u001b[1;32m    839\u001b[0m     \u001b[0;34m@\u001b[0m\u001b[0mproperty\u001b[0m\u001b[0;34m\u001b[0m\u001b[0;34m\u001b[0m\u001b[0m\n",
      "\u001b[0;32m<__array_function__ internals>\u001b[0m in \u001b[0;36minv\u001b[0;34m(*args, **kwargs)\u001b[0m\n",
      "\u001b[0;32m~/PycharmProjects/untitled1/venv/lib/python3.7/site-packages/numpy/linalg/linalg.py\u001b[0m in \u001b[0;36minv\u001b[0;34m(a)\u001b[0m\n\u001b[1;32m    549\u001b[0m     \u001b[0msignature\u001b[0m \u001b[0;34m=\u001b[0m \u001b[0;34m'D->D'\u001b[0m \u001b[0;32mif\u001b[0m \u001b[0misComplexType\u001b[0m\u001b[0;34m(\u001b[0m\u001b[0mt\u001b[0m\u001b[0;34m)\u001b[0m \u001b[0;32melse\u001b[0m \u001b[0;34m'd->d'\u001b[0m\u001b[0;34m\u001b[0m\u001b[0;34m\u001b[0m\u001b[0m\n\u001b[1;32m    550\u001b[0m     \u001b[0mextobj\u001b[0m \u001b[0;34m=\u001b[0m \u001b[0mget_linalg_error_extobj\u001b[0m\u001b[0;34m(\u001b[0m\u001b[0m_raise_linalgerror_singular\u001b[0m\u001b[0;34m)\u001b[0m\u001b[0;34m\u001b[0m\u001b[0;34m\u001b[0m\u001b[0m\n\u001b[0;32m--> 551\u001b[0;31m     \u001b[0mainv\u001b[0m \u001b[0;34m=\u001b[0m \u001b[0m_umath_linalg\u001b[0m\u001b[0;34m.\u001b[0m\u001b[0minv\u001b[0m\u001b[0;34m(\u001b[0m\u001b[0ma\u001b[0m\u001b[0;34m,\u001b[0m \u001b[0msignature\u001b[0m\u001b[0;34m=\u001b[0m\u001b[0msignature\u001b[0m\u001b[0;34m,\u001b[0m \u001b[0mextobj\u001b[0m\u001b[0;34m=\u001b[0m\u001b[0mextobj\u001b[0m\u001b[0;34m)\u001b[0m\u001b[0;34m\u001b[0m\u001b[0;34m\u001b[0m\u001b[0m\n\u001b[0m\u001b[1;32m    552\u001b[0m     \u001b[0;32mreturn\u001b[0m \u001b[0mwrap\u001b[0m\u001b[0;34m(\u001b[0m\u001b[0mainv\u001b[0m\u001b[0;34m.\u001b[0m\u001b[0mastype\u001b[0m\u001b[0;34m(\u001b[0m\u001b[0mresult_t\u001b[0m\u001b[0;34m,\u001b[0m \u001b[0mcopy\u001b[0m\u001b[0;34m=\u001b[0m\u001b[0;32mFalse\u001b[0m\u001b[0;34m)\u001b[0m\u001b[0;34m)\u001b[0m\u001b[0;34m\u001b[0m\u001b[0;34m\u001b[0m\u001b[0m\n\u001b[1;32m    553\u001b[0m \u001b[0;34m\u001b[0m\u001b[0m\n",
      "\u001b[0;32m~/PycharmProjects/untitled1/venv/lib/python3.7/site-packages/numpy/linalg/linalg.py\u001b[0m in \u001b[0;36m_raise_linalgerror_singular\u001b[0;34m(err, flag)\u001b[0m\n\u001b[1;32m     95\u001b[0m \u001b[0;34m\u001b[0m\u001b[0m\n\u001b[1;32m     96\u001b[0m \u001b[0;32mdef\u001b[0m \u001b[0m_raise_linalgerror_singular\u001b[0m\u001b[0;34m(\u001b[0m\u001b[0merr\u001b[0m\u001b[0;34m,\u001b[0m \u001b[0mflag\u001b[0m\u001b[0;34m)\u001b[0m\u001b[0;34m:\u001b[0m\u001b[0;34m\u001b[0m\u001b[0;34m\u001b[0m\u001b[0m\n\u001b[0;32m---> 97\u001b[0;31m     \u001b[0;32mraise\u001b[0m \u001b[0mLinAlgError\u001b[0m\u001b[0;34m(\u001b[0m\u001b[0;34m\"Singular matrix\"\u001b[0m\u001b[0;34m)\u001b[0m\u001b[0;34m\u001b[0m\u001b[0;34m\u001b[0m\u001b[0m\n\u001b[0m\u001b[1;32m     98\u001b[0m \u001b[0;34m\u001b[0m\u001b[0m\n\u001b[1;32m     99\u001b[0m \u001b[0;32mdef\u001b[0m \u001b[0m_raise_linalgerror_nonposdef\u001b[0m\u001b[0;34m(\u001b[0m\u001b[0merr\u001b[0m\u001b[0;34m,\u001b[0m \u001b[0mflag\u001b[0m\u001b[0;34m)\u001b[0m\u001b[0;34m:\u001b[0m\u001b[0;34m\u001b[0m\u001b[0;34m\u001b[0m\u001b[0m\n",
      "\u001b[0;31mLinAlgError\u001b[0m: Singular matrix"
     ]
    }
   ],
   "source": [
    "#mcolB = normalized_tar_val\n",
    "print(inp_matrix.shape)\n",
    "print(mcolB.shape)\n",
    "print(q_point)\n",
    "print(\"----------------------\")\n",
    "print(inp_matrix)\n",
    "print(\"-----------------------------------------------\")\n",
    "#ypred = lwr(inp_matrix, mcolB, 6)\n",
    "for i in range(len(q_point)):\n",
    "    \n",
    "    ypred1 = lwr1(q_point[i], inp_matrix, mcolB, 1.5)\n",
    "ypred = np.array(ypred)\n",
    "print(mcolB)\n",
    "#print(normalized_tar_val)\n",
    "#print(ypred)\n",
    "print(\"=======================================================\")\n",
    "print(ypred1)\n",
    "print(np.shape(mcolB))\n",
    "\n",
    "xsort = inp_matrix.copy()\n",
    "xsort.sort(axis = 0)\n",
    "print(np.shape(mcolA))\n",
    "\n",
    "f, (ax1, ax2) = pt.subplots(1, 2, sharey=True)\n",
    "pt.plot(xsort[:,1],ypred[mcolA[:,1].argsort(0)],color = 'yellow',linewidth = 5)#ypred[X[:, 1].argsort(0)]\n",
    "ax1.set_title('Sharing Y axis')\n",
    "ax2.scatter(mcolA, mcolB)\n",
    "\n",
    "pt.scatter(mcolA,mcolB,color = 'blue')\n",
    "pt.plot(xsort[:,1],ypred[mcolA[:,1].argsort(0)],color = 'yellow',linewidth = 5)#ypred[X[:, 1].argsort(0)]\n",
    "#pt.plot(xsort[:, 1], ypred[X[:, 1].argsort(0)], color='yellow', linewidth=5)\n",
    "pt.xlabel('MADIKERI')\n",
    "pt.ylabel('Inflow')"
   ]
  },
  {
   "cell_type": "code",
   "execution_count": null,
   "metadata": {},
   "outputs": [],
   "source": [
    "\n",
    "    "
   ]
  },
  {
   "cell_type": "code",
   "execution_count": 578,
   "metadata": {},
   "outputs": [],
   "source": [
    "from sklearn import metrics"
   ]
  },
  {
   "cell_type": "code",
   "execution_count": 324,
   "metadata": {},
   "outputs": [
    {
     "ename": "ValueError",
     "evalue": "continuous is not supported",
     "output_type": "error",
     "traceback": [
      "\u001b[0;31m---------------------------------------------------------------------------\u001b[0m",
      "\u001b[0;31mValueError\u001b[0m                                Traceback (most recent call last)",
      "\u001b[0;32m<ipython-input-324-564def4917db>\u001b[0m in \u001b[0;36m<module>\u001b[0;34m\u001b[0m\n\u001b[0;32m----> 1\u001b[0;31m \u001b[0mmetrics\u001b[0m\u001b[0;34m.\u001b[0m\u001b[0maccuracy_score\u001b[0m\u001b[0;34m(\u001b[0m\u001b[0mmcolB\u001b[0m\u001b[0;34m,\u001b[0m \u001b[0mypred\u001b[0m\u001b[0;34m)\u001b[0m\u001b[0;34m\u001b[0m\u001b[0;34m\u001b[0m\u001b[0m\n\u001b[0m",
      "\u001b[0;32m~/PycharmProjects/untitled1/venv/lib/python3.7/site-packages/sklearn/metrics/_classification.py\u001b[0m in \u001b[0;36maccuracy_score\u001b[0;34m(y_true, y_pred, normalize, sample_weight)\u001b[0m\n\u001b[1;32m    183\u001b[0m \u001b[0;34m\u001b[0m\u001b[0m\n\u001b[1;32m    184\u001b[0m     \u001b[0;31m# Compute accuracy for each possible representation\u001b[0m\u001b[0;34m\u001b[0m\u001b[0;34m\u001b[0m\u001b[0;34m\u001b[0m\u001b[0m\n\u001b[0;32m--> 185\u001b[0;31m     \u001b[0my_type\u001b[0m\u001b[0;34m,\u001b[0m \u001b[0my_true\u001b[0m\u001b[0;34m,\u001b[0m \u001b[0my_pred\u001b[0m \u001b[0;34m=\u001b[0m \u001b[0m_check_targets\u001b[0m\u001b[0;34m(\u001b[0m\u001b[0my_true\u001b[0m\u001b[0;34m,\u001b[0m \u001b[0my_pred\u001b[0m\u001b[0;34m)\u001b[0m\u001b[0;34m\u001b[0m\u001b[0;34m\u001b[0m\u001b[0m\n\u001b[0m\u001b[1;32m    186\u001b[0m     \u001b[0mcheck_consistent_length\u001b[0m\u001b[0;34m(\u001b[0m\u001b[0my_true\u001b[0m\u001b[0;34m,\u001b[0m \u001b[0my_pred\u001b[0m\u001b[0;34m,\u001b[0m \u001b[0msample_weight\u001b[0m\u001b[0;34m)\u001b[0m\u001b[0;34m\u001b[0m\u001b[0;34m\u001b[0m\u001b[0m\n\u001b[1;32m    187\u001b[0m     \u001b[0;32mif\u001b[0m \u001b[0my_type\u001b[0m\u001b[0;34m.\u001b[0m\u001b[0mstartswith\u001b[0m\u001b[0;34m(\u001b[0m\u001b[0;34m'multilabel'\u001b[0m\u001b[0;34m)\u001b[0m\u001b[0;34m:\u001b[0m\u001b[0;34m\u001b[0m\u001b[0;34m\u001b[0m\u001b[0m\n",
      "\u001b[0;32m~/PycharmProjects/untitled1/venv/lib/python3.7/site-packages/sklearn/metrics/_classification.py\u001b[0m in \u001b[0;36m_check_targets\u001b[0;34m(y_true, y_pred)\u001b[0m\n\u001b[1;32m     95\u001b[0m     \u001b[0;31m# No metrics support \"multiclass-multioutput\" format\u001b[0m\u001b[0;34m\u001b[0m\u001b[0;34m\u001b[0m\u001b[0;34m\u001b[0m\u001b[0m\n\u001b[1;32m     96\u001b[0m     \u001b[0;32mif\u001b[0m \u001b[0;34m(\u001b[0m\u001b[0my_type\u001b[0m \u001b[0;32mnot\u001b[0m \u001b[0;32min\u001b[0m \u001b[0;34m[\u001b[0m\u001b[0;34m\"binary\"\u001b[0m\u001b[0;34m,\u001b[0m \u001b[0;34m\"multiclass\"\u001b[0m\u001b[0;34m,\u001b[0m \u001b[0;34m\"multilabel-indicator\"\u001b[0m\u001b[0;34m]\u001b[0m\u001b[0;34m)\u001b[0m\u001b[0;34m:\u001b[0m\u001b[0;34m\u001b[0m\u001b[0;34m\u001b[0m\u001b[0m\n\u001b[0;32m---> 97\u001b[0;31m         \u001b[0;32mraise\u001b[0m \u001b[0mValueError\u001b[0m\u001b[0;34m(\u001b[0m\u001b[0;34m\"{0} is not supported\"\u001b[0m\u001b[0;34m.\u001b[0m\u001b[0mformat\u001b[0m\u001b[0;34m(\u001b[0m\u001b[0my_type\u001b[0m\u001b[0;34m)\u001b[0m\u001b[0;34m)\u001b[0m\u001b[0;34m\u001b[0m\u001b[0;34m\u001b[0m\u001b[0m\n\u001b[0m\u001b[1;32m     98\u001b[0m \u001b[0;34m\u001b[0m\u001b[0m\n\u001b[1;32m     99\u001b[0m     \u001b[0;32mif\u001b[0m \u001b[0my_type\u001b[0m \u001b[0;32min\u001b[0m \u001b[0;34m[\u001b[0m\u001b[0;34m\"binary\"\u001b[0m\u001b[0;34m,\u001b[0m \u001b[0;34m\"multiclass\"\u001b[0m\u001b[0;34m]\u001b[0m\u001b[0;34m:\u001b[0m\u001b[0;34m\u001b[0m\u001b[0;34m\u001b[0m\u001b[0m\n",
      "\u001b[0;31mValueError\u001b[0m: continuous is not supported"
     ]
    }
   ],
   "source": [
    "metrics.accuracy_score(mcolB, ypred)"
   ]
  },
  {
   "cell_type": "code",
   "execution_count": 974,
   "metadata": {},
   "outputs": [
    {
     "ename": "ValueError",
     "evalue": "Found input variables with inconsistent numbers of samples: [12, 25]",
     "output_type": "error",
     "traceback": [
      "\u001b[0;31m---------------------------------------------------------------------------\u001b[0m",
      "\u001b[0;31mValueError\u001b[0m                                Traceback (most recent call last)",
      "\u001b[0;32m<ipython-input-974-b9bf68f82f78>\u001b[0m in \u001b[0;36m<module>\u001b[0;34m\u001b[0m\n\u001b[1;32m      1\u001b[0m \u001b[0;32mimport\u001b[0m \u001b[0mmath\u001b[0m\u001b[0;34m\u001b[0m\u001b[0;34m\u001b[0m\u001b[0m\n\u001b[0;32m----> 2\u001b[0;31m \u001b[0mmath\u001b[0m\u001b[0;34m.\u001b[0m\u001b[0msqrt\u001b[0m\u001b[0;34m(\u001b[0m\u001b[0mmetrics\u001b[0m\u001b[0;34m.\u001b[0m\u001b[0mmean_squared_error\u001b[0m\u001b[0;34m(\u001b[0m\u001b[0mmcolB\u001b[0m\u001b[0;34m,\u001b[0m\u001b[0mypred\u001b[0m\u001b[0;34m)\u001b[0m\u001b[0;34m)\u001b[0m\u001b[0;34m\u001b[0m\u001b[0;34m\u001b[0m\u001b[0m\n\u001b[0m",
      "\u001b[0;32m~/PycharmProjects/untitled1/venv/lib/python3.7/site-packages/sklearn/metrics/_regression.py\u001b[0m in \u001b[0;36mmean_squared_error\u001b[0;34m(y_true, y_pred, sample_weight, multioutput, squared)\u001b[0m\n\u001b[1;32m    250\u001b[0m     \"\"\"\n\u001b[1;32m    251\u001b[0m     y_type, y_true, y_pred, multioutput = _check_reg_targets(\n\u001b[0;32m--> 252\u001b[0;31m         y_true, y_pred, multioutput)\n\u001b[0m\u001b[1;32m    253\u001b[0m     \u001b[0mcheck_consistent_length\u001b[0m\u001b[0;34m(\u001b[0m\u001b[0my_true\u001b[0m\u001b[0;34m,\u001b[0m \u001b[0my_pred\u001b[0m\u001b[0;34m,\u001b[0m \u001b[0msample_weight\u001b[0m\u001b[0;34m)\u001b[0m\u001b[0;34m\u001b[0m\u001b[0;34m\u001b[0m\u001b[0m\n\u001b[1;32m    254\u001b[0m     output_errors = np.average((y_true - y_pred) ** 2, axis=0,\n",
      "\u001b[0;32m~/PycharmProjects/untitled1/venv/lib/python3.7/site-packages/sklearn/metrics/_regression.py\u001b[0m in \u001b[0;36m_check_reg_targets\u001b[0;34m(y_true, y_pred, multioutput, dtype)\u001b[0m\n\u001b[1;32m     82\u001b[0m \u001b[0;34m\u001b[0m\u001b[0m\n\u001b[1;32m     83\u001b[0m     \"\"\"\n\u001b[0;32m---> 84\u001b[0;31m     \u001b[0mcheck_consistent_length\u001b[0m\u001b[0;34m(\u001b[0m\u001b[0my_true\u001b[0m\u001b[0;34m,\u001b[0m \u001b[0my_pred\u001b[0m\u001b[0;34m)\u001b[0m\u001b[0;34m\u001b[0m\u001b[0;34m\u001b[0m\u001b[0m\n\u001b[0m\u001b[1;32m     85\u001b[0m     \u001b[0my_true\u001b[0m \u001b[0;34m=\u001b[0m \u001b[0mcheck_array\u001b[0m\u001b[0;34m(\u001b[0m\u001b[0my_true\u001b[0m\u001b[0;34m,\u001b[0m \u001b[0mensure_2d\u001b[0m\u001b[0;34m=\u001b[0m\u001b[0;32mFalse\u001b[0m\u001b[0;34m,\u001b[0m \u001b[0mdtype\u001b[0m\u001b[0;34m=\u001b[0m\u001b[0mdtype\u001b[0m\u001b[0;34m)\u001b[0m\u001b[0;34m\u001b[0m\u001b[0;34m\u001b[0m\u001b[0m\n\u001b[1;32m     86\u001b[0m     \u001b[0my_pred\u001b[0m \u001b[0;34m=\u001b[0m \u001b[0mcheck_array\u001b[0m\u001b[0;34m(\u001b[0m\u001b[0my_pred\u001b[0m\u001b[0;34m,\u001b[0m \u001b[0mensure_2d\u001b[0m\u001b[0;34m=\u001b[0m\u001b[0;32mFalse\u001b[0m\u001b[0;34m,\u001b[0m \u001b[0mdtype\u001b[0m\u001b[0;34m=\u001b[0m\u001b[0mdtype\u001b[0m\u001b[0;34m)\u001b[0m\u001b[0;34m\u001b[0m\u001b[0;34m\u001b[0m\u001b[0m\n",
      "\u001b[0;32m~/PycharmProjects/untitled1/venv/lib/python3.7/site-packages/sklearn/utils/validation.py\u001b[0m in \u001b[0;36mcheck_consistent_length\u001b[0;34m(*arrays)\u001b[0m\n\u001b[1;32m    210\u001b[0m     \u001b[0;32mif\u001b[0m \u001b[0mlen\u001b[0m\u001b[0;34m(\u001b[0m\u001b[0muniques\u001b[0m\u001b[0;34m)\u001b[0m \u001b[0;34m>\u001b[0m \u001b[0;36m1\u001b[0m\u001b[0;34m:\u001b[0m\u001b[0;34m\u001b[0m\u001b[0;34m\u001b[0m\u001b[0m\n\u001b[1;32m    211\u001b[0m         raise ValueError(\"Found input variables with inconsistent numbers of\"\n\u001b[0;32m--> 212\u001b[0;31m                          \" samples: %r\" % [int(l) for l in lengths])\n\u001b[0m\u001b[1;32m    213\u001b[0m \u001b[0;34m\u001b[0m\u001b[0m\n\u001b[1;32m    214\u001b[0m \u001b[0;34m\u001b[0m\u001b[0m\n",
      "\u001b[0;31mValueError\u001b[0m: Found input variables with inconsistent numbers of samples: [12, 25]"
     ]
    }
   ],
   "source": [
    "import math\n",
    "math.sqrt(metrics.mean_squared_error(mcolB,ypred))"
   ]
  },
  {
   "cell_type": "code",
   "execution_count": null,
   "metadata": {},
   "outputs": [],
   "source": []
  }
 ],
 "metadata": {
  "kernelspec": {
   "display_name": "Python 3",
   "language": "python",
   "name": "python3"
  },
  "language_info": {
   "codemirror_mode": {
    "name": "ipython",
    "version": 3
   },
   "file_extension": ".py",
   "mimetype": "text/x-python",
   "name": "python",
   "nbconvert_exporter": "python",
   "pygments_lexer": "ipython3",
   "version": "3.7.5rc1"
  }
 },
 "nbformat": 4,
 "nbformat_minor": 2
}
